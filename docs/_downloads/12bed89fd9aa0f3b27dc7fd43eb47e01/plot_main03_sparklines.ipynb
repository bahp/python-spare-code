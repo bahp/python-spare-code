{
  "cells": [
    {
      "cell_type": "code",
      "execution_count": null,
      "metadata": {
        "collapsed": false
      },
      "outputs": [],
      "source": [
        "%matplotlib inline"
      ]
    },
    {
      "cell_type": "markdown",
      "metadata": {},
      "source": [
        "\n# Plotly - Sparklines\n"
      ]
    },
    {
      "cell_type": "code",
      "execution_count": null,
      "metadata": {
        "collapsed": false
      },
      "outputs": [],
      "source": [
        "# -------------------\n# Main\n# -------------------\n# https://chart-studio.plotly.com/~empet/13748/sparklines/#/code\n# https://omnipotent.net/jquery.sparkline/#s-about\n# https://chart-studio.plotly.com/create/?fid=Dreamshot:8025#/\n\n# Libraries\nimport numpy as np\nimport pandas as pd\nimport plotly.express as px\nimport plotly.graph_objects as go\n\nfrom pandas.tseries.offsets import DateOffset\nfrom plotly.subplots import make_subplots\n\n# Constants\ncolors = px.colors.sequential.Viridis_r\n\n# Size\nS = 100\nN = 7\n\n# Create data\nx = np.arange(S)\ny = np.random.randint(low=1, high=100, size=(S, N))\n\n# Create DataFrame\ndata = pd.DataFrame(y)\ndata.columns = ['c%s'%i for i in data.columns]\n\n# Create timedelta\ndata['timedelta'] = \\\n    pd.to_timedelta(data.index / 1, unit='D')\n\n# Create datetimes (if needed)\ntoday = pd.to_datetime('today').normalize()\ndata['dates'] = pd.to_datetime(today)\ndata['dates'] += pd.to_timedelta(data.index / 1, unit='D')\n\n# Set dates as index\ndata = data.set_index('dates')\n\n# Drop timedelta\ndata = data.drop(columns='timedelta')\n\n# Show data\nprint(\"\\nData:\")\nprint(data)\n\n\n\n# ----------------\n# Visualize\n# ----------------\n# Create layout\nlayout = {\n  \"font\": {\"family\": \"Georgia, serif\"},\n  \"title\": \"Sparklines\",\n  \"width\": 500,\n  \"height\": 500,\n  \"margin\": {\"t\": 80},\n  \"paper_bgcolor\": 'rgba(0,0,0,0)',  # transparent\n  \"plot_bgcolor\": 'rgba(0,0,0,0)',  # transparent\n  \"autosize\": False,\n  \"hovermode\": \"closest\",\n  \"showlegend\": False,\n}\n\n# Create figure\nfig = make_subplots(rows=N, cols=1,\n                    subplot_titles=None)\n\n# Add traces\nfor i, column in enumerate(data.columns):\n    # Colors\n    c = colors[i]\n    x = data.index\n    y = data[column]\n\n    # Add trace\n    fig.add_trace(go.Scatter(x=x, y=y,\n        name=column.upper(),\n        mode='lines', fill='tozeroy',\n        line=dict(color=c, width=0.5),\n        xaxis='x%s' % (i+1), yaxis='y%s' % (i+1)),\n        row=i+1, col=1)\n\n    # Update axes\n    fig.update_yaxes(title_text=column, row=i+1, col=1)\n\n    # Add to layout\n    layout[\"xaxis%s\" % (i+1)] = {\n        \"ticks\": \"\",\n        \"anchor\": 'y%s' % (i+1),\n        \"domain\": [0.0, 1.0],\n        \"mirror\": False,\n        \"showgrid\": False,\n        \"showline\": False,\n        \"zeroline\": False,\n        \"showticklabels\": False\n    }\n    layout[\"yaxis%s\" % (i+1)] = {\n      \"ticks\": \"\",\n      \"anchor\": 'x%s' % (i+1),\n      #\"domain\": [0.08416666666666667, 0.15833333333333333],\n      \"mirror\": False,\n      \"showgrid\": False,\n      \"showline\": False,\n      \"zeroline\": False,\n      \"showticklabels\": False\n    }\n\n# Update layout\nfig.update_layout(layout)\n\n# Show\n#fig.show()\nfig"
      ]
    }
  ],
  "metadata": {
    "kernelspec": {
      "display_name": "Python 3",
      "language": "python",
      "name": "python3"
    },
    "language_info": {
      "codemirror_mode": {
        "name": "ipython",
        "version": 3
      },
      "file_extension": ".py",
      "mimetype": "text/x-python",
      "name": "python",
      "nbconvert_exporter": "python",
      "pygments_lexer": "ipython3",
      "version": "3.8.3"
    }
  },
  "nbformat": 4,
  "nbformat_minor": 0
}