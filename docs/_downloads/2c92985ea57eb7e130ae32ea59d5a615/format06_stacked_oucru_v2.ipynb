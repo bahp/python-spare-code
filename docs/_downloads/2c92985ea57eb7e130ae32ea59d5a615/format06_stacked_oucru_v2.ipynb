{
  "cells": [
    {
      "cell_type": "code",
      "execution_count": null,
      "metadata": {
        "collapsed": false
      },
      "outputs": [],
      "source": [
        "%matplotlib inline"
      ]
    },
    {
      "cell_type": "markdown",
      "metadata": {},
      "source": [
        "\n# 02. Clean OUCRU v2.0\n"
      ]
    },
    {
      "cell_type": "code",
      "execution_count": null,
      "metadata": {
        "collapsed": false
      },
      "outputs": [],
      "source": [
        "# Libraries\nimport pandas as pd\n\n# -----------------------------\n# Helper methods\n# -----------------------------\ndef create_ids(series):\n    \"\"\"This method creates the ids\"\"\"\n    # Unique patient numbers\n    unique = series.unique()\n    # Patient mapping\n    mapping = dict(zip(unique, range(len(unique))))\n    # Result (mysql pk ids from 1)\n    aux = series.map(mapping) + 1\n    # Return\n    return aux\n\ndef keep_by_table(df, tablename, remove_prefix=True):\n    \"\"\"Keep columns starting with table name\"\"\"\n    # Define tag\n    tag = '%s_' % tablename\n    # Find columns with tag\n    cols = [c for c in df.columns if c.startswith(tag)]\n    # Keep only those columns\n    aux = df[cols].copy(deep=True)\n    aux = aux.drop_duplicates()\n    aux = aux.reset_index(drop=True)\n    # Remove prefix\n    if remove_prefix:\n        aux.columns = [c.replace(tag, '') for c in cols]\n    # Return\n    return aux\n\n\n# -----------------------------\n# Load data\n# -----------------------------\n# Load data\ndata = pd.read_csv('./data/stacked-oucru/combined_stacked.csv',\n    #nrows=1000,\n    parse_dates=['date'])\n\n# Show\nprint(data)\nprint(data.columns)\n\n# -----------------------------\n# Format\n# -----------------------------\n# Drop\ndrop = [\n    'Unnamed: 0',\n    'Unnamed: 0.1',\n    'result_old',\n    'date_old',\n    'dsource'\n]\n\n# Rename\nrename = {\n    'study_no': 'patient_nhs_number',\n    'date': 'date_collected',\n    'column': 'laboratory_code',\n}\n\n# Replace\nreplace = {\n    'result': {\n        'True': 1,\n        'False': 0\n    }\n}\n\n# Basic format\ndata = data.drop(columns=drop)\ndata = data.rename(columns=rename)\n\n# Boolean to number\ndata = data.replace(replace)\n\n# Keep only those whose result can be cast to number\ndata.result = pd.to_numeric(data.result, errors='coerce')\n\n# These columns are required\ndata = data.dropna(how='any',\n    subset=['date_collected', 'result'])\n\n# Reset index\ndata = data.reset_index()\n\n# Show types\nprint(data.dtypes)\n\n\n\n# ---------------------------------\n# Create patients\n# ---------------------------------\n# Create ids\ndata['patient_id'] = create_ids(data.patient_nhs_number)\n\n# Create DataFrame\npatient = keep_by_table(data, tablename='patient')\n\n# Add dates\npatient['date_created'] = pd.to_datetime('today').normalize()\npatient['date_updated'] = pd.to_datetime('today').normalize()\npatient['name'] = ''\npatient['surname'] = ''\npatient['ext_number'] = patient.nhs_number # can be null or unique\npatient['hos_number'] = patient.nhs_number # can be null or unique\npatient['dob'] = pd.to_datetime('today').normalize()      # can be null\npatient['gender'] = 0\n\n# Order\npatient = patient[['id',\n                   'date_created',\n                   'date_updated',\n                   'name',\n                   'surname',\n                   'ext_number',\n                   'nhs_number',\n                   'hos_number',\n                   'dob',\n                   'gender']]\n\n# Show\nprint(\"\\nPatient table:\")\nprint(patient)\n\n# ---------------------------------\n# Create laboratory code\n# ---------------------------------\n# Create ids\ndata['laboratory_id'] = create_ids(data.laboratory_code)\n\n# Create DataFrame\nlaboratory_codes = \\\n    keep_by_table(data, tablename='laboratory')\n\n# Add dates\nlaboratory_codes['date_created'] = pd.to_datetime('today').normalize()\nlaboratory_codes['date_updated'] = pd.to_datetime('today').normalize()\nlaboratory_codes['name'] = laboratory_codes.code\nlaboratory_codes['description'] = ''\nlaboratory_codes['is_visible'] = 1\n\n# Order\nlaboratory_codes = laboratory_codes[['id',\n                                     'date_created',\n                                     'date_updated',\n                                     'code',\n                                     'name',\n                                     'description',\n                                     'is_visible']]\n\n# Show\nprint(\"\\nLaboratory codes table:\")\nprint(laboratory_codes)\n\n# ---------------------------------\n# Create laboratory test\n# ---------------------------------\n# Drop columns\ndata = data.drop(columns=[\n    'patient_nhs_number',\n    'laboratory_code'\n])\n\n# Rename columns\ndata = data.rename(columns={\n    'laboratory_id': 'code_id',\n})\n\n# Add columns\ndata['id'] = data.index.values + 1\ndata['uuid'] = data.id\ndata['date_outcome'] = data.date_collected\ndata['date_created'] = data.date_collected\ndata['date_updated'] = data.date_collected\ndata['unit_range'] = ''\ndata['result_status'] = 'UNKNOWN'\ndata['abnormal_status'] = ''\n\n# Order\ndata = data[['id',\n             'uuid',\n             'date_created',\n             'date_updated',\n             'date_collected',\n             'date_outcome',\n             'result',\n             'unit',\n             'unit_range',\n             'result_status',\n             'abnormal_status',\n             'code_id',\n             'patient_id']]\n\n\n\n# Show\nprint(\"\\nLaboratory tests table:\")\nprint(data)\n\n# ---------------------------------\n# Save\n# ---------------------------------\n# Save\npatient.to_csv('./outputs/patient.csv',\n    date_format='%Y-%m-%d %H:%M:%S', index=False)\nlaboratory_codes.to_csv('./outputs/laboratory_code.csv',\n    date_format='%Y-%m-%d %H:%M:%S', index=False)\ndata.to_csv('./outputs/laboratory_tests.csv',\n    date_format='%Y-%m-%d %H:%M:%S', index=False)"
      ]
    }
  ],
  "metadata": {
    "kernelspec": {
      "display_name": "Python 3",
      "language": "python",
      "name": "python3"
    },
    "language_info": {
      "codemirror_mode": {
        "name": "ipython",
        "version": 3
      },
      "file_extension": ".py",
      "mimetype": "text/x-python",
      "name": "python",
      "nbconvert_exporter": "python",
      "pygments_lexer": "ipython3",
      "version": "3.7.9"
    }
  },
  "nbformat": 4,
  "nbformat_minor": 0
}