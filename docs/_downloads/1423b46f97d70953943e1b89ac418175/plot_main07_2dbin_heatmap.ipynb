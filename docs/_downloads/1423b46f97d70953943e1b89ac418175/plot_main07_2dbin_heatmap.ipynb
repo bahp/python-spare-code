{
  "cells": [
    {
      "cell_type": "code",
      "execution_count": null,
      "metadata": {
        "collapsed": false
      },
      "outputs": [],
      "source": [
        "%matplotlib inline"
      ]
    },
    {
      "cell_type": "markdown",
      "metadata": {},
      "source": [
        "\n# Main 07 - 2dbin and ``sns.heatmap``\n"
      ]
    },
    {
      "cell_type": "code",
      "execution_count": null,
      "metadata": {
        "collapsed": false
      },
      "outputs": [],
      "source": [
        "import numpy as np\nimport pandas as pd\nimport seaborn as sns\nimport matplotlib.pyplot as plt\n\nfrom scipy import stats\n\n# Load data\ndata = pd.read_csv('./data/shap.csv')\nx = data.timestep\ny = data.shap_values\nz = data.feature_values\n\n# Show\nprint(x.unique())\n\n# Binned stats\nstatistic, x_edge, y_edge, binnumber = \\\n    stats.binned_statistic_2d(x=x, y=y, values=z,\n        statistic='count', bins=[20, x.nunique()],\n        expand_binnumbers=False)\n\nsns.heatmap(statistic, annot=True, linewidth=.5, cmap='coolwarm')\n\nplt.show()"
      ]
    }
  ],
  "metadata": {
    "kernelspec": {
      "display_name": "Python 3",
      "language": "python",
      "name": "python3"
    },
    "language_info": {
      "codemirror_mode": {
        "name": "ipython",
        "version": 3
      },
      "file_extension": ".py",
      "mimetype": "text/x-python",
      "name": "python",
      "nbconvert_exporter": "python",
      "pygments_lexer": "ipython3",
      "version": "3.7.9"
    }
  },
  "nbformat": 4,
  "nbformat_minor": 0
}