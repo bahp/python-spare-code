{
  "cells": [
    {
      "cell_type": "code",
      "execution_count": null,
      "metadata": {
        "collapsed": false
      },
      "outputs": [],
      "source": [
        "%matplotlib inline"
      ]
    },
    {
      "cell_type": "markdown",
      "metadata": {},
      "source": [
        "\n# 12b. Matplotlib to Plotly (shap)\n\nThis example converts a matplotlib figure to Plotly.\n\n<div class=\"alert alert-danger\"><h4>Warning</h4><p>A known bug in Plotly (see GitHub issue) causes the mpl_to_plotly() function\n             to fail because it references an outdated function from Matplotlib.\n             The current fix is to downgrade to an older version of Matplotlib or to\n             recreate your figure in Plotly manually.\n\n             [ISSUE]: https://github.com/plotly/plotly.py/issues/3624#issuecomment-1161805210\n             In the latest commit of plotly packages/python/plotly/plotly/matplotlylib/mpltools.py\n             line 368, it still calls is_frame_like() function.</p></div>\n\n\n<div class=\"alert alert-info\"><h4>Note</h4><p>In the latest commit of plotly packages/python/plotly/plotly/matplotlylib/mpltools.py line 368,\n          it still calls is_frame_like() function. There is already an issue tracking this. You may need\n          choose to downgrade Matplotlib if you still want to use mpl_to_plotly() function.</p></div>\n"
      ]
    },
    {
      "cell_type": "code",
      "execution_count": null,
      "metadata": {
        "collapsed": false
      },
      "outputs": [],
      "source": [
        "# Generic\nimport numpy as np\nimport pandas as pd\nimport matplotlib.pyplot as plt\n\n# Sklearn\nfrom sklearn.model_selection import train_test_split\nfrom sklearn.datasets import load_iris\nfrom sklearn.datasets import load_breast_cancer\nfrom sklearn.naive_bayes import GaussianNB\nfrom sklearn.linear_model import LogisticRegression\nfrom sklearn.tree import DecisionTreeClassifier\nfrom sklearn.ensemble import RandomForestClassifier\n\n# Xgboost\nfrom xgboost import XGBClassifier\n\ntry:\n    __file__\n    TERMINAL = True\nexcept:\n    TERMINAL = False\n\n\n# ----------------------------------------\n# Load data\n# ----------------------------------------\n# Seed\nseed = 0\n\n# Load dataset\nbunch = load_iris()\nbunch = load_breast_cancer()\n\n# Features\nfeatures = list(bunch['feature_names'])\n\n# Create DataFrame\ndata = pd.DataFrame(data=np.c_[bunch['data'],\n    bunch['target']], columns=features + ['target'])\n\n# Create X, y\nX = data[bunch['feature_names']]\ny = data['target']\n\n# Filter\nX = X.iloc[:500, :3]\ny = y.iloc[:500]\n\n# Split dataset\nX_train, X_test, y_train, y_test = \\\n    train_test_split(X, y, random_state=seed)\n\n\n# ----------------------------------------\n# Classifiers\n# ----------------------------------------\n# Define some classifiers\ngnb = GaussianNB()\nllr = LogisticRegression()\ndtc = DecisionTreeClassifier(random_state=seed)\nrfc = RandomForestClassifier(random_state=seed)\nxgb = XGBClassifier(\n    min_child_weight=0.005,\n    eta= 0.05, gamma= 0.2,\n    max_depth= 4,\n    n_estimators= 100)\n\n# Select one\nclf = xgb\n\n# Fit\nclf.fit(X_train, y_train)\n\n# ----------------------------------------\n# Compute shap values\n# ----------------------------------------\n# Import\nimport shap\n\n# Get generic explainer\nexplainer = shap.Explainer(clf, X_train)\n\n# Show kernel type\nprint(\"\\nKernel type: %s\" % type(explainer))\n\n# Get shap values\nshap_values = explainer(X)\n\n# Show shap values\nprint(\"Shap values:\")\nprint(shap_values)\nprint(shap_values.values.shape)\nprint(shap_values.base_values.shape)\nprint(shap_values.data.shape)\n\n# Get matplotlib figure\nplot_summary = shap.summary_plot( \\\n    explainer.shap_values(X_train),\n    X_train, cmap='viridis',\n    show=False)\n\n# Show\n#plt.show()\n\n\"\"\"\n# Convert to plotly\nimport plotly.tools as tls\nimport plotly.graph_objs as go\n\n# Get current figure and convert\nfig = tls.mpl_to_plotly(plt.gcf())\n\n# Format\n# Update layout\nfig.update_layout(\n    #xaxis_title='False Positive Rate',\n    #yaxis_title='True Positive Rate',\n    #yaxis=dict(scaleanchor=\"x\", scaleratio=1),\n    #xaxis=dict(constrain='domain'),\n    width=700, height=350,\n    #legend=dict(\n    #    x=1.0, y=0.0,  # x=1, y=1.02\n    #    orientation=\"v\",\n    #    font=dict(\n    #       size=12,\n    #        color='black'),\n    #    yanchor=\"bottom\",\n    #    xanchor=\"right\",\n    #),\n    font=dict(\n        size=15,\n        #family=\"Times New Roman\",\n        #color=\"black\",\n    ),\n    title=dict(\n        font=dict(\n        #    family=\"Times New Roman\",\n        #    color=\"black\"\n        )\n    ),\n    yaxis=dict(\n        tickmode='array',\n        tickvals=[0, 1, 2],\n        ticktext=features[:-1],\n        tickfont=dict(size=15)\n    ),\n    xaxis=dict(\n        tickfont=dict(size=15)),\n    #margin={\n    #    'l': 0,\n    #    'r': 0,\n    #    'b': 0,\n    #    't': 0,\n    #    'pad': 4\n    #},\n    paper_bgcolor='rgba(0,0,0,0)',  # transparent\n    plot_bgcolor='rgba(0,0,0,0)',   # transparent\n    template='simple_white'\n)\n\n# Update scatter\nfig.update_traces(marker={'size': 10})\n\n# Add vertical lin\nfig.add_vline(x=0.0, line_width=2,\n    line_dash=\"dash\", line_color=\"black\") # green\n\n# .. note:: Would it be possible to get the values of\n#           cmin, cmax and the tick vals from the shap\n#           values? Ideally we do not want to hardcode\n#           them.\n\n# Add colorbar\ncolorbar_trace = go.Scatter(\n    x=[None], y=[None], mode='markers',\n    marker=dict(\n        colorscale='viridis',\n        showscale=True,\n        cmin=-5,\n        cmax=5,\n        colorbar=dict(thickness=20,\n            tickvals=[-5, 5],\n            ticktext=['Low', 'High'],\n            outlinewidth=0)),\n    hoverinfo='none'\n)\nfig['layout']['showlegend'] = False\nfig.add_trace(colorbar_trace)\n\n# Show\n#fig.show()\nfig\n\"\"\""
      ]
    }
  ],
  "metadata": {
    "kernelspec": {
      "display_name": "Python 3",
      "language": "python",
      "name": "python3"
    },
    "language_info": {
      "codemirror_mode": {
        "name": "ipython",
        "version": 3
      },
      "file_extension": ".py",
      "mimetype": "text/x-python",
      "name": "python",
      "nbconvert_exporter": "python",
      "pygments_lexer": "ipython3",
      "version": "3.11.0"
    }
  },
  "nbformat": 4,
  "nbformat_minor": 0
}