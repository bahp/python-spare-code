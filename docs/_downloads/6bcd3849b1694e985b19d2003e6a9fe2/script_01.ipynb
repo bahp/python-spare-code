{
  "cells": [
    {
      "cell_type": "code",
      "execution_count": null,
      "metadata": {
        "collapsed": false
      },
      "outputs": [],
      "source": [
        "%matplotlib inline"
      ]
    },
    {
      "cell_type": "markdown",
      "metadata": {},
      "source": [
        "\n# LDAP sample\n\nIt requires ``ldap3`` and ``python-ldap-test`` [2017!].\n\n<div class=\"alert alert-danger\"><h4>Warning</h4><p>Not working!</p></div>\n"
      ]
    },
    {
      "cell_type": "code",
      "execution_count": null,
      "metadata": {
        "collapsed": false
      },
      "outputs": [],
      "source": [
        "# Generic\nimport ldap3\n\n# Specific\nfrom ldap_test import LdapServer\n\n# Create LDAP server.\nserver = LdapServer({\n    'port': 3333,\n    'bind_dn': 'cn=admin,dc=zoldar,dc=net',\n    'password': 'pass1',\n    'base': {'objectclass': ['domain'],\n             'dn': 'dc=zoldar,dc=net',\n             'attributes': {'dc': 'zoldar'}},\n    'entries': [\n        {'objectclass': 'domain',\n         'dn': 'dc=users,dc=zoldar,dc=net',\n         'attributes': {'dc': 'users'}},\n        {'objectclass': 'organization',\n         'dn': 'o=foocompany,dc=users,dc=zoldar,dc=net',\n         'attributes': {'o': 'foocompany'}},\n    ]\n})\n\ntry:\n    server.start()\n\n    dn = \"cn=admin,dc=zoldar,dc=net\"\n    pw = \"pass1\"\n\n    srv = ldap3.Server('localhost', port=3333)\n    conn = ldap3.Connection(srv, user=dn, password=pw, auto_bind=True)\n\n    base_dn = 'dc=zoldar,dc=net'\n    search_filter = '(objectclass=organization)'\n    attrs = ['o']\n\n    conn.search(base_dn, search_filter, attributes=attrs)\n\n    print(conn.response)\n    # [{\n    #    'dn': 'o=foocompany,dc=users,dc=zoldar,dc=net',\n    #    'raw_attributes': {'o': [b'foocompany']},\n    #    'attributes': {'o': ['foocompany']},\n    #    'type': 'searchResEntry'\n    # }]\nfinally:\n    server.stop()"
      ]
    }
  ],
  "metadata": {
    "kernelspec": {
      "display_name": "Python 3",
      "language": "python",
      "name": "python3"
    },
    "language_info": {
      "codemirror_mode": {
        "name": "ipython",
        "version": 3
      },
      "file_extension": ".py",
      "mimetype": "text/x-python",
      "name": "python",
      "nbconvert_exporter": "python",
      "pygments_lexer": "ipython3",
      "version": "3.9.1"
    }
  },
  "nbformat": 4,
  "nbformat_minor": 0
}