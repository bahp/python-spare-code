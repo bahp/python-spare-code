{
  "cells": [
    {
      "cell_type": "code",
      "execution_count": null,
      "metadata": {
        "collapsed": false
      },
      "outputs": [],
      "source": [
        "%matplotlib inline"
      ]
    },
    {
      "cell_type": "markdown",
      "metadata": {},
      "source": [
        "\n# Drug Resistance Index\n\nThe ``DRI`` measures changes through time in the proportion of disease-causing\npathogens that are resistant to the antibiotics commonly used to treat them.\nThe annual percentage change in the ``DRI`` is a measure of the rate of depletion\nof antibiotic effectiveness.\n\nSince antibiotic use may change over time in response to changing levels of\nantibiotic resistance, we compare trends in the index with the counterfactual\ncase, where antibiotic use remains fixed to a baseline year. A static-use ``DRI``\nallows assessment of the extent to which drug use has adapted in response to\nresistance and the burden that this resistance would have caused if antibiotic\nuse patterns had not changed. Changing antibiotic use patterns over time may\nmitigate the burden of antibiotic resistance. To incorporate changing trends\nin antibiotic use, we also construct an adaptive version of the ``DRI``.\n\n\\begin{align}R\\_fixed(i) = \\sum_{k}{p_{i,k}^{t} * q_{i,k}^{0}}\\end{align}\n\n\\begin{align}R(i) = \\sum_{k}{p_{i,k}^{t} * q_{i,k}^{t}}\\end{align}\n\nwhere\n\n  * **t** is time\n  * **i** is the microorganism\n  * **k** is the antimicrobial\n  * **p** is the proportion of resistance among organism **i** to drug **k** at time t\n  * **q** is the frequency of drug **k** used to treat organism in at time **t**.\n\nSee below for a few resources.\n\n  * `R1`_: How to calculate DRI? (CDDEP)\n  * `R2`_: New metric aims to simplify how global resistance is measured (POST)\n  * `R3`_: Communicating trends in resistance using DRI.\n  * `R4`_: Tracking global trends in the effectiveness of antibiotic therapy.\n  * `R5`_: The proposed DRI is not a good measure of antibiotic effectiveness.\n\n"
      ]
    },
    {
      "cell_type": "code",
      "execution_count": null,
      "metadata": {
        "collapsed": false
      },
      "outputs": [],
      "source": [
        "# Libraries\nimport numpy as np\nimport pandas as pd\nimport matplotlib.pyplot as plt\n\nfrom pathlib import Path\n\ndef print_example_heading(n, t=''):\n    print(\"\\n\" + \"=\" * 80 + \"\\nExample %s\\n\"%n + \"=\" * 80)\n\ntry:\n    __file__\n    TERMINAL = True\nexcept:\n    TERMINAL = False"
      ]
    },
    {
      "cell_type": "markdown",
      "metadata": {},
      "source": [
        "## a) Example using CDDEP (tutorial)\n\nThe Drug Resistance Index or ``DRI``can be calculated at the facility or individual\nward level to measure the performance of stewardship efforts. The index can\nbe calculated in three simple steps using the pharmacy and antibiogram data\navailable in most hospitals.\n\nThe CDDEP recommends to aggregate susceptibility tests results by species\nand class of antimicrobials (see note). Laboratories and hospital antibiograms\nreport susceptibility results by individual antibiotic compound. However, certain\ndrugs may be widely tested to proxy for the effectiveness of an entire class in\nvitro, although they are rarely used in clinical practice (e.g. oxacillin tests\nfor all b-lactam activity against staphylococci, nalidixic axic for quinolone\nactivity in Gram-negative uropathogens). In addition, not all drugs on formulary\nmay be included in laboratory testing. Therefore, when matching resistance data to\nantibiotic utilization, we recommend grouping results by broader therapeutic class.\nThe optimal grouping will depend on many factors such as the species being included\nin the index, facility formulary and testing practices etc.\n\n"
      ]
    },
    {
      "cell_type": "code",
      "execution_count": null,
      "metadata": {
        "collapsed": false
      },
      "outputs": [],
      "source": [
        "# This sample data was copied from the CDDEP reference (R1) to\n# evaluate whether the Drug Resistance Index is being computed\n# correctly.\ncddep = [\n    ['Q2 2011', 'E. Coli', 'AMINOPENICILLINS', 329, 139, 300, 1000],\n    ['Q2 2011', 'E. Coli', 'B-LACTAM, INCREASED ACTIVITY', 554, 72,  250, 1000],\n    ['Q2 2011', 'E. Coli', 'G3 CEPHALOSPORINS', 287, 3,  100, 1000],\n    ['Q2 2011', 'E. Coli', 'QUINOLONES, SYSTEMIC', 293, 41,  250, 1000],\n    ['Q2 2011', 'E. Coli', 'SULFA & TRIMETH COMB', 334, 75,  100, 1000],\n    ['Q3 2011', 'E. Coli', 'AMINOPENICILLINS', 231, 101, 250, 1100],\n    ['Q3 2011', 'E. Coli', 'B-LACTAM, INCREASED ACTIVITY', 408, 54, 300, 1100],\n    ['Q3 2011', 'E. Coli', 'G3 CEPHALOSPORINS', 211, 3, 150, 1100],\n    ['Q3 2011', 'E. Coli', 'QUINOLONES, SYSTEMIC', 218, 36, 300, 1100],\n    ['Q3 2011', 'E. Coli', 'SULFA & TRIMETH COMB', 236, 55, 100, 1100]\n]\n\n# Create DataFrame\ndf1 = pd.DataFrame(cddep,\n    columns=['time', 'org', 'abx', 'isolates', 'R', 'use', 'use_period'])\n\n# Format DataFrame\ndf1['S'] = df1.isolates - df1.R\ndf1['r_rate'] = (df1.R / (df1.R + df1.S))    #.round(decimals=2)\ndf1['u_weight'] = (df1.use / df1.use_period) #.round(decimals=2)\ndf1['w_rate'] = (df1.r_rate * df1.u_weight)  #.round(decimals=3)\ndf1['dri'] = df1.groupby(by='time').w_rate.transform(lambda x: x.sum())"
      ]
    },
    {
      "cell_type": "markdown",
      "metadata": {},
      "source": [
        "Lets see the results\n\n"
      ]
    },
    {
      "cell_type": "code",
      "execution_count": null,
      "metadata": {
        "collapsed": false
      },
      "outputs": [],
      "source": [
        "if TERMINAL:\n    print_example_heading(n=1)\n    print('\\nResult (CDDEP):')\n    print(df1)\ndf1.round(decimals=3)"
      ]
    },
    {
      "cell_type": "markdown",
      "metadata": {},
      "source": [
        "## b) Example using CDDEP (raw)\n\nIn the previous example we computed the Drug Resistance Index or ``DRI``\nusing the summary table provided by CDDEP. While this table is useful\nto understand the implementation of the Drug Resistance Index, the\nvalues contained in the columns (e.g. isolates, R, use or use_period)\nneed to be computed from the raw susceptibility test data. This example\nshows how to go from raw susceptibility test and prescription data to\nthe summary table in order to compute the ``DRI``.\n\n"
      ]
    },
    {
      "cell_type": "markdown",
      "metadata": {},
      "source": [
        "First, let's create the raw data from the summary table provided by CDDEP.\n\n"
      ]
    },
    {
      "cell_type": "code",
      "execution_count": null,
      "metadata": {
        "collapsed": false
      },
      "outputs": [],
      "source": [
        "def create_raw_data_from_summary_table(df):\n    \"\"\"Create raw susceptibility and prescription data from summary.\n\n    Parameters\n    ----------\n    df: pd.DataFrame\n        DataFrame with the summary data\n\n    Returns\n    -------\n\n    \"\"\"\n    # Variable\n    keep = ['time', 'org', 'abx']\n\n    # Indexes\n    idxr = df.index.repeat(df.R)\n    idxs = df.index.repeat(df.S)\n    idxu = df.index.repeat(df.use)\n\n    # Compute partial DataFrames\n    r = df[keep].reindex(idxr).assign(sensitivity='resistant')\n    s = df[keep].reindex(idxs).assign(sensitivity='sensitive')\n    u = df[keep].reindex(idxu).assign(dose='standard')\n\n    # Return\n    return pd.concat([r, s]), u\n\n\n# .. note:: Uncomment if you need to create a simulation of\n#           the raw susceptibility and prescription data based\n#           on the aggregated measurements.\n\n# Create raw data.\nsusceptibility, prescription = \\\n    create_raw_data_from_summary_table(df1)\n\n# Save\n#susceptibility.to_csv('./data/cddep/susceptibility.csv')\n#prescription.to_csv('./data/cddep/prescription.csv')"
      ]
    },
    {
      "cell_type": "markdown",
      "metadata": {},
      "source": [
        "Lets visualise microbiology data\n\n"
      ]
    },
    {
      "cell_type": "code",
      "execution_count": null,
      "metadata": {
        "collapsed": false
      },
      "outputs": [],
      "source": [
        "if TERMINAL:\n    print_example_heading(n=2)\n    print('\\nSusceptibility:')\n    print(susceptibility)\nsusceptibility.head(5)"
      ]
    },
    {
      "cell_type": "markdown",
      "metadata": {},
      "source": [
        "Lets visualise the prescription data\n\n"
      ]
    },
    {
      "cell_type": "code",
      "execution_count": null,
      "metadata": {
        "collapsed": false
      },
      "outputs": [],
      "source": [
        "if TERMINAL:\n    print('\\nPrescription:')\n    print(prescription)\nprescription.head(5)"
      ]
    },
    {
      "cell_type": "markdown",
      "metadata": {},
      "source": [
        "Lets compute the DRI\n\n"
      ]
    },
    {
      "cell_type": "code",
      "execution_count": null,
      "metadata": {
        "collapsed": false
      },
      "outputs": [],
      "source": [
        "# -------------------------------------------\n# Compute SARI\n# -------------------------------------------\n# Libraries\nfrom pyamr.core.sari import SARI\n\n# Create sari instance\nsari = SARI(groupby=['time',\n                     'org',\n                     'abx',\n                     'sensitivity'])\n\n# Compute SARI\ndf2 = sari.compute(susceptibility, return_frequencies=True)\n\n# -------------------------------------------\n# Compute DRI\n# -------------------------------------------\n\ndef compute_drug_resistance_index(summry, groupby,\n                                  cu='use', cr='sari', ct='time'):\n    \"\"\"Computes the Drug Resistance Index\n\n    Parameters\n    ----------\n    summry: pd.DataFrame\n        The summary DataFrame with columns including use,\n        resistance and time.\n    groupby:\n        The elements to groupby as described in pandas.\n    cu: str\n        Column name with use\n    cr: str\n        Column name with resistance\n    ct: str\n        Column name with time\n\n    Returns\n    -------\n    \"\"\"\n    # Clone matrix\n    m = summry.copy(deep=True)\n\n    # Compute\n    m['use_period'] = m \\\n        .groupby(level=groupby)[cu] \\\n        .transform(lambda x: x.sum())\n    m['u_weight'] = (m[cu] / m.use_period)  # .round(decimals=2)\n    m['w_rate'] = (m[cr] * m.u_weight)  # .round(decimals=3)\n    m['dri'] = m \\\n        .groupby(by=ct).w_rate \\\n        .transform(lambda x: x.sum())\n\n    # Return\n    return m\n\n\n\n# Compute the number of prescriptions\naux = prescription \\\n    .groupby(by=['time', 'org', 'abx']) \\\n    .dose.count().rename('use')\n\n# Merge susceptibility and prescription data\ndf2 = df2.merge(aux, how='inner',\n    left_on=['time', 'org', 'abx'],\n    right_on=['time', 'org', 'abx'])\n\n# Compute drug resistance index\ndf2 = compute_drug_resistance_index(df2, groupby=0)"
      ]
    },
    {
      "cell_type": "markdown",
      "metadata": {},
      "source": [
        "Lets see the results\n\n"
      ]
    },
    {
      "cell_type": "code",
      "execution_count": null,
      "metadata": {
        "collapsed": false
      },
      "outputs": [],
      "source": [
        "if TERMINAL:\n    print('\\nResult (CDDEP):')\n    print(df1)\ndf2.round(decimals=3)"
      ]
    },
    {
      "cell_type": "markdown",
      "metadata": {},
      "source": [
        "## c) Example using MIMIC\n\nIn this example, we will compute the Drug Resistance Index or ``DRI`` using\nthe freely-available ``MIMIC`` database which provides both susceptibility\ntest data and prescriptions for a large number of patients admitted from\n2008 to 2019. Please note that for de-identification purpose the dates were\nshifted into the future.\n\n\n<div class=\"alert alert-info\"><h4>Note</h4><p>In this example we will be counting each entry in the\n          prescription data as one 'standard' dose for clarity. However,\n          this could be implemented more accurately by computing\n          for example the complete dosage.</p></div>\n\n"
      ]
    },
    {
      "cell_type": "markdown",
      "metadata": {},
      "source": [
        "First, lets load the susceptibility and prescription data\n\n"
      ]
    },
    {
      "cell_type": "code",
      "execution_count": null,
      "metadata": {
        "collapsed": false
      },
      "outputs": [],
      "source": [
        "# subset\nsubset = [\n    'time',\n    'laboratory_number',\n    'specimen_code',\n    'microorganism_code',\n    'antimicrobial_code',\n    'sensitivity'\n]\n\n# -----------------------------\n# Load susceptibility test data\n# -----------------------------\n# Load data\npath = Path('./data/mimic')\ndata = pd.read_csv(path / 'microbiologyevents.csv')\n\n# Rename columns\ndata = data.rename(columns={\n    'chartdate': 'time',\n    'micro_specimen_id': 'laboratory_number',\n    'spec_type_desc': 'specimen_code',\n    'org_name': 'microorganism_code',\n    'ab_name': 'antimicrobial_code',\n    'interpretation': 'sensitivity'\n})\n\n# Format data\ndata = data[subset]\ndata = data.dropna(subset=subset, how='any')\ndata.time = pd.to_datetime(data.time)\ndata.sensitivity = data.sensitivity.replace({\n    'S': 'sensitive',\n    'R': 'resistant',\n    'I': 'intermediate',\n    'P': 'pass'\n})\n\n\n# ------------------\n# Load prescriptions\n# ------------------\n# Load prescription data (limited to first nrows).\nuse = pd.read_csv(path / 'prescriptions.csv', nrows=100000)\n\n# Keep prescriptions which have also been tested\naux = use.copy(deep=True)\naux.drug = aux.drug.str.upper()\naux.starttime = pd.to_datetime(aux.starttime)\naux = aux[aux.drug.isin(data.antimicrobial_code.unique())]\n\n# Rename variables\nsusceptibility, prescription = data, aux"
      ]
    },
    {
      "cell_type": "markdown",
      "metadata": {},
      "source": [
        "Lets visualise microbiology data\n\n"
      ]
    },
    {
      "cell_type": "code",
      "execution_count": null,
      "metadata": {
        "collapsed": false
      },
      "outputs": [],
      "source": [
        "if TERMINAL:\n    print_example_heading(n=3)\n    print('\\nSusceptibility:')\n    print(susceptibility)\nsusceptibility.head(5)"
      ]
    },
    {
      "cell_type": "markdown",
      "metadata": {},
      "source": [
        "Lets visualise the prescription data\n\n"
      ]
    },
    {
      "cell_type": "code",
      "execution_count": null,
      "metadata": {
        "collapsed": false
      },
      "outputs": [],
      "source": [
        "if TERMINAL:\n    print('\\nPrescription:')\n    print(prescription)\nprescription.head(5)"
      ]
    },
    {
      "cell_type": "markdown",
      "metadata": {},
      "source": [
        "Lets compute the DRI\n\n"
      ]
    },
    {
      "cell_type": "code",
      "execution_count": null,
      "metadata": {
        "collapsed": false
      },
      "outputs": [],
      "source": [
        "# -------------------------------------------\n# Compute SARI\n# -------------------------------------------\n\n# .. note:: These are some possible options to group\n#           data by a datetime column.\n#\n#             by year:    data.time.dt.year\n#             by quarter: data.time.dt.to_period('Q')\n#             by decade:  pd.Grouper(key='time', freq='10AS')\n#             by century: data.time.dt.year // 100\n\n\n# Libraries\nfrom pyamr.core.sari import SARI\n\n# Create sari instance\nsari = SARI(groupby=[data.time.dt.year,\n                     #'specimen_code',\n                     'microorganism_code',\n                     'antimicrobial_code',\n                     'sensitivity'])\n\n# Compute SARI\ndf3 = sari.compute(susceptibility, return_frequencies=True)\n\n# .. note: Uncomment this line to create random use if the\n#          prescription data is not available and we want\n#          to simulate it.\n\n# Create random use\n#df3['use'] = np.random.randint(10, 600, df3.shape[0])\n\n# Compute the number of prescriptions\naux = prescription \\\n    .groupby(by=[aux.starttime.dt.year, 'drug']) \\\n    .drug.count().rename('use')\naux.index.names = ['time', 'antimicrobial_code']\n\n# Merge susceptibility and prescription data\ndf3 = df3.reset_index().merge(aux.reset_index(),\n    how='inner',\n    left_on=['time', 'antimicrobial_code'],\n    right_on=['time', 'antimicrobial_code'])\n\n# Format the summary DataFrame\ndf3 = df3.set_index(['time', 'microorganism_code', 'antimicrobial_code'])\n\n# Compute drug resistance index\ndf3 = compute_drug_resistance_index(df3, groupby=0)"
      ]
    },
    {
      "cell_type": "markdown",
      "metadata": {},
      "source": [
        "Lets see the results\n\n"
      ]
    },
    {
      "cell_type": "code",
      "execution_count": null,
      "metadata": {
        "collapsed": false
      },
      "outputs": [],
      "source": [
        "if TERMINAL:\n    print('\\nResult (MIMIC):')\n    print(df1)\ndf3[['freq',\n     'sari',\n     'use',\n     'use_period',\n     'u_weight',\n     'w_rate',\n     'dri']].round(decimals=3)"
      ]
    },
    {
      "cell_type": "markdown",
      "metadata": {},
      "source": [
        "Lets display DRI over time\n\n\n"
      ]
    },
    {
      "cell_type": "code",
      "execution_count": null,
      "metadata": {
        "collapsed": false
      },
      "outputs": [],
      "source": [
        "# Libraries\nimport matplotlib.pyplot as plt\nimport seaborn as sns\n\n# Get first element by level.\ndf4 = df3.groupby(level=[0]).first().reset_index()\n\n# Display using lineplot\n#sns.lineplot(data=df4.dri)\n\n# Display using plt.plot.\n#plt.plot(df4.index, df4.dri, linewidth=0.75, markersize=3, marker='o')\n\n# Display using relplot\nsns.relplot(data=df4.reset_index(), x='time', y='dri',\n    #hue='event', style='event', col='region, palette='palette',\n    height=4, aspect=3.0, kind='line',\n    linewidth=0.75, markersize=3, marker='o'\n)\n\n# Show\nplt.show()"
      ]
    },
    {
      "cell_type": "markdown",
      "metadata": {},
      "source": [
        "<div class=\"alert alert-info\"><h4>Note</h4><p>In ``MIMIC``, the deidentification process for structured data required\n          the removal of dates. In particular, dates were shifted into the future\n          by a random offset for each individual patient in a consistent manner to\n          preserve intervals, resulting in stays which occur sometime between the\n          years 2100 and 2200. Time of day, day of the week, and approximate\n          seasonality were conserved during date shifting.</p></div>\n\n"
      ]
    },
    {
      "cell_type": "markdown",
      "metadata": {},
      "source": [
        "d) Extra code\n\n"
      ]
    },
    {
      "cell_type": "code",
      "execution_count": null,
      "metadata": {
        "collapsed": false
      },
      "outputs": [],
      "source": [
        "\"\"\"\n# Define data\ndata = [\n\n    ['o1', 'a1', 2000, 0, 100, 10],\n    ['o1', 'a2', 2000, 0, 100, 9],\n    ['o1', 'a3', 2000, 0, 100, 8],\n\n    ['o1', 'a1', 2001, 50, 50, 10],\n    ['o1', 'a2', 2001, 60, 40, 9],\n    ['o1', 'a3', 2001, 70, 30, 8],\n\n    ['o1', 'a1', 2002, 50, 50, 10],\n    ['o1', 'a2', 2002, 60, 40, 10],\n    ['o1', 'a3', 2002, 70, 30, 10],\n\n    ['o1', 'a1', 2003, 50, 50, 10],\n    ['o1', 'a2', 2003, 60, 40, 11],\n    ['o1', 'a3', 2003, 70, 30, 12],\n\n    ['o1', 'a1', 2004, 50, 50, 16],\n    ['o1', 'a2', 2004, 60, 40, 22],\n    ['o1', 'a3', 2004, 70, 30, 30],\n\n    ['o1', 'a1', 2005, 30, 70, 16],\n    ['o1', 'a2', 2005, 30, 70, 22],\n    ['o1', 'a3', 2005, 30, 70, 30],\n\n    ['o1', 'a1', 2006, 50, 50, 16],\n    ['o1', 'a2', 2006, 60, 40, 22],\n    ['o1', 'a3', 2006, 70, 30, 22],\n\n    ['o1', 'a1', 2007, 100, 0, 10],\n    ['o1', 'a2', 2007, 100, 0, 9],\n    ['o1', 'a3', 2007, 100, 0, 8],\n\n    ['o2', 'a1', 2001, 50, 50, 16],\n    ['o2', 'a2', 2001, 60, 40, 22],\n    ['o2', 'a3', 2001, 70, 30, 22],\n]\n\n\n# Create DataFrame\ndf = pd.DataFrame(data,\n    columns=['o', 'a', 'year', 'R', 'S', 'dose'])\n\n# Format DataFrame\ndf.year = pd.to_datetime(df.year, format='%Y')\ndf['r_prop'] = df.R / (df.R + df.S)                                         # resistance proportion\ndf['d_prop'] = df.dose / df.groupby(by=['o', 'year']).dose.transform('sum') # dose proportion\n\n# Show\nprint(\"Data:\")\nprint(df)\n\n# Example 1: Fixed\n# ----------------\n\n# Define p and q\np = df.r_prop\nq = df.d_prop\n\n# Compute\nr0 = (p * q).sum()\nr1 = np.dot(p, q)\nr2 = np.matmul(p, q)\n\n# Show\nprint(\"\\n\" + \"=\"*80 + \"\\nExample 1\\n\" + \"=\"*80)\nprint(r0)\nprint(r1)\nprint(r2)\n\n\n\n# Example 2: Manual\n# -----------------\n\n# Initialize\nqik0 = None\nv_fixed = []\nv_evolv = []\n\n# Loop\nfor i,g in df.groupby(by=['o', 'year']):\n    if qik0 is None:\n        qik0 = list(g.groupby(by='year'))[0][1].d_prop\n\n    v_fixed.append({'o': i[0], 't': i[1], 'v': np.dot(g.r_prop, qik0.T)})\n    v_evolv.append({'o': i[0], 't': i[1], 'v': np.dot(g.r_prop, g.d_prop)})\n\n# Format\nv_fixed = pd.DataFrame(v_fixed)\nv_evolv = pd.DataFrame(v_evolv)\nv_combn = v_evolv.merge(v_fixed, how='outer',\n    on=['o', 't'], suffixes=('_evolv', '_fixed'))\n\n# Show\nprint(\"\\n\" + \"=\"*80 + \"\\nExample 2\\n\" + \"=\"*80)\nprint(v_combn)\n\n\n\n\n# Example 3: Matrix\n# -----------------\n#\n\nprint(\"\\n\" + \"=\"*80 + \"\\nExample 3\\n\" + \"=\"*80)\n\n\nm1 = pd.pivot_table(df, index='o', columns='a', values='r_prop')\nm2 = pd.pivot_table(df, index='o', columns='a', values='d_prop')\nprint(m1)\nprint(m2)\nprint(m1*m2)\n\n# Loop\nfor i,g in df.groupby(by='year'):\n    m1 = pd.pivot_table(g, index='o', columns='a', values='r_prop')\n    m2 = pd.pivot_table(g, index='o', columns='a', values='d_prop')\n    dri = np.dot(m1, m2.T)\n    print(i, dri)\n    \n    \n\"\"\"\n\n\"\"\"\n# Compute\ndf3['use_period'] = df3 \\\n    .groupby(level=0).use \\\n    .transform(lambda x: x.sum())\ndf3['u_weight'] = (df3.use / df3.use_period) #.round(decimals=2)\ndf3['w_rate'] = (df3.sari * df3.u_weight)  #.round(decimals=3)\ndf3['dri'] = df3 \\\n    .groupby(by='time').w_rate \\\n    .transform(lambda x: x.sum())\n\"\"\""
      ]
    }
  ],
  "metadata": {
    "kernelspec": {
      "display_name": "Python 3",
      "language": "python",
      "name": "python3"
    },
    "language_info": {
      "codemirror_mode": {
        "name": "ipython",
        "version": 3
      },
      "file_extension": ".py",
      "mimetype": "text/x-python",
      "name": "python",
      "nbconvert_exporter": "python",
      "pygments_lexer": "ipython3",
      "version": "3.10.13"
    }
  },
  "nbformat": 4,
  "nbformat_minor": 0
}