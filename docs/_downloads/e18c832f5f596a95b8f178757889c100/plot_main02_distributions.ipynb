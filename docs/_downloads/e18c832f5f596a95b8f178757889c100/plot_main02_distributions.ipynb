{
  "cells": [
    {
      "cell_type": "code",
      "execution_count": null,
      "metadata": {
        "collapsed": false
      },
      "outputs": [],
      "source": [
        "%matplotlib inline"
      ]
    },
    {
      "cell_type": "markdown",
      "metadata": {},
      "source": [
        "\n# 02. Plot Distributions\n\nThis example shows how to plot the probability distributions\nfor each of the components of the confusion matrix. Note that\ndata is created artificially. If necessary, it is possible\nto limit the axis to the range [0, 1] to keep only those true\nprobability values.\n"
      ]
    },
    {
      "cell_type": "code",
      "execution_count": null,
      "metadata": {
        "collapsed": false
      },
      "outputs": [],
      "source": [
        "# Libraries\nimport plotly.graph_objects as go\nimport plotly.express as px\nimport pandas as pd\nimport numpy as np\n\nfrom plotly.io import show\n\n# Specific\nfrom plotly.graph_objects import Layout\n\ntry:\n    __file__\n    TERMINAL = True\nexcept:\n    TERMINAL = False\n\n# -----------------------------------------\n# Helper method\n# -----------------------------------------\n# This method is implemented in pySML.\ndef _tp_fp_tn_fn_distributions(y, y_pred, y_prob):\n    \"\"\"This function returns probabilities for each of the confusion\n    matrix elements (tp, tn, fp, fn).\n\n    Parameters\n    ----------\n    y : array-like\n      The real categories\n\n    y_pred : array-like\n      The predicted categories\n\n    y_prob: array-like\n      The predict probabilities\n\n    Returns\n    -------\n    tp_probs, tn_probs, fp_probs, fn_probs\n    \"\"\"\n    # Tags.\n    tp_idx = (y_pred == 1) & (y == 1)\n    tn_idx = (y_pred == 0) & (y == 0)\n    fp_idx = (y_pred == 1) & (y == 0)\n    fn_idx = (y_pred == 0) & (y == 1)\n    # Show information.\n    tp_probs = y_prob[tp_idx]\n    tn_probs = y_prob[tn_idx]\n    fp_probs = y_prob[fp_idx]\n    fn_probs = y_prob[fn_idx]\n    # Return\n    return tp_probs, tn_probs, fp_probs, fn_probs\n\n# -----------------------------------------\n# Config\n# -----------------------------------------\n# Colors\ncolors = px.colors.qualitative.Plotly\ncolors = px.colors.sequential.Plasma_r\ncolors = px.colors.sequential.Viridis_r\n\n# -----------------------------------------\n# Data\n# -----------------------------------------\n# Create data\ndata = pd.DataFrame()\ndata['y_true'] = np.random.randint(2, size=100)\ndata['y_pred'] = np.random.randint(2, size=100)\ndata['y_prob'] = np.random.normal(loc=0, scale=1, size=100)\n\n# Get distributions\ntp_probs, tn_probs, fp_probs, fn_probs = \\\n    _tp_fp_tn_fn_distributions(data.y_true,\n                               data.y_pred,\n                               data.y_prob)\n\n# Visualize\nif TERMINAL:\n    print(\"\\nData:\")\n    print(data)\ndata\n\n\n# -------------------------------------\n# Visualize\n# -------------------------------------\n# Import subplots\nfrom plotly.subplots import make_subplots\n\n# Create figure\nfig = make_subplots(rows=2, cols=2)\n# subplot_titles=('TP', 'TN', 'FP', 'FN'))\n\n#  Add traces\nfig.add_trace(go.Violin(x=tn_probs, line_width=1,\n    name='tn', line_color='black', fillcolor=colors[2],\n    opacity=0.5, meanline_visible=True, box_visible=True), row=1, col=1)\nfig.add_trace(go.Violin(x=fp_probs, line_width=1,\n    name='fp', line_color='black', fillcolor=colors[4],\n    opacity=0.5, meanline_visible=True, box_visible=True), row=1, col=2)\nfig.add_trace(go.Violin(x=fn_probs, line_width=1,\n    name='fn', line_color='black', fillcolor=colors[6],\n    opacity=0.5, meanline_visible=True, box_visible=True), row=2, col=1)\nfig.add_trace(go.Violin(x=tp_probs, line_width=1,\n    name='tp', line_color='black', fillcolor=colors[0],\n    opacity=0.5, meanline_visible=True, box_visible=True), row=2, col=2)\n\n# Update layout\nfig.update_layout(\n    width=700, height=350,\n    #xaxis_title='False Positive Rate',\n    #yaxis_title='True Positive Rate',\n    #yaxis=dict(scaleanchor=\"x\", scaleratio=1),\n    #xaxis=dict(constrain='domain'),\n    #legend=dict(\n    #    x=1.0, y=0.0,  # x=1, y=1.02\n    #    orientation=\"v\",\n    #    font={'size': 12},\n    #    yanchor=\"bottom\",\n    #    xanchor=\"right\",\n    #),\n    margin={\n        'l': 0,\n        'r': 0,\n        'b': 0,\n        't': 0,\n        'pad': 0\n    },\n    paper_bgcolor='rgba(0,0,0,0)',  # transparent\n    plot_bgcolor='rgba(0,0,0,0)'  # transparent\n)\n\n# Update axes\n#fig.update_xaxes(visible=True, range=[0.0, 0.5], row=1, col=1)\n#fig.update_xaxes(visible=True, range=[0.5, 1.0], row=1, col=2)\n#fig.update_xaxes(visible=True, range=[0.0, 0.5], row=2, col=1)\n#fig.update_xaxes(visible=True, range=[0.5, 1.0], row=2, col=2)\nfig.update_yaxes(visible=True)\n\n# Show\nshow(fig)"
      ]
    }
  ],
  "metadata": {
    "kernelspec": {
      "display_name": "Python 3",
      "language": "python",
      "name": "python3"
    },
    "language_info": {
      "codemirror_mode": {
        "name": "ipython",
        "version": 3
      },
      "file_extension": ".py",
      "mimetype": "text/x-python",
      "name": "python",
      "nbconvert_exporter": "python",
      "pygments_lexer": "ipython3",
      "version": "3.7.9"
    }
  },
  "nbformat": 4,
  "nbformat_minor": 0
}