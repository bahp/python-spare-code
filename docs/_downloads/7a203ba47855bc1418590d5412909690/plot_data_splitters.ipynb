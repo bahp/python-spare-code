{
  "cells": [
    {
      "cell_type": "code",
      "execution_count": null,
      "metadata": {
        "collapsed": false
      },
      "outputs": [],
      "source": [
        "%matplotlib inline"
      ]
    },
    {
      "cell_type": "markdown",
      "metadata": {},
      "source": [
        "\n# Data splitters\n\nUseful methods to split data such as (i) hold out and\ncsv sets or (ii) cross validation folds.\n\n<div class=\"alert alert-danger\"><h4>Warning</h4><p>Not completed!</p></div>\n"
      ]
    },
    {
      "cell_type": "code",
      "execution_count": null,
      "metadata": {
        "collapsed": false
      },
      "outputs": [],
      "source": [
        "# Libraries\nimport pandas as pd\nimport numpy as np\n\n# Libraries specific\nfrom sklearn.model_selection import train_test_split\nfrom sklearn.model_selection import StratifiedKFold\nfrom sklearn.model_selection import KFold\n\n\ndef split_dataframe_hos_cvs(dataframe,  **kwargs):\n    \"\"\"This method labels the dataframe hos and cvs sets.\n\n    Parameters\n    ----------\n    dataframe: np.array or pd.DataFrame\n        The data to be divided into HOS/CVS.\n\n    Returns\n    -------\n    np.array:\n        The outcome is a numpy array with rows labelled as\n        cvs (cross-validation set) and hos (hold-out set).\n        :param data:\n        :param inplace:\n    \"\"\"\n    # Check it is a dataframe\n    if not isinstance(dataframe, pd.DataFrame):\n        raise TypeError\n\n    # Length\n    n = dataframe.shape[0]\n\n    # Split in hos and training sets\n    cvs, hos = train_test_split(np.arange(n), **kwargs)\n\n    # Create result\n    empty = np.array([None]*n)\n    empty[cvs] = 'cvs'\n    empty[hos] = 'hos'\n\n    # Include\n    dataframe['sets'] = empty\n\n    # Return\n    return dataframe\n\n\ndef split_dataframe_cvs_folds(dataframe, splitter,\n            selected_rows=None, **kwargs):\n    \"\"\"This method labels the different folds.\n\n        .. note:\n\n    Parameters\n    ----------\n    dataframe: np.array or pd.DataFrame\n        The data to be divided into folds.\n\n    splitter: str or splitter\n        The splitter which can be an str or an splitter from the\n        sklearn library which implementeds the method split.\n\n    selected_rows: array of bools.\n        The rows to be considered to create the folds. Note that if\n        y is passed (for stratified cross validation) y will also be\n        filtered by these rows.\n\n    kwargs:\n\n    Returns\n    -------\n    pd.DataFrame:\n        The outcome is the same dataframe with an additional column\n        <set> with the values cvs (cross-validation set) and hos\n        (hold-out set).\n    \"\"\"\n    # Check it is a dataframe\n    if not isinstance(dataframe, pd.DataFrame):\n        raise TypeError\n\n    # Get splitter from string\n    if isinstance(splitter, str):\n        splitter = _DEFAULT_SPLITTERS[splitter]\n\n    # Define X and y\n    #X = dataframe[dataframe.sets == 'cvs'].index.to_numpy()\n    #y = dataframe[dataframe.sets == 'cvs'][label]\n\n    # Shape\n    r, c = dataframe.shape\n\n    # No rows selected (all by default)\n    if selected_rows is None:\n        selected_rows = np.full(r, True, dtype=bool)\n\n    # Select rows from y\n    if 'y' in kwargs:\n        if kwargs['y'] is not None:\n            kwargs['y'] = kwargs['y'][selected_rows]\n\n    # Create indexes to use for splitting\n    idxs = np.arange(r)[selected_rows].reshape(-1, 1)\n\n    # Get splits of idxs\n    splits = splitter.split(idxs, **kwargs)\n\n    # Loop and add\n    for i, (train, test) in enumerate(splits):\n        dataframe['split_{0}'.format(i)] = None\n        dataframe.loc[idxs[train].flatten(), 'split_{0}'.format(i)] = 'train'\n        dataframe.loc[idxs[test].flatten(), 'split_{0}'.format(i)] = 'test'\n\n    # Return\n    return dataframe\n\n\ndef split_dataframe_completeness(dataframe):\n    pass\n\n\n\nclass DataframeHOSCSVSplitter():\n    \"\"\"\n    \"\"\"\n    col_name = 'sets'\n    cvs_name = 'CVS'\n    hos_name = 'HOS'\n\n    def __init__(self, col_name=None,\n                       cvs_name=None,\n                       hos_name=None):\n        \"\"\"Constructor\n\n        :param col_name:\n        :param cvs_name:\n        :param hos_name:\n        \"\"\"\n        if col_name is not None:\n            self.col_name = col_name\n        if cvs_name is not None:\n            self.cvs_name = cvs_name\n        if hos_name is not None:\n            self.hos_name = hos_name\n\n    def split(self, dataframe, **kwargs):\n        \"\"\"Splits the dataframe...\n        \"\"\"\n        # Split\n        cvs, hos = train_test_split(dataframe.index.to_numpy(), **kwargs)\n\n        # Fill dataset\n        dataframe[self.col_name] = None\n        dataframe.loc[cvs, self.col_name] = self.cvs_name\n        dataframe.loc[hos, self.col_name] = self.hos_name\n\n        # Return\n        return dataframe\n\n\n\n# Default splliters.\n_DEFAULT_SPLITTERS = {\n    'skfold10': StratifiedKFold(n_splits=10, shuffle=True),\n    'skfold5': StratifiedKFold(n_splits=5, shuffle=True),\n    'skfold2': StratifiedKFold(n_splits=2, shuffle=True),\n}\n\nTERMINAL = True\n\n# --------------------------------------------------\n# Main\n# --------------------------------------------------\n# Libraries\nfrom sklearn.datasets import load_iris\n\n# Load data\nbunch = load_iris(as_frame=True)\n\n# Dataframe\ndataframe = bunch.data"
      ]
    },
    {
      "cell_type": "markdown",
      "metadata": {},
      "source": [
        "Lets see the dataset\n\n"
      ]
    },
    {
      "cell_type": "code",
      "execution_count": null,
      "metadata": {
        "collapsed": false
      },
      "outputs": [],
      "source": [
        "if TERMINAL:\n    print(\"\\nData\")\n    print(dataframe)\ndataframe\n\n# Split in HOS and CVS sets\ndf = split_dataframe_hos_cvs(dataframe)"
      ]
    },
    {
      "cell_type": "markdown",
      "metadata": {},
      "source": [
        "Lets see the HOS/CV splits\n\n"
      ]
    },
    {
      "cell_type": "code",
      "execution_count": null,
      "metadata": {
        "collapsed": false
      },
      "outputs": [],
      "source": [
        "if TERMINAL:\n    print(\"\\nData\")\n    print(df)\ndf\n\n# Split in folds\ndf = split_dataframe_cvs_folds(dataframe,\n    splitter='skfold5', y=bunch.target,\n    selected_rows=(dataframe.sets == 'cvs'))"
      ]
    },
    {
      "cell_type": "markdown",
      "metadata": {},
      "source": [
        "Lets see the splits\n\n"
      ]
    },
    {
      "cell_type": "code",
      "execution_count": null,
      "metadata": {
        "collapsed": false
      },
      "outputs": [],
      "source": [
        "if TERMINAL:\n    print(\"\\nData\")\n    print(df)\ndf\n\n# Divide in HOS and CSV.\ndf = DataframeHOSCSVSplitter().split(dataframe)"
      ]
    },
    {
      "cell_type": "markdown",
      "metadata": {},
      "source": [
        "Lets see the HOS/CSV sets\n\n"
      ]
    },
    {
      "cell_type": "code",
      "execution_count": null,
      "metadata": {
        "collapsed": false
      },
      "outputs": [],
      "source": [
        "if TERMINAL:\n    print(\"\\nData\")\n    print(df)\ndf"
      ]
    }
  ],
  "metadata": {
    "kernelspec": {
      "display_name": "Python 3",
      "language": "python",
      "name": "python3"
    },
    "language_info": {
      "codemirror_mode": {
        "name": "ipython",
        "version": 3
      },
      "file_extension": ".py",
      "mimetype": "text/x-python",
      "name": "python",
      "nbconvert_exporter": "python",
      "pygments_lexer": "ipython3",
      "version": "3.7.9"
    }
  },
  "nbformat": 4,
  "nbformat_minor": 0
}