{
  "cells": [
    {
      "cell_type": "code",
      "execution_count": null,
      "metadata": {
        "collapsed": false
      },
      "outputs": [],
      "source": [
        "%matplotlib inline"
      ]
    },
    {
      "cell_type": "markdown",
      "metadata": {},
      "source": [
        "\n# main\n\nExample\n"
      ]
    },
    {
      "cell_type": "code",
      "execution_count": null,
      "metadata": {
        "collapsed": false
      },
      "outputs": [],
      "source": [
        "# Libraries\nimport time\nimport pandas as pd\nimport seaborn as sns\nimport matplotlib.pyplot as plt\n\n# ---------------------------\n# Constants\n# ---------------------------\n# Path to biochemical markers\npath_bio = '.\\\\datasets\\\\damien-sepsis-biomarkers.csv'\n\n# Path to nhs to hos mappings\npath_nth = '.\\\\datasets\\\\damien-sepsis-nhs_to_hos.csv'\n\n# Path to data request megalist\npath_drm = '.\\\\datasets\\\\data-request-megalist.xlsx'\n\n# Path to save output\npath_save = '.\\\\outputs\\\\{0}-damien-sepsis-biomarkers-pm{1}.csv'\n\n# Save\nSAVE = True\n\n# Days +- first micro sample\nWINDOW = 30\n\n# ---------------------------\n# Main\n# ---------------------------\n\n# -----------\n# Read data\n# -----------\n# Read biomarkers\nbio = pd.read_csv(path_bio,\n\t#nrows=10000,\n\tparse_dates=['date_collected',\n\t\t\t     'date_outcome'])\n\n# Read nhs to hos\nnth = pd.read_csv(path_nth)\n\n# Read data request megalist\ndrm = pd.read_excel(path_drm,\n\tparse_dates=['Sampledate'])\n\n# Rename drm\ndrm = drm.rename(columns={\n\t'Sampledate': 'date_sample',\n\t'Hospital Number': 'hos_number'})\n\n# Sort by date (important if keeping first)\ndrm = drm.sort_values(by='date_sample')\n\n# Keep first appearance only\ndrm = drm.groupby(by='hos_number') \\\n\t\t .first().reset_index()\n\n# Show\nprint(\"\\nShow datasets:\")\nprint(bio)\nprint(nth)\nprint(drm)\n\n# Show columns\nprint(\"\\nShow columns:\")\nprint(bio.columns)\nprint(nth.columns)\nprint(drm.columns)\n\n# -----------\n# Merge\n# -----------\n# Merge by nhs_number\nbio = bio.merge(nth, how='left',\n\tleft_on='patient_nhs_number',\n    right_on='nhs_number')\n\n# Merge with date (first)\nbio = bio.merge(drm, how='inner',\n\tleft_on='hos_number',\n\tright_on='hos_number')\n\n# .. note: There must be an issue with Sampledate, because it is not\n#          being converted to datetime64[ns] from parse_dates. Thus\n#          force conversion ourselves. Note that invalid parsing will\n#          be set to NaT (not a time)\nbio.date_sample = \\\n\tpd.to_datetime(bio.date_sample, errors='coerce')\n\n# Compute day difference\nbio['day'] = (bio.date_sample - bio.date_collected).dt.days\n\n# -----------\n# Plot\n# -----------\n# Count\ncount = bio.day.value_counts().sort_index()\n\n# Configure sns\n#sns.set_theme(style='whitegrid')\nsns.set_color_codes(\"muted\")\nsns.despine(left=True, bottom=True)\n\n# Plot bars\nax = plt.bar(count.index.values,\n\tcount.values, color='b', alpha=0.5)\n\n# Fill aea selected\nplt.fill_between(x=[-WINDOW, WINDOW],\n\ty1=0, y2=count.max(), alpha=0.25,\n\tcolor='orange')\n\n# Draw vertical line at 30\nplt.vlines([-WINDOW, WINDOW], ymin=0,\n\tymax=count.max(), color='k',\n\tlinestyle='dashed', linewidth=0.75)\n\n# Configure\nplt.grid(False)\nplt.xlabel('Day from sample')\nplt.ylabel('Count')\nplt.title('Day from sample count')\n\n# Layout\nplt.tight_layout()\n\n# Show\nplt.show()\n\n# ---------------\n# Filter and save\n# ---------------\n# Filter out\nbio = bio[bio.day.abs() <= WINDOW]\n\n# Save\nif SAVE:\n\t# Get time\n\ttime = time.strftime('%Y%m%d-%H%M%S')\n\t# Save with all info\n\tbio.to_csv(path_save.format(time, str(WINDOW)))\n\t# Save anonymised\n\tbio = bio.drop(columns=['patient_nhs_number',\n\t\t\t\t\t\t\t'nhs_number',\n\t\t\t\t\t\t\t'hos_number'])\n\t# Show columns\n\tprint(bio.columns)\n\tbio.to_csv(path_save.format(time, str(WINDOW) + '-anonymised'))\n\n# Show\nplt.show()"
      ]
    }
  ],
  "metadata": {
    "kernelspec": {
      "display_name": "Python 3",
      "language": "python",
      "name": "python3"
    },
    "language_info": {
      "codemirror_mode": {
        "name": "ipython",
        "version": 3
      },
      "file_extension": ".py",
      "mimetype": "text/x-python",
      "name": "python",
      "nbconvert_exporter": "python",
      "pygments_lexer": "ipython3",
      "version": "3.8.3"
    }
  },
  "nbformat": 4,
  "nbformat_minor": 0
}