{
  "cells": [
    {
      "cell_type": "code",
      "execution_count": null,
      "metadata": {
        "collapsed": false
      },
      "outputs": [],
      "source": [
        "%matplotlib inline"
      ]
    },
    {
      "cell_type": "markdown",
      "metadata": {},
      "source": [
        "\n# 08. Energy forecast 2050 (sankey)\n\nThis script creates a Sankey diagram to visualize the projected\nflow of energy for the year 2050. It begins by fetching the necessary\ndata from a JSON file hosted on GitHub.\n\nBefore plotting, the script processes the data to customize the\ndiagram's appearance, notably adjusting the colors and opacity\nso that each flow (or link) inherits the color of its source node.\nThis enhances readability and makes the chart more intuitive.\nFinally, it uses plotly.graph_objects to construct and display\nthe Sankey diagram, which effectively illustrates the distribution\nof energy from various sources through to their final consumption\nsectors.\n"
      ]
    },
    {
      "cell_type": "code",
      "execution_count": null,
      "metadata": {
        "collapsed": false
      },
      "outputs": [],
      "source": [
        "import plotly.graph_objects as go\nimport urllib.request, json\n\nurl = 'https://raw.githubusercontent.com/plotly/plotly.js/master/test/image/mocks/sankey_energy.json'\nresponse = urllib.request.urlopen(url)\ndata = json.loads(response.read())\n\n# override gray link colors with 'source' colors\nopacity = 0.4\n# change 'magenta' to its 'rgba' value to add opacity\ndata['data'][0]['node']['color'] = \\\n    ['rgba(255,0,255, 0.8)' if color == \"magenta\" else color\n        for color in data['data'][0]['node']['color']]\ndata['data'][0]['link']['color'] = \\\n    [data['data'][0]['node']['color'][src].replace(\"0.8\", str(opacity))\n        for src in data['data'][0]['link']['source']]\n\nprint(data)\n\nfig = go.Figure(data=[go.Sankey(\n    valueformat = \".0f\",\n    valuesuffix = \"TWh\",\n    # Define nodes\n    node = dict(\n      pad = 15,\n      thickness = 15,\n      line = dict(color = \"black\", width = 0.5),\n      label =  data['data'][0]['node']['label'],\n      color =  data['data'][0]['node']['color']\n    ),\n    # Add links\n    link = dict(\n      source =  data['data'][0]['link']['source'],\n      target =  data['data'][0]['link']['target'],\n      value =  data['data'][0]['link']['value'],\n      label =  data['data'][0]['link']['label'],\n      color =  data['data'][0]['link']['color']\n))])\n\ntitle = \"\"\"Energy forecast for 2050<br>Source: Department of Energy & Climate \nChange, Tom Counsell ia <a href='https://bost.ocks.org/mike/sankey/'>Mike Bostock</a>\",\"\"\"\n\nfig.update_layout(title_text=title, font_size=10)\n#fig.show()\n\n# Show\nfrom plotly.io import show\nshow(fig)"
      ]
    }
  ],
  "metadata": {
    "kernelspec": {
      "display_name": "Python 3",
      "language": "python",
      "name": "python3"
    },
    "language_info": {
      "codemirror_mode": {
        "name": "ipython",
        "version": 3
      },
      "file_extension": ".py",
      "mimetype": "text/x-python",
      "name": "python",
      "nbconvert_exporter": "python",
      "pygments_lexer": "ipython3",
      "version": "3.11.0"
    }
  },
  "nbformat": 4,
  "nbformat_minor": 0
}