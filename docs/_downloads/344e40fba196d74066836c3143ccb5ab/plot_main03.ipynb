{
  "cells": [
    {
      "cell_type": "code",
      "execution_count": null,
      "metadata": {
        "collapsed": false
      },
      "outputs": [],
      "source": [
        "%matplotlib inline"
      ]
    },
    {
      "cell_type": "markdown",
      "metadata": {},
      "source": [
        "\n# 03. Basic example\n"
      ]
    },
    {
      "cell_type": "code",
      "execution_count": null,
      "metadata": {
        "collapsed": false
      },
      "outputs": [],
      "source": [
        "# Generic\nimport numpy as np\nimport pandas as pd\nimport matplotlib.pyplot as plt\n\n# Sklearn\nfrom sklearn.model_selection import train_test_split\nfrom sklearn.datasets import load_iris\nfrom sklearn.datasets import load_breast_cancer\nfrom sklearn.naive_bayes import GaussianNB\nfrom sklearn.linear_model import LogisticRegression\nfrom sklearn.tree import DecisionTreeClassifier\nfrom sklearn.ensemble import RandomForestClassifier\n\n# Xgboost\nfrom xgboost import XGBClassifier\n\n# ----------------------------------------\n# Load data\n# ----------------------------------------\n# Seed\nseed = 0\n\n# Load dataset\nbunch = load_iris()\nbunch = load_breast_cancer()\nfeatures = list(bunch['feature_names'])\n\n# Create DataFrame\ndata = pd.DataFrame(data=np.c_[bunch['data'], bunch['target']],\n                    columns=features + ['target'])\n\n# Create X, y\nX = data[bunch['feature_names']]\ny = data['target']\n\n# Filter\nX = X.iloc[:500, :3]\ny = y.iloc[:500]\n\n\n# Split dataset\nX_train, X_test, y_train, y_test = \\\n    train_test_split(X, y, random_state=seed)\n\n\n# ----------------------------------------\n# Classifiers\n# ----------------------------------------\n# Train classifier\ngnb = GaussianNB()\nllr = LogisticRegression()\ndtc = DecisionTreeClassifier(random_state=seed)\nrfc = RandomForestClassifier(random_state=seed)\nxgb = XGBClassifier(\n    min_child_weight=0.005,\n    eta= 0.05, gamma= 0.2,\n    max_depth= 4,\n    n_estimators= 100)\n\n# Select one\nclf = rfc\n\n# Fit\nclf.fit(X_train, y_train)\n\n# ----------------------------------------\n# Find shap values\n# ----------------------------------------\n# Import\nimport shap\n\n# Initialise\nshap.initjs()\n\n# Get generic explainer\nexplainer = shap.Explainer(clf, X_train)\n\n# Show kernel type\nprint(\"\\nKernel type: %s\" % type(explainer))\n\n# Variables\n#rows = X_train.iloc[5, :]\n#shap = explainer.shap_values(row)\n\n# Get shap values\nshap_values = explainer.shap_values(X_train.iloc[5, :])\n#shap_values = explainer.shap_values(X_test.iloc[5, :])\n\nprint(shap_values)\n\n# Force plot\n# .. note: not working!\nplot_force = shap.plots.force(explainer.expected_value[1],\n    shap_values[1], X_train.iloc[5, :],\n    matplotlib=True, show=True)\n\nplt.tight_layout()\nplt.show()\n\n\"\"\"\nimport sys\nsys.exit()\n\n# ----------------------------------------\n# Visualize\n# ----------------------------------------\n# Initialise\nshap.initjs()\n\"\"\"\n\"\"\"\n# Dependence plot\nshap.dependence_plot(0, shap_values,\n    X_train, interaction_index=None, dot_size=5,\n    alpha=0.5, color='#3F75BC', show=False)\nplt.tight_layout()\n\"\"\"\n\n\"\"\"\nprint(explainer.shap_values(X_train))\n\n# Summary plot\nplot_summary = shap.summary_plot( \\\n    explainer.shap_values(X_train),\n    X_train, cmap='viridis',\n    show=False)\n\nplt.tight_layout()\nplt.show()\n\nprint(plot_summary)\n\n\nimport seaborn as sns\nsv = explainer.shap_values(X_train)\nsv = pd.DataFrame(sv, columns=X.columns)\nsv = sv.stack().reset_index()\nsv['val'] = X_train.stack().reset_index()[0]\n\n#import plotly.express as px\n\n#f = px.strip(data_frame=sv, x=0, y='level_1', color='val')\n#f.show()\n\nprint(sv)\n#sns.swarmplot(data=sv, x=0, y='level_1', color='viridis', palette='viridis')\n#sns.stripplot(data=sv, x=0, y='level_1', color='viridis', palette='viridis')\n#plt.show()\nimport sys\nsys.exit()\n#sns.swarmplot(x=)\n\nimport sys\nsys.exit()\n\n#html = f\"<head>{shap.getjs()}</head><body>\"\n# Bee swarm\n# .. note: unexpected algorithm matplotlib!\n# .. note: does not return an object!\nplot_bee = shap.plots.beeswarm(shap_values, show=False)\n\n# Sow\nprint(\"\\nBEE\")\nprint(plot_bee)\n\n#print(f)\n# Waterfall\n# .. note: not working!\n#shap.plots.waterfall(shap_values[0], max_display=14)\n\n# Force plot\n# .. note: not working!\nplot_force = shap.plots.force(explainer.expected_value,\n    explainer.shap_values(X_train), X_train,\n    matplotlib=False, show=False)\n\n# Show\nprint(\"\\nFORCE:\")\nprint(plot_force)\nprint(plot_force.html())\nprint(shap.save_html('e.html', plot_force))\n\"\"\""
      ]
    }
  ],
  "metadata": {
    "kernelspec": {
      "display_name": "Python 3",
      "language": "python",
      "name": "python3"
    },
    "language_info": {
      "codemirror_mode": {
        "name": "ipython",
        "version": 3
      },
      "file_extension": ".py",
      "mimetype": "text/x-python",
      "name": "python",
      "nbconvert_exporter": "python",
      "pygments_lexer": "ipython3",
      "version": "3.7.9"
    }
  },
  "nbformat": 4,
  "nbformat_minor": 0
}