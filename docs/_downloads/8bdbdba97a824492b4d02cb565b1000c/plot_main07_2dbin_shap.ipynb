{
  "cells": [
    {
      "cell_type": "code",
      "execution_count": null,
      "metadata": {
        "collapsed": false
      },
      "outputs": [],
      "source": [
        "%matplotlib inline"
      ]
    },
    {
      "cell_type": "markdown",
      "metadata": {},
      "source": [
        "\n# Main 07 - 2dbin with shap.csv\n"
      ]
    },
    {
      "cell_type": "code",
      "execution_count": null,
      "metadata": {
        "collapsed": false
      },
      "outputs": [],
      "source": [
        "# Libraries\nimport seaborn as sns\nimport pandas as pd\nimport numpy as np\nimport matplotlib as mpl\nimport matplotlib.pyplot as plt\n\nfrom scipy import stats\nfrom matplotlib.colors import LogNorm\n\n#plt.style.use('ggplot') # R ggplot style\n\n# See https://matplotlib.org/devdocs/users/explain/customizing.html\nmpl.rcParams['axes.titlesize'] = 8\nmpl.rcParams['axes.labelsize'] = 8\nmpl.rcParams['xtick.labelsize'] = 8\nmpl.rcParams['ytick.labelsize'] = 8\n\n# Load data\ndata = pd.read_csv('../../datasets/shap/shap.csv')\n\n# Filter\ndata = data[data.features.isin([\n    'Alanine Transaminase',\n    'Albumin',\n    'Alkaline Phosphatase',\n    'Bilirubin',\n    'C-Reactive Protein',\n    'Chloride',\n    'Creatinine'\n\n])]\n\n# Show\nprint(data.head(10))\n\n# figsize = (8,7) for 100 bins\n# figsize = (8,3) for 50 bins\n#\n# .. note: The y-axis does not represent a continuous space,\n#          it is a discrete space where each tick is describing\n#          a bin.\n\n# Loop\nfor i, (name, df) in enumerate(data.groupby('features')):\n\n    # Info\n    print(\"%2d. Computing... %s\" % (i, name))\n\n    # Get variables\n    x = df.timestep\n    y = df.shap_values\n    z = df.feature_values\n    n = x.max()\n    vmin = z.min()\n    vmax = z.max()\n    nbins = 100\n    figsize = (8, 7)\n\n    # Create bins\n    binx = np.arange(x.min(), x.max()+2, 1) - 0.5\n    biny = np.linspace(y.min(), y.max(), nbins)\n\n    # Compute binned statistic (count)\n    r1 = stats.binned_statistic_2d(x=y, y=x, values=z,\n        statistic='count', bins=[biny, binx],\n        expand_binnumbers=False)\n\n    # Compute binned statistic (median)\n    r2 = stats.binned_statistic_2d(x=y, y=x, values=z,\n        statistic='median', bins=[biny, binx],\n        expand_binnumbers=False)\n\n    # Compute centres\n    x_center = (r1.x_edge[:-1] + r1.x_edge[1:]) / 2\n    y_center = (r1.y_edge[:-1] + r1.y_edge[1:]) / 2\n\n    # Flip\n    flip1 = np.flip(r1.statistic, 0)\n    flip2 = np.flip(r2.statistic, 0)\n\n    # Display\n    fig, axs = plt.subplots(nrows=1, ncols=2,\n        sharey=True, sharex=False, figsize=figsize)\n\n    sns.heatmap(flip1, annot=False, linewidth=0.5,\n                xticklabels=y_center.astype(int),\n                yticklabels=x_center.round(3)[::-1],  # Because of flip\n                cmap='Blues', ax=axs[0], norm=LogNorm(),\n                cbar_kws={\n                    #'label': 'value [unit]',\n                    'use_gridspec': True,\n                    'location': 'right'\n                }\n    )\n\n    sns.heatmap(flip2, annot=False, linewidth=0.5,\n                xticklabels=y_center.astype(int),\n                yticklabels=x_center.round(3)[::-1],  # Because of flip\n                cmap='coolwarm', ax=axs[1], zorder=1,\n                vmin=None, vmax=None, center=None, robust=True,\n                cbar_kws={\n                    #'label': 'value [unit]',\n                    'use_gridspec': True,\n                    'location': 'right'\n                }\n    )\n\n    # Configure ax0\n    axs[0].set_title('count')\n    axs[0].set_xlabel('timestep')\n    axs[0].set_ylabel('shap')\n    axs[0].locator_params(axis='y', nbins=10)\n\n    # Configure ax1\n    axs[1].set_title('median')\n    axs[1].set_xlabel('timestep')\n    #axs[1].set_ylabel('shap')\n    axs[1].locator_params(axis='y', nbins=10)\n    axs[1].tick_params(axis=u'y', which=u'both', length=0)\n    # axs[1].invert_yaxis()\n\n    # Identify zero crossing\n    #zero_crossing = np.where(np.diff(np.sign(biny)))[0]\n    # Display line on that index (not exactly 0 though)\n    #plt.axhline(y=len(biny) - zero_crossing, color='lightgray', linestyle='--')\n\n    # Generic\n    plt.suptitle(name)\n    plt.tight_layout()\n\n    # Show only first N\n    if int(i) > 5:\n     break\n\n# Show\nplt.show()"
      ]
    }
  ],
  "metadata": {
    "kernelspec": {
      "display_name": "Python 3",
      "language": "python",
      "name": "python3"
    },
    "language_info": {
      "codemirror_mode": {
        "name": "ipython",
        "version": 3
      },
      "file_extension": ".py",
      "mimetype": "text/x-python",
      "name": "python",
      "nbconvert_exporter": "python",
      "pygments_lexer": "ipython3",
      "version": "3.7.9"
    }
  },
  "nbformat": 4,
  "nbformat_minor": 0
}