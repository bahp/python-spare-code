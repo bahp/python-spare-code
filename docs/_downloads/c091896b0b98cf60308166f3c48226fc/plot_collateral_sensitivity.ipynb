{
  "cells": [
    {
      "cell_type": "code",
      "execution_count": null,
      "metadata": {
        "collapsed": false
      },
      "outputs": [],
      "source": [
        "%matplotlib inline"
      ]
    },
    {
      "cell_type": "markdown",
      "metadata": {},
      "source": [
        "\n# Collateral Sensitivity Index\n\nIn order to run the script in such a way that we can profile\nthe time used for each method, statement, .. use the following\ncommand:\n\n    $ python -m cProfile -s cumtime plot_collateral_sensitivity.py > outcome.csv\n"
      ]
    },
    {
      "cell_type": "code",
      "execution_count": null,
      "metadata": {
        "collapsed": false
      },
      "outputs": [],
      "source": [
        "# Libraries\nimport numpy as np\nimport pandas as pd\nimport seaborn as sns\nimport matplotlib as mpl\nimport matplotlib.pyplot as plt\n\n#\nfrom pathlib import Path\nfrom datetime import datetime\nfrom itertools import combinations\nfrom mic import mutual_info_matrix_v3\n\n# See https://matplotlib.org/devdocs/users/explain/customizing.html\nmpl.rcParams['axes.titlesize'] = 8\nmpl.rcParams['axes.labelsize'] = 8\nmpl.rcParams['xtick.labelsize'] = 8\nmpl.rcParams['ytick.labelsize'] = 8\n\ndef collateral_resistance_index(m):\n    \"\"\"Collateral Resistance Index\n\n    The collateral resistance index is based on the mutual\n    information matrix. This implementation assumes there\n    are two classes resistant (R) and sensitive (S).\n\n    Parameters\n    ----------\n    m: np.array\n        A numpy array with the mutual information matrix.\n\n    Returns\n    -------\n    \"\"\"\n    return (m[0, 0] + m[1, 1]) - (m[0, 1] + m[1, 0])\n\ndef CRI(x, func):\n    ct = np.array([[x.SS, x.SR], [x.RS, x.RR]])\n    m = func(ct=ct)\n    return collateral_resistance_index(m)\n\n\n\ndef combo_v1():\n    # Build combination\n    c = pd.DataFrame()\n    for i, g in df.groupby(['o', 's']):\n        for index in list(combinations(g.index, 2)):\n            i, j = index\n            s = pd.Series({\n                'o': df.loc[i, 'o'],\n                's': df.loc[i, 's'],\n                'ax': df.loc[i, 'a'],\n                'ay': df.loc[j, 'a'],\n                'rx': df.loc[i, 'r'],\n                'ry': df.loc[j, 'r']\n            })\n            c = pd.concat([c, s.to_frame().T])\n            # c.append(s)\n\n    \"\"\"\n    # Build combination\n    c = pd.DataFrame()\n    for i, g in data.groupby(['specimen_code',\n                              'microorganism_code',\n                              'laboratory_number']):\n        for index in list(combinations(g.index, 2)):\n            i, j = index\n            s = pd.Series({\n                'o': data.loc[i, 'microorganism_code'],\n                's': data.loc[i, 'laboratory_number'],\n                'ax': data.loc[i, 'antimicrobial_code'],\n                'ay': data.loc[j, 'antimicrobial_code'],\n                'rx': data.loc[i, 'sensitivity'],\n                'ry': data.loc[j, 'sensitivity']\n            })\n            c = pd.concat([c, s.to_frame().T])\n\n\n    # Add class\n    c['class'] = c.rx + c.ry\n    \"\"\"\n    return c\n\n\ndef create_df_combo_v1(d, col_o='o', # organism\n                          col_s='s', # sample\n                          col_a='a', # antimicrobial\n                          col_r='r'): # outcome / result\n    \"\"\"\n\n    .. note:: There might be an issue if there are two different outcomes\n              for the same record. For example, a susceptibility test\n              record for penicillin (APEN) with R and another one with\n              S. Warn of this issue if it appears!\n\n    :param d:\n    :param col_o:\n    :param col_s:\n    :param col_a:\n    :param col_r:\n    :return:\n    \"\"\"\n\n    # This is innefficient!\n\n    # Build combination\n    c = []\n    for i, g in d.groupby([col_s, col_o]):\n        for x, y in combinations(g.sort_values(by=col_a).index, 2):\n            s = pd.Series({\n                'o': g.loc[x, col_o],\n                's': g.loc[x, col_s],\n                'ax': g.loc[x, col_a],\n                'ay': g.loc[y, col_a],\n                'rx': g.loc[x, col_r],\n                'ry': g.loc[y, col_r]\n            })\n            c.append(s)\n\n\n    # Concatenate\n    c = pd.concat(c, axis=1).T\n\n    # Add class\n    c['class'] = c.rx + c.ry\n\n    # Return\n    return c\n\n\ndef create_combinations_v1(d, col_specimen='s',\n                              col_lab_id='l',\n                              col_microorganism='o',\n                              col_antimicrobial='a',\n                              col_result='r'):\n    \"\"\"Creates the dataframe with all combinations.\n\n    Parameters\n    ----------\n\n    Returns\n    --------\n    \"\"\"\n    # Initialize\n    c = []\n\n    # Loop\n    for i, g in d.groupby([col_specimen,\n                           col_microorganism,\n                           col_lab_id]):\n        for x, y in combinations(g.sort_values(by=col_antimicrobial).index, 2):\n            c.append({\n                'specimen': g.loc[x, col_specimen],\n                'lab_id': g.loc[x, col_lab_id],\n                'o': g.loc[x, col_microorganism],\n                'ax': g.loc[x, col_antimicrobial],\n                'ay': g.loc[y, col_antimicrobial],\n                'rx': g.loc[x, col_result],\n                'ry': g.loc[y, col_result]\n            })\n\n    # Create DataFrame\n    c = pd.DataFrame(c)\n    # Add class\n    c['class'] = c.rx + c.ry\n    # Return\n    return c\n\n\ndef create_combinations_v2(d, col_o='o',\n      col_s='s', col_a='a', col_r='r'):\n    \"\"\"Creates the dataframe with all combinations.\n\n    .. note:: There might be an issue if there are two different outcomes\n              for the same record. For example, a susceptibility test\n              record for penicillin (APEN) with R and another one with\n              S. Warn of this issue if it appears!\n\n    Parameters\n    ----------\n\n    Returns\n    --------\n\n    \"\"\"\n    # Initialize\n    c = pd.DataFrame()\n\n    # Loop\n    for i, g in d.groupby([col_s, col_o]):\n\n        aux = []\n        for x, y in combinations(g.sort_values(by=col_a).index, 2):\n            aux.append({\n                'ax': g.loc[x, col_a],\n                'ay': g.loc[y, col_a],\n                'rx': g.loc[x, col_r],\n                'ry': g.loc[y, col_r]\n            })\n        aux = pd.DataFrame(aux)\n        aux['s'] = i[0]\n        aux['o'] = i[1]\n\n        # Concatenate\n        c = pd.concat([c, aux], axis=0)\n\n    # Add class\n    c['class'] = c.rx + c.ry\n\n    # Return\n    return c"
      ]
    },
    {
      "cell_type": "markdown",
      "metadata": {},
      "source": [
        "a) A basic example\n\nNote that the columns names are the initial for the following\nfull names: s=specimen, l=laboratory sample, o=organism,\na=antimicrobial and r=result\n\n"
      ]
    },
    {
      "cell_type": "code",
      "execution_count": null,
      "metadata": {
        "collapsed": false
      },
      "outputs": [],
      "source": [
        "# Create matrix\ndata = [\n    ['s1', 'l1', 'o1', 'a1', 'S'],\n    ['s1', 'l1', 'o1', 'a2', 'S'],\n    ['s1', 'l1', 'o1', 'a3', 'R'],\n    ['s1', 'l2', 'o1', 'a1', 'S'],\n    ['s1', 'l2', 'o1', 'a2', 'S'],\n    ['s1', 'l2', 'o1', 'a3', 'R'],\n    ['s1', 'l2', 'o1', 'a4', 'R'],\n    ['s1', 'l3', 'o1', 'a1', 'R'],\n    ['s1', 'l3', 'o1', 'a2', 'S'],\n    ['s1', 'l4', 'o1', 'a2', 'R'],\n    ['s1', 'l4', 'o1', 'a1', 'S'],\n    ['s1', 'l5', 'o1', 'a5', 'S'],\n    ['s1', 'l6', 'o1', 'a4', 'S'],\n    ['s1', 'l5', 'o1', 'a2', 'S'],\n]\n\n# Create DataFrame\ndf = pd.DataFrame(data,\n    columns=['s', 'l', 'o', 'a', 'r'])\n\n# Show\nprint(\"\\nData:\")\nprint(df)\n\n# Create combo\nc = create_combinations_v1(df)\n\n# Show\nprint(\"\\nCombinations (within isolates):\")\nprint(c)\n\n# Build contingency\nr = c.groupby(['ax', 'ay', 'class']).size().unstack()\n\n# Show\nprint(\"\\nContingency:\")\nprint(r)\n\n# Compute CRI\nr['MIS'] = r.apply(CRI, args=(mutual_info_matrix_v3,), axis=1)\n\n# Show\nprint(\"\\n\" + \"=\"*80 + \"\\nExample 1\\n\" + \"=\"*80)\nprint(\"\\nResult\")\nprint(r)\n\n# Create index with all pairs\nindex = pd.MultiIndex.from_product(\n    [df.a.unique(), df.a.unique()]\n)\n\n# Reformat\naux = r['MIS'] \\\n    .reindex(index, fill_value=np.nan)\\\n    .unstack()\n\n# Display\nsns.heatmap(data=aux*100, annot=True, linewidth=.5,\n    cmap='coolwarm', vmin=-70, vmax=70, center=0,\n    square=True)\n\n# Show\nplt.tight_layout()\n#plt.show()\n\n\n\n\ndef load_susceptibility_nhs(**kwargs):\n    \"\"\"Load and format MIMIC microbiology data.\n\n    Parameters\n    ----------\n    **kwargs: dict-like\n        The arguments as used in pandas read_csv function\n\n    Returns\n    --------\n    \"\"\"\n    # Load data\n    path = Path('../../datasets/susceptibility-nhs/')\n    path = path / 'susceptibility-v0.0.1'\n\n    data = pd.concat([\n        pd.read_csv(f, **kwargs)\n            for f in Path(path).glob('susceptibility-*.csv')])\n\n    # Format data\n    data.sensitivity = data.sensitivity \\\n        .replace({\n            'sensitive': 'S',\n            'resistant': 'R',\n            'intermediate': 'I',\n            'highly resistant': 'HR'\n    })\n\n    # Select specimen\n    # data = data[data.specimen_code.isin(['URICUL'])]\n    # data = data[data.microorganism_code.isin(['SAUR', 'ECOL', 'PAER'])]\n    # data = data[data.sensitivity.isin(['R', 'S'])]\n    # data = data[data.laboratory_number.isin(['H1954180', 'M1596362'])]\n\n    data = data[data.sensitivity.isin(['R', 'S', 'I', 'HR'])]\n\n    # .. note:: For some reason, for the same specimen and antimicrobial\n    #           there are sometimes contradictory outcomes (e.g. R and S)\n    #           so we are removing this by keeping the last.\n\n    # Keep only last/first specimen (sometimes repeated)\n    subset = data.columns.tolist()\n    subset = subset.remove('sensitivity')\n    data = data.drop_duplicates(subset=subset, keep='last')\n\n    # Further cleaning\n\n    # Return\n    return data\n\n\ndef load_susceptibility_mimic(**kwargs):\n    \"\"\"Load and format MIMIC microbiology data.\n\n    Parameters\n    ----------\n    **kwargs: dict-like\n        The arguments as used in pandas read_csv function\n\n    Returns\n    --------\n    \"\"\"\n    # Load data\n    path = Path('../../datasets/susceptibility-mimic/')\n    path = path / 'microbiologyevents.csv'\n    data = pd.read_csv(path, **kwargs)\n\n    # Format data\n    data = data.rename(columns={\n        'micro_specimen_id': 'laboratory_number',\n        'spec_type_desc': 'specimen_code',\n        'org_name': 'microorganism_code',\n        'ab_name': 'antimicrobial_code',\n        'interpretation': 'sensitivity'\n    })\n\n    # Keep only last/first specimen\n\n    # Remove inconsistent records, for example if for an specimen there are two\n    # rows for the same antimicrobial. Or even worse, these two rows are\n    # contradictory (e.g. R and S)\n\n    # Other cleaning.\n\n    # Return\n    return data\n\n\n\"\"\"\n# Load data\n#data = load_susceptibility_mimic()\ndata = load_susceptibility_nhs()\n\n# Create combo\nc = create_combinations_v1(data,\n    col_specimen='specimen_code',\n    col_lab_id='laboratory_number',\n    col_microorganism='microorganism_code',\n    col_antimicrobial='antimicrobial_code',\n    col_result='sensitivity')\n\n# Create folder if it does not exist.\ntoday = datetime.now().strftime(\"%Y%m%d-%H%M%S\")\npath = Path('./outputs/cri/') / today\nPath(path).mkdir(parents=True, exist_ok=True)\n\n# Save combinations file.\nc.to_csv(path / 'combinations.csv')\n\n# Build contingency\nr = c.groupby(['specimen', 'o', 'ax', 'ay', 'class']).size().unstack()\n\n# Compute CRI\nr['MIS'] = r.fillna(0) \\\n    .apply(CRI, args=(mutual_info_matrix_v3,), axis=1)\n\n# Show\nprint(\"\\n\" + \"=\"*80 + \"\\nExample 2\\n\" + \"=\"*80)\nprint(\"\\nResult\")\nprint(r)\n\n# Save collateral sensitivity index file.\nr.to_csv(path / 'contingency.csv')\n\"\"\""
      ]
    }
  ],
  "metadata": {
    "kernelspec": {
      "display_name": "Python 3",
      "language": "python",
      "name": "python3"
    },
    "language_info": {
      "codemirror_mode": {
        "name": "ipython",
        "version": 3
      },
      "file_extension": ".py",
      "mimetype": "text/x-python",
      "name": "python",
      "nbconvert_exporter": "python",
      "pygments_lexer": "ipython3",
      "version": "3.10.13"
    }
  },
  "nbformat": 4,
  "nbformat_minor": 0
}