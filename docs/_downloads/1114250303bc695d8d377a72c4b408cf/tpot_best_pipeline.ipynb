{
  "cells": [
    {
      "cell_type": "code",
      "execution_count": null,
      "metadata": {
        "collapsed": false
      },
      "outputs": [],
      "source": [
        "%matplotlib inline"
      ]
    },
    {
      "cell_type": "markdown",
      "metadata": {},
      "source": [
        "\n# Best pipeline\n\nExample\n"
      ]
    },
    {
      "cell_type": "code",
      "execution_count": null,
      "metadata": {
        "collapsed": false
      },
      "outputs": [],
      "source": [
        "import numpy as np\nimport pandas as pd\nfrom sklearn.ensemble import ExtraTreesClassifier\nfrom sklearn.feature_selection import SelectPercentile, f_classif\nfrom sklearn.model_selection import train_test_split\nfrom sklearn.pipeline import make_pipeline\n\nfrom sklearn.metrics._scorer import _check_multimetric_scoring\nfrom sklearn.model_selection._validation import _score\nfrom sklearn.model_selection._validation import _aggregate_score_dicts\n\nfrom pySML2.settings import _DEFAULT_METRICS\n\n# ---------------------------------------------------------------------------------\n# Configuration\n# ---------------------------------------------------------------------------------\n# The input features and label for the algorithm\nfeatures = sorted(['alb', 'alp', 'alt', 'baso', 'bil', 'cl', 'cre', 'crp', 'egfr',\n                  'eos', 'k', 'ly',  'mcv', 'mono', 'mpv', 'nrbca', 'plt', 'rbc',\n                  'rdw',  'urea', 'wbc'])\n\n# The labels\nlabels = sorted(['micro_confirmed'])\n\n# NOTE: Make sure that the outcome column is labeled 'target' in the data file\ntpot_data = pd.read_csv('tpot_data_train.csv', sep=',')\ntpot_data.columns = [c.lower() for c in tpot_data.columns.values]\ntpot_data = tpot_data[features + labels]\ntpot_data = tpot_data.rename(columns={'micro_confirmed':'target'})\n\nfeatures = tpot_data.drop('target', axis=1)\ntraining_features, testing_features, training_target, testing_target = \\\n            train_test_split(features, tpot_data['target'], random_state=None)\n\n# Average CV score on the training set was: 0.739462953567469\nexported_pipeline = make_pipeline(\n    SelectPercentile(score_func=f_classif, percentile=69),\n    ExtraTreesClassifier(bootstrap=True, criterion=\"gini\", max_features=0.6000000000000001, min_samples_leaf=12, min_samples_split=14, n_estimators=100)\n)\n\nexported_pipeline.fit(training_features, training_target)\nresults = exported_pipeline.predict(testing_features)\n\nprint(_DEFAULT_METRICS)\n\n\nscorers, _ = _check_multimetric_scoring(exported_pipeline, scoring=_DEFAULT_METRICS)\nscores = _score(exported_pipeline, testing_features, testing_target, scorers)\nprint(scores)\nscores = _aggregate_score_dicts(scores)"
      ]
    }
  ],
  "metadata": {
    "kernelspec": {
      "display_name": "Python 3",
      "language": "python",
      "name": "python3"
    },
    "language_info": {
      "codemirror_mode": {
        "name": "ipython",
        "version": 3
      },
      "file_extension": ".py",
      "mimetype": "text/x-python",
      "name": "python",
      "nbconvert_exporter": "python",
      "pygments_lexer": "ipython3",
      "version": "3.9.1"
    }
  },
  "nbformat": 4,
  "nbformat_minor": 0
}