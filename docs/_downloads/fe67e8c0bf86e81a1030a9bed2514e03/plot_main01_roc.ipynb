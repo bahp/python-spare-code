{
  "cells": [
    {
      "cell_type": "code",
      "execution_count": null,
      "metadata": {
        "collapsed": false
      },
      "outputs": [],
      "source": [
        "%matplotlib inline"
      ]
    },
    {
      "cell_type": "markdown",
      "metadata": {},
      "source": [
        "\n# Main 01 - Plot ROC\n\nThis example shows how to plot the ROC curves for various splits.\n\n.. todo: Instead of specify the color for each single trace,\n         which is also a good option, it is possible to\n         define in the layout the variable colorway with the\n         cycle of colors that will be used.\n\n# sphinx_gallery_thumbnail_path = '_static/images/icon-github.svg'\n"
      ]
    },
    {
      "cell_type": "code",
      "execution_count": null,
      "metadata": {
        "collapsed": false
      },
      "outputs": [],
      "source": [
        "# Libraries\nimport plotly.graph_objects as go\nimport plotly.express as px\nimport numpy as np\n\nfrom plotly.io import show\n\n# Layout\nfrom plotly.graph_objects import Layout\n\n# -----------------------------------------\n# Config\n# -----------------------------------------\n# Colors\ncolors = px.colors.qualitative.Plotly\ncolors = px.colors.sequential.Plasma_r\ncolors = px.colors.sequential.Viridis_r\n\n# -----------------------------------------\n# Data\n# -----------------------------------------\n# Create some data\nfpr = np.arange(10)/10\ntpr = np.arange(10)/10\n\n# Data\ndata = {\n    'split1': np.vstack((fpr + -0.10, tpr)).T,\n    'split2': np.vstack((fpr + -0.15, tpr)).T,\n    'split3': np.vstack((fpr + -0.20, tpr)).T,\n    'split4': np.vstack((fpr + -0.25, tpr)).T,\n    'split5': np.vstack((fpr + -0.30, tpr)).T,\n    'split6': np.vstack((fpr + 0.15, tpr)).T,\n    'split7': np.vstack((fpr + 0.15, tpr)).T,\n    'split8': np.vstack((fpr + 0.20, tpr)).T,\n    'split9': np.vstack((fpr + 0.25, tpr)).T,\n    'split10': np.vstack((fpr + 0.30, tpr)).T\n}\n\n\n# -------------------------------------\n# Visualize\n# -------------------------------------\n# Create figure\nfig = go.Figure()\n\n# Add diagonal line\nfig.add_shape(type='line', x0=0, x1=1, y0=0, y1=1,\n    line=dict(dash='dash', color='gray', width=1),\n)\n\n# Plot each split\nfor i, (name, array) in enumerate(data.items()):\n    # Name of split\n    name = f\"{name}\" # (AUC={10:.2f})\"\n    # Add trace\n    fig.add_trace(go.Scatter(x=array[:, 0],\n                             y=array[:, 1],\n                             name=name,\n                             mode='lines+markers',\n                             line=dict(color=colors[i],\n                                       width=0.5)))\n\n# Update layout\nfig.update_layout(\n    xaxis_title='False Positive Rate',\n    yaxis_title='True Positive Rate',\n    yaxis=dict(scaleanchor=\"x\", scaleratio=1),\n    xaxis=dict(constrain='domain'),\n    width=350, height=350,\n    legend=dict(\n        x=1.0, y=0.0,  # x=1, y=1.02\n        orientation=\"v\",\n        font={'size': 12},\n        yanchor=\"bottom\",\n        xanchor=\"right\",\n    ),\n    margin={\n        'l': 0,\n        'r': 0,\n        'b': 0,\n        't': 0,\n        'pad': 4\n    },\n    paper_bgcolor='rgba(0,0,0,0)',  # transparent\n    plot_bgcolor='rgba(0,0,0,0)'  # transparent\n)\n\n# Update xaxes\nfig.update_xaxes(showgrid=True,\n                 gridwidth=1,\n                 nticks=10,\n                 range=[0, 1],\n                 gridcolor='lightgray')\n\n# Update yaxes\nfig.update_yaxes(showgrid=True,\n                 gridwidth=1,\n                 range=[0, 1],\n                 nticks=10,\n                 gridcolor='lightgray')\n\n# Show\nshow(fig)"
      ]
    }
  ],
  "metadata": {
    "kernelspec": {
      "display_name": "Python 3",
      "language": "python",
      "name": "python3"
    },
    "language_info": {
      "codemirror_mode": {
        "name": "ipython",
        "version": 3
      },
      "file_extension": ".py",
      "mimetype": "text/x-python",
      "name": "python",
      "nbconvert_exporter": "python",
      "pygments_lexer": "ipython3",
      "version": "3.7.9"
    }
  },
  "nbformat": 4,
  "nbformat_minor": 0
}