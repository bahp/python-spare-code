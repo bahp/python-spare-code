{
  "cells": [
    {
      "cell_type": "code",
      "execution_count": null,
      "metadata": {
        "collapsed": false
      },
      "outputs": [],
      "source": [
        "%matplotlib inline"
      ]
    },
    {
      "cell_type": "markdown",
      "metadata": {},
      "source": [
        "\n# Skfold Test\n\nExample\n"
      ]
    },
    {
      "cell_type": "code",
      "execution_count": null,
      "metadata": {
        "collapsed": false
      },
      "outputs": [],
      "source": [
        "# General\nimport numpy as np\nimport pandas as pd\n\n# Specific\nfrom sklearn.model_selection import StratifiedKFold\n\n\n# ---------------------------------------------------\n#\n# ---------------------------------------------------\ndef repeated_splits(X, y, n_loops=2, n_splits=5):\n    \"\"\"This method...\n\n\n    \"\"\"\n    # Record for comparison\n    records = []\n\n    # Split\n    for i in range(n_loops):\n        # Create dataframe\n        dataframe = pd.DataFrame()\n        # Create splitter\n        skf = StratifiedKFold(n_splits=n_splits)\n        # Loop\n        for j, (train, test) in enumerate(skf.split(X, y)):\n            dataframe['fold_{0}'.format(j)] = \\\n                np.concatenate((train, test))\n        # Append\n        records.append(dataframe)\n\n    # Return\n    return records\n\n\n# ---------------------------------------------------\n# Artificial example\n# ---------------------------------------------------\n# Size\nn = 20\nn_splits = 5\nn_loops = 5\n\n# Create dataset\nX = np.arange(n).reshape(-1,1)\ny = np.vstack((np.ones((10,1)),\n               np.zeros((10,1))))\n\n# Create splits\nrecords = repeated_splits(X, y, n_loops=n_loops,\n                                n_splits=n_splits)\n\n# Compare if all records are equal\nfor i in range(len(records)-1):\n    print('{0} == {1} : {2}'.format(i, i+1, \\\n        records[i].equals(records[i+1])))\n\n\n# ---------------------------------------------------\n# Rel example\n# ---------------------------------------------------\n# Read dataset\ndataset = pd.read_csv('dataset.csv')\n\n# Get X, and y\nX = dataset.to_numpy()\ny = dataset.micro_confirmed.to_numpy()\n\n# Create splits\nrecords = repeated_splits(X, y, n_loops=n_loops,\n                                n_splits=n_splits)\n\n# Compare if all records are equal\nfor i in range(len(records)-1):\n    print('{0} == {1} : {2}'.format(i, i+1, \\\n        records[i].equals(records[i+1])))"
      ]
    }
  ],
  "metadata": {
    "kernelspec": {
      "display_name": "Python 3",
      "language": "python",
      "name": "python3"
    },
    "language_info": {
      "codemirror_mode": {
        "name": "ipython",
        "version": 3
      },
      "file_extension": ".py",
      "mimetype": "text/x-python",
      "name": "python",
      "nbconvert_exporter": "python",
      "pygments_lexer": "ipython3",
      "version": "3.9.0"
    }
  },
  "nbformat": 4,
  "nbformat_minor": 0
}