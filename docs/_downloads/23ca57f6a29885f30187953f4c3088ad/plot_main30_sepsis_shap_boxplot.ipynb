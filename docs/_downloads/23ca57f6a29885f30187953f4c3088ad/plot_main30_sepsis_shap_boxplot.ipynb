{
  "cells": [
    {
      "cell_type": "code",
      "execution_count": null,
      "metadata": {
        "collapsed": false
      },
      "outputs": [],
      "source": [
        "%matplotlib inline"
      ]
    },
    {
      "cell_type": "markdown",
      "metadata": {},
      "source": [
        "\n# 30. Sample shap.csv boxplot\n\nThe aim is to visualise all the features for all the timesteps\nto quickly see which shap values are higher and therefore\ninfluence more in the result.\n\n<div class=\"alert alert-info\"><h4>Note</h4><p>Using plotly we could interact with the outcome!</p></div>\n"
      ]
    },
    {
      "cell_type": "code",
      "execution_count": null,
      "metadata": {
        "collapsed": false
      },
      "outputs": [],
      "source": [
        "# Libraries\nimport seaborn as sns\nimport pandas as pd\nimport numpy as np\nimport matplotlib as mpl\nimport matplotlib.pyplot as plt\n\nfrom scipy import stats\nfrom matplotlib.colors import LogNorm\n\nsns.set_theme(style=\"white\")\n\n# See https://matplotlib.org/devdocs/users/explain/customizing.html\nmpl.rcParams['axes.titlesize'] = 8\nmpl.rcParams['axes.labelsize'] = 8\nmpl.rcParams['xtick.labelsize'] = 8\nmpl.rcParams['ytick.labelsize'] = 8\nmpl.rcParams['legend.fontsize'] = 7\nmpl.rcParams['legend.handlelength'] = 1\nmpl.rcParams['legend.handleheight'] = 1\nmpl.rcParams['legend.loc'] = 'upper left'\n\n# Features\nfeatures = [\n    'Ward Lactate',\n    #'Ward Glucose',\n    #'Ward sO2',\n    #'White blood cell count, blood',\n    'Platelets',\n    'Haemoglobin',\n    'Mean cell volume, blood',\n    'Haematocrit',\n    #'Mean cell haemoglobin conc, blood',\n    #'Mean cell haemoglobin level, blood',\n    #'Red blood cell count, blood',\n    #'Red blood cell distribution width',\n    #'Creatinine',\n    #'Urea level, blood',\n    #'Potassium',\n    #'Sodium',\n    'Neutrophils',\n    'Chloride',\n    'Lymphocytes',\n    'Monocytes',\n    'Eosinophils',\n    'C-Reactive Protein',\n    'Albumin',\n    #'Alkaline Phosphatase',\n    #'Glucose POCT Strip Blood',\n    'Total Protein',\n    'Globulin',\n    'Alanine Transaminase',\n    'Bilirubin',\n    'Prothrombin time',\n    'Fibrinogen (clauss)',\n    'Procalcitonin',\n    'Ferritin',\n    'D-Dimer',\n    'sex',\n    'age'\n]\n\n# Load data\ndata = pd.read_csv('../../datasets/shap/shap.csv')\n\n# Filter\ndata = data[data.features.isin(features)]\n\n# Show\nprint(data.head(10))\n\n\n# .. todo:: Change flier size, cmap, ...\n\n\ndef configure_ax(ax):\n    sns.despine(ax=ax)\n    lg = ax.legend(loc='upper center',\n                   bbox_to_anchor=(0.05, 1.15, 0.9, 0.1),\n                   borderaxespad=2, ncol=5, mode='expand')\n    plt.tight_layout()\n\n# Boxenplot\nplt.figure(figsize=(12, 4))\nax = sns.boxenplot(data, x='timestep', y='shap_values',\n    hue='features', saturation=0.5, showfliers=False)\nconfigure_ax(ax)\n\n# Violinplot\nplt.figure(figsize=(12, 4))\nax = sns.violinplot(data, x='timestep', y='shap_values',\n    hue='features', saturation=0.5, showfliers=False,\n    whis=1.0)\nconfigure_ax(ax)\n\n# Boxplot\nplt.figure(figsize=(12, 4))\nax = sns.boxplot(data, x='timestep', y='shap_values',\n    hue='features', saturation=0.5, showfliers=False,\n    whis=1.0)\nconfigure_ax(ax)\n\n\n# Show\nplt.show()"
      ]
    }
  ],
  "metadata": {
    "kernelspec": {
      "display_name": "Python 3",
      "language": "python",
      "name": "python3"
    },
    "language_info": {
      "codemirror_mode": {
        "name": "ipython",
        "version": 3
      },
      "file_extension": ".py",
      "mimetype": "text/x-python",
      "name": "python",
      "nbconvert_exporter": "python",
      "pygments_lexer": "ipython3",
      "version": "3.10.13"
    }
  },
  "nbformat": 4,
  "nbformat_minor": 0
}