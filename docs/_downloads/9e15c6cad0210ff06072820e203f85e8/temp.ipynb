{
  "cells": [
    {
      "cell_type": "code",
      "execution_count": null,
      "metadata": {
        "collapsed": false
      },
      "outputs": [],
      "source": [
        "%matplotlib inline"
      ]
    },
    {
      "cell_type": "markdown",
      "metadata": {},
      "source": [
        "\n# 06. Basic example\n"
      ]
    },
    {
      "cell_type": "code",
      "execution_count": null,
      "metadata": {
        "collapsed": false
      },
      "outputs": [],
      "source": [
        "import numpy as np\nimport tensorflow as tf\nfrom tensorflow.keras.models import Sequential\nfrom tensorflow.keras.layers import Dense, Dropout, BatchNormalization, LSTM\nimport shap\n\n# Create random training values.\n#\n# train_x is [\n#   [\n#        [0.3, 0.54 ... 0.8],\n#        [0.4, 0.6 ... 0.55],\n#        ...\n#   ],\n#   [\n#        [0.3, 0.54 ... 0.8],\n#        [0.4, 0.6 ... 0.55],\n#        ...\n#   ],\n#   ...\n# ]\n#\n# train_y is corresponding classification of train_x sequences, always 0 or 1\n# [0, 1, 0, 1, 0, ... 0]\n\"\"\"\nSAMPLES_CNT = 1000\n\ntrain_x = np.random.rand(SAMPLES_CNT,5,4)\ntrain_y = np.vectorize(lambda x: int(round(x)))(np.random.rand(SAMPLES_CNT))\n\nval_x = np.random.rand(int(SAMPLES_CNT * 0.1),5,4)\nval_y = np.vectorize(lambda x: int(round(x)))(np.random.rand(int(SAMPLES_CNT * 0.1)))\n\n# Train model\n\nmodel = Sequential()\nmodel.add(LSTM(32,input_shape=train_x.shape[1:], return_sequences=False, stateful=False))\nmodel.add(Dense(1, activation='sigmoid'))\n\nmodel.compile(optimizer=tf.keras.optimizers.Adam(lr=0.001),\n              loss='binary_crossentropy',metrics=['accuracy'])\n\nfit = model.fit(train_x, train_y, batch_size=64, epochs=2,\n                validation_data=(val_x, val_y), shuffle=False)\n\nexplainer = shap.DeepExplainer(model, train_x[:10])\nshap_vals = explainer.shap_values(val_x[:10][:, 0, :])\n\"\"\""
      ]
    }
  ],
  "metadata": {
    "kernelspec": {
      "display_name": "Python 3",
      "language": "python",
      "name": "python3"
    },
    "language_info": {
      "codemirror_mode": {
        "name": "ipython",
        "version": 3
      },
      "file_extension": ".py",
      "mimetype": "text/x-python",
      "name": "python",
      "nbconvert_exporter": "python",
      "pygments_lexer": "ipython3",
      "version": "3.7.9"
    }
  },
  "nbformat": 4,
  "nbformat_minor": 0
}