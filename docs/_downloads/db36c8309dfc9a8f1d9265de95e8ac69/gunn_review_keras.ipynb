{
  "cells": [
    {
      "cell_type": "code",
      "execution_count": null,
      "metadata": {
        "collapsed": false
      },
      "outputs": [],
      "source": [
        "%matplotlib inline"
      ]
    },
    {
      "cell_type": "markdown",
      "metadata": {},
      "source": [
        "\n# Main\n\n<div class=\"alert alert-info\"><h4>Note</h4><p>Not working!</p></div>\n"
      ]
    },
    {
      "cell_type": "code",
      "execution_count": null,
      "metadata": {
        "collapsed": false
      },
      "outputs": [],
      "source": [
        "\"\"\"\nimport numpy as np\n\nfrom keras.callbacks import TensorBoard, ModelCheckpoint\nfrom keras.preprocessing.sequence import pad_sequences\nfrom keras.utils.np_utils import to_categorical\nfrom keras.models import Model\nfrom keras.layers import Dense, Input, concatenate\nfrom keras.layers import Embedding, Dropout, Bidirectional, TimeDistributed\n\n#from keras.layers import CuDNNGRU, CuDNNLSTM, Conv1D\n#from keras.layers import BatchNormalization, GlobalMaxPooling1D\n#from keras.callbacks import EarlyStopping, ReduceLROnPlateau\nfrom keras import backend as K\nimport tensorflow as tf\n#from tensorflow import set_random_seed\n\n\n#import tensorflow\n#tensorflow.random.set_seed(x)\n\nfrom tensorflow.compat.v1.keras.layers import CuDNNLSTM\nfrom tensorflow.compat.v1.keras.layers import CuDNNGRU\nfrom tensorflow.compat.v1.keras.layers import Conv1D\n\n# In[16]:\n\n\nx = [\n\t[\n\t\t[1, 1, 3, 5],\n\t\t[9, 5, 3, 7],\n\t\t[6, 2, 3, 8],\n\t],\n\t[\n\t\t[1, 1, 3, 5, 5],\n\t\t[9, 5, 3, 7, 3],\n\t\t[6, 2, 3, 8, 8],\n\t],\n\t[\n\t\t[1, 1, 3],\n\t\t[9, 5, 3],\n\t\t[6, 2, 3],\n\t],\n\t[\n\t\t[4, 1, 1, 3],\n\t\t[6, 9, 5, 3],\n\t\t[5, 6, 2, 3],\n\t],\n]\n\n\n\nx_cate = [[1,2], [3,1], [2,2], [1,2]]\n\n\n\ny = [0, 1, 1, 0]\n\n\n\n\nSEED = 1\n\nMAX_TIME_LENGTH = 10\nMAX_TIMESERIES_TYPE = 3\n\n\n\n\n# change input format to make it the same shape\n\ndata = np.zeros((len(x), MAX_TIMESERIES_TYPE, MAX_TIME_LENGTH), dtype='int32')\ni_data = np.zeros((len(x), MAX_TIMESERIES_TYPE, len(x_cate[0])), dtype='int32')\n\nfor i, patient in enumerate(x):\n    for j, types in enumerate(patient):\n        seq_data = pad_sequences(types, maxlen=MAX_TIME_LENGTH)\n        data[i, j] = seq_data\n        i_data[i, :len(i_inputs[i])] = i_inputs[i]\n\nprint(i_data)\n\ndef create_model():\n    embedding_layer = Embedding(num_words,\n                                EMBEDDING_DIM,\n                                input_length=MAX_POST_LENGTH,\n                                weights=[embedding_matrix],\n                                trainable=False)\n\n    sequence_input = Input(shape=(MAX_POST_LENGTH,))\n    embedded_sequences = embedding_layer(sequence_input)\n    l_lstm_sent = Bidirectional(CuDNNGRU(50, return_sequences=True))(embedded_sequences)\n    l_lstm_sent = Dropout(0.2)(l_lstm_sent)\n    l_lstm_sent = AttentionWithContext()(l_lstm_sent)\n    l_lstm_sent = Dropout(0.2)(l_lstm_sent)\n    preds = Dense(units=2, activation='softmax')(l_lstm_sent)\n    sentEncoder = Model(sequence_input, preds)\n    print(sentEncoder.summary())\n\n    ana_input = Input(shape=(MAX_POSTS, len(i_data[0][0])))\n\n    review_input = Input(shape=(MAX_POSTS, MAX_POST_LENGTH))\n    l_lstm_sent = TimeDistributed(sentEncoder)(review_input)\n    l_lstm_sent = concatenate([l_lstm_sent, ana_input])  # combine time series and categories\n    l_lstm_sent = BatchNormalization()(l_lstm_sent)\n    l_lstm_sent = Dropout(0.2)(l_lstm_sent)\n    l_lstm_sent = Bidirectional(CuDNNGRU(16, return_sequences=True))(l_lstm_sent)\n    l_lstm_sent = Dropout(0.2)(l_lstm_sent)\n    l_lstm_sent = AttentionWithContext()(l_lstm_sent)\n    l_lstm_sent = Dropout(0.2)(l_lstm_sent)\n    preds = Dense(2, activation='softmax')(l_lstm_sent)\n    model = Model([review_input, ana_input], preds)\n    print(model.summary())\n\n    from keras.optimizers import Adam, AdaMod\n\n    adam = AdaMod()\n    model.compile(loss='binary_crossentropy', optimizer=adam, metrics=['acc'])\n\n    return model\n\n\n\n\nmodel = create_model()\n\nmodel.fit([data, data_i], np.asarray(y, 'int32'),\n          shuffle=False,\n          nb_epoch=200, batch_size=32, verbose=0)\n\"\"\""
      ]
    }
  ],
  "metadata": {
    "kernelspec": {
      "display_name": "Python 3",
      "language": "python",
      "name": "python3"
    },
    "language_info": {
      "codemirror_mode": {
        "name": "ipython",
        "version": 3
      },
      "file_extension": ".py",
      "mimetype": "text/x-python",
      "name": "python",
      "nbconvert_exporter": "python",
      "pygments_lexer": "ipython3",
      "version": "3.7.9"
    }
  },
  "nbformat": 4,
  "nbformat_minor": 0
}