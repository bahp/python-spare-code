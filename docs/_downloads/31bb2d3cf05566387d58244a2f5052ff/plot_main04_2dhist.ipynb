{
  "cells": [
    {
      "cell_type": "code",
      "execution_count": null,
      "metadata": {
        "collapsed": false
      },
      "outputs": [],
      "source": [
        "%matplotlib inline"
      ]
    },
    {
      "cell_type": "markdown",
      "metadata": {},
      "source": [
        "\n# 04. Histogram 2D\n\n<div class=\"alert alert-info\"><h4>Note</h4><p>https://plotly.com/python/2d-histogram-contour/</p></div>\n"
      ]
    },
    {
      "cell_type": "code",
      "execution_count": null,
      "metadata": {
        "collapsed": false
      },
      "outputs": [],
      "source": [
        "import numpy as np\nimport plotly.graph_objects as go\n\nfrom plotly.io import show\n\ntry:\n    __file__\n    TERMINAL = True\nexcept:\n    TERMINAL = False\n\n# ----------------\n# Create data\n# ----------------\nt = np.linspace(-1, 1.2, 2000)\nx = (t**3) + (0.3 * np.random.randn(2000))\ny = (t**6) + (0.3 * np.random.randn(2000))\n\n# ----------------\n# Create figure\n# ----------------\nfig = go.Figure()\nfig.add_trace(go.Histogram2dContour(\n        x = x,\n        y = y,\n        colorscale = 'Blues', # 'Jet'\n        contours = dict(\n            showlabels = True,\n            labelfont = dict(\n                family = 'Raleway',\n                color ='white'\n            )\n        ),\n        hoverlabel = dict(\n            bgcolor = 'white',\n            bordercolor = 'black',\n            font = dict(\n                family = 'Raleway',\n                color = 'black'\n            )\n        ),\n        reversescale = True,\n        xaxis = 'x',\n        yaxis = 'y'\n    ))\nfig.add_trace(go.Scatter(\n        x = x,\n        y = y,\n        xaxis = 'x',\n        yaxis = 'y',\n        mode = 'markers',\n        marker = dict(\n            color = 'rgba(0,0,0,0.3)',\n            size = 3\n        )\n    ))\nfig.add_trace(go.Histogram(\n        y = y,\n        xaxis = 'x2',\n        marker = dict(\n            color = 'rgba(0,0,0,1)'\n        )\n    ))\nfig.add_trace(go.Histogram(\n        x = x,\n        yaxis = 'y2',\n        marker = dict(\n            color = 'rgba(0,0,0,1)'\n        )\n    ))\n\nfig.update_layout(\n    autosize = False,\n    xaxis = dict(\n        zeroline = False,\n        domain = [0,0.85],\n        showgrid = False\n    ),\n    yaxis = dict(\n        zeroline = False,\n        domain = [0,0.85],\n        showgrid = False\n    ),\n    xaxis2 = dict(\n        zeroline = False,\n        domain = [0.85,1],\n        showgrid = False\n    ),\n    yaxis2 = dict(\n        zeroline = False,\n        domain = [0.85,1],\n        showgrid = False\n    ),\n    height = 600,\n    width = 600,\n    bargap = 0,\n    hovermode = 'closest',\n    showlegend = False\n)\n\n# Show\nshow(fig)"
      ]
    }
  ],
  "metadata": {
    "kernelspec": {
      "display_name": "Python 3",
      "language": "python",
      "name": "python3"
    },
    "language_info": {
      "codemirror_mode": {
        "name": "ipython",
        "version": 3
      },
      "file_extension": ".py",
      "mimetype": "text/x-python",
      "name": "python",
      "nbconvert_exporter": "python",
      "pygments_lexer": "ipython3",
      "version": "3.7.9"
    }
  },
  "nbformat": 4,
  "nbformat_minor": 0
}