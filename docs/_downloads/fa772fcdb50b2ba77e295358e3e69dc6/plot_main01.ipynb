{
  "cells": [
    {
      "cell_type": "code",
      "execution_count": null,
      "metadata": {
        "collapsed": false
      },
      "outputs": [],
      "source": [
        "%matplotlib inline"
      ]
    },
    {
      "cell_type": "markdown",
      "metadata": {},
      "source": [
        "\n# 99. Basic Example\n"
      ]
    },
    {
      "cell_type": "code",
      "execution_count": null,
      "metadata": {
        "collapsed": false
      },
      "outputs": [],
      "source": [
        "# Library\nimport numpy as np\nimport pandas as pd\n\n# Show in terminal\nTERMINAL = False\n\n# Create data\ndata = [\n    ['p1', '1/5/2021', 1, 2, 3],\n    ['p1', '2/5/2021', 3, 3, 3],\n    ['p1', '3/5/2021', 4, 4, 4],\n    ['p1', '5/5/2021', 5, 5, 5],\n\n    ['p2', '11/5/2021', 5, 3, 3],\n    ['p2', '12/5/2021', 4, 3, None],\n    ['p2', '16/5/2021', None, 1, None], # unordered\n    ['p2', '15/5/2021', 5, 2, 4],\n]\n\n# Load DataFrame\ndata = pd.DataFrame(data,\n    columns=['patient', 'date', 'plt', 'hct', 'bil'])\n\n# Format datetime\n# Date will be a datetime64[ns] instead of string\ndata.date = pd.to_datetime(data.date, dayfirst=True)\ndata.date = data.date.dt.normalize()\n\n# Show\nif TERMINAL:\n    print(\"\\nData:\")\n    print(data)\ndata"
      ]
    },
    {
      "cell_type": "markdown",
      "metadata": {},
      "source": [
        "Lets sort values\n\n"
      ]
    },
    {
      "cell_type": "code",
      "execution_count": null,
      "metadata": {
        "collapsed": false
      },
      "outputs": [],
      "source": [
        "# Note that if you set columns as indexes (e.g. the\n# datetime) they will be sorted by default.\naux = data.sort_values(by=['plt', 'hct'])\n\n# Show\nif TERMINAL:\n    print(\"\\nOut:\")\n    print(aux)\naux"
      ]
    },
    {
      "cell_type": "markdown",
      "metadata": {},
      "source": [
        "Lets select columns\n\n"
      ]
    },
    {
      "cell_type": "code",
      "execution_count": null,
      "metadata": {
        "collapsed": false
      },
      "outputs": [],
      "source": [
        "# Select columns from DataFrame\naux = data[['patient', 'date', 'plt']]\n\n# Show\nif TERMINAL:\n    print(\"\\nOut:\")\n    print(aux)\naux"
      ]
    },
    {
      "cell_type": "markdown",
      "metadata": {},
      "source": [
        "Lets do indexing (not nan)\n\n\n"
      ]
    },
    {
      "cell_type": "code",
      "execution_count": null,
      "metadata": {
        "collapsed": false
      },
      "outputs": [],
      "source": [
        "# Keep rows where plt is not nan\naux = data[data.plt.notna()]\n\n# Show\nif TERMINAL:\n    print(\"\\nOut:\")\n    print(aux)\naux"
      ]
    },
    {
      "cell_type": "markdown",
      "metadata": {},
      "source": [
        "Lets drop nan (in subset)\n\n\n"
      ]
    },
    {
      "cell_type": "code",
      "execution_count": null,
      "metadata": {
        "collapsed": false
      },
      "outputs": [],
      "source": [
        "# Keep rows without any nan in subset\naux = data.dropna(how='any', subset=['plt', 'bil'])\n\n# Show\nif TERMINAL:\n    print(\"\\nOut:\")\n    print(aux)\naux"
      ]
    },
    {
      "cell_type": "markdown",
      "metadata": {},
      "source": [
        "Lets drop nan (all)\n\n\n"
      ]
    },
    {
      "cell_type": "code",
      "execution_count": null,
      "metadata": {
        "collapsed": false
      },
      "outputs": [],
      "source": [
        "# Keep rows without any nan at all\naux = data.dropna(how='any')\n\n# Show\nif TERMINAL:\n    print(\"\\nOut:\")\n    print(aux)\naux"
      ]
    },
    {
      "cell_type": "markdown",
      "metadata": {},
      "source": [
        "Lets resample daily\n\n\n"
      ]
    },
    {
      "cell_type": "code",
      "execution_count": null,
      "metadata": {
        "collapsed": false
      },
      "outputs": [],
      "source": [
        "# Resample\naux = data.set_index('date').resample('D').asfreq()\n\n# Show\nif TERMINAL:\n    print(\"\\nOut:\")\n    print(aux)\naux"
      ]
    },
    {
      "cell_type": "markdown",
      "metadata": {},
      "source": [
        "Lets fill missing values (pad)\n\n\n"
      ]
    },
    {
      "cell_type": "code",
      "execution_count": null,
      "metadata": {
        "collapsed": false
      },
      "outputs": [],
      "source": [
        "# Pad is synonym of DataFrame.fillna() with method='ffill'.\naux = data.set_index('date').resample('D').asfreq().pad()\n\n# Show\nif TERMINAL:\n    print(\"\\nOut:\")\n    print(aux)\naux"
      ]
    },
    {
      "cell_type": "markdown",
      "metadata": {},
      "source": [
        "Lets group by patient and sum\n\n"
      ]
    },
    {
      "cell_type": "code",
      "execution_count": null,
      "metadata": {
        "collapsed": false
      },
      "outputs": [],
      "source": [
        "# Group by patient and sum\nagg = aux.groupby('patient').sum()\n\n# Show\nif TERMINAL:\n    print(\"\\nOut:\")\n    print(agg)\nagg"
      ]
    },
    {
      "cell_type": "markdown",
      "metadata": {},
      "source": [
        "Lets group by patient per 2 days and compute mean and max.\n\n"
      ]
    },
    {
      "cell_type": "code",
      "execution_count": null,
      "metadata": {
        "collapsed": false
      },
      "outputs": [],
      "source": [
        "agg = aux.groupby(by=['patient', pd.Grouper(freq='2D')]) \\\n    .agg('mean', 'max')\n    #.agg({'idx': ['first', 'last'],\n    #      0: [skew, kurtosis, own],\n    #      1: [skew, kurtosis, own],\n    #      '0_hr': [own],\n    #      '0_rr': [own]})\n\n# Show\nif TERMINAL:\n    print(\"\\nOut:\")\n    print(agg)\nagg"
      ]
    }
  ],
  "metadata": {
    "kernelspec": {
      "display_name": "Python 3",
      "language": "python",
      "name": "python3"
    },
    "language_info": {
      "codemirror_mode": {
        "name": "ipython",
        "version": 3
      },
      "file_extension": ".py",
      "mimetype": "text/x-python",
      "name": "python",
      "nbconvert_exporter": "python",
      "pygments_lexer": "ipython3",
      "version": "3.10.13"
    }
  },
  "nbformat": 4,
  "nbformat_minor": 0
}