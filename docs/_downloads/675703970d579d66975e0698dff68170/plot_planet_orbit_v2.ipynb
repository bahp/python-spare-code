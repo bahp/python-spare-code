{
  "cells": [
    {
      "cell_type": "code",
      "execution_count": null,
      "metadata": {
        "collapsed": false
      },
      "outputs": [],
      "source": [
        "%matplotlib inline"
      ]
    },
    {
      "cell_type": "markdown",
      "metadata": {},
      "source": [
        "\n# Drawing a planet orbit (customised)\n\nThe Wikipedia article describes a method step by step how to calculate the\nposition (in heliocentric polar coordinates) as a function of time. The equations\ncontain Newton's gravitational constant and the mass of the Sun. Some of them are\nonly solveable by numeric methods.\n\n  * `R1`_: Stack Overflow Reference.\n  * `R2`_: Wikipedia article.\n\n"
      ]
    },
    {
      "cell_type": "code",
      "execution_count": null,
      "metadata": {
        "collapsed": false
      },
      "outputs": [],
      "source": [
        "# Libraries\nimport math\nimport pandas as pd\nimport matplotlib.pyplot as plt\n\nfrom matplotlib.patches import Ellipse\nfrom matplotlib.patches import Circle\n\n\nEPSILON = 1e-12\n\n\n# Implementing ellipse equations to generate the values needed to plot an ellipse\n# Using only the planet's min (m) and max (M) distances from the sun\n# Equations return '2a' (the ellipses width) and '2b' (the ellipses height)\ndef orbit_length(M, m):\n    a = (M + m) / 2\n    c = a - m\n    e = c / a\n    b = a * (1 - e ** 2) ** 0.5\n    return 2 * a, 2 * b\n\ndef solve_bisection(fn, xmin, xmax, epsilon=EPSILON):\n    while True:\n        xmid = (xmin + xmax) * 0.5\n        if (xmax - xmin < epsilon):\n            return xmid\n        fn_mid = fn(xmid)\n        fn_min = fn(xmin)\n        if fn_min * fn_mid < 0:\n            xmax = xmid\n        else:\n            xmin = xmid\n\ndef get_planet_coordinates(rmax, rmin, t):\n    \"\"\"Get the planet cartesian coordinates.\n\n    :param rmax:\n    :param rmin:\n    :param t:\n    :return:\n    \"\"\"\n    SCALE = 1e9\n    theta, r = get_planet_solve_orbit(rmax * SCALE, rmin * SCALE, t)\n    x = -r * math.cos(theta) / SCALE\n    y = r * math.sin(theta) / SCALE\n    return x, y\n\ndef get_planet_solve_orbit(rmax, rmin, t):\n    \"\"\"Get the planet orbit parameters\n\n    .. note:: Polar coordinates.\n\n    :param rmax:\n    :param rmin:\n    :param t:\n    :return:\n    \"\"\"\n    # calculation precision\n    epsilon = EPSILON\n    # mass of the sun [kg]\n    Msun = 1.9891e30\n    # Newton's gravitational constant [N*m**2/kg**2]\n    G = 6.6740831e-11\n    # standard gravitational parameter\n    mu = G * Msun\n    # eccentricity\n    eps = (rmax - rmin) / (rmax + rmin)\n    # semi-latus rectum\n    p = rmin * (1 + eps)\n    # semi/half major axis\n    a = p / (1 - eps ** 2)\n    # period\n    P = math.sqrt(a ** 3 / mu)\n    # mean anomaly\n    M = (t / P) % (2 * math.pi)\n\n    # eccentric anomaly\n    def fn_E(E):\n        return M - (E - eps * math.sin(E))\n\n    E = solve_bisection(fn_E, 0, 2 * math.pi)\n    # true anomaly\n    # TODO: what if E == pi?\n    theta = 2 * math.atan(math.sqrt((((1 + eps) * math.tan(E / 2) ** 2) / (1 - eps))))\n    # if we are at the second half of the orbit\n    if (E > math.pi):\n        theta = 2 * math.pi - theta\n    # heliocentric distance\n    r = a * (1 - eps * math.cos(E))\n    return theta, r\n\ndef get_planet_orbit(M, m):\n    \"\"\"\n\n    :param M:\n    :param m:\n    :return:\n    \"\"\"\n    w, h = orbit_length(M, m)\n    Xoffset = ((M + m) / 2) - m\n    return w, h, Xoffset\n\ndef plot_orbit(d, ax, **kwargs):\n    \"\"\"Plot the orbit.\n\n    :param d:\n    :param kwargs:\n    :return:\n    \"\"\"\n    # Dictionary\n    print(d)\n    M = d.get('Aphelion (10^6 km)')\n    m = d.get('Perihelion (10^6 km)')\n\n    # Create planet orbit (ellipse)\n    w, h, x_offset = get_planet_orbit(M, m)\n    orbit = Ellipse(xy=((x_offset), 0), width=w, height=h,\n                    angle=0, linewidth=1, fill=False,\n                    color='k')\n\n    # Draw\n    ax.add_artist(orbit)\n\ndef plot_planet(d, ax, start=0, stop=1, coeff=1, size=None):\n    \"\"\"Plot the planet.\n\n    .. note: We could include sizes, but because the diameters\n             vary considerably, some of them might not be\n             visible and would need to be re-scaled.\n\n    Params\n    ------\n\n    \"\"\"\n    M = d.get('Aphelion (10^6 km)')\n    m = d.get('Perihelion (10^6 km)')\n    #p = d.get('Orbital Period (days)')\n    #s = d.get('Diameter (km)') if size is None else size\n\n    for i in range(start, stop):\n        t = i * coeff * 60 * 60 * 24\n        x, y = get_planet_coordinates(M, m, t)\n        planet = Circle((x, y), 8, color=d.get('Color'))\n        ax.add_artist(planet)\n\n\n\n# ---------------------------------------\n# Main\n# ---------------------------------------\n# Information of the planets in a list format.\nPLANETS = [\n    {\n        'Name': 'Mercury',\n        'Color': 'grey',\n        'Aphelion (10^6 km)': 69.8,\n        'Perihelion (10^6 km)': 46.0,\n        'Orbital Period (days)': 88,\n        'Diameter (km)': 4879\n    },\n    {\n        'Name': 'Venus',\n        'Color': 'peru',\n        'Aphelion (10^6 km)': 108.9,\n        'Perihelion (10^6 km)': 107.5,\n        'Orbital Period (days)': 224.7,\n        'Diameter (km)': 12104\n    },\n    {\n        'Name': 'Earth',\n        'Color': 'tab:blue',\n        'Aphelion (10^6 km)': 152.1,\n        'Perihelion (10^6 km)': 147.1,\n        'Orbital Period (days)': 365.25,\n        'Diameter (km)': 12756\n    },\n    {\n        'Name': 'Mars',\n        'Color': 'indianred',\n        'Aphelion (10^6 km)': 249.1,\n        'Perihelion (10^6 km)': 206.7,\n        'Orbital Period (days)': 687,\n        'Diameter (km)': 6792\n    },\n    {\n        'Name': 'Halley', # commet\n        'Color': 'mediumpurple',\n        'Aphelion (10^6 km)': 45900,\n        'Perihelion (10^6 km)': 88,\n        'Orbital Period (days)': 676 * 365.25,\n        'Diameter (km)': 11\n    }\n]\n\n# Load planet information from .csv file\n#PLANETS = pd.read_csv('./data/orbits.csv') \\\n#    .to_dict(orient='records')\n\n# Information of the planets in a dict format where\n# the key is the name and the value is the full object.\nPLANETS_DICT = { e.get('Name'): e for e in PLANETS }\n\n# Create figure. Set axes aspect to equal as orbits are\n# almost circular; hence square is needed\nax = plt.figure(1).add_subplot(111, aspect='equal')\n\n\n# ---------------------------------------\n# Draw orbits\n# ---------------------------------------\n# Drawing orbits\nfor n in PLANETS_DICT.keys():\n    plot_orbit(PLANETS_DICT.get(n), ax)\n\n\n# ---------------------------------------\n# Draw planets\n# ---------------------------------------\n#\n# .. note:: The coefficient broadly indicates in how many portions\n#           to divide the orbit. Then you will plot one marker for\n#           each of the elements within start and stop.\n#\n# Plot planets at different t.\nplot_planet(PLANETS_DICT.get('Mercury'), ax, start=8, stop=14, coeff=1/15*88)\nplot_planet(PLANETS_DICT.get('Venus'), ax, start=8, stop=10, coeff=1/15*224.7)\nplot_planet(PLANETS_DICT.get('Earth'), ax, start=0, stop=52, coeff=1/52*365.25)\nplot_planet(PLANETS_DICT.get('Mars'), ax, start=0, stop=1, coeff=1/4*687)\nplot_planet(PLANETS_DICT.get('Halley'), ax, start=-2, stop=3, coeff=7)\n\n# Axis configuration\nplt.title('Inner Planetary Orbits')\nplt.ylabel('x10^6 km')\nplt.xlabel('x10^6 km')\nax.set_xlim(-300, 300)\nax.set_ylim(-300, 300)\nplt.grid()\n\n# Creating the point to represent the sun at the origin (not to scale),\nax.scatter(0, 0, s=200, color='y')\nplt.annotate('Sun', xy=(0, -30))\n\n# Show\nplt.show()"
      ]
    }
  ],
  "metadata": {
    "kernelspec": {
      "display_name": "Python 3",
      "language": "python",
      "name": "python3"
    },
    "language_info": {
      "codemirror_mode": {
        "name": "ipython",
        "version": 3
      },
      "file_extension": ".py",
      "mimetype": "text/x-python",
      "name": "python",
      "nbconvert_exporter": "python",
      "pygments_lexer": "ipython3",
      "version": "3.10.13"
    }
  },
  "nbformat": 4,
  "nbformat_minor": 0
}