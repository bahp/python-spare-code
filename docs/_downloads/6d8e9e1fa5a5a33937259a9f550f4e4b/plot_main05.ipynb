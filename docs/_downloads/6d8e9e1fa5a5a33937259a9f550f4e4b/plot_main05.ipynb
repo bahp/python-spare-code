{
  "cells": [
    {
      "cell_type": "code",
      "execution_count": null,
      "metadata": {
        "collapsed": false
      },
      "outputs": [],
      "source": [
        "%matplotlib inline"
      ]
    },
    {
      "cell_type": "markdown",
      "metadata": {},
      "source": [
        "\n# UKVI Travel History Calculator\n\nThis Python script is designed to calculate the total number\nof days spent outside the UK from a flight history log, which\nis particularly useful for UK Visa and Immigration (UKVI)\napplications like Indefinite Leave to Remain (ILR) that have\nlimits on absences.\n\n<div class=\"alert alert-info\"><h4>Note</h4><p>Generated with Google Gemini</p></div>\n"
      ]
    },
    {
      "cell_type": "code",
      "execution_count": null,
      "metadata": {
        "collapsed": false
      },
      "outputs": [],
      "source": [
        "# Libraries\nimport pandas as pd\n\n\ndef calculate_time_abroad_from_df(\n        df: pd.DataFrame,\n        date_col: str,\n        status_col: str,\n        dep_port_col: str,\n        arr_port_col: str\n) -> tuple[pd.Timedelta, pd.DataFrame]:\n    \"\"\"\n    Calculates total time spent abroad from a flight log in a pandas DataFrame,\n    handling multi-airport routes.\n\n    Args:\n        df: The DataFrame containing the flight log.\n        date_col: The name of the column with the flight timestamps.\n        status_col: The name of the column with the 'Inbound'/'Outbound' status.\n        dep_port_col: The name of the departure port column.\n        arr_port_col: The name of the arrival port column.\n\n    Returns:\n        A tuple containing:\n        - The total duration abroad (pandas.Timedelta).\n        - A new DataFrame with details of the valid round trips, including routes.\n    \"\"\"\n\n    # --- 1. Prepare the DataFrame ---\n    df_processed = df.copy()\n    df_processed[date_col] = pd.to_datetime(\n        df_processed[date_col], dayfirst=True, errors='coerce')\n    df_processed = df_processed.dropna(subset=[date_col]) \\\n        .sort_values(by=date_col).reset_index(drop=True)\n\n    # --- 2. Calculate Time Abroad with State Machine Logic ---\n    total_duration_abroad = pd.Timedelta(0)\n    last_outbound_leg = None  # Stores the entire row of the last outbound flight\n    valid_trips = []\n\n    print(\"--- Processing Flight Log ---\")\n\n    for index, row in df_processed.iterrows():\n        if row[status_col] == 'Outbound':\n            if last_outbound_leg is not None:\n                print(f\"\u26a0\ufe0f Warning: Consecutive Outbound flight on {row[date_col]}. Using this as the new departure.\")\n            last_outbound_leg = row\n\n        elif row[status_col] == 'Inbound':\n            if last_outbound_leg is not None:\n                # A valid return trip is found\n                duration = row[date_col] - last_outbound_leg[date_col]\n                total_duration_abroad += duration\n\n\n                # Capture the outbound and inbound journeys separately\n                outbound_route = f\"{last_outbound_leg[dep_port_col]} \u2192 {last_outbound_leg[arr_port_col]}\"\n                inbound_route = f\"{row[dep_port_col]} \u2192 {row[arr_port_col]}\"\n\n                # Combine them for a full description\n                full_route_str = f\"Out: {outbound_route} | In: {inbound_route}\"\n\n                valid_trips.append({\n                    'Outbound Date': last_outbound_leg[date_col],\n                    'Inbound Date': row[date_col],\n                    'Duration (days)': duration.days,\n                    'Route': full_route_str\n                })\n\n                # Reset state to \"Home\"\n                last_outbound_leg = None\n            else:\n                print(\n                    f\"\u26a0\ufe0f Warning: Ignoring Inbound flight on {row[date_col]} as there was no preceding Outbound flight.\")\n\n    if last_outbound_leg is not None:\n        print(\n            f\"\\n\u26a0\ufe0f Note: Log ends while abroad. The last trip starting {last_outbound_leg[date_col]} is not included.\")\n\n    trips_df = pd.DataFrame(valid_trips)\n\n    return total_duration_abroad, trips_df\n\n\n\n\n\n\n\n# ------------------------------------------\n# Main\n# ------------------------------------------\n# Libraries\nfrom pathlib import Path\n\n# Configuration\nid = '775243'\nid = '1085721'\nout_path = Path(f'./outputs/{id}')\n\n# Load data\nflight_df = pd.read_json(out_path / 'flights.json')\n\n# 2. Call the function with all the required column names\ntotal_time, valid_trips_df = calculate_time_abroad_from_df(\n    df=flight_df,\n    date_col='Departure Date/Time',\n    status_col='In/Out',\n    dep_port_col='Dep Port',\n    arr_port_col='Arrival Port'\n)\n\n# 3. Print the final results\nprint(\"\\n--- Final Summary ---\")\nprint(f\"\u2705 Total time spent abroad: {total_time.days} days (exact duration)\")\nprint(f\"\u2705 Total time spent abroad: %s days (full days only)\" % \\\n    valid_trips_df['Duration (days)'].sum())\n\nprint(\"\\n--- Valid Round Trips ---\")\nprint(valid_trips_df)"
      ]
    }
  ],
  "metadata": {
    "kernelspec": {
      "display_name": "Python 3",
      "language": "python",
      "name": "python3"
    },
    "language_info": {
      "codemirror_mode": {
        "name": "ipython",
        "version": 3
      },
      "file_extension": ".py",
      "mimetype": "text/x-python",
      "name": "python",
      "nbconvert_exporter": "python",
      "pygments_lexer": "ipython3",
      "version": "3.11.0"
    }
  },
  "nbformat": 4,
  "nbformat_minor": 0
}