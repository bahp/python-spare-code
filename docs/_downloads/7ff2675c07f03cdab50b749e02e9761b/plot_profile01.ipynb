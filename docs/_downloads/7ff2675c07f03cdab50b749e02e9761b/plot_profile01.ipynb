{
  "cells": [
    {
      "cell_type": "code",
      "execution_count": null,
      "metadata": {
        "collapsed": false
      },
      "outputs": [],
      "source": [
        "%matplotlib inline"
      ]
    },
    {
      "cell_type": "markdown",
      "metadata": {},
      "source": [
        "\n# 01. Generate an EDA Report with Pandas Profiling\n\nThis script demonstrates how to generate a detailed Exploratory Data Analysis\n(EDA) report with a single line of code using the `pandas-profiling` library.\nIt loads the standard Iris dataset, creates a comprehensive and interactive\ndata profile, and saves the final report as a self-contained HTML file.\n\n<div class=\"alert alert-info\"><h4>Note</h4><p>The `pandas-profiling` library has been renamed to `ydata-profiling`.\n   While the old import may still work for backward compatibility, it is\n   recommended to install and import `ydata-profiling` in new projects.</p></div>\n"
      ]
    },
    {
      "cell_type": "code",
      "execution_count": null,
      "metadata": {
        "collapsed": false
      },
      "outputs": [],
      "source": [
        "# Libraries\nimport pandas as pd\n\n# Specific\nfrom pandas_profiling import ProfileReport\nfrom sklearn.datasets import load_iris\nfrom pathlib import Path\n\n# Load data object\nobj = load_iris(as_frame=True)\n\n# Create report\nprofile = ProfileReport(obj.data,\n    title=\"Pandas Profiling Report\",\n    explorative=True)\n\n# Save to file\nPath('./outputs').mkdir(parents=True, exist_ok=True)\nprofile.to_file(\"./outputs/profile01-report.html\")"
      ]
    },
    {
      "cell_type": "markdown",
      "metadata": {},
      "source": [
        "Show\n\n"
      ]
    },
    {
      "cell_type": "code",
      "execution_count": null,
      "metadata": {
        "collapsed": false
      },
      "outputs": [],
      "source": [
        "profile"
      ]
    }
  ],
  "metadata": {
    "kernelspec": {
      "display_name": "Python 3",
      "language": "python",
      "name": "python3"
    },
    "language_info": {
      "codemirror_mode": {
        "name": "ipython",
        "version": 3
      },
      "file_extension": ".py",
      "mimetype": "text/x-python",
      "name": "python",
      "nbconvert_exporter": "python",
      "pygments_lexer": "ipython3",
      "version": "3.11.0"
    }
  },
  "nbformat": 4,
  "nbformat_minor": 0
}