{
  "cells": [
    {
      "cell_type": "code",
      "execution_count": null,
      "metadata": {
        "collapsed": false
      },
      "outputs": [],
      "source": [
        "%matplotlib inline"
      ]
    },
    {
      "cell_type": "markdown",
      "metadata": {},
      "source": [
        "\n# 01. DataFrame description (``pandas_profiling``)\n"
      ]
    },
    {
      "cell_type": "code",
      "execution_count": null,
      "metadata": {
        "collapsed": false
      },
      "outputs": [],
      "source": [
        "# Libraries\nimport pandas as pd\n\n# Specific\nfrom pandas_profiling import ProfileReport\nfrom sklearn.datasets import load_iris\nfrom pathlib import Path\n\n# Load data object\nobj = load_iris(as_frame=True)\n\n# Create report\nprofile = ProfileReport(obj.data,\n    title=\"Pandas Profiling Report\",\n    explorative=True)\n\n# Save to file\nPath('./outputs').mkdir(parents=True, exist_ok=True)\nprofile.to_file(\"./outputs/profile01-report.html\")"
      ]
    }
  ],
  "metadata": {
    "kernelspec": {
      "display_name": "Python 3",
      "language": "python",
      "name": "python3"
    },
    "language_info": {
      "codemirror_mode": {
        "name": "ipython",
        "version": 3
      },
      "file_extension": ".py",
      "mimetype": "text/x-python",
      "name": "python",
      "nbconvert_exporter": "python",
      "pygments_lexer": "ipython3",
      "version": "3.7.9"
    }
  },
  "nbformat": 4,
  "nbformat_minor": 0
}