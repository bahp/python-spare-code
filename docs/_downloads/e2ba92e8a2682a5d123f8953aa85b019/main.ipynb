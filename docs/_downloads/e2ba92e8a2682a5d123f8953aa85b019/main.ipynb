{
  "cells": [
    {
      "cell_type": "code",
      "execution_count": null,
      "metadata": {
        "collapsed": false
      },
      "outputs": [],
      "source": [
        "%matplotlib inline"
      ]
    },
    {
      "cell_type": "markdown",
      "metadata": {},
      "source": [
        "\n# Screenshot web page\n"
      ]
    },
    {
      "cell_type": "code",
      "execution_count": null,
      "metadata": {
        "collapsed": false
      },
      "outputs": [],
      "source": [
        "# Geeric\nimport yaml\nimport requests\n\n# Specific\nfrom pathlib import Path\nfrom html2image import Html2Image\nfrom bs4 import BeautifulSoup\n\n# Configuration\nOUTPUT = './outputs'\nYAML_FILE = './portfolio.yaml'\n\nHEADERS = {'User-Agent': 'Mozilla/5.0 (Macintosh; Intel Mac OS X 10_11_5) AppleWebKit/537.36 (KHTML, like Gecko) Chrome/50.0.2661.102 Safari/537.36'}\n\n# Load configuration from file\nwith open(Path(YAML_FILE)) as file:\n    CONFIG = yaml.full_load(file)\n\n# Create folder if it does not exist\np = Path(OUTPUT).mkdir(parents=True, exist_ok=True)\n\n# Create object\nhti = Html2Image(output_path=OUTPUT)\n\n# Loop\nfor info in CONFIG['projects']:\n\n\n    \"\"\"\n    # Get response\n    response = requests.get(info['url'], headers=HEADERS, verify=False)\n\n    # Parse response\n    soup = BeautifulSoup(response.text, 'html.parser')\n\n    # Locate elements\n    #aux = list(soup.find_all(\"div\", class_=\"widget-items\"))\n    aux = soup.select(\"div.widget-items\")\n\n    for i,e in enumerate(aux):\n\n        hti.screenshot(html_str=e,\n                       save_as='%s-%s.png' % (info['name'], i),\n                       size=eval(info['size']))\n    \"\"\"\n\n    hti.screenshot(url=info['url'],\n                   save_as='%s.png'%info['name'],\n                   size=eval(info['size']))"
      ]
    }
  ],
  "metadata": {
    "kernelspec": {
      "display_name": "Python 3",
      "language": "python",
      "name": "python3"
    },
    "language_info": {
      "codemirror_mode": {
        "name": "ipython",
        "version": 3
      },
      "file_extension": ".py",
      "mimetype": "text/x-python",
      "name": "python",
      "nbconvert_exporter": "python",
      "pygments_lexer": "ipython3",
      "version": "3.8.3"
    }
  },
  "nbformat": 4,
  "nbformat_minor": 0
}