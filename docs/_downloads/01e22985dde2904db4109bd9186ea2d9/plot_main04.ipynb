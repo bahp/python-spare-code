{
  "cells": [
    {
      "cell_type": "code",
      "execution_count": null,
      "metadata": {
        "collapsed": false
      },
      "outputs": [],
      "source": [
        "%matplotlib inline"
      ]
    },
    {
      "cell_type": "markdown",
      "metadata": {},
      "source": [
        "\n# 04. Basic example\n"
      ]
    },
    {
      "cell_type": "code",
      "execution_count": null,
      "metadata": {
        "collapsed": false
      },
      "outputs": [],
      "source": [
        "# coding: utf-8\n\n# In[1]:\n\n### using XGBoost model with SHAP\n\nimport numpy as np\nimport pandas as pd\nimport xgboost as xgb\nimport matplotlib.pyplot as plt\n\nimport shap\n\nfrom sklearn.model_selection import train_test_split\nfrom sklearn.datasets import make_regression\n\nshap.initjs()\n\n\n# In[2]:\n\n### make data\nX, y = make_regression(n_samples=100, n_features=5,\n    n_informative=3, random_state=0, noise=4.0,\n    bias=10.0)\nfeature_names = [\"x\" + str(i+1) for i in range(0,5)]\ndata = pd.DataFrame(X, columns=feature_names)\ndata[\"target\"] = y\n\n\n# In[3]:\n\nX_train, X_test, y_train, y_test = \\\n    train_test_split(data[feature_names], ## predictors only\n                     data.target,\n                     test_size=0.30,\n                     random_state=0)\n\n\n# In[4]:\n\n### create and fit model\nestimator = xgb.XGBRegressor()\nestimator.fit(X_train, y_train)\n\n\n# In[5]:\n\n## kernel shap sends data as numpy array which has no column names, so we fix it\ndef xgb_predict(data_asarray):\n    data_asframe =  pd.DataFrame(data_asarray, columns=feature_names)\n    return estimator.predict(data_asframe)\n\n\n# In[6]:\n\n#### Kernel SHAP\nX_summary = shap.kmeans(X_train, 10)\nshap_kernel_explainer = shap.KernelExplainer(xgb_predict, X_summary)\n\n\n# In[7]:\n\n## shapely values with kernel SHAP\nshap_values_single = shap_kernel_explainer.shap_values(X_test.iloc[[5]])\nshap.force_plot(shap_kernel_explainer.expected_value, shap_values_single, X_test.iloc[[5]])\n\n\n\n# In[9]:\n\n#### Tree SHAP\nshap_tree_explainer = shap.TreeExplainer(estimator)\n\n\n# In[10]:\n\n# Deprecated error\n## shapely values with Tree SHAP\n#shap_values_single = shap_tree_explainer.shap_values(X_test.iloc[[5]])\n#shap.force_plot(shap_tree_explainer.expected_value, shap_values_single, X_test.iloc[[5]])\n\nplt.show()"
      ]
    }
  ],
  "metadata": {
    "kernelspec": {
      "display_name": "Python 3",
      "language": "python",
      "name": "python3"
    },
    "language_info": {
      "codemirror_mode": {
        "name": "ipython",
        "version": 3
      },
      "file_extension": ".py",
      "mimetype": "text/x-python",
      "name": "python",
      "nbconvert_exporter": "python",
      "pygments_lexer": "ipython3",
      "version": "3.7.9"
    }
  },
  "nbformat": 4,
  "nbformat_minor": 0
}