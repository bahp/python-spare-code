{
  "cells": [
    {
      "cell_type": "code",
      "execution_count": null,
      "metadata": {
        "collapsed": false
      },
      "outputs": [],
      "source": [
        "%matplotlib inline"
      ]
    },
    {
      "cell_type": "markdown",
      "metadata": {},
      "source": [
        "\n# 06.c Collateral Sensitivity Index (CRI)\n\nThis script creates a sophisticated, multi-panel visualization\nfor pre-computed Collateral Sensitivity Index (CRI) data, designed\nfor in-depth analysis of drug interactions.\n\nThe workflow includes:\n\n    - Data Loading: It ingests pre-processed CRI and sample\n      frequency data from CSV files.\n    - Multi-Heatmap Layout: It generates several ``seaborn`` heatmaps:\n      one for the CRI (using a diverging colormap), another for\n      sample counts (with a log scale), and a composite heatmap\n      combining both metrics in its upper and lower triangles.\n    - Categorical Annotation: It enhances the final plot by adding\n      color-coded labels to the axes based on antibiotic categories,\n      creating a dense, information-rich figure.\n\n<div class=\"alert alert-info\"><h4>Note</h4><p>Since the computation of the Collateral Sensitivity Index is quite\n          computationally expensive, the results are saved into a .csv file\n          so that can be easily loaded and displayed. This script shows a\n          very basic graph of such information.</p></div>\n"
      ]
    },
    {
      "cell_type": "code",
      "execution_count": null,
      "metadata": {
        "collapsed": false
      },
      "outputs": [],
      "source": [
        "# Libraries\nimport numpy as np\nimport pandas as pd\nimport seaborn as sns\nimport matplotlib as mpl\nimport matplotlib.pyplot as plt\n\n#\nfrom pathlib import Path\nfrom itertools import combinations\nfrom matplotlib.colors import LogNorm, Normalize\n\n# See https://matplotlib.org/devdocs/users/explain/customizing.html\nmpl.rcParams['axes.titlesize'] = 8\nmpl.rcParams['axes.labelsize'] = 8\nmpl.rcParams['xtick.labelsize'] = 8\nmpl.rcParams['ytick.labelsize'] = 8\n\ntry:\n    __file__\n    TERMINAL = True\nexcept:\n    TERMINAL = False\n\n\n# --------------------------------\n# Methods\n# --------------------------------\ndef _check_ax_ay_equal(ax, ay):\n    return ax==ay\n\ndef _check_ax_ay_greater(ax, ay):\n    return  ax>ay\n\n# --------------------------------\n# Constants\n# --------------------------------\n# Possible cmaps\n# https://r02b.github.io/seaborn_palettes/\n# Diverging: coolwarm, RdBu_r, vlag\n# Others: bone, gray, pink, twilight\ncmap0 = 'coolwarm'\ncmap1 = sns.light_palette(\"seagreen\", as_cmap=True)\ncmap2 = sns.color_palette(\"light:b\", as_cmap=True)\ncmap3 = sns.color_palette(\"vlag\", as_cmap=True)\ncmap4 = sns.diverging_palette(220, 20, as_cmap=True)\ncmap5 = sns.color_palette(\"ch:s=.25,rot=-.25\", as_cmap=True) # no\ncmap6 = sns.color_palette(\"light:#5A9\", as_cmap=True)\ncmap7 = sns.light_palette(\"#9dedcc\", as_cmap=True)\ncmap8 = sns.color_palette(\"YlGn\", as_cmap=True)\n\n# Figure size\nfigsize = (17, 4)"
      ]
    },
    {
      "cell_type": "markdown",
      "metadata": {},
      "source": [
        "Let's load the data\n\n"
      ]
    },
    {
      "cell_type": "code",
      "execution_count": null,
      "metadata": {
        "collapsed": false
      },
      "outputs": [],
      "source": [
        "# Load data\npath = Path('../../datasets/collateral-sensitivity/20230525-135511')\ndata = pd.read_csv(path / 'contingency.csv')\nabxs = pd.read_csv(path / 'categories.csv')\n\n# Format data\ndata = data.set_index(['specimen', 'o', 'ax', 'ay'])\ndata.RR = data.RR.fillna(0).astype(int)\ndata.RS = data.RS.fillna(0).astype(int)\ndata.SR = data.SR.fillna(0).astype(int)\ndata.SS = data.SS.fillna(0).astype(int)\ndata['samples'] = data.RR + data.RS + data.SR + data.SS\n\n#data['samples'] = data.iloc[:, :4].sum(axis=1)\n\ndef filter_top_pairs(df, n=5):\n    \"\"\"Filter top n (Specimen, Organism) pairs.\"\"\"\n    # Find top\n    top = df.groupby(level=[0, 1]) \\\n        .samples.sum() \\\n        .sort_values(ascending=False) \\\n        .head(n)\n\n    # Filter\n    idx = pd.IndexSlice\n    a = top.index.get_level_values(0).unique()\n    b = top.index.get_level_values(1).unique()\n\n    # Return\n    return df.loc[idx[a, b, :, :]]\n\n# Filter\ndata = filter_top_pairs(data, n=2)\ndata = data[data.samples > 500]"
      ]
    },
    {
      "cell_type": "markdown",
      "metadata": {},
      "source": [
        "Lets see the data\n\n"
      ]
    },
    {
      "cell_type": "code",
      "execution_count": null,
      "metadata": {
        "collapsed": false
      },
      "outputs": [],
      "source": [
        "if TERMINAL:\n    print(\"\\n\")\n    print(\"Number of samples: %s\" % data.samples.sum())\n    print(\"Number of pairs: %s\" % data.shape[0])\n    print(\"Data:\")\n    print(data)\ndata.iloc[:7,:].dropna(axis=1, how='all')"
      ]
    },
    {
      "cell_type": "markdown",
      "metadata": {},
      "source": [
        "Lets load the antimicrobial data and create color mapping variables\n\n"
      ]
    },
    {
      "cell_type": "code",
      "execution_count": null,
      "metadata": {
        "collapsed": false
      },
      "outputs": [],
      "source": [
        "# Create dictionary to map category to color\nlabels = abxs.category\npalette = sns.color_palette('Spectral', labels.nunique())\npalette = sns.cubehelix_palette(labels.nunique(),\n    light=.9, dark=.1, reverse=True, start=1, rot=-2)\nlookup = dict(zip(labels.unique(), palette))\n\n# Create dictionary to map code to category\ncode2cat = dict(zip(abxs.antimicrobial_code, abxs.category))"
      ]
    },
    {
      "cell_type": "markdown",
      "metadata": {},
      "source": [
        "Let's display the information\n\n"
      ]
    },
    {
      "cell_type": "code",
      "execution_count": null,
      "metadata": {
        "collapsed": false
      },
      "outputs": [],
      "source": [
        "# Loop\nfor i, df in data.groupby(level=[0, 1]):\n\n    # Drop level\n    df = df.droplevel(level=[0, 1])\n\n    # Check possible issues.\n    ax = df.index.get_level_values(0)\n    ay = df.index.get_level_values(1)\n    idx1 = _check_ax_ay_equal(ax, ay)\n    idx2 = _check_ax_ay_greater(ax, ay)\n\n    # Show\n    print(\"%25s. ax==ay => %5s | ax>ay => %5s\" % \\\n          (i, idx1.sum(), idx2.sum()))\n\n    # Re-index to have square matrix\n    abxs = set(ax) | set(ay)\n    index = pd.MultiIndex.from_product([abxs, abxs])\n\n    # Reformat MIS\n    mis = df['MIS'] \\\n        .reindex(index, fill_value=np.nan) \\\n        .unstack()\n\n    # Reformat samples\n    freq = df['samples'] \\\n        .reindex(index, fill_value=0) \\\n        .unstack()\n\n    # Combine in square matrix\n    m1 = mis.copy(deep=True).to_numpy()\n    m2 = freq.to_numpy()\n    il1 = np.tril_indices(mis.shape[1])\n    m1[il1] = m2.T[il1]\n    m = pd.DataFrame(m1,\n        index=mis.index, columns=mis.columns)\n\n    # .. note: This is the matrix that is used in previous\n    #          samples to display the CRI and the count using\n    #          the sns.heatmap function\n    # Save\n    #m.to_csv('%s'%str(i))\n\n    # Add frequency\n    top_n = df \\\n        .sort_values('samples', ascending=False) \\\n        .head(20).drop(columns='MIS') \\\n        .dropna(axis=1, how='all')\n\n    # Draw\n    fig, axs = plt.subplots(nrows=1, ncols=4,\n        sharey=False, sharex=False, figsize=figsize,\n        gridspec_kw={'width_ratios': [2, 3, 3, 3.5]})\n\n    sns.heatmap(data=mis * 100, annot=False, linewidth=.5,\n                cmap='coolwarm', vmin=-70, vmax=70, center=0,\n                annot_kws={\"size\": 8}, square=True,\n                ax=axs[2], xticklabels=True, yticklabels=True)\n\n    sns.heatmap(data=freq, annot=False, linewidth=.5,\n                cmap='Blues', norm=LogNorm(),\n                annot_kws={\"size\": 8}, square=True,\n                ax=axs[1], xticklabels=True, yticklabels=True)\n\n    sns.heatmap(top_n,\n                annot=False, linewidth=0.5,\n                cmap='Blues', ax=axs[0], zorder=1,\n                vmin=None, vmax=None, center=None, robust=True,\n                square=False, xticklabels=True, yticklabels=True,\n                cbar_kws={\n                    'use_gridspec': True,\n                    'location': 'right'\n                }\n    )\n\n    # Display\n    masku = np.triu(np.ones_like(m))\n    maskl = np.tril(np.ones_like(m))\n    sns.heatmap(data=m, cmap=cmap8, mask=masku, ax=axs[3],\n                annot=False, linewidth=0.5, norm=LogNorm(),\n                annot_kws={\"size\": 8}, square=True, vmin=0)\n    sns.heatmap(data=m, cmap=cmap4, mask=maskl, ax=axs[3],\n                annot=False, linewidth=0.5, vmin=-0.7, vmax=0.7,\n                center=0, annot_kws={\"size\": 8}, square=True,\n                xticklabels=True, yticklabels=True)\n\n    # Configure axes\n    axs[0].set_title('Contingency')\n    axs[1].set_title('Number of samples')\n    axs[2].set_title('Collateral Sensitivity Index')\n    axs[3].set_title('Samples / Collateral Sensitivity')\n\n    # Add colors to xticklabels\n\n    #abxs = pd.read_csv('../../datasets/susceptibility-nhs/susceptibility-v0.0.1/antimicrobials.csv')##\n\n    #groups = dict(zip(abxs.antimicrobial_code, abxs.category))\n    #cmap = sns.color_palette(\"Spectral\", abxs.category.nunique())\n    #colors = dict(zip(abxs.category, cmap))\n\n    # ------------------------------------------\n    # Add category colors on xtick labels\n    # ------------------------------------------\n    # Create colors\n    colors = m.columns.to_series().map(code2cat).map(lookup)\n\n    # Loop\n    for lbl in axs[3].get_xticklabels():\n        try:\n            x, y = lbl.get_position()\n            c = colors.to_dict().get(lbl.get_text(), 'k')\n            lbl.set_color(c)\n            lbl.set_weight('bold')\n\n            \"\"\"\n            axs[3].annotate('', xy=(2000, 0),\n                #xytext=(0, -15 - axs[3].xaxis.labelpad),\n                xytext=(i.x, y)\n                xycoords=('data', 'axes fraction'),\n                textcoords='offset points',\n                ha='center', va='top',\n                bbox=dict(boxstyle='round', fc='none', ec='red'))\n            \"\"\"\n        except Exception as e:\n            print(lbl.get_text(), e)\n\n    # Configure plot\n    plt.suptitle('%s - %s' % (i[0], i[1]))\n    plt.tight_layout()\n    plt.subplots_adjust(wspace=0.1)\n\n    # Exit loop\n    break\n\n# Show\nplt.show()"
      ]
    }
  ],
  "metadata": {
    "kernelspec": {
      "display_name": "Python 3",
      "language": "python",
      "name": "python3"
    },
    "language_info": {
      "codemirror_mode": {
        "name": "ipython",
        "version": 3
      },
      "file_extension": ".py",
      "mimetype": "text/x-python",
      "name": "python",
      "nbconvert_exporter": "python",
      "pygments_lexer": "ipython3",
      "version": "3.11.0"
    }
  },
  "nbformat": 4,
  "nbformat_minor": 0
}