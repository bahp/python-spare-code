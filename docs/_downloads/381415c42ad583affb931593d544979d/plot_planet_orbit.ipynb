{
  "cells": [
    {
      "cell_type": "code",
      "execution_count": null,
      "metadata": {
        "collapsed": false
      },
      "outputs": [],
      "source": [
        "%matplotlib inline"
      ]
    },
    {
      "cell_type": "markdown",
      "metadata": {},
      "source": [
        "\n# Drawing a planet orbit as a function of time\n\nThe Wikipedia article describes a method step by step how to calculate the\nposition (in heliocentric polar coordinates) as a function of time. The equations\ncontain Newton's gravitational constant and the mass of the Sun. Some of them are\nonly solveable by numeric methods.\n\n  * `R1`_: Stack Overflow Reference.\n  * `R2`_: Wikipedia article.\n\n"
      ]
    },
    {
      "cell_type": "code",
      "execution_count": null,
      "metadata": {
        "collapsed": false
      },
      "outputs": [],
      "source": [
        "# Libraries\nimport matplotlib.pyplot as plt\n\nfrom matplotlib.patches import Ellipse, Circle\n\n\n# Implementing ellipse equations to generate the values needed to plot an ellipse\n# Using only the planet's min (m) and max (M) distances from the sun\n# Equations return '2a' (the ellipses width) and '2b' (the ellipses height)\ndef OrbitLength(M, m):\n    a = (M + m) / 2\n    c = a - m\n    e = c / a\n    b = a * (1 - e ** 2) ** 0.5\n    print(a)\n    print(b)\n    return 2 * a, 2 * b\n\n\n# This function uses the returned 2a and 2b for the ellipse function's variables\n# Also generating the orbit offset (putting the sun at a focal point) using M and m\ndef PlanetOrbit(Name, M, m):\n    w, h = OrbitLength(M, m)\n    Xoffset = ((M + m) / 2) - m\n    Name = Ellipse(xy=((Xoffset), 0), width=w, height=h, angle=0, linewidth=1, fill=False)\n    ax.add_artist(Name)\n\n\nfrom math import *\n\nEPSILON = 1e-12\n\n\ndef solve_bisection(fn, xmin, xmax, epsilon=EPSILON):\n    while True:\n        xmid = (xmin + xmax) * 0.5\n        if (xmax - xmin < epsilon):\n            return xmid\n        fn_mid = fn(xmid)\n        fn_min = fn(xmin)\n        if fn_min * fn_mid < 0:\n            xmax = xmid\n        else:\n            xmin = xmid\n\n\n'''\nFound something similar at this gamedev question:\nhttps://gamedev.stackexchange.com/questions/11116/kepler-orbit-get-position-on-the-orbit-over-time?newreg=e895c2a71651407d8e18915c38024d50\n\nEquations taken from:\nhttps://en.wikipedia.org/wiki/Kepler%27s_laws_of_planetary_motion#Position_as_a_function_of_time\n'''\n\n\ndef SolveOrbit(rmax, rmin, t):\n    # calculation precision\n    epsilon = EPSILON\n    # mass of the sun [kg]\n    Msun = 1.9891e30\n    # Newton's gravitational constant [N*m**2/kg**2]\n    G = 6.6740831e-11\n    # standard gravitational parameter\n    mu = G * Msun\n    # eccentricity\n    eps = (rmax - rmin) / (rmax + rmin)\n    # semi-latus rectum\n    p = rmin * (1 + eps)\n    # semi/half major axis\n    a = p / (1 - eps ** 2)\n    # period\n    P = sqrt(a ** 3 / mu)\n    # mean anomaly\n    M = (t / P) % (2 * pi)\n\n    # eccentric anomaly\n    def fn_E(E):\n        return M - (E - eps * sin(E))\n\n    E = solve_bisection(fn_E, 0, 2 * pi)\n    # true anomaly\n    # TODO: what if E == pi?\n    theta = 2 * atan(sqrt((((1 + eps) * tan(E / 2) ** 2) / (1 - eps))))\n    # if we are at the second half of the orbit\n    if (E > pi):\n        theta = 2 * pi - theta\n    # heliocentric distance\n    r = a * (1 - eps * cos(E))\n    return theta, r\n\n\ndef DrawPlanet(name, rmax, rmin, t):\n    SCALE = 1e9\n    theta, r = SolveOrbit(rmax * SCALE, rmin * SCALE, t)\n    x = -r * cos(theta) / SCALE\n    y = r * sin(theta) / SCALE\n    planet = Circle((x, y), 8)\n    ax.add_artist(planet)\n\n\n# -------------------------------------\n# Display\n# -------------------------------------\n# Create figure. Set axes aspect to equal as orbits are\n# almost circular; hence square is needed\nax = plt.figure(0).add_subplot(111, aspect='equal')\n\n# Axis configuration\nplt.title('Inner Planetary Orbits at[user input date]')\nplt.ylabel('x10^6 km')\nplt.xlabel('x10^6 km')\nax.set_xlim(-300, 300)\nax.set_ylim(-300, 300)\nplt.grid()\n\n# Creating the point to represent the sun at the origin (not to scale),\nax.scatter(0, 0, s=200, color='y')\nplt.annotate('Sun', xy=(0, -30))\n\n# These are the arguments taken from hyperphysics.phy-astr.gsu.edu/hbase/solar/soldata2.html\n# They are the planet names, max and min distances, and their longitudinal angle\n# Also included is Halley's Comet, used to show different scale  and eccentricity\nPlanetOrbit('Mercury', 69.8, 46.0)\nPlanetOrbit('Venus', 108.9, 107.5)\nPlanetOrbit('Earth', 152.1, 147.1)\nPlanetOrbit('Mars', 249.1, 206.7)\nPlanetOrbit(\"Halley's Comet\", 45900, 88)\nfor i in range(0, 52):\n    DrawPlanet('Earth', 152.1, 147.1, i / 52 * 365.25 * 60 * 60 * 24)\nfor i in range(-2, 3):\n    DrawPlanet(\"Halley's Comet\", 45900, 88, 7 * i * 60 * 60 * 24)\nprint(60 * 60 * 24 * 365)\n\nplt.show()"
      ]
    }
  ],
  "metadata": {
    "kernelspec": {
      "display_name": "Python 3",
      "language": "python",
      "name": "python3"
    },
    "language_info": {
      "codemirror_mode": {
        "name": "ipython",
        "version": 3
      },
      "file_extension": ".py",
      "mimetype": "text/x-python",
      "name": "python",
      "nbconvert_exporter": "python",
      "pygments_lexer": "ipython3",
      "version": "3.7.9"
    }
  },
  "nbformat": 4,
  "nbformat_minor": 0
}