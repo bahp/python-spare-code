{
  "cells": [
    {
      "cell_type": "code",
      "execution_count": null,
      "metadata": {
        "collapsed": false
      },
      "outputs": [],
      "source": [
        "%matplotlib inline"
      ]
    },
    {
      "cell_type": "markdown",
      "metadata": {},
      "source": [
        "\n# Jsonpickle - Main 01\n\nExample\n"
      ]
    },
    {
      "cell_type": "code",
      "execution_count": null,
      "metadata": {
        "collapsed": false
      },
      "outputs": [],
      "source": [
        "# Libraries\nimport json\nimport numpy as np\n\n# Jsonpickle\nimport jsonpickle\nimport jsonpickle.ext.numpy as jsonpickle_numpy\n\n# Configure jsonpickle\njsonpickle.set_preferred_backend('json')\njsonpickle_numpy.register_handlers()\n\n\n# -------------------\n# Main\n# -------------------\n\"\"\"\nIn order to test whether the jsonpickle encode method saves\nthe estimators so they can be retrieved no matter the numpy\nversion. Note that previously using pickle old estimators\ncould not be loaded because of numpy issues.\n\nAt the moment I have tested using the system (no virtual\nenvironment) using the following...\n\n    $ py -m pip install numpy==1.18\n    $ py main.py\n    $ py -m pip install numpy==1.19.1\n    $ py main.py\n\nAnd it works normally.\n\n.. todo: Test it through a venvpy28-jsonpickle.\n\"\"\"\n\n# Path\npath =  './estimator_00.json'\n\n# Read\nwith open(path) as json_file:\n    d = json.load(json_file)\n\n# Show information\n#print(d['iteration_00'])\n\n# Show information\nprint(\"\\nUsing numpy... <%s>\" % np.version.version)\n\n# Load\nestimator = jsonpickle.decode(d['iteration_00'])\n\n# Show\nprint(\"\\nEstimator loaded. \\n   %s\" % estimator)\nprint(\"\\nPredictions completed. \\n   %s\" % \\\n      estimator.predict_proba(np.arange(6).reshape(1,-1)))"
      ]
    }
  ],
  "metadata": {
    "kernelspec": {
      "display_name": "Python 3",
      "language": "python",
      "name": "python3"
    },
    "language_info": {
      "codemirror_mode": {
        "name": "ipython",
        "version": 3
      },
      "file_extension": ".py",
      "mimetype": "text/x-python",
      "name": "python",
      "nbconvert_exporter": "python",
      "pygments_lexer": "ipython3",
      "version": "3.8.3"
    }
  },
  "nbformat": 4,
  "nbformat_minor": 0
}