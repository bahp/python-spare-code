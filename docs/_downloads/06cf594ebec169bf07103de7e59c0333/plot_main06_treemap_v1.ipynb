{
  "cells": [
    {
      "cell_type": "code",
      "execution_count": null,
      "metadata": {
        "collapsed": false
      },
      "outputs": [],
      "source": [
        "%matplotlib inline"
      ]
    },
    {
      "cell_type": "markdown",
      "metadata": {},
      "source": [
        "\n# Plot Treemap (v1)\n\n<div class=\"alert alert-info\"><h4>Note</h4><p>https://jakevdp.github.io/PythonDataScienceHandbook/04.05-histograms-and-binnings.html</p></div>\n"
      ]
    },
    {
      "cell_type": "markdown",
      "metadata": {},
      "source": [
        "Lets load the dataset.\n\n"
      ]
    },
    {
      "cell_type": "code",
      "execution_count": null,
      "metadata": {
        "collapsed": false
      },
      "outputs": [],
      "source": [
        "# Libraries\nimport plotly.graph_objects as go\nimport pandas as pd\n\ntry:\n    __file__\n    TERMINAL = True\nexcept:\n    TERMINAL = False\n\n\n# Define URL\nURL = 'https://raw.githubusercontent.com/plotly/datasets/96c0bd/sunburst-coffee-flavors-complete.csv'\n\n# Load dataframe\ndf = pd.read_csv(URL)\n\n# Show\nif TERMINAL:\n    print(\"\\nDF:\")\n    print(df)\ndf"
      ]
    },
    {
      "cell_type": "code",
      "execution_count": null,
      "metadata": {
        "collapsed": false
      },
      "outputs": [],
      "source": [
        "# Display\nfig = go.Figure(go.Treemap(\n    ids=df.ids,\n    labels=df.labels,\n    parents=df.parents,\n    pathbar_textfont_size=15,\n    #maxdepth=3,\n    root_color=\"lightgrey\"\n))\n\n# Update\nfig.update_layout(\n    uniformtext=dict(minsize=10, mode='hide'),\n    margin=dict(t=50, l=25, r=25, b=25)\n)\n\n# Show\nif TERMINAL:\n    fig.show()\nfig"
      ]
    }
  ],
  "metadata": {
    "kernelspec": {
      "display_name": "Python 3",
      "language": "python",
      "name": "python3"
    },
    "language_info": {
      "codemirror_mode": {
        "name": "ipython",
        "version": 3
      },
      "file_extension": ".py",
      "mimetype": "text/x-python",
      "name": "python",
      "nbconvert_exporter": "python",
      "pygments_lexer": "ipython3",
      "version": "3.8.3"
    }
  },
  "nbformat": 4,
  "nbformat_minor": 0
}