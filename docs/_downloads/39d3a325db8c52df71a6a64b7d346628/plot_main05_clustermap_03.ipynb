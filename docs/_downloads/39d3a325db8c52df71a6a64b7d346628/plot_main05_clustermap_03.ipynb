{
  "cells": [
    {
      "cell_type": "code",
      "execution_count": null,
      "metadata": {
        "collapsed": false
      },
      "outputs": [],
      "source": [
        "%matplotlib inline"
      ]
    },
    {
      "cell_type": "markdown",
      "metadata": {},
      "source": [
        "\n# 05. ``sns.clustermap`` basic sample\n\nPlot a matrix dataset as a hierarchically-clustered heatmap.\n\n<div class=\"alert alert-info\"><h4>Note</h4><p>The hierarchical clustering has been deactivated.</p></div>\n"
      ]
    },
    {
      "cell_type": "code",
      "execution_count": null,
      "metadata": {
        "collapsed": false
      },
      "outputs": [],
      "source": [
        "\"\"\"\n# Display 0\niris = sns.load_dataset(\"iris\")\nspecies = iris.pop(\"species\")\nlut = dict(zip(species.unique(), \"rbg\"))\nrow_colors = species.map(lut)\n\"\"\"\n\n# Libraries\nimport numpy as np\nimport pandas as pd\nimport seaborn as sns\nimport matplotlib.pyplot as plt\n\n# Constants\nN = 20\nC = sns.color_palette(\"Spectral\", n_colors=5, as_cmap=False)\n\n# Create data\ndata = np.random.randint(low=0, high=10, size=(N, N))\ncolors = [np.random.choice(['r', 'g', 'b']) for i in range(N)]\nseries = pd.Series({'A%s'%i:'Group %s'%c for i,c in enumerate(colors)})\n\n# Create DataFrame\ndf = pd.DataFrame(data,\n    index=['A%s'%i for i in range(N)],\n    columns=['A%s'%i for i in range(N)]\n)\n\n# Show\nprint(df)\nprint(colors)\nprint(series)\n\n# Display 1\n# ---------\n# Create colors dictionary\ncol_colors = dict(zip(df.columns, colors))\n\n# Show\ng = sns.clustermap(df,\n    figsize=(5,5),\n    row_cluster=False, col_cluster=False,\n    #row_colors=col_colors,\n    col_colors=pd.Series(col_colors),\n    linewidths=0,\n    xticklabels=False, yticklabels=False,\n    center=0, cmap=\"vlag\"\n)\n\n# Display 2\n# ---------\n# Create colors dictionary\n\ncol_colors = series.map({\n    'Group g': 'g',\n    'Group b': 'b',\n    'Group r': 'r'\n})\n\n# Show\ng = sns.clustermap(df,\n    figsize=(5,5),\n    row_cluster=False, col_cluster=False,\n    #row_colors=col_colors,\n    col_colors=pd.Series(col_colors),\n    linewidths=0,\n    xticklabels=False, yticklabels=False,\n    center=0, cmap=\"vlag\"\n)\n\n# Show\nplt.show()"
      ]
    }
  ],
  "metadata": {
    "kernelspec": {
      "display_name": "Python 3",
      "language": "python",
      "name": "python3"
    },
    "language_info": {
      "codemirror_mode": {
        "name": "ipython",
        "version": 3
      },
      "file_extension": ".py",
      "mimetype": "text/x-python",
      "name": "python",
      "nbconvert_exporter": "python",
      "pygments_lexer": "ipython3",
      "version": "3.7.9"
    }
  },
  "nbformat": 4,
  "nbformat_minor": 0
}