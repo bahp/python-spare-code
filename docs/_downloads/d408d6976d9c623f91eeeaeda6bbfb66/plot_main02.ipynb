{
  "cells": [
    {
      "cell_type": "code",
      "execution_count": null,
      "metadata": {
        "collapsed": false
      },
      "outputs": [],
      "source": [
        "%matplotlib inline"
      ]
    },
    {
      "cell_type": "markdown",
      "metadata": {},
      "source": [
        "\n# 02. Summary statistic for Dengue data\n\nThis script demonstrates a fundamental application of the tableone\nPython library for creating a clinical summary table. Using a dengue\npatient dataset, it showcases the process of summarizing patient\ncharacteristics. The script loads the data, selects key demographic\nand clinical variables (like age, gender, and platelet count), and\ndefines a grouping variable to compare these characteristics across\ndifferent patient subgroups. Finally, it generates and displays the\nformatted summary table.\n"
      ]
    },
    {
      "cell_type": "code",
      "execution_count": null,
      "metadata": {
        "collapsed": false
      },
      "outputs": [],
      "source": [
        "# Libraries\nimport pandas as pd\n\n# Specific\nfrom pathlib import Path\nfrom tableone import TableOne\n\n\n# ------------------------\n# Load data\n# ------------------------\n# Load data\npath = Path('../../datasets/dengue-htd-dataset')\ndata = pd.read_csv(path / 'dengue.csv')\n\nprint(data)\nprint(data.columns)\n# ------------------------\n# Create tableone\n# ------------------------\n# Columns\ncolumns = ['age', 'gender', 'haematocrit_percent', 'plt']\n\n# Categorical\ncategorical = ['gender']\n\n# Groupby\ngroupby = 'cvs_hos_split'\n\n#\nmytable = TableOne(data, columns=columns,\n    categorical=categorical, groupby=groupby)"
      ]
    },
    {
      "cell_type": "markdown",
      "metadata": {},
      "source": [
        "Lets see the table\n\n\n"
      ]
    },
    {
      "cell_type": "code",
      "execution_count": null,
      "metadata": {
        "collapsed": false
      },
      "outputs": [],
      "source": [
        "mytable.tableone"
      ]
    },
    {
      "cell_type": "markdown",
      "metadata": {},
      "source": [
        "Lets show the raw HTML\n\nHtml\n\n"
      ]
    },
    {
      "cell_type": "code",
      "execution_count": null,
      "metadata": {
        "collapsed": false
      },
      "outputs": [],
      "source": [
        "html = mytable.to_html()\n\n# show\nprint(html)"
      ]
    }
  ],
  "metadata": {
    "kernelspec": {
      "display_name": "Python 3",
      "language": "python",
      "name": "python3"
    },
    "language_info": {
      "codemirror_mode": {
        "name": "ipython",
        "version": 3
      },
      "file_extension": ".py",
      "mimetype": "text/x-python",
      "name": "python",
      "nbconvert_exporter": "python",
      "pygments_lexer": "ipython3",
      "version": "3.11.0"
    }
  },
  "nbformat": 4,
  "nbformat_minor": 0
}