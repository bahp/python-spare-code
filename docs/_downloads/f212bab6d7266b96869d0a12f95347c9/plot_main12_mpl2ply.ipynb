{
  "cells": [
    {
      "cell_type": "code",
      "execution_count": null,
      "metadata": {
        "collapsed": false
      },
      "outputs": [],
      "source": [
        "%matplotlib inline"
      ]
    },
    {
      "cell_type": "markdown",
      "metadata": {},
      "source": [
        "\n# 12a. Matplotlib to Plotly (errorbar)\n\nThis example converts a matplotlib figure to Plotly.\n\n<div class=\"alert alert-danger\"><h4>Warning</h4><p>A known bug in Plotly (see GitHub issue) causes the mpl_to_plotly() function\n             to fail because it references an outdated function from Matplotlib.\n             The current fix is to downgrade to an older version of Matplotlib or to\n             recreate your figure in Plotly manually.\n\n             [ISSUE]: https://github.com/plotly/plotly.py/issues/3624#issuecomment-1161805210\n             In the latest commit of plotly packages/python/plotly/plotly/matplotlylib/mpltools.py\n             line 368, it still calls is_frame_like() function.</p></div>\n"
      ]
    },
    {
      "cell_type": "code",
      "execution_count": null,
      "metadata": {
        "collapsed": false
      },
      "outputs": [],
      "source": [
        "# Libraries\nimport numpy as np\nimport matplotlib.pyplot as plt\n\ntry:\n    __file__\n    TERMINAL = True\nexcept:\n    TERMINAL = False\n\n\n# Create data\nx = np.arange(10)\ny = 2.5 * np.sin(x / 20 * np.pi)\nyerr = np.linspace(0.05, 0.2, 10)\n\n# Figure\nfig = plt.figure()\nplt.errorbar(x, y + 3, yerr=yerr, label='both limits (default)')\nplt.errorbar(x, y + 2, yerr=yerr, uplims=True, label='uplims=True')\nplt.errorbar(x, y + 1, yerr=yerr, uplims=True, lolims=True,\n             label='uplims=True, lolims=True')\n\n# Add error\nupperlimits = [True, False] * 5\nlowerlimits = [False, True] * 5\nplt.errorbar(x, y, yerr=yerr, uplims=upperlimits, lolims=lowerlimits,\n             label='subsets of uplims and lolims')\n\n# add legent\nplt.legend(loc='lower right')\n\n\n\"\"\"\n.. note:: This section has been commented as it does not work\n          with recent versions of matplotlib. Downgrade an\n          remove quotes to run it.\n          \n# Convert to plotly\nimport plotly.tools as tls\n\n# Convert to plotly\nfig = tls.mpl_to_plotly(fig)\n\nprint(fig.data)\n\n# Show\n#fig.show()\nfig\n\"\"\""
      ]
    }
  ],
  "metadata": {
    "kernelspec": {
      "display_name": "Python 3",
      "language": "python",
      "name": "python3"
    },
    "language_info": {
      "codemirror_mode": {
        "name": "ipython",
        "version": 3
      },
      "file_extension": ".py",
      "mimetype": "text/x-python",
      "name": "python",
      "nbconvert_exporter": "python",
      "pygments_lexer": "ipython3",
      "version": "3.11.0"
    }
  },
  "nbformat": 4,
  "nbformat_minor": 0
}