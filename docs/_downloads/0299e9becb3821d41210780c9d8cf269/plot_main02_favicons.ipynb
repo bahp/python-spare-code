{
  "cells": [
    {
      "cell_type": "code",
      "execution_count": null,
      "metadata": {
        "collapsed": false
      },
      "outputs": [],
      "source": [
        "%matplotlib inline"
      ]
    },
    {
      "cell_type": "markdown",
      "metadata": {},
      "source": [
        "\n# 02. Visualizing Python Library Favicons\n\nThis script identifies installed Python packages, fetches their homepage\nURLs, and downloads their favicons. It then uses a custom HTML\nrepresentation to display these icons in a grid.\n\n<div class=\"alert alert-info\"><h4>Note</h4><p>The command ``cut`` is not available in windows! Thus, the\n          code will not run in te standard Windows Command Prompt. However,\n          it might be available on Cygwin o Git for windows.</p></div>\n\n<div class=\"alert alert-info\"><h4>Note</h4><p>The visual output of this script is generated via a special\n          _repr_html_() method. This method is automatically detected\n          and rendered in rich display environments (Jupyter Notebook/Lab &\n          IPython). If you run this as a regular .py file, no images will\n          appear in your terminal. To see the output, you must manually get\n           the HTML content and save it to a file:</p></div>\n"
      ]
    },
    {
      "cell_type": "code",
      "execution_count": null,
      "metadata": {
        "collapsed": false
      },
      "outputs": [],
      "source": [
        "# Libraries\nimport favicon\nimport subprocess as sp\n\n\nclass IconHTML:\n    \"\"\"Class to display html in sphinx-gallery.\"\"\"\n    TMP0 = '<img src={url} style=\"{s}\", width={w} height={h}>'\n    TMP1 = '<div>'+TMP0+' <span>{name}</span></div>'\n\n    \"\"\"Class to display icons on sphinx-gallery.\"\"\"\n    def __init__(self, d, width=25, height=25, verbose=0):\n        self.d = d\n        self.width = width\n        self.height = height\n        self.style = \"display: inline; vertical-align:middle;\"\n        self.verbose = verbose\n\n    def _repr_html_short_(self):\n        return ' '.join([self.TMP0.format(url=v,\n            w=self.width, h=self.height, s=self.style)\n                for k,v in self.d.items()])\n\n    def _repr_html_long_(self):\n        return ' '.join([self.TMP1.format(url=v,\n            w=self.width, h=self.height, s=self.style, name=k.lower())\n                for k, v in self.d.items()])\n\n    def _repr_html_(self):\n        if self.verbose == 0:\n            return self._repr_html_short_()\n        return self._repr_html_long_()\n\n\n# List of libraries for which the icon (if found)\n# should be included in the output.\nINCLUDE = [\n    'pandas',\n    'Flask',\n    'imblearn',\n    'numba',\n    'numpy',\n    'plotly',\n    'PyYAML',\n    'scipy',\n    'seaborn',\n    'statsmodels',\n    'alabaster',\n    'attrs',\n    'Babel',\n    'bokeh',\n    'joblib',\n    'nltk',\n    'notebook',\n    'torch',\n    'matplotlib',\n    'pillow',\n    'pygments',\n    'pytest',\n    'tqdm',\n    'urllib3',\n    'future'\n]\n\ndef list_packages_command():\n    \"\"\"List packages using linux <cut>.\"\"\"\n    # Define command to list packages and urls\n    COMMAND = \"pip list --format=freeze | cut -d= -f1 | xargs pip show | \"\n    COMMAND+= \"awk '/^Name/{printf $2} /^Home-page/{print \\\": \\\"$2}'\"\n    # List of package name and url.\n    output = sp.getoutput(COMMAND)\n    # Return\n    return output.split(\"\\n\")[2:]\n\n\ndef list_packages_importlib():\n    \"\"\"List packages using importlib.\"\"\"\n    # --- ADD THIS NEW BLOCK ---\n    import importlib.metadata\n\n    lines = []\n    # Iterate through all installed packages\n    for dist in importlib.metadata.distributions():\n        # Get package metadata\n        meta = dist.metadata\n        name = meta['Name']\n        url = meta.get('Home-page', '')  # Use .get() for safety\n\n        # Check if the package is in our include list and has a valid URL\n        if name in INCLUDE and url.startswith('https'):\n            lines.append(f\"{name}: {url}\")\n\n    return lines\n\n\n\nimport platform\n\nsystem = platform.system()\n\nif system == 'Windows':\n    print(\"This is a Windows system.\")\nelif system == 'Darwin':\n    print(\"This is a macOS system.\")\nelif system == 'Linux':\n    print(\"This is a Linux system.\")\nelse:\n    print(f\"This is a different system: {system}\")\n\n# Get packages\npackages = list_packages_importlib()\n\n# Show\nprint(\"\\nCommand output:\")\nprint(packages)\n\n# Create dictionary\nd = {}\nfor line in packages:\n    # Find name and url\n    name, url = line.split(': ')\n    if not url.startswith('https:'):\n        continue\n    if name not in INCLUDE:\n        continue\n    # Store name and url\n    icons = favicon.get(url)\n    for i, ico in enumerate(icons):\n        d['%s-%s' % (name, i)] = ico.url"
      ]
    },
    {
      "cell_type": "code",
      "execution_count": null,
      "metadata": {
        "collapsed": false
      },
      "outputs": [],
      "source": [
        "aux = IconHTML(d)\naux"
      ]
    },
    {
      "cell_type": "code",
      "execution_count": null,
      "metadata": {
        "collapsed": false
      },
      "outputs": [],
      "source": [
        "aux = IconHTML(d, verbose=1)\naux"
      ]
    },
    {
      "cell_type": "code",
      "execution_count": null,
      "metadata": {
        "collapsed": false
      },
      "outputs": [],
      "source": [
        "# Create dictionary\nd = {}\nfor line in packages:\n    # Find name and url\n    name, url = line.split(': ')\n    if not url.startswith('https:'):\n        continue\n    # Store name and url\n    icons = favicon.get(url)\n    for i, ico in enumerate(icons):\n        d['%s-%s' % (name, i)] = ico.url"
      ]
    },
    {
      "cell_type": "code",
      "execution_count": null,
      "metadata": {
        "collapsed": false
      },
      "outputs": [],
      "source": [
        "aux = IconHTML(d, verbose=1)\naux"
      ]
    },
    {
      "cell_type": "markdown",
      "metadata": {},
      "source": [
        "Write the string to a file\n\n"
      ]
    },
    {
      "cell_type": "code",
      "execution_count": null,
      "metadata": {
        "collapsed": false
      },
      "outputs": [],
      "source": [
        "#\nfrom pathlib import Path\noutput_dir = Path('./objects/main02')\noutput_dir.mkdir(parents=True, exist_ok=True)\n\nwith open(\"%s/icons.html\" % output_dir, \"w\") as f:\n    f.write(aux._repr_html_())"
      ]
    }
  ],
  "metadata": {
    "kernelspec": {
      "display_name": "Python 3",
      "language": "python",
      "name": "python3"
    },
    "language_info": {
      "codemirror_mode": {
        "name": "ipython",
        "version": 3
      },
      "file_extension": ".py",
      "mimetype": "text/x-python",
      "name": "python",
      "nbconvert_exporter": "python",
      "pygments_lexer": "ipython3",
      "version": "3.11.0"
    }
  },
  "nbformat": 4,
  "nbformat_minor": 0
}