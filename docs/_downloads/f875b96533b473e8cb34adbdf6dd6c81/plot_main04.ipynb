{
  "cells": [
    {
      "cell_type": "code",
      "execution_count": null,
      "metadata": {
        "collapsed": false
      },
      "outputs": [],
      "source": [
        "%matplotlib inline"
      ]
    },
    {
      "cell_type": "markdown",
      "metadata": {},
      "source": [
        "\n# UKVI Travel History Visualizer (plotly)\n\nImproving the visualisation of previous example using plotly.\n"
      ]
    },
    {
      "cell_type": "code",
      "execution_count": null,
      "metadata": {
        "collapsed": false
      },
      "outputs": [],
      "source": [
        "import pandas as pd\nimport plotly.express as px\nfrom pathlib import Path\n\ntry:\n    __file__\n    TERMINAL = True\nexcept:\n    TERMINAL = False\n\ndef display_flights_plotly_final(df):\n    \"\"\"\n    Generates an interactive flight schedule plot ensuring each trip is on its\n    own unique row. Includes custom text labels, month lines, and alternating\n    background shading.\n    \"\"\"\n    # --- 1. Data Pre-processing ---\n    df = df.copy()\n\n    # Force columns to datetime, turning any errors into NaT (Not a Time)\n    df['Outbound Date'] = pd.to_datetime(df['Outbound Date'], errors='coerce')\n    df['Inbound Date'] = pd.to_datetime(df['Inbound Date'], errors='coerce')\n\n    # Strip the time component to prevent rendering glitches\n    df['Outbound Date'] = df['Outbound Date'].dt.normalize()\n    df['Inbound Date'] = df['Inbound Date'].dt.normalize()\n\n    # Compute extra information\n    df['Days Difference'] = (df['Inbound Date'] - df['Outbound Date']).dt.days\n    df['Departure Airport'] = df['Outbound Ports'].apply(lambda x: x.split('-')[0])\n\n    # Sort by date and reset the index. This index (0, 1, 2...) will be the\n    # unique y-axis position for each trip, guaranteeing one row per trip.\n    df = df.sort_values('Outbound Date', ascending=True).reset_index(drop=True)\n\n    # Hack: create y_axes_str to control order.\n    # Calculate the required width (e.g., 2 for up to 99 items, 3 for up to 999)\n    pad_width = len(str(len(df)))\n    df['y_axis_str'] = df.index.astype(str).str.zfill(pad_width)\n\n    # Create the label for annotations and hovering\n    df['Voyage Label'] = df.apply(\n        lambda row: f\"{row['Outbound Ports']} ({row['Outbound Date'].strftime('%d %b')}) \u2192 \"\n                    f\"{row['Inbound Ports']} ({row['Inbound Date'].strftime('%d %b')}) | \"\n                    f\"{row['Days Difference']} Days\",\n        axis=1\n    )\n\n    # Show DataFrame to plot\n    print(\"\\nRoundtrips:\")\n    print(df)\n\n    # --- 2. Generate Background Shapes ---\n    shapes = []\n    min_date = df['Outbound Date'].min().normalize()\n    max_date = df['Inbound Date'].max().normalize() + pd.DateOffset(months=1)\n    month_starts = pd.date_range(start=min_date, end=max_date, freq='MS')\n    for i, month_start in enumerate(month_starts):\n        shapes.append({\n            'type': 'line', 'xref': 'x', 'yref': 'paper',\n            'x0': month_start, 'y0': 0, 'x1': month_start, 'y1': 1,\n            'line': {'color': 'Gainsboro', 'width': 1, 'dash': 'dot'},\n            'layer': 'below'\n        })\n        if i % 2 == 0:\n            shapes.append({\n                'type': 'rect', 'xref': 'x', 'yref': 'paper',\n                'x0': month_start, 'y0': 0,\n                'x1': month_start + pd.DateOffset(months=1), 'y1': 1,\n                'fillcolor': 'LightGray', 'opacity': 0.1,\n                'line': {'width': 0},\n                'layer': 'below'\n            })\n\n    # --- 3. Generate Annotations for Text Labels ---\n    annotations = []\n    for index, row in df.iterrows():\n        annotations.append(\n            dict(\n                x=row['Inbound Date'],\n                y=row['y_axis_str'], #index,  # Use the unique numerical index for the y-position\n                text=f\"  {row['Voyage Label']}\",\n                showarrow=False,\n                xanchor='left',\n                yanchor='middle',\n                align='left'\n            )\n        )\n\n    # --- 4. Core Plotting ---\n    fig = px.timeline(\n        df,\n        x_start=\"Outbound Date\",\n        x_end=\"Inbound Date\",\n        y='y_axis_str', #df.index,  # KEY FIX: Use the unique index for the y-axis\n        color=\"Departure Airport\",\n        hover_name=\"Voyage Label\",\n        hover_data={'Days Difference': True},\n        title=f\"Voyage Durations (Total Abroad: {df['Days Difference'].sum()} days)\",\n        opacity=1.0,\n        category_orders={\"y_axis_str\": df.y_axis_str.tolist()[::-1]},\n        color_discrete_sequence=px.colors.qualitative.Pastel\n    )\n\n    # --- 5. Final Layout Updates ---\n    fig.update_layout(\n        plot_bgcolor='white',\n        xaxis_title=\"Date\",\n        legend_title=\"Departure Airport\",\n        shapes=shapes,\n        annotations=annotations,\n        legend=dict(\n            orientation=\"h\",\n            yanchor=\"bottom\",\n            y=1.02,\n            xanchor=\"right\",\n            x=1\n        )\n    )\n\n    # Hide the meaningless y-axis numbers and title\n    fig.update_yaxes(\n        autorange=\"reversed\",\n        showticklabels=False,\n        title_text=\"\"\n    )\n\n    if not TERMINAL:\n        fig.update_yaxes(automargin=False)\n        fig.update_layout(\n            title=dict(\n                x=0.5,  # Center the title\n                y=0.95,  # Move it up slightly\n                xanchor='center',\n                yanchor='top'\n            ),\n            margin=dict(l=0, r=20, t=110, b=20)\n        )\n        # We could adjust x-axis to get use more space.\n\n    fig.show()\n\n\n\n    # Show\n    from plotly.io import show\n    show(fig)\n\n\n# -------------------------------------------------------\n# Main\n# -------------------------------------------------------\n# Libraries\nfrom pathlib import Path\n\n# Configuration\nid = '1085721'\nout_path = Path(f'./outputs/{id}')\n\ntry:\n    flight_df = pd.read_json(out_path / 'roundtrips.json')\n    flight_df['Outbound Date'] = pd.to_datetime(flight_df['Outbound Date'], unit='ms')\n    flight_df['Inbound Date'] = pd.to_datetime(flight_df['Inbound Date'], unit='ms')\nexcept FileNotFoundError:\n    print(f\"Error: File 'roundtrips.json' not found. Displaying sample data.\")\n    sample_data = [\n        {\"Outbound Date\": \"2024-01-15\",\n         \"Inbound Date\": \"2024-02-23\",\n         \"Outbound Ports\": \"LHR-JFK\",\n         \"Inbound Ports\": \"JFK-LHR\",\n         \"Voyage Code\": \"VS003\"},\n        {\"Outbound Date\": \"2024-03-05\",\n         \"Inbound Date\": \"2024-03-20\",\n         \"Outbound Ports\": \"LGW-BCN\",\n         \"Inbound Ports\": \"BCN-LGW\",\n         \"Voyage Code\": \"BA2712\"},\n        {\"Outbound Date\": \"2024-04-20\",\n         \"Inbound Date\": \"2024-05-15\",\n         \"Outbound Ports\": \"STN-FCO\",\n         \"Inbound Ports\": \"FCO-STN\",\n         \"Voyage Code\": \"FR123\"},\n        {\"Outbound Date\": \"2024-06-10\",\n         \"Inbound Date\": \"2024-06-25\",\n         \"Outbound Ports\": \"LHR-BOS\",\n         \"Inbound Ports\": \"BOS-LHR\",\n         \"Voyage Code\": \"VS011\"}\n    ]\n    flight_df = pd.DataFrame(sample_data)\n    flight_df['Outbound Date'] = pd.to_datetime(flight_df['Outbound Date'])\n    flight_df['Inbound Date'] = pd.to_datetime(flight_df['Inbound Date'])\n\ndisplay_flights_plotly_final(flight_df)"
      ]
    }
  ],
  "metadata": {
    "kernelspec": {
      "display_name": "Python 3",
      "language": "python",
      "name": "python3"
    },
    "language_info": {
      "codemirror_mode": {
        "name": "ipython",
        "version": 3
      },
      "file_extension": ".py",
      "mimetype": "text/x-python",
      "name": "python",
      "nbconvert_exporter": "python",
      "pygments_lexer": "ipython3",
      "version": "3.11.0"
    }
  },
  "nbformat": 4,
  "nbformat_minor": 0
}