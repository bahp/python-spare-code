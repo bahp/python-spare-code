{
  "cells": [
    {
      "cell_type": "code",
      "execution_count": null,
      "metadata": {
        "collapsed": false
      },
      "outputs": [],
      "source": [
        "%matplotlib inline"
      ]
    },
    {
      "cell_type": "markdown",
      "metadata": {},
      "source": [
        "\n# 06. Clean OUCRU v1.0\n"
      ]
    },
    {
      "cell_type": "code",
      "execution_count": null,
      "metadata": {
        "collapsed": false
      },
      "outputs": [],
      "source": [
        "# Libraries\nimport pandas as pd\n\n# -----------------------------\n# Load data\n# -----------------------------\n# Load data\ndata = pd.read_csv('./data/stacked-oucru/combined_stacked.csv',\n    parse_dates=['date'])\n\n# Show\nprint(data)\nprint(data.columns)\n\n# -----------------------------\n# Format\n# -----------------------------\n# Drop\ndrop = [\n    'Unnamed: 0',\n    'Unnamed: 0.1',\n    'result_old',\n    'date_old',\n    'dsource'\n]\n\n# Rename\nrename = {\n    'study_no' : 'patient',\n    'date': 'date_collected',\n    'column': 'code',\n}\n\n# Replace\nreplace = {\n    'result': {\n        'True': 1,\n        'False': 0\n    }\n}\n\n# Format\ndata = data.drop(columns=drop)\ndata = data.rename(columns=rename)\ndata['id'] = data.index.values\ndata['uuid'] = data.index.values\ndata['date_outcome'] = data.date_collected\ndata = data.replace(replace)\ndata = data[sorted(data.columns.values)]\n\n# Keep only those whose result can be cast to number\ndata.result = pd.to_numeric(data.result, errors='coerce')\n\n# Remove nan\ndata = data[data.result.notna()]\n\n# Show types\nprint(data.dtypes)\n\n# Save\ndata.head(10000).to_csv('./outputs/combined_stack_head10000.csv')\ndata.to_csv('./outputs/combined_stacked.csv')"
      ]
    }
  ],
  "metadata": {
    "kernelspec": {
      "display_name": "Python 3",
      "language": "python",
      "name": "python3"
    },
    "language_info": {
      "codemirror_mode": {
        "name": "ipython",
        "version": 3
      },
      "file_extension": ".py",
      "mimetype": "text/x-python",
      "name": "python",
      "nbconvert_exporter": "python",
      "pygments_lexer": "ipython3",
      "version": "3.7.9"
    }
  },
  "nbformat": 4,
  "nbformat_minor": 0
}