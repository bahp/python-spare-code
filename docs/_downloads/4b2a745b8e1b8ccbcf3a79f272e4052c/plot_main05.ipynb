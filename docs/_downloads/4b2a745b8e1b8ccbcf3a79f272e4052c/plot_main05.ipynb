{
  "cells": [
    {
      "cell_type": "code",
      "execution_count": null,
      "metadata": {
        "collapsed": false
      },
      "outputs": [],
      "source": [
        "%matplotlib inline"
      ]
    },
    {
      "cell_type": "markdown",
      "metadata": {},
      "source": [
        "\n# 05. Basic example\n"
      ]
    },
    {
      "cell_type": "code",
      "execution_count": null,
      "metadata": {
        "collapsed": false
      },
      "outputs": [],
      "source": [
        "# Libraries\nimport shap\nimport numpy as np\nimport pandas as pd\nimport seaborn as sns\n\nimport matplotlib.pyplot as plt\nimport matplotlib as mpl\nimport matplotlib.colorbar\nimport matplotlib.colors\nimport matplotlib.cm\n\nfrom mpl_toolkits.axes_grid1 import make_axes_locatable\n\ntry:\n    __file__\n    TERMINAL = True\nexcept:\n    TERMINAL = False\n\n# ------------------------\n# Methods\n# ------------------------\ndef scalar_colormap(values, cmap, vmin, vmax):\n    \"\"\"This method creates a colormap based on values.\n    \n    Parameters\n    ----------\n    values : array-like\n    The values to create the corresponding colors\n    \n    cmap : str\n    The colormap\n    \n    vmin, vmax : float\n    The minimum and maximum possible values\n    \n    Returns\n    -------\n    scalar colormap\n    \"\"\"\n    # Create scalar mappable\n    norm = mpl.colors.Normalize(vmin=vmin, vmax=vmax, clip=True)\n    mapper = mpl.cm.ScalarMappable(norm=norm, cmap=cmap)\n    # Get color map\n    colormap = sns.color_palette([mapper.to_rgba(i) for i in values])\n    # Return\n    return colormap, norm\n\n\ndef scalar_palette(values, cmap, vmin, vmax):\n    \"\"\"This method creates a colorpalette based on values.\n\n    Parameters\n    ----------\n    values : array-like\n    The values to create the corresponding colors\n\n    cmap : str\n    The colormap\n\n    vmin, vmax : float\n    The minimum and maximum possible values\n\n    Returns\n    -------\n    scalar colormap\n\n    \"\"\"\n    # Create a matplotlib colormap from name\n    #cmap = sns.light_palette(cmap, reverse=False, as_cmap=True)\n    cmap = sns.color_palette(cmap, as_cmap=True)\n    # Normalize to the range of possible values from df[\"c\"]\n    norm = mpl.colors.Normalize(vmin=vmin, vmax=vmax)\n    # Create a color dictionary (value in c : color from colormap)\n    colors = {}\n    for cval in values:\n        colors.update({cval : cmap(norm(cval))})\n    # Return\n    return colors, norm\n\n\ndef create_random_shap(samples, timesteps, features):\n    \"\"\"Create random LSTM data.\n\n    .. note: No need to create the 3D matrix and then reshape to\n             2D. It would be possible to create directly the 2D\n             matrix.\n\n    Parameters\n    ----------\n    samples: int\n        The number of observations\n    timesteps: int\n        The number of time steps\n    features: int\n        The number of features\n\n    Returns\n    -------\n    Stacked matrix with the data.\n\n    \"\"\"\n    # .. note: Either perform a pre-processing step such as\n    #          normalization or generate the features within\n    #          the appropriate interval.\n    # Create dataset\n    x = np.random.randint(low=0, high=100,\n        size=(samples, timesteps, features))\n    y = np.random.randint(low=0, high=2, size=samples).astype(float)\n    i = np.vstack(np.dstack(np.indices((samples, timesteps))))\n\n    # Create DataFrame\n    df = pd.DataFrame(\n        data=np.hstack((i, x.reshape((-1, features)))),\n        columns=['sample', 'timestep'] + \\\n                ['f%s'%j for j in range(features)]\n    )\n\n    df_stack = df.set_index(['sample', 'timestep']).stack()\n    df_stack = df_stack\n    df_stack.name = 'shap_values'\n    df_stack = df_stack.to_frame()\n    df_stack.index.names = ['sample', 'timestep', 'features']\n    df_stack = df_stack.reset_index()\n\n    df_stack['feature_values'] = np.random.randint(\n        low=0, high=100, size=df_stack.shape[0])\n\n    return df_stack\n\n\ndef load_shap_file():\n    data = pd.read_csv('./data/shap.csv')\n    data = data.iloc[: , 1:]\n    #data.timestep = data.timestep - (data.timestep.nunique() - 1)\n    return data"
      ]
    },
    {
      "cell_type": "markdown",
      "metadata": {},
      "source": [
        "Lets generate and/or load the shap values.\n\n"
      ]
    },
    {
      "cell_type": "code",
      "execution_count": null,
      "metadata": {
        "collapsed": false
      },
      "outputs": [],
      "source": [
        "# .. note: The right format to use for plotting depends\n#          on the library we use. The data structure is\n#          good when using seaborn\n# Load data\ndata = create_random_shap(10, 6, 4)\n#data = load_shap_file()\n#data = data[data['sample'] < 100]\n\nshap_values = pd.pivot_table(data,\n        values='shap_values',\n        index=['sample', 'timestep'],\n        columns=['features'])\n\nfeature_values = pd.pivot_table(data,\n        values='feature_values',\n        index=['sample', 'timestep'],\n        columns=['features'])\n\n# Show\nif TERMINAL:\n    print(\"\\nShow:\")\n    print(data)\n    print(shap_values)\n    print(feature_values)"
      ]
    },
    {
      "cell_type": "markdown",
      "metadata": {},
      "source": [
        "Let's see how data looks like\n\n"
      ]
    },
    {
      "cell_type": "code",
      "execution_count": null,
      "metadata": {
        "collapsed": false
      },
      "outputs": [],
      "source": [
        "data.head(10)"
      ]
    },
    {
      "cell_type": "markdown",
      "metadata": {},
      "source": [
        "Let's see how shap_values looks like\n\n"
      ]
    },
    {
      "cell_type": "code",
      "execution_count": null,
      "metadata": {
        "collapsed": false
      },
      "outputs": [],
      "source": [
        "shap_values.iloc[:10, :5]"
      ]
    },
    {
      "cell_type": "markdown",
      "metadata": {},
      "source": [
        "Let's see how feature_values looks like\n\n"
      ]
    },
    {
      "cell_type": "code",
      "execution_count": null,
      "metadata": {
        "collapsed": false
      },
      "outputs": [],
      "source": [
        "feature_values.iloc[:10, :5]"
      ]
    },
    {
      "cell_type": "markdown",
      "metadata": {},
      "source": [
        "## Display using ``shap.summary_plot``\n\nThe first option is to use the ``shap`` library to plot the results.\n\n"
      ]
    },
    {
      "cell_type": "code",
      "execution_count": null,
      "metadata": {
        "collapsed": false
      },
      "outputs": [],
      "source": [
        "# Let's define/extract some useful variables.\nN = 4                                                       # max loops filter\nTIMESTEPS = len(shap_values.index.unique(level='timestep')) # number of timesteps\nSAMPLES = len(shap_values.index.unique(level='sample'))     # number of samples\n\nshap_min = data.shap_values.min()\nshap_max = data.shap_values.max()"
      ]
    },
    {
      "cell_type": "markdown",
      "metadata": {},
      "source": [
        "Now, let's display the shap values for all features in each timestep.\n\n"
      ]
    },
    {
      "cell_type": "code",
      "execution_count": null,
      "metadata": {
        "collapsed": false
      },
      "outputs": [],
      "source": [
        "# For each timestep (visualise all features)\nfor i, step in enumerate(range(TIMESTEPS)[:N]):\n    # Show\n    #print('%2d. %s' % (i, step))\n\n    # .. note: First option (commented) is only necessary if we work\n    #          with a numpy array. However, since we are using a DataFrame\n    #          with the timestep, we can index by that index level.\n    # Compute indices\n    #indice = np.arange(SAMPLES)*TIMESTEPS + step\n    indice = shap_values.index.get_level_values('timestep') == i\n\n    # Create auxiliary matrices\n    shap_aux = shap_values.iloc[indice]\n    feat_aux = feature_values.iloc[indice]\n\n    # Display\n    plt.figure()\n    plt.title(\"Timestep: %s\" % i)\n    shap.summary_plot(shap_aux.to_numpy(), feat_aux, show=False)\n    plt.xlim(shap_min, shap_max)"
      ]
    },
    {
      "cell_type": "markdown",
      "metadata": {},
      "source": [
        "Now, let's display the shap values for all timesteps of each feature.\n\n"
      ]
    },
    {
      "cell_type": "code",
      "execution_count": null,
      "metadata": {
        "collapsed": false
      },
      "outputs": [],
      "source": [
        "# For each feature (visualise all time-steps)\nfor i, f in enumerate(shap_values.columns[:N]):\n    # Show\n    #print('%2d. %s' % (i, f))\n\n    # Create auxiliary matrices (select feature and reshape)\n    shap_aux = shap_values.iloc[:, i] \\\n        .to_numpy().reshape(-1, TIMESTEPS)\n    feat_aux = feature_values.iloc[:, i] \\\n        .to_numpy().reshape(-1, TIMESTEPS)\n    feat_aux = pd.DataFrame(feat_aux,\n        columns=['timestep %s'%j for j in range(TIMESTEPS)]\n    )\n\n    # Show\n    plt.figure()\n    plt.title(\"Feature: %s\" % f)\n    shap.summary_plot(shap_aux, feat_aux, sort=False, show=False)\n    plt.xlim(shap_min, shap_max)"
      ]
    },
    {
      "cell_type": "markdown",
      "metadata": {},
      "source": [
        "<div class=\"alert alert-info\"><h4>Note</h4><p>If y-axis represents timesteps the ``sort`` parameter\n          in the ``summary_plot`` function is set to False.</p></div>\n\n"
      ]
    },
    {
      "cell_type": "markdown",
      "metadata": {},
      "source": [
        "## Display using ``sns.stripplot``\n\n<div class=\"alert alert-danger\"><h4>Warning</h4><p>This method seems to be quite slow.</p></div>\n\nLet's display the shap values for each feature and all time steps.\nIn contrast to the previous example, the timesteps are now displayed\non the x-axis and the y-axis contains the shap values.\n\n"
      ]
    },
    {
      "cell_type": "code",
      "execution_count": null,
      "metadata": {
        "collapsed": false
      },
      "outputs": [],
      "source": [
        "def add_colorbar(fig, cmap, norm):\n    \"\"\"\"\"\"\n    divider = make_axes_locatable(plt.gca())\n    ax_cb = divider.new_horizontal(size=\"5%\", pad=0.05)\n    fig.add_axes(ax_cb)\n    cb1 = matplotlib.colorbar.ColorbarBase(ax_cb,\n         cmap=cmap, norm=norm, orientation='vertical')\n\n\n# Loop\nfor i, (name, df) in enumerate(data.groupby('features')):\n\n    # Get colormap\n    values = df.feature_values\n    cmap, norm = scalar_palette(values=values, cmap='coolwarm',\n        vmin=values.min(), vmax=values.max())\n\n    print(df)\n\n    # Display\n    fig, ax = plt.subplots()\n    ax = sns.stripplot(x='timestep',\n                       y='shap_values',\n                       hue='feature_values',\n                       palette=cmap,\n                       data=df,\n                       ax=ax)\n\n    # Needed for older matplotlib versions\n    cmap = matplotlib.cm.get_cmap('coolwarm')\n\n    # Configure axes\n    plt.title(name)\n    plt.legend([], [], frameon=False)\n    ax.invert_xaxis()\n    add_colorbar(plt.gcf(), cmap, norm)\n\n    # End\n    if int(i) > N:\n        break\n\n# Show\nplt.show()"
      ]
    },
    {
      "cell_type": "markdown",
      "metadata": {},
      "source": [
        "## Display using ``sns.swarmplot``\n\n.. note: If the number of samples is too high, the points overlap\n         and are ignored by the ``swarmplot`` library. In such scenario\n         it is better to use ``stripplot``.\n\n\nLet's display the shap values for each timestep.\n\n"
      ]
    },
    {
      "cell_type": "code",
      "execution_count": null,
      "metadata": {
        "collapsed": false
      },
      "outputs": [],
      "source": [
        "# Loop\nfor i, (name, df) in enumerate(data.groupby('features')):\n\n    # Get colormap\n    values = df.feature_values\n    cmap, norm = scalar_palette(values=values, cmap='coolwarm',\n        vmin=values.min(), vmax=values.max())\n\n    # Display\n    fig, ax = plt.subplots()\n    ax = sns.swarmplot(x='timestep',\n                       y='shap_values',\n                       hue='feature_values',\n                       palette=cmap,\n                       data=df,\n                       size=2,\n                       ax=ax)\n\n    # Needed for older matplotlib versions\n    cmap = matplotlib.cm.get_cmap('coolwarm')\n\n    # Configure axes\n    plt.title(name)\n    plt.legend([], [], frameon=False)\n    ax.invert_xaxis()\n    add_colorbar(plt.gcf(), cmap, norm)\n\n    # End\n    if int(i) > N:\n        break\n\n# Show\nplt.show()\n\n\n\n\n\n\n\n\"\"\"\nsns.set_theme(style=\"ticks\")\n\n# Create a dataset with many short random walks\nrs = np.random.RandomState(4)\npos = rs.randint(-1, 2, (20, 5)).cumsum(axis=1)\npos -= pos[:, 0, np.newaxis]\nstep = np.tile(range(5), 20)\nwalk = np.repeat(range(20), 5)\ndf = pd.DataFrame(np.c_[pos.flat, step, walk],\n                  columns=[\"position\", \"step\", \"walk\"])\n# Initialize a grid of plots with an Axes for each walk\n#grid = sns.FacetGrid(df_stack, col=\"walk\", hue=\"f\", palette=\"tab20c\",\n#                     col_wrap=4, height=1.5)\n\ngrid = sns.FacetGrid(df_stack, hue=\"f\",\n    palette=\"tab20c\", height=1.5)\n\n# Draw a horizontal line to show the starting point\ngrid.refline(y=0, linestyle=\":\")\n\n# Draw a line plot to show the trajectory of each random walk\ngrid.map(plt.plot, \"t\", \"value\", marker=\"o\")\n\n# Adjust the tick positions and labels\ngrid.set(xticks=np.arange(5), yticks=[-3, 3],\n         xlim=(-.5, 4.5), ylim=(-3.5, 3.5))\n\n# Adjust the arrangement of the plots\ngrid.fig.tight_layout(w_pad=1)\n\n\"\"\"\n\n\n#plt.show()"
      ]
    },
    {
      "cell_type": "markdown",
      "metadata": {},
      "source": [
        "## Display using ``sns.FacetGrid``\n\n\n"
      ]
    },
    {
      "cell_type": "code",
      "execution_count": null,
      "metadata": {
        "collapsed": false
      },
      "outputs": [],
      "source": [
        "#g = sns.FacetGrid(df_stack, col=\"f\", hue='original')\n#g.map(sns.swarmplot, \"t\", \"value\", alpha=.7)\n#g.add_legend()"
      ]
    },
    {
      "cell_type": "markdown",
      "metadata": {},
      "source": [
        "## Display using ``shap.beeswarm``\n\n\n"
      ]
    },
    {
      "cell_type": "code",
      "execution_count": null,
      "metadata": {
        "collapsed": false
      },
      "outputs": [],
      "source": [
        "# REF: https://github.com/slundberg/shap/blob/master/shap/plots/_beeswarm.py\n#\n# .. note: It needs a kernel explainer, and while it works with\n#          common kernels (plot_main07.py) it does not work with\n#          the DeepKernel for some reason (mask related)."
      ]
    }
  ],
  "metadata": {
    "kernelspec": {
      "display_name": "Python 3",
      "language": "python",
      "name": "python3"
    },
    "language_info": {
      "codemirror_mode": {
        "name": "ipython",
        "version": 3
      },
      "file_extension": ".py",
      "mimetype": "text/x-python",
      "name": "python",
      "nbconvert_exporter": "python",
      "pygments_lexer": "ipython3",
      "version": "3.10.13"
    }
  },
  "nbformat": 4,
  "nbformat_minor": 0
}