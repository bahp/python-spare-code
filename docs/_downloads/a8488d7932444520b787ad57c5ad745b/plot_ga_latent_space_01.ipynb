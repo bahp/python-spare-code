{
  "cells": [
    {
      "cell_type": "code",
      "execution_count": null,
      "metadata": {
        "collapsed": false
      },
      "outputs": [],
      "source": [
        "%matplotlib inline"
      ]
    },
    {
      "cell_type": "markdown",
      "metadata": {},
      "source": [
        "\n# Plot GMM and KDE\n\nThis example estimates and displays the Gaussian\nMixture Model (GMM) and KDE (Kernel Density Estimation)\nfor each class.\n"
      ]
    },
    {
      "cell_type": "code",
      "execution_count": null,
      "metadata": {
        "collapsed": false
      },
      "outputs": [],
      "source": [
        "# Libraries\nimport numpy as np\nimport pandas as pd\nimport matplotlib as mpl\nimport matplotlib.pyplot as plt\n\n# Specific\nfrom scipy import linalg\nfrom sklearn import mixture\nfrom sklearn.datasets import make_blobs\nfrom sklearn.preprocessing import MinMaxScaler\nfrom scipy.stats import gaussian_kde\nfrom matplotlib.colors import LinearSegmentedColormap\n\n# Latexify\nmpl.rc('font', size=10)\nmpl.rc('legend', fontsize=6)\nmpl.rc('xtick', labelsize=8)\nmpl.rc('ytick', labelsize=8)\n\n\n# -----------------------------------------\n# Methods\n# -----------------------------------------\ndef make_colormap(seq):\n    \"\"\"Return a LinearSegmentedColormap\n\n    Parameters\n    ----------\n    seq: list\n        A sequence of floats and RGB-tuples. The floats\n        should be increasing and in the interval (0,1).\n    \"\"\"\n    # Library\n    import matplotlib.colors as mcolors\n    # Code\n    seq = [(None,) * 3, 0.0] + list(seq) + [1.0, (None,) * 3]\n    cdict = {'red': [], 'green': [], 'blue': []}\n    for i, item in enumerate(seq):\n        if isinstance(item, float):\n            r1, g1, b1 = seq[i - 1]\n            r2, g2, b2 = seq[i + 1]\n            cdict['red'].append([item, r1, r2])\n            cdict['green'].append([item, g1, g2])\n            cdict['blue'].append([item, b1, b2])\n    return mcolors.LinearSegmentedColormap('CustomMap', cdict)\n\ndef adjust_lightness(color, amount=0.5):\n    \"\"\"Adjusts the lightness of a color\n\n    Parameters\n    ----------\n    color: string or vector\n        The color in string, hex or rgb format.\n\n    amount: float\n        Lower values result in dark colors.\n    \"\"\"\n    # Libraries\n    import matplotlib.colors as mc\n    import colorsys\n    try:\n        c = mc.cnames[color]\n    except:\n        c = color\n    c = colorsys.rgb_to_hls(*mc.to_rgb(c))\n    return colorsys.hls_to_rgb(c[0], \\\n        max(0, min(1, amount * c[1])), c[2])\n\ndef kde_mpl_compute(x, y, xlim=None, ylim=None, **kwargs):\n    \"\"\"Computes the gaussian kde.\n\n    Parameters\n    ----------\n\n    Returns\n    -------\n    \"\"\"\n    try:\n        # Plot density\n        kde = gaussian_kde(np.vstack((x, y)), **kwargs)\n    except Exception as e:\n        print(\"Exception! %s\" % e)\n        return None, None, None\n\n    # Parameters\n    xmin, xmax = min(x), max(x)\n    ymin, ymax = min(y), max(y)\n\n    # Set xlim and ylim\n    if xlim is not None:\n        xmin, xmax = xlim\n    if ylim is not None:\n        ymin, ymax = ylim\n\n    # evaluate on a regular grid\n    xgrid = np.linspace(xmin, xmax, 100)\n    ygrid = np.linspace(ymin, ymax, 100)\n    Xgrid, Ygrid = np.meshgrid(xgrid, ygrid)\n    zgrid = kde.evaluate(np.vstack([\n        Xgrid.ravel(),\n        Ygrid.ravel()\n    ]))\n    Zgrid = zgrid.reshape(Xgrid.shape)\n\n    # Return\n    return xgrid, ygrid, Zgrid\n\ndef plot_ellipses(gmm, ax, color, n=None):\n    \"\"\"Plot ellipses from GaussianMixtureModel\"\"\"\n\n    # Define color\n    if color is None:\n        color = 'blue'\n    if n is None:\n        n = 1\n\n    # Get covariances\n    if gmm.covariance_type == 'full':\n        covariances = gmm.covariances_[n][:2, :2]\n    elif gmm.covariance_type == 'tied':\n        covariances = gmm.covariances_[:2, :2]\n    elif gmm.covariance_type == 'diag':\n        covariances = np.diag(gmm.covariances_[n][:2])\n    elif gmm.covariance_type == 'spherical':\n        covariances = np.eye(gmm.means_.shape[1]) * gmm.covariances_[n]\n\n    # Compute\n    v, w = np.linalg.eigh(covariances)\n    # v = 2. * np.sqrt(2.) * np.sqrt(v) # Oliver\n    u = w[0] / np.linalg.norm(w[0])\n    angle = np.arctan2(u[1], u[0])\n    angle = 180 * angle / np.pi  # convert to degrees\n    v = 2. * np.sqrt(2.) * np.sqrt(v)\n\n    # Plot\n    ell = mpl.patches.Ellipse(gmm.means_[n, :2],\n        v[0], v[1], 180 + angle, color=color)\n    ell.set_clip_box(ax.bbox)\n    ell.set_alpha(0.25)\n    ax.add_artist(ell)\n    ax.set_aspect('equal', 'datalim')\n\n\n# -----------------------------------------\n# Create data\n# -----------------------------------------\n# Colors\ncolors = ['#377eb8', '#ff7f00', '#4daf4a',\n          '#a65628', '#984ea3',\n          '#999999', '#e41a1c', '#dede00']\n\nc1 = colors[0]\nc2 = colors[1]\nc3 = colors[2]\n\n# Data\ndata = [\n    [0.19, 0.25, 0, 1, 0, 0, 0],\n    [0.15, 0.21, 0, 1, 0, 0, 0],\n    [0.13, 0.19, 0, 1, 0, 0, 0],\n    [0.16, 0.12, 0, 1, 0, 0, 0],\n    [0.21, 0.14, 0, 1, 0, 0, 0],\n    [0.38, 0.18, 0, 1, 0, 0, 0],\n\n    [0.50, 0.52, 1, 0, 1, 0, 0],\n    [0.40, 0.58, 1, 0, 1, 0, 0],\n    [0.49, 0.72, 1, 0, 1, 0, 0],\n    [0.44, 0.64, 1, 0, 1, 0, 0],\n    [0.60, 0.50, 1, 0, 1, 0, 0],\n    [0.38, 0.81, 1, 0, 1, 0, 0],\n    [0.40, 0.75, 1, 0, 1, 0, 0],\n    [0.47, 0.61, 1, 0, 1, 0, 0],\n    [0.52, 0.65, 1, 0, 1, 0, 0],\n    [0.50, 0.55, 1, 0, 1, 0, 0],\n    [0.46, 0.54, 1, 0, 1, 0, 0],\n    [0.60, 0.50, 1, 0, 1, 0, 0],\n    [0.68, 0.52, 1, 0, 1, 0, 0],\n    [0.61, 0.77, 1, 0, 1, 0, 0],\n    [0.51, 0.79, 1, 0, 1, 0, 1],\n    [0.64, 0.80, 1, 0, 1, 0, 1],\n    [0.54, 0.75, 1, 0, 1, 0, 1],\n    [0.58, 0.81, 1, 0, 1, 0, 1],\n\n    [0.80, 0.82, 2, 0, 0, 1, 1],\n    [0.85, 0.83, 2, 0, 0, 1, 1],\n    [0.90, 0.85, 2, 0, 0, 1, 1],\n    [0.84, 0.80, 2, 0, 0, 1, 1],\n    [0.81, 0.78, 2, 0, 0, 1, 1],\n    [0.92, 0.79, 2, 0, 0, 1, 1],\n]\n\n\"\"\"\n# Create DataFrame (manual data)\ndata = pd.DataFrame(data)\ndata.columns = ['x', 'y', 'target',\n    'Label 0', 'Label 1', 'Label 2',\n    'Label 3']\n\"\"\"\n\n# Create bloobs\nX, y = make_blobs(n_features=2,\n    centers=[[0.35, 0.35],\n             [0.45, 0.45],\n             [0.7, 0.70]],\n    cluster_std=[0.07, 0.10, 0.07])\n\n# Preprocessing\nX = MinMaxScaler().fit_transform(X)\n\n# Create Dataframe\ndata = pd.DataFrame(X, columns=['x', 'y'])\ndata['target'] = y\nfor i in np.unique(y):\n    data['Label %s' % i] = y==i\ndata = data[(data.x>0) & (data.x<1)]\ndata = data[(data.y>0) & (data.y<1)]\n\n# Create X\nX = data[['x', 'y']]\n\n# Create gaussian\ngmm = mixture.GaussianMixture(\n    n_components=3, covariance_type='full')\n\n# Since we have class labels for the training data, we can\n# initialize the GMM parameters in a supervised manner.\ngmm.means_init = np.array( \\\n    [X[data.target == i].mean(axis=0)\n        for i in range(3)])\n\n# Fit a Gaussian mixture with EM using five components\ngmm = gmm.fit(data[['x', 'y']])\n\n\n# -----------------------------------------\n# Visualisation (\n# -----------------------------------------\n# Create figure\nfigure, ax = plt.subplots(1,1, figsize=(4.8, 4.8))\n\nfor i, (c, aux) in enumerate(data.groupby('target')):\n\n    # Plot markers\n    ax.scatter(aux.x, aux.y, c=colors[i],\n       edgecolors='k', alpha=0.75,\n       linewidths=0.5)\n\n    # Plot ellipse\n    plot_ellipses(gmm, ax, color=colors[i], n=i)\n\n# Configure\nax.set(xlabel='x', ylabel='y',\n       aspect='equal',\n       xlim=[0, 1], ylim=[0, 1],\n       title='Latent Space')\n\n# Hide the right and top spines\nax.spines.right.set_visible(False)\nax.spines.top.set_visible(False)\n\n# Adjust\nplt.tight_layout()\n\n\n# -----------------------------------------\n# Visualisation labels\n# -----------------------------------------\n# Loop\nfor i, l in enumerate(['Label 0',\n                       'Label 1',\n                       'Label 2']):\n    # Filter data\n    aux = data[data[l] == 1]\n\n    # Compute KDE\n    xgrid, ygrid, Zgrid = \\\n        kde_mpl_compute(aux.x, aux.y,\n            xlim=[0, 1], ylim=[0, 1])\n\n    # Create colormap\n    cmap = LinearSegmentedColormap.from_list(\"\",\n         ['white', adjust_lightness(colors[i], 0.6)], 14)\n\n    # Create figure\n    figure, ax = plt.subplots(1,1)\n\n    # Plot contour\n    ax.contour(xgrid, ygrid, Zgrid,\n       linewidths=0.25, alpha=0.5, levels=5,\n       linestyles='dashed', colors='k')\n    # Plot fill spaces\n    cntr = ax.contourf(xgrid, ygrid, Zgrid,\n       levels=5, cmap=cmap)\n    # Add colorbar\n    cb = plt.colorbar(cntr, ax=ax)\n\n    # Configure\n    ax.set(xlabel='x', ylabel='y',\n           aspect='equal', title=l,\n           xlim=[0, 1], ylim=[0, 1])\n\n    # Adjust\n    plt.tight_layout()\n\n\n# -----------------------------------------\n# All together\n# -----------------------------------------\n\n# Con\nplt.show()"
      ]
    }
  ],
  "metadata": {
    "kernelspec": {
      "display_name": "Python 3",
      "language": "python",
      "name": "python3"
    },
    "language_info": {
      "codemirror_mode": {
        "name": "ipython",
        "version": 3
      },
      "file_extension": ".py",
      "mimetype": "text/x-python",
      "name": "python",
      "nbconvert_exporter": "python",
      "pygments_lexer": "ipython3",
      "version": "3.9.1"
    }
  },
  "nbformat": 4,
  "nbformat_minor": 0
}