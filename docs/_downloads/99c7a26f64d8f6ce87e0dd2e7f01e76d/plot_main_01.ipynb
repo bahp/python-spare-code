{
  "cells": [
    {
      "cell_type": "code",
      "execution_count": null,
      "metadata": {
        "collapsed": false
      },
      "outputs": [],
      "source": [
        "%matplotlib inline"
      ]
    },
    {
      "cell_type": "markdown",
      "metadata": {},
      "source": [
        "\n# Explainer Dash\n\nThis example runs an app which an interactive\nuser interface to explore the importance of\nthe features using SHAP values.\n\n<div class=\"alert alert-info\"><h4>Note</h4><p>https://github.com/oegedijk/explainerdashboard</p></div>\n"
      ]
    },
    {
      "cell_type": "code",
      "execution_count": null,
      "metadata": {
        "collapsed": false
      },
      "outputs": [],
      "source": [
        "\"\"\"\n# Libraries\nfrom sklearn.ensemble import RandomForestClassifier\nfrom explainerdashboard import ClassifierExplainer\nfrom explainerdashboard import ExplainerDashboard\nfrom explainerdashboard.datasets import titanic_survive\nfrom explainerdashboard.datasets import feature_descriptions\n\n# Get data\nX_train, y_train, X_test, y_test = titanic_survive()\n\n# Create and fit model\nmodel = RandomForestClassifier(n_estimators=50, max_depth=10) \\\n    .fit(X_train, y_train)\n\n# Configure explainer\nexplainer = ClassifierExplainer(model, X_test, y_test,\n       cats=['Sex', 'Deck', 'Embarked'],\n       descriptions=feature_descriptions,\n       labels=['Not survived', 'Survived'])\n\n# Run\n#ExplainerDashboard(explainer).run()\n\"\"\""
      ]
    }
  ],
  "metadata": {
    "kernelspec": {
      "display_name": "Python 3",
      "language": "python",
      "name": "python3"
    },
    "language_info": {
      "codemirror_mode": {
        "name": "ipython",
        "version": 3
      },
      "file_extension": ".py",
      "mimetype": "text/x-python",
      "name": "python",
      "nbconvert_exporter": "python",
      "pygments_lexer": "ipython3",
      "version": "3.8.3"
    }
  },
  "nbformat": 4,
  "nbformat_minor": 0
}