{
  "cells": [
    {
      "cell_type": "code",
      "execution_count": null,
      "metadata": {
        "collapsed": false
      },
      "outputs": [],
      "source": [
        "%matplotlib inline"
      ]
    },
    {
      "cell_type": "markdown",
      "metadata": {},
      "source": [
        "\n# 03. Empty\n\nExample\n"
      ]
    },
    {
      "cell_type": "code",
      "execution_count": null,
      "metadata": {
        "collapsed": false
      },
      "outputs": [],
      "source": [
        "# Libraries\nimport numpy as np\nimport pandas as pd\n\n\"\"\"\n# Load data\ndf = pd.read_csv('./datasets/format03_data_300.csv')\n\n# Show\nprint(df)\nprint(df.columns)\nprint(df.dtypes)\nprint(df['0'].isna().sum())\n\n# Convert string to numpy\nprint(df['0'])\n#df['0'] = df['0'].map(np.fromstring)\n\n#print(df['0'])\n\naux = df.loc[0, '0']\nprint(\"aaa\")\nprint(aux)\nprint(type(aux))\n\na = np.frombuffer(aux, dtype=np.complex_)\nprint(a)\na = np.fromstring(aux, dtype=np.complex_)\nprint(a)\n\"\"\""
      ]
    }
  ],
  "metadata": {
    "kernelspec": {
      "display_name": "Python 3",
      "language": "python",
      "name": "python3"
    },
    "language_info": {
      "codemirror_mode": {
        "name": "ipython",
        "version": 3
      },
      "file_extension": ".py",
      "mimetype": "text/x-python",
      "name": "python",
      "nbconvert_exporter": "python",
      "pygments_lexer": "ipython3",
      "version": "3.11.0"
    }
  },
  "nbformat": 4,
  "nbformat_minor": 0
}