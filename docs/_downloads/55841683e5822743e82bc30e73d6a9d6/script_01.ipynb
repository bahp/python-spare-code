{
  "cells": [
    {
      "cell_type": "code",
      "execution_count": null,
      "metadata": {
        "collapsed": false
      },
      "outputs": [],
      "source": [
        "%matplotlib inline"
      ]
    },
    {
      "cell_type": "markdown",
      "metadata": {},
      "source": [
        "\n# script_01.py\n\n.. warning: Not working!\n\nRequires:\n\n   - ``ldap3``\n   - ``python-ldap-test`` [2017!]\n"
      ]
    },
    {
      "cell_type": "code",
      "execution_count": null,
      "metadata": {
        "collapsed": false
      },
      "outputs": [],
      "source": [
        "import ldap3\n\nfrom ldap_test import LdapServer\n\nserver = LdapServer({\n    'port': 3333,\n    'bind_dn': 'cn=admin,dc=zoldar,dc=net',\n    'password': 'pass1',\n    'base': {'objectclass': ['domain'],\n             'dn': 'dc=zoldar,dc=net',\n             'attributes': {'dc': 'zoldar'}},\n    'entries': [\n        {'objectclass': 'domain',\n         'dn': 'dc=users,dc=zoldar,dc=net',\n         'attributes': {'dc': 'users'}},\n        {'objectclass': 'organization',\n         'dn': 'o=foocompany,dc=users,dc=zoldar,dc=net',\n         'attributes': {'o': 'foocompany'}},\n    ]\n})\n\ntry:\n    server.start()\n\n    dn = \"cn=admin,dc=zoldar,dc=net\"\n    pw = \"pass1\"\n\n    srv = ldap3.Server('localhost', port=3333)\n    conn = ldap3.Connection(srv, user=dn, password=pw, auto_bind=True)\n\n    base_dn = 'dc=zoldar,dc=net'\n    search_filter = '(objectclass=organization)'\n    attrs = ['o']\n\n    conn.search(base_dn, search_filter, attributes=attrs)\n\n    print(conn.response)\n    # [{\n    #    'dn': 'o=foocompany,dc=users,dc=zoldar,dc=net',\n    #    'raw_attributes': {'o': [b'foocompany']},\n    #    'attributes': {'o': ['foocompany']},\n    #    'type': 'searchResEntry'\n    # }]\nfinally:\n    server.stop()"
      ]
    }
  ],
  "metadata": {
    "kernelspec": {
      "display_name": "Python 3",
      "language": "python",
      "name": "python3"
    },
    "language_info": {
      "codemirror_mode": {
        "name": "ipython",
        "version": 3
      },
      "file_extension": ".py",
      "mimetype": "text/x-python",
      "name": "python",
      "nbconvert_exporter": "python",
      "pygments_lexer": "ipython3",
      "version": "3.8.3"
    }
  },
  "nbformat": 4,
  "nbformat_minor": 0
}