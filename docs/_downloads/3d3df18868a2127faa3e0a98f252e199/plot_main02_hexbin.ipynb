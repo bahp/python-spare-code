{
  "cells": [
    {
      "cell_type": "code",
      "execution_count": null,
      "metadata": {
        "collapsed": false
      },
      "outputs": [],
      "source": [
        "%matplotlib inline"
      ]
    },
    {
      "cell_type": "markdown",
      "metadata": {},
      "source": [
        "\n# 02. ``mpl.hexbin``\n\nMake a 2D hexagonal binning plot of points x, y.\n"
      ]
    },
    {
      "cell_type": "code",
      "execution_count": null,
      "metadata": {
        "collapsed": false
      },
      "outputs": [],
      "source": [
        "import pandas as pd\nimport numpy as np\nimport matplotlib.pyplot as plt\n\n# constant\nn = 100000\n\n# Fixing random state for reproducibility\nnp.random.seed(19680801)\n\n# Generate data\nx = np.random.standard_normal(n)\ny = 2.0 + 3.0 * x + 4.0 * np.random.standard_normal(n)\nz = None\n\n# Compute limits\nxmin = x.min()\nxmax = x.max()\nymin = y.min()\nymax = y.max()\n\n# Display hexagon binning (linear)\nfig, axs = plt.subplots(ncols=2, sharey=True, figsize=(7, 4))\nfig.subplots_adjust(hspace=0.5, left=0.07, right=0.93)\nax = axs[0]\nhb = ax.hexbin(x, y, C=z, cmap='coolwarm', reduce_C_function=np.median)\nax.axis([xmin, xmax, ymin, ymax])\nax.set_title(\"Hexagon binning\")\nax.invert_xaxis()\ncb = fig.colorbar(hb, ax=ax)\ncb.set_label('N=median')\n\n# Display hexagon binning (log)\nax = axs[1]\nhb = ax.hexbin(x, y, C=z, gridsize=50,\n    bins='log', cmap='coolwarm',\n    reduce_C_function=np.median)\nax.axis([xmin, xmax, ymin, ymax])\nax.set_title(\"With a log color scale\")\nax.invert_xaxis()\ncb = fig.colorbar(hb, ax=ax)\ncb.set_label('log10(N)')\n\n# Show\nplt.tight_layout()\nplt.show()"
      ]
    }
  ],
  "metadata": {
    "kernelspec": {
      "display_name": "Python 3",
      "language": "python",
      "name": "python3"
    },
    "language_info": {
      "codemirror_mode": {
        "name": "ipython",
        "version": 3
      },
      "file_extension": ".py",
      "mimetype": "text/x-python",
      "name": "python",
      "nbconvert_exporter": "python",
      "pygments_lexer": "ipython3",
      "version": "3.7.9"
    }
  },
  "nbformat": 4,
  "nbformat_minor": 0
}