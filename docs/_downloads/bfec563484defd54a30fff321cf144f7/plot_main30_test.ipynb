{
  "cells": [
    {
      "cell_type": "code",
      "execution_count": null,
      "metadata": {
        "collapsed": false
      },
      "outputs": [],
      "source": [
        "%matplotlib inline"
      ]
    },
    {
      "cell_type": "markdown",
      "metadata": {},
      "source": [
        "\n# Main 07 - 2dbin with shap.csv\n"
      ]
    },
    {
      "cell_type": "code",
      "execution_count": null,
      "metadata": {
        "collapsed": false
      },
      "outputs": [],
      "source": [
        "# Libraries\nimport seaborn as sns\nimport pandas as pd\nimport numpy as np\nimport matplotlib as mpl\nimport matplotlib.pyplot as plt\n\nfrom scipy import stats\nfrom matplotlib.colors import LogNorm\n\nsns.set_theme(style=\"white\")\n\n# See https://matplotlib.org/devdocs/users/explain/customizing.html\nmpl.rcParams['axes.titlesize'] = 8\nmpl.rcParams['axes.labelsize'] = 8\nmpl.rcParams['xtick.labelsize'] = 8\nmpl.rcParams['ytick.labelsize'] = 8\n\n# Load data\ndata = pd.read_csv('./data/shap.csv')\n\n# Filter\ndata = data[data.features.isin([\n    'Ward Lactate'\n    'Alanine Transaminase',\n    'Albumin',\n    'Alkaline Phosphatase',\n    'Bilirubin',\n    'C-Reactive Protein',\n    'Chloride',\n    'Creatinine',\n    'Platelets',\n    'Haemoglobin',\n    'Mean cell volume, blood',\n    'Haematocrit'\n])]\n\n# Show\nprint(data.head(10))\n\n\n\n# .. todo:: Change flier size, cmap, ...\n\nax = sns.boxenplot(data, x='timestep', y='shap_values',\n    hue='features', saturation=0.5, showfliers=False)\nsns.despine(ax=ax)\n\nplt.figure()\nax = sns.violinplot(data, x='timestep', y='shap_values',\n    hue='features', saturation=0.5, showfliers=False)\nsns.despine(ax=ax)\n\nplt.figure(figsize=(12, 4))\nax = sns.boxplot(data, x='timestep', y='shap_values',\n    hue='features', saturation=0.5, showfliers=False)\nsns.despine(ax=ax)\nplt.setp(ax.get_legend().get_texts(), fontsize='7')\n\nplt.show()"
      ]
    }
  ],
  "metadata": {
    "kernelspec": {
      "display_name": "Python 3",
      "language": "python",
      "name": "python3"
    },
    "language_info": {
      "codemirror_mode": {
        "name": "ipython",
        "version": 3
      },
      "file_extension": ".py",
      "mimetype": "text/x-python",
      "name": "python",
      "nbconvert_exporter": "python",
      "pygments_lexer": "ipython3",
      "version": "3.7.9"
    }
  },
  "nbformat": 4,
  "nbformat_minor": 0
}