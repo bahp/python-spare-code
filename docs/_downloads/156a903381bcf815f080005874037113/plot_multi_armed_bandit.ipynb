{
  "cells": [
    {
      "cell_type": "code",
      "execution_count": null,
      "metadata": {
        "collapsed": false
      },
      "outputs": [],
      "source": [
        "%matplotlib inline"
      ]
    },
    {
      "cell_type": "markdown",
      "metadata": {},
      "source": [
        "\n# Multi-Armed bandit problems\n\n\nSee below for a few resources.\n\n    * `R1`_: List of useful multi-armed bandit resources\n    * `R2`_: Tutorial - Reinforcement multi-armed banding (python)\n    * `R3`_: Tutorial - Solving multi-armed bandit problems\n    * `R4`_: Building a recommender system using ML\n    * `R5`_: Nature article\n    * `R6`_: GitHub Code\n    * `R7`_: Introduction to Deep Q-Learning\n\n\nExplore the applicability of multi-armed bandit problems for recommender systems.\n\nA) Could it be used a strategy to define which antimicrobials suggestions to be shown?\n\nThe data considered would be susceptibility test data. Once we know the resistances\nof the microorganisms to the available antimicrobials we have to display which\nantimicrobials would be recommended. Without any patient related information, this\ncould be seen as \"advertising\" narrower spectrum antimicrobials while exploring\nhow these are being \"clicked\".\n\nB) Recommender Systems\n\nWe have our CBR system which measures similarities between patients. For example,\nby using an unsupervised (or self-supervised) approach with a neural network we\ncan compute the similarity metrics (e.g. demographics, clinical, biomarkers,\nradiology, ...). Anyways, based on these we have to retrieve from the database\ncases which are similar and show them to the clinicians. By using clinicians feedback\nwe could see which cases were being clicked and adapt the ones that are being retrieved?\n\nShouldn't we adapt the model?\n"
      ]
    }
  ],
  "metadata": {
    "kernelspec": {
      "display_name": "Python 3",
      "language": "python",
      "name": "python3"
    },
    "language_info": {
      "codemirror_mode": {
        "name": "ipython",
        "version": 3
      },
      "file_extension": ".py",
      "mimetype": "text/x-python",
      "name": "python",
      "nbconvert_exporter": "python",
      "pygments_lexer": "ipython3",
      "version": "3.7.9"
    }
  },
  "nbformat": 4,
  "nbformat_minor": 0
}