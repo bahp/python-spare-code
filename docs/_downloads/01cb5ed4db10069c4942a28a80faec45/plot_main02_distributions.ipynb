{
  "cells": [
    {
      "cell_type": "code",
      "execution_count": null,
      "metadata": {
        "collapsed": false
      },
      "outputs": [],
      "source": [
        "%matplotlib inline"
      ]
    },
    {
      "cell_type": "markdown",
      "metadata": {},
      "source": [
        "\n# Plotly - Distributions\n"
      ]
    },
    {
      "cell_type": "code",
      "execution_count": null,
      "metadata": {
        "collapsed": false
      },
      "outputs": [],
      "source": [
        "# Libraries\nimport plotly.graph_objects as go\nfrom plotly.graph_objects import Layout\nimport plotly.express as px\nimport pandas as pd\nimport numpy as np\n\n\n# -----------------------------------------\n# Helper method\n# -----------------------------------------\n# This method is implemented in pySML.\ndef _tp_fp_tn_fn_distributions(y, y_pred, y_prob):\n    \"\"\"This function returns probabilities for each of the confusion\n    matrix elements (tp, tn, fp, fn).\n\n    Parameters\n    ----------\n    y : array-like\n      The real categories\n\n    y_pred : array-like\n      The predicted categories\n\n    y_prob: array-like\n      The predict probabilities\n\n    Returns\n    -------\n    tp_probs, tn_probs, fp_probs, fn_probs\n    \"\"\"\n    # Tags.\n    tp_idx = (y_pred == 1) & (y == 1)\n    tn_idx = (y_pred == 0) & (y == 0)\n    fp_idx = (y_pred == 1) & (y == 0)\n    fn_idx = (y_pred == 0) & (y == 1)\n    # Show information.\n    tp_probs = y_prob[tp_idx]\n    tn_probs = y_prob[tn_idx]\n    fp_probs = y_prob[fp_idx]\n    fn_probs = y_prob[fn_idx]\n    # Return\n    return tp_probs, tn_probs, fp_probs, fn_probs\n\n# -----------------------------------------\n# Config\n# -----------------------------------------\n# Colors\ncolors = px.colors.qualitative.Plotly\ncolors = px.colors.sequential.Plasma_r\ncolors = px.colors.sequential.Viridis_r\n#colors = px.colors.sequential.Blues # Issue only 9!\n\n# -----------------------------------------\n# Data\n# -----------------------------------------\n# Create data\ndata = pd.DataFrame()\ndata['y_true'] = np.random.randint(2, size=100)\ndata['y_pred'] = np.random.randint(2, size=100)\ndata['y_prob'] = np.random.normal(loc=0, scale=1, size=100)\n\n# Set tags\n#data['tag'] =\n\n# Get distributions\ntp_probs, tn_probs, fp_probs, fn_probs = \\\n    _tp_fp_tn_fn_distributions(data.y_true,\n                               data.y_pred,\n                               data.y_prob)\n\n# Visualize\nprint(\"\\nData:\")\nprint(data)\n\n\"\"\"\n# Data\ndata = {\n    'split1': np.vstack((fpr + 0.1, tpr)).T,\n    'split2': np.vstack((fpr + 0.2, tpr)).T,\n    'split3': np.vstack((fpr + 0.2, tpr)).T,\n    'split4': np.vstack((fpr + 0.2, tpr)).T,\n    'split5': np.vstack((fpr + 0.2, tpr)).T,\n    'split6': np.vstack((fpr + 0.2, tpr)).T,\n    'split7': np.vstack((fpr + 0.2, tpr)).T,\n    'split8': np.vstack((fpr + 0.2, tpr)).T,\n    'split9': np.vstack((fpr + 0.2, tpr)).T,\n    'split10': np.vstack((fpr + 0.2, tpr)).T\n}\n\"\"\"\n\n\n# -------------------------------------\n# Visualize\n# -------------------------------------\n# Create figure\nfig = go.Figure()\n\n# Add diagonal line\n#fig.add_shape(type='line', x0=0, x1=1, y0=0, y1=1,\n#    line=dict(dash='dash', color='gray', width=1),\n#)\n\n# Plot each split\n#for i, (name, array) in enumerate(data.items()):\n#    # Name of split\n#    name = f\"{name}\" # (AUC={10:.2f})\"\n#    # Add trace\n#    fig.add_trace(go.Scatter(x=array[:, 0],\n#                             y=array[:, 1],\n#                             name=name,\n#                             mode='lines+markers',\n#                             line=dict(color=colors[i],\n#                                       width=0.5)))\n\n# Import subplots\nfrom plotly.subplots import make_subplots\n\n# Create figure\nfig = make_subplots(rows=2, cols=2)\n# subplot_titles=('TP', 'TN', 'FP', 'FN'))\n\n#\n\n#  Add traces\n\nfig.add_trace(go.Violin(x=tn_probs, line_width=1,\n    name='tn', line_color='black', fillcolor=colors[2],\n    opacity=0.5, meanline_visible=True, box_visible=True), row=1, col=1)\nfig.add_trace(go.Violin(x=fp_probs, line_width=1,\n    name='fp', line_color='black', fillcolor=colors[4],\n    opacity=0.5, meanline_visible=True, box_visible=True), row=1, col=2)\nfig.add_trace(go.Violin(x=fn_probs, line_width=1,\n    name='fn', line_color='black', fillcolor=colors[6],\n    opacity=0.5, meanline_visible=True, box_visible=True), row=2, col=1)\nfig.add_trace(go.Violin(x=tp_probs, line_width=1,\n    name='tp', line_color='black', fillcolor=colors[0],\n    opacity=0.5, meanline_visible=True, box_visible=True), row=2, col=2)\n\n# Update layout\nfig.update_layout(\n    #xaxis_title='False Positive Rate',\n    #yaxis_title='True Positive Rate',\n    #yaxis=dict(scaleanchor=\"x\", scaleratio=1),\n    #xaxis=dict(constrain='domain'),\n    width=700, height=350,\n    #legend=dict(\n    #    x=1.0, y=0.0,  # x=1, y=1.02\n    #    orientation=\"v\",\n    #    font={'size': 12},\n    #    yanchor=\"bottom\",\n    #    xanchor=\"right\",\n    #),\n    margin={\n        'l': 0,\n        'r': 0,\n        'b': 0,\n        't': 0,\n        'pad': 0\n    },\n    paper_bgcolor='rgba(0,0,0,0)',  # transparent\n    plot_bgcolor='rgba(0,0,0,0)'  # transparent\n)\n\nfig.update_xaxes(visible=True, range=[0.0, 0.5], row=1, col=1)\nfig.update_xaxes(visible=True, range=[0.5, 1.0], row=1, col=2)\nfig.update_xaxes(visible=True, range=[0.0, 0.5], row=2, col=1)\nfig.update_xaxes(visible=True, range=[0.5, 1.0], row=2, col=2)\n\nfig.update_yaxes(visible=True)\n\n\n# Show\n#fig.show()\nfig"
      ]
    }
  ],
  "metadata": {
    "kernelspec": {
      "display_name": "Python 3",
      "language": "python",
      "name": "python3"
    },
    "language_info": {
      "codemirror_mode": {
        "name": "ipython",
        "version": 3
      },
      "file_extension": ".py",
      "mimetype": "text/x-python",
      "name": "python",
      "nbconvert_exporter": "python",
      "pygments_lexer": "ipython3",
      "version": "3.8.3"
    }
  },
  "nbformat": 4,
  "nbformat_minor": 0
}