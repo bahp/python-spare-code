{
  "cells": [
    {
      "cell_type": "code",
      "execution_count": null,
      "metadata": {
        "collapsed": false
      },
      "outputs": [],
      "source": [
        "%matplotlib inline"
      ]
    },
    {
      "cell_type": "markdown",
      "metadata": {},
      "source": [
        "\n# Main 06 - ``sns.displot``\n"
      ]
    },
    {
      "cell_type": "code",
      "execution_count": null,
      "metadata": {
        "collapsed": false
      },
      "outputs": [],
      "source": [
        "import pandas as pd\nimport seaborn as sns\nimport matplotlib as mpl\nimport matplotlib.pyplot as plt\n\nsns.set_style(style=\"white\")\n\n\ndef scalar_colormap(values, cmap, vmin, vmax):\n    \"\"\"This method creates a colormap based on values.\n\n    Parameters\n    ----------\n    values : array-like\n    The values to create the corresponding colors\n\n    cmap : str\n    The colormap\n\n    vmin, vmax : float\n    The minimum and maximum possible values\n\n    Returns\n    -------\n    scalar colormap\n    \"\"\"\n    # Create scalar mappable\n    norm = mpl.colors.Normalize(vmin=vmin, vmax=vmax, clip=True)\n    mapper = mpl.cm.ScalarMappable(norm=norm, cmap=cmap)\n    # Get color map\n    colormap = sns.color_palette([mapper.to_rgba(i) for i in values])\n    # Return\n    return colormap, norm\n\ndef scalar_palette(values, cmap, vmin, vmax):\n    \"\"\"This method creates a colorpalette based on values.\n\n    Parameters\n    ----------\n    values : array-like\n    The values to create the corresponding colors\n\n    cmap : str\n    The colormap\n\n    vmin, vmax : float\n    The minimum and maximum possible values\n\n    Returns\n    -------\n    scalar colormap\n\n    \"\"\"\n    # Create a matplotlib colormap from name\n    # cmap = sns.light_palette(cmap, reverse=False, as_cmap=True)\n    cmap = sns.color_palette(cmap, as_cmap=True)\n    # Normalize to the range of possible values from df[\"c\"]\n    norm = mpl.colors.Normalize(vmin=vmin, vmax=vmax)\n    # Create a color dictionary (value in c : color from colormap)\n    colors = {}\n    for cval in values:\n        colors.update({cval: cmap(norm(cval))})\n    # Return\n    return colors, norm\n\n\n# Load dataset\ndata = pd.read_csv('./data/shap.csv')\ndata = data[data.features.isin(['C-Reactive Protein'])]\n\n# Since the colorbar is discrete, needs to round so that\n# the amount of bins is small and therefore visible. Would\n# it be possible to define a continuous colormap?\ndata.feature_values = data.feature_values.round(1)\n\n# Show\nprint(data.describe())\n\n# Configuration\ncmap_name = 'coolwarm' # colormap name\n\n\n# .. note:: The function displot calls the histplot function. However,\n#           the features allowed are count, frequency, probability or\n#           proportion, percent and density. Thus, the median cannot\n#           be computed.\n\n# .. note:: The resulting colormap is discrete. Could it be continuous?\n\n# Loop\nfor i, (name, df) in enumerate(data.groupby('features')):\n\n    # Info\n    print(\"%2d. Computing... %s\" % (i, name))\n\n    # Get colormap\n    values = df.feature_values\n    cmap, norm = scalar_colormap(values=values,\n        cmap=cmap_name, vmin=values.min(),\n        vmax=values.max())\n\n    # Display displot\n    sns.displot(data=df, x='timestep', y='shap_values',\n        hue='feature_values', palette='coolwarm',\n        hue_norm=(values.min(), values.max()),\n        rug=False) # bins\n\n    \"\"\"\n    # Display histplot\n    plt.figure()\n    sns.histplot(\n        data=df, x='timestep', y='shap_values',\n        discrete=(False, False),\n        hue='feature_values', palette=cmap_name,\n        hue_norm=(values.min(), values.max()),\n        cbar=False, cbar_kws=dict(shrink=.75),\n        #pthresh=.05, pmax=.9, bins=100\n    )\n    \"\"\"\n\n    # Format figure\n    plt.suptitle(name)\n    plt.tight_layout()\n    plt.legend([], [], frameon=False)\n\n    # Show only first N\n    if int(i) > 2:\n        break\n\n# Show\nplt.show()"
      ]
    }
  ],
  "metadata": {
    "kernelspec": {
      "display_name": "Python 3",
      "language": "python",
      "name": "python3"
    },
    "language_info": {
      "codemirror_mode": {
        "name": "ipython",
        "version": 3
      },
      "file_extension": ".py",
      "mimetype": "text/x-python",
      "name": "python",
      "nbconvert_exporter": "python",
      "pygments_lexer": "ipython3",
      "version": "3.7.9"
    }
  },
  "nbformat": 4,
  "nbformat_minor": 0
}