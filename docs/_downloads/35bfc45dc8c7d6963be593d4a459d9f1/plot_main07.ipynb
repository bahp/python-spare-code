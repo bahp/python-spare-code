{
  "cells": [
    {
      "cell_type": "code",
      "execution_count": null,
      "metadata": {
        "collapsed": false
      },
      "outputs": [],
      "source": [
        "%matplotlib inline"
      ]
    },
    {
      "cell_type": "markdown",
      "metadata": {},
      "source": [
        "\n# Shap - Main 07\n"
      ]
    },
    {
      "cell_type": "code",
      "execution_count": null,
      "metadata": {
        "collapsed": false
      },
      "outputs": [],
      "source": [
        "# Libraries\nimport xgboost\nimport shap\nimport matplotlib.pyplot as plt\n\n# Load shap dataset\nX, y = shap.datasets.adult()\n\n# Train model\nmodel = xgboost.XGBClassifier().fit(X, y)\n\n# Create shap explainer\nexplainer = shap.Explainer(model, X)\nshap_values = explainer(X)\n\n\n# Create beeswarm plot using explainer\nshap.plots.beeswarm(shap_values,\n    max_display=12,\n    order=shap.Explanation.abs.mean(0))\n\n# Adjust\nplt.tight_layout()"
      ]
    }
  ],
  "metadata": {
    "kernelspec": {
      "display_name": "Python 3",
      "language": "python",
      "name": "python3"
    },
    "language_info": {
      "codemirror_mode": {
        "name": "ipython",
        "version": 3
      },
      "file_extension": ".py",
      "mimetype": "text/x-python",
      "name": "python",
      "nbconvert_exporter": "python",
      "pygments_lexer": "ipython3",
      "version": "3.8.3"
    }
  },
  "nbformat": 4,
  "nbformat_minor": 0
}