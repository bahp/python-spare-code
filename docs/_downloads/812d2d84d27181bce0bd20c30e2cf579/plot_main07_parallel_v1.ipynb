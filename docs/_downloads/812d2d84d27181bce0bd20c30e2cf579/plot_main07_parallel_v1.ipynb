{
  "cells": [
    {
      "cell_type": "code",
      "execution_count": null,
      "metadata": {
        "collapsed": false
      },
      "outputs": [],
      "source": [
        "%matplotlib inline"
      ]
    },
    {
      "cell_type": "markdown",
      "metadata": {},
      "source": [
        "\n# Plot Parallel (v1)\n\nThis example plots a parallel graph.\n"
      ]
    },
    {
      "cell_type": "code",
      "execution_count": null,
      "metadata": {
        "collapsed": false
      },
      "outputs": [],
      "source": [
        "import plotly.graph_objects as go\n\nimport pandas as pd\n\ntry:\n    __file__\n    TERMINAL = True\nexcept:\n    TERMINAL = False\n\n\n# Load\ndf = pd.read_csv(\"https://raw.githubusercontent.com/bcdunbar/datasets/master/parcoords_data.csv\")\n\n# Show data\nprint(\"Data:\")\nprint(df)\n\n# Show\nfig = go.Figure(data=\n    go.Parcoords(\n        line = dict(color = df['colorVal'],\n                   colorscale = 'Electric',\n                   showscale = True,\n                   cmin = -4000,\n                   cmax = -100),\n        dimensions = list([\n            dict(range = [32000,227900],\n                 constraintrange = [100000,150000],\n                 label = \"Block Height\", values = df['blockHeight']),\n            dict(range = [0,700000],\n                 label = 'Block Width', values = df['blockWidth']),\n            dict(tickvals = [0,0.5,1,2,3],\n                 ticktext = ['A','AB','B','Y','Z'],\n                 label = 'Cyclinder Material', values = df['cycMaterial']),\n            dict(range = [-1,4],\n                 tickvals = [0,1,2,3],\n                 label = 'Block Material', values = df['blockMaterial']),\n            dict(range = [134,3154],\n                 visible = True,\n                 label = 'Total Weight', values = df['totalWeight']),\n            dict(range = [9,19984],\n                 label = 'Assembly Penalty Wt', values = df['assemblyPW']),\n            dict(range = [49000,568000],\n                 label = 'Height st Width', values = df['HstW'])])\n    )\n)\n#fig.show()\nfig"
      ]
    }
  ],
  "metadata": {
    "kernelspec": {
      "display_name": "Python 3",
      "language": "python",
      "name": "python3"
    },
    "language_info": {
      "codemirror_mode": {
        "name": "ipython",
        "version": 3
      },
      "file_extension": ".py",
      "mimetype": "text/x-python",
      "name": "python",
      "nbconvert_exporter": "python",
      "pygments_lexer": "ipython3",
      "version": "3.9.1"
    }
  },
  "nbformat": 4,
  "nbformat_minor": 0
}