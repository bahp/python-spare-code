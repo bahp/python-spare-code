{
  "cells": [
    {
      "cell_type": "code",
      "execution_count": null,
      "metadata": {
        "collapsed": false
      },
      "outputs": [],
      "source": [
        "%matplotlib inline"
      ]
    },
    {
      "cell_type": "markdown",
      "metadata": {},
      "source": [
        "\n# 01. Explainer Dash\n\nThis example runs an app which an interactive\nuser interface to explore the importance of\nthe features using SHAP values.\n\n<div class=\"alert alert-info\"><h4>Note</h4><p>https://github.com/oegedijk/explainerdashboard</p></div>\n\n<div class=\"alert alert-info\"><h4>Note</h4><p>See https://titanicexplainer.herokuapp.com/</p></div>\n\n<div class=\"alert alert-info\"><h4>Note</h4><p>Requires plotly<6</p></div>\n"
      ]
    },
    {
      "cell_type": "code",
      "execution_count": null,
      "metadata": {
        "collapsed": false
      },
      "outputs": [],
      "source": [
        "# Libraries\nimport sys\n\ntry:\n    __file__\n    TERMINAL = True\nexcept:\n    TERMINAL = False\n\n\n\ndef check_version(name):\n    \"\"\"\"\"\"\n    if sys.version_info >= (3, 8):\n        # Since python 3.8\n        from importlib.metadata import version, PackageNotFoundError\n    else:\n        # For older Python versions, you need to install the backport\n        from importlib_metadata import version, PackageNotFoundError\n\n    try:\n        pkg_version = version(name)\n        print(f\"The version of '{name}' is: {pkg_version}\")\n        return pkg_version\n    except PackageNotFoundError:\n        print(\"One of the packages is not installed.\")\n        return None\n\n\n\n\nif __name__ == '__main__':\n\n    if check_version('plotly') < '6':\n\n        # Libraries\n        from sklearn.ensemble import RandomForestClassifier\n        from explainerdashboard import ClassifierExplainer\n        from explainerdashboard import ExplainerDashboard\n        from explainerdashboard.datasets import titanic_survive\n        from explainerdashboard.datasets import titanic_names\n        from explainerdashboard.datasets import feature_descriptions\n\n        # Get data\n        X_train, y_train, X_test, y_test = titanic_survive()\n\n        # Create and fit model\n        model = RandomForestClassifier(n_estimators=50, max_depth=10) \\\n            .fit(X_train, y_train)\n\n        # Configure explainer\n        explainer = ClassifierExplainer(model, X_test, y_test,\n               cats=['Sex', 'Deck', 'Embarked'],\n               descriptions=feature_descriptions,\n               labels=['Not survived', 'Survived'])\n\n        # Run\n        if TERMINAL:\n            ExplainerDashboard(explainer).flask_server()"
      ]
    }
  ],
  "metadata": {
    "kernelspec": {
      "display_name": "Python 3",
      "language": "python",
      "name": "python3"
    },
    "language_info": {
      "codemirror_mode": {
        "name": "ipython",
        "version": 3
      },
      "file_extension": ".py",
      "mimetype": "text/x-python",
      "name": "python",
      "nbconvert_exporter": "python",
      "pygments_lexer": "ipython3",
      "version": "3.11.0"
    }
  },
  "nbformat": 4,
  "nbformat_minor": 0
}