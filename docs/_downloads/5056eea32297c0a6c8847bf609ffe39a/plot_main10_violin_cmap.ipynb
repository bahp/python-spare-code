{
  "cells": [
    {
      "cell_type": "code",
      "execution_count": null,
      "metadata": {
        "collapsed": false
      },
      "outputs": [],
      "source": [
        "%matplotlib inline"
      ]
    },
    {
      "cell_type": "markdown",
      "metadata": {},
      "source": [
        "\n# Main 10 - ``mpl.violin`` with linear cmap\n"
      ]
    },
    {
      "cell_type": "code",
      "execution_count": null,
      "metadata": {
        "collapsed": false
      },
      "outputs": [],
      "source": [
        "import matplotlib\nimport numpy as np\nimport matplotlib.pyplot as plt\nfrom matplotlib.path import Path\nfrom matplotlib.patches import PathPatch\nfrom mpl_toolkits.axes_grid1.axes_divider import make_axes_locatable\n\n\nx = [np.random.normal(loc=i, scale=1, size=(100,)) for i in range(5)]\n\nfig, ax = plt.subplots()\nviolins = ax.violinplot(x)\n\nymin, ymax = ax.get_ylim()\nxmin, xmax = ax.get_xlim()\n\n# create a numpy image to use as a gradient\nNx,Ny=1,1000\nimgArr = np.tile(np.linspace(0,1,Ny), (Nx,1)).T\ncmap = 'hsv'\n\nfor violin in violins['bodies']:\n    path = Path(violin.get_paths()[0].vertices)\n    patch = PathPatch(path, facecolor='none', edgecolor='none')\n    ax.add_patch(patch)\n    img = ax.imshow(imgArr, origin=\"lower\", extent=[xmin,xmax,ymin,ymax], aspect=\"auto\",\n                    cmap=cmap,\n                    clip_path=patch)\n\n# colorbar\nax_divider = make_axes_locatable(ax)\ncax = ax_divider.append_axes(\"right\", size=\"5%\", pad=\"2%\")\nnorm = matplotlib.colors.Normalize(vmin=ymin, vmax=ymax)\ncb = matplotlib.colorbar.ColorbarBase(cax, cmap=matplotlib.cm.get_cmap(cmap),\n                                norm=norm,\n                                orientation='vertical')\n\nplt.show()"
      ]
    }
  ],
  "metadata": {
    "kernelspec": {
      "display_name": "Python 3",
      "language": "python",
      "name": "python3"
    },
    "language_info": {
      "codemirror_mode": {
        "name": "ipython",
        "version": 3
      },
      "file_extension": ".py",
      "mimetype": "text/x-python",
      "name": "python",
      "nbconvert_exporter": "python",
      "pygments_lexer": "ipython3",
      "version": "3.7.9"
    }
  },
  "nbformat": 4,
  "nbformat_minor": 0
}