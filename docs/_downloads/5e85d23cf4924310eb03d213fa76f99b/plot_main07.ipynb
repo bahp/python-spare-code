{
  "cells": [
    {
      "cell_type": "code",
      "execution_count": null,
      "metadata": {
        "collapsed": false
      },
      "outputs": [],
      "source": [
        "%matplotlib inline"
      ]
    },
    {
      "cell_type": "markdown",
      "metadata": {},
      "source": [
        "\n# 07. SHAP Beeswarm Plot\n\nThis script provides a concise, fundamental example of how to\ngenerate a SHAP beeswarm plot to visualize global feature\nimportance. \ud83e\udd16 It trains an XGBoost classifier on the adult\ncensus dataset, computes SHAP values, and then creates the\nclassic beeswarm summary plot, which displays the impact of\nthe most influential features on the model's output.\n"
      ]
    },
    {
      "cell_type": "code",
      "execution_count": null,
      "metadata": {
        "collapsed": false
      },
      "outputs": [],
      "source": [
        "# Libraries\nimport xgboost\nimport shap\nimport matplotlib.pyplot as plt\n\n# Load shap dataset\nX, y = shap.datasets.adult()\n\n# Train model\nmodel = xgboost.XGBClassifier().fit(X, y)\n\n# Create shap explainer\nexplainer = shap.Explainer(model, X)\nshap_values = explainer(X)\n\n# Create beeswarm plot using explainer\nshap.plots.beeswarm(shap_values,\n    max_display=12,\n    order=shap.Explanation.abs.mean(0))\n\n# Adjust\nplt.tight_layout()"
      ]
    }
  ],
  "metadata": {
    "kernelspec": {
      "display_name": "Python 3",
      "language": "python",
      "name": "python3"
    },
    "language_info": {
      "codemirror_mode": {
        "name": "ipython",
        "version": 3
      },
      "file_extension": ".py",
      "mimetype": "text/x-python",
      "name": "python",
      "nbconvert_exporter": "python",
      "pygments_lexer": "ipython3",
      "version": "3.11.0"
    }
  },
  "nbformat": 4,
  "nbformat_minor": 0
}