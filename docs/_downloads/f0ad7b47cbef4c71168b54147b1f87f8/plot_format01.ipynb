{
  "cells": [
    {
      "cell_type": "code",
      "execution_count": null,
      "metadata": {
        "collapsed": false
      },
      "outputs": [],
      "source": [
        "%matplotlib inline"
      ]
    },
    {
      "cell_type": "markdown",
      "metadata": {},
      "source": [
        "\n# Pandas - Format 01\n"
      ]
    },
    {
      "cell_type": "code",
      "execution_count": null,
      "metadata": {
        "collapsed": false
      },
      "outputs": [],
      "source": [
        "# Interesting code.\n# np.lib.stride_tricks.sliding_window_view(df.index, 3)\n\n# Libraries\nimport numpy as np\nimport pandas as pd\n\n# Configuration\nROWS, COLS = 150000, 10\nPATIENTS = 300\n\n# Create random values\nfeatures = np.random.random_sample((ROWS, COLS))\npatients = np.random.randint(PATIENTS, size=(ROWS,1))\n\n# Create DataFrame\ndf = pd.DataFrame(data=features)\ndf = df.add_prefix('feature_')\ndf['patient'] = patients\ndf['day'] = -(df.groupby('patient').cumcount()+1)\ndf = df.sort_values(by=['patient', 'day'],\n    ascending=[True, True]).reset_index(drop=True)\n\n# Show\nprint(\"\\nData:\")\nprint(df)\n\n# ----------------------------------\n# Method I: Own method\n# ----------------------------------\ndef sliding_window_iter(series, size, include_id=True):\n    \"\"\"series is a column of a DataFrame.\n\n    .. note: The DataFrame should be pre-ordered to ensure\n             that IDs remain consistent.\n    \"\"\"\n    for i, start_row in enumerate(range(len(series) - size + 1)):\n        s = series[start_row:start_row + size]\n        if include_id:\n            s['window'] = i\n        yield s\n\n\n# Group by patient and compute sliding window\nresult = df.groupby('patient').apply(lambda x:\n    pd.concat(sliding_window_iter(x, 3)))\n\n# Show\nprint(\"\\nResult:\")\nprint(result)\n\n# ----------------------------------\n# Method II: Using rolling\n# ----------------------------------\n#a = df.groupby('patient').rolling(window=3)\n#b = [win for win in a if win.shape[0] == 3]\n#c = pd.concat(b)\n#print(c)"
      ]
    }
  ],
  "metadata": {
    "kernelspec": {
      "display_name": "Python 3",
      "language": "python",
      "name": "python3"
    },
    "language_info": {
      "codemirror_mode": {
        "name": "ipython",
        "version": 3
      },
      "file_extension": ".py",
      "mimetype": "text/x-python",
      "name": "python",
      "nbconvert_exporter": "python",
      "pygments_lexer": "ipython3",
      "version": "3.9.1"
    }
  },
  "nbformat": 4,
  "nbformat_minor": 0
}