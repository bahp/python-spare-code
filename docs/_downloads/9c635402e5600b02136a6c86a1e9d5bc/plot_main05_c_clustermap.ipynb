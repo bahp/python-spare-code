{
  "cells": [
    {
      "cell_type": "code",
      "execution_count": null,
      "metadata": {
        "collapsed": false
      },
      "outputs": [],
      "source": [
        "%matplotlib inline"
      ]
    },
    {
      "cell_type": "markdown",
      "metadata": {},
      "source": [
        "\n# 05.c ``sns.clustermap`` multiple categories\n\nPlot a matrix dataset as a hierarchically-clustered heatmap.\n\n<div class=\"alert alert-info\"><h4>Note</h4><p>The hierarchical clustering has been deactivated.</p></div>\n"
      ]
    },
    {
      "cell_type": "code",
      "execution_count": null,
      "metadata": {
        "collapsed": false
      },
      "outputs": [],
      "source": [
        "# Libraries\nimport pandas as pd\nimport seaborn as sns\nimport matplotlib.pyplot as plt\n\nfrom matplotlib.pyplot import gcf"
      ]
    },
    {
      "cell_type": "markdown",
      "metadata": {},
      "source": [
        "Let's load the dataset\n\n"
      ]
    },
    {
      "cell_type": "code",
      "execution_count": null,
      "metadata": {
        "collapsed": false
      },
      "outputs": [],
      "source": [
        "# Load dataset\nnetworks = sns.load_dataset(\"brain_networks\",\n    index_col=0, header=[0, 1, 2])"
      ]
    },
    {
      "cell_type": "markdown",
      "metadata": {},
      "source": [
        "Let's create the network colors\n\n"
      ]
    },
    {
      "cell_type": "code",
      "execution_count": null,
      "metadata": {
        "collapsed": false
      },
      "outputs": [],
      "source": [
        "# Create network colors\nnetwork_labels = networks.columns.get_level_values(\"network\")\nnetwork_pal = sns.cubehelix_palette(network_labels.unique().size,\n    light=.9, dark=.1, reverse=True, start=1, rot=-2)\nnetwork_lut = dict(zip(map(str, network_labels.unique()), network_pal))\n\nnetwork_colors = \\\n    pd.Series(network_labels, index=networks.columns) \\\n        .map(network_lut)"
      ]
    },
    {
      "cell_type": "markdown",
      "metadata": {},
      "source": [
        "Let's create the node colors\n\n"
      ]
    },
    {
      "cell_type": "code",
      "execution_count": null,
      "metadata": {
        "collapsed": false
      },
      "outputs": [],
      "source": [
        "# Create node colors\nnode_labels = networks.columns.get_level_values(\"node\")\nnode_pal = sns.cubehelix_palette(node_labels.unique().size)\nnode_lut = dict(zip(map(str, node_labels.unique()), node_pal))\n\nnode_colors = \\\n    pd.Series(node_labels, index=networks.columns) \\\n        .map(node_lut)"
      ]
    },
    {
      "cell_type": "markdown",
      "metadata": {},
      "source": [
        "Let's combine them.\n\n"
      ]
    },
    {
      "cell_type": "code",
      "execution_count": null,
      "metadata": {
        "collapsed": false
      },
      "outputs": [],
      "source": [
        "# Combine\nnetwork_node_colors = \\\n    pd.DataFrame(network_colors) \\\n        .join(pd.DataFrame(node_colors))"
      ]
    },
    {
      "cell_type": "markdown",
      "metadata": {},
      "source": [
        "Let's display the clustermap\n\n"
      ]
    },
    {
      "cell_type": "code",
      "execution_count": null,
      "metadata": {
        "collapsed": false
      },
      "outputs": [],
      "source": [
        "# Display\ng = sns.clustermap(networks.corr(),\n    row_cluster=False, col_cluster=False, # turn off clusters\n    row_colors = network_node_colors, # add colored labels\n    col_colors = network_node_colors, # add colored labels\n    linewidths=0, xticklabels=False, yticklabels=False,\n    center=0, cmap=\"vlag\", figsize=(7, 7))\n\n\n# Add legend for networks\nfor label in network_labels.unique():\n    g.ax_col_dendrogram.bar(0, 0,\n        color=network_lut[label], label=label, linewidth=0)\n\nl1 = g.ax_col_dendrogram.legend(title='Network',\n    loc=\"center\", ncol=5, bbox_to_anchor=(0.53, 0.9),\n    bbox_transform=gcf().transFigure)\n\n# Add legend for nodes\nfor label in node_labels.unique():\n    g.ax_row_dendrogram.bar(0, 0,\n        color=node_lut[label], label=label, linewidth=0)\n\nl2 = g.ax_row_dendrogram.legend(title='Node',\n    loc=\"center\", ncol=1, bbox_to_anchor=(0.86, 0.9),\n    bbox_transform=gcf().transFigure)\n\nplt.show()"
      ]
    }
  ],
  "metadata": {
    "kernelspec": {
      "display_name": "Python 3",
      "language": "python",
      "name": "python3"
    },
    "language_info": {
      "codemirror_mode": {
        "name": "ipython",
        "version": 3
      },
      "file_extension": ".py",
      "mimetype": "text/x-python",
      "name": "python",
      "nbconvert_exporter": "python",
      "pygments_lexer": "ipython3",
      "version": "3.10.13"
    }
  },
  "nbformat": 4,
  "nbformat_minor": 0
}