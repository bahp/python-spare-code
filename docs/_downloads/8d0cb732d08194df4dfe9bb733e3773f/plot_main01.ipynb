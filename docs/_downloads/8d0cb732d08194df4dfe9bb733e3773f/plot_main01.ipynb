{
  "cells": [
    {
      "cell_type": "code",
      "execution_count": null,
      "metadata": {
        "collapsed": false
      },
      "outputs": [],
      "source": [
        "%matplotlib inline"
      ]
    },
    {
      "cell_type": "markdown",
      "metadata": {},
      "source": [
        "\n# UKVI trips visualisation\n"
      ]
    },
    {
      "cell_type": "code",
      "execution_count": null,
      "metadata": {
        "collapsed": false
      },
      "outputs": [],
      "source": [
        "import pdfplumber\nimport re\nimport pandas as pd\nimport matplotlib.dates as mdates\nimport matplotlib.pyplot as plt\n\nfrom matplotlib.dates import DateFormatter\nfrom pathlib import Path\n\n\n\n\ndef extract_basic_travel_data(pdf_path, start_page, end_page):\n    \"\"\"Extract the data from a PDF file.\n\n    Ensure that the format is appropriate, ent the column headers match those\n    included below. Otherwise modify as appropriate.\n\n    Parameters\n    ----------\n    pdf_path: str\n        The path to the file.\n    start_page: int\n        The start page where the table apperas.\n    end_page: int\n        The end page where the table appears.\n\n    Returns\n    -------\n    \"\"\"\n    # Define the headers for essential data\n    headers = [\n        \"Departure Date/Time\", \"Arrival Date/Time\", \"Voyage Code\", \"In/Out\",\n        \"Dep Port\", \"Arrival Port\"\n    ]\n\n    travel_data = []\n\n    # Regex pattern to capture essential information\n    row_pattern = re.compile(\n        r\"(\\d{2}/\\d{2}/\\d{4} \\d{2}:\\d{2})\\s+\"  # Departure Date/Time\n        r\"(\\d{2}/\\d{2}/\\d{4} \\d{2}:\\d{2})\\s+\"  # Arrival Date/Time\n        r\"(\\S+)\\s+\"                            # Voyage Code\n        r\"(Outbound|Inbound)\\s+\"               # In/Out\n        r\"(\\S+)\\s+\"                            # Dep Port\n        r\"(\\S+)\"                               # Arrival Port\n    )\n\n    # Open the PDF file and iterate over specified pages\n    with pdfplumber.open(pdf_path) as pdf:\n        for page_num in range(start_page - 1, end_page):\n            page = pdf.pages[page_num]\n            text = page.extract_text()\n            if not text:\n                continue\n\n            # Match rows using the regex pattern\n            matches = row_pattern.findall(text)\n            if matches:\n                for match in matches:\n                    travel_data.append(dict(zip(headers, match)))\n\n    # Return\n    return travel_data\n\n\ndef combine_outbound_inbound(df):\n    \"\"\"Combine Outbound-Ibound rows into a single one.\n\n    Paramters\n    ---------\n    df: pd.DataFrame\n        The DataFrame with the data.\n\n    Returns\n    -------\n    pd.DataFrame\n\n    \"\"\"\n\n    # Convert date columns to datetime format\n    df[\"Departure Date/Time\"] = \\\n        pd.to_datetime(df[\"Departure Date/Time\"], \n            format=\"%d/%m/%Y %H:%M\")\n    df[\"Arrival Date/Time\"] = \\\n        pd.to_datetime(df[\"Arrival Date/Time\"], \n            format=\"%d/%m/%Y %H:%M\")\n\n    # Sort the DataFrame by \"Departure Date/Time\"\n    df = df.sort_values(by=\"Departure Date/Time\").reset_index(drop=True)\n\n    # Process the DataFrame\n    result = []\n    for i in range(0, len(df) - 1, 2):  # Step by 2 to handle consecutive rows\n        outbound = df.iloc[i]\n        inbound = df.iloc[i + 1]\n\n        # Ensure the pair consists of an outbound followed by an inbound\n        if outbound[\"In/Out\"] == \"Outbound\" and inbound[\"In/Out\"] == \"Inbound\":\n            # Calculate the difference in days\n            days_difference = (inbound[\"Arrival Date/Time\"] - outbound[\"Departure Date/Time\"]).days - 1\n\n            # Create a combined row with desired columns\n            combined_row = {\n                \"Outbound Date\": outbound[\"Departure Date/Time\"],\n                \"Inbound Date\": inbound[\"Arrival Date/Time\"],\n                \"Outbound Ports\": outbound[\"Dep Port\"] + '-' + outbound[\"Arrival Port\"],\n                \"Inbound Ports\": inbound[\"Dep Port\"] + '-' + inbound[\"Arrival Port\"],\n                \"Days Difference\": days_difference,\n                \"Voyage Code\": outbound[\"Voyage Code\"]\n            }\n\n            result.append(combined_row)\n\n    # Return\n    return pd.DataFrame(result)\n\n\n\ndef display(df, cmap=None):\n    \"\"\"Plotting the graph.\n\n    Parameters\n    ----------\n    df: pd.DataFrame\n        The pandas DataFrame.\n\n    Returns\n    -------\n    None\n    \"\"\"\n    # Set up plot\n    fig, ax = plt.subplots(figsize=(16, 8))\n\n    # Fore each row (voyage)\n    for i, row in df.iterrows():\n\n        if cmap is None:\n            color = 'skyblue' \n        else:\n            cmap.get(row['Outbound Ports'].split('-')[1], 'skyblue')\n\n\n        # Plot each voyage as a horizontal bar with text annotations\n        ax.plot([row[\"Outbound Date\"], row[\"Inbound Date\"]], [i, i], marker='o', color=color, lw=6)\n       \n        # Formatting outbound and inbound dates\n        outbound_str = row[\"Outbound Date\"].strftime(\"%d %b\")  # Day and abbreviated month\n        inbound_str = row[\"Inbound Date\"].strftime(\"%d %b\")    # Day and abbreviated month\n\n        # Adjust the text position to be further right\n        ax.text(row[\"Inbound Date\"] + pd.Timedelta(days=10), i - 0.05,  # Increased offset to 10 days\n                f\"{row['Outbound Ports']} ({outbound_str}) to {row['Inbound Ports']} ({inbound_str}) | {row['Days Difference']} days\", \n                va='center', ha='left', fontsize=9, color=\"black\")\n\n    # Alternate month shading\n    start_date = df[\"Outbound Date\"].min().replace(day=1)\n    end_date = df[\"Inbound Date\"].max()\n    current_date = start_date\n    month = 0\n    while current_date < end_date:\n        next_month = (current_date + pd.DateOffset(months=1)).replace(day=1)\n        ax.axvspan(current_date, next_month, color='gray' if month % 2 == 0 else 'lightgray', alpha=0.2)\n        current_date = next_month\n        month += 1\n\n    # Add horizontal lines for each year\n    years = pd.date_range(start=start_date, end=end_date+pd.DateOffset(years=1), freq='Y')\n    for year in years:\n        ax.axvline(year, color='black', linestyle='--', lw=1)  # Vertical line for each year\n        ax.text(year - pd.Timedelta(days=90), len(df) + 0.5, year.year, \n            ha='left', va='center', fontsize=10, color='black')  # Year label\n\n    # Setting the x-axis limits to include full years\n    full_start_date = pd.Timestamp(year=start_date.year, month=1, day=1)\n    full_end_date = pd.Timestamp(year=end_date.year + 1, month=1, day=1)  # Next January\n    ax.set_xlim(full_start_date, full_end_date)\n\n    # Set x-axis ticks to show full years from January to December\n    ax.xaxis.set_major_locator(mdates.YearLocator())   # Major ticks at the beginning of each year\n    ax.xaxis.set_minor_locator(mdates.MonthLocator())  # Minor ticks for each month\n    ax.xaxis.set_major_formatter(DateFormatter(\"%Y\"))  # Year as the format for major ticks\n\n    # Formatting the plot\n    ax.set_yticks(range(len(df)))\n    ax.set_yticklabels(df[\"Voyage Code\"])\n    #ax.set_yticklabels(df['Days Difference'])\n    ax.set_xlabel(\"Date\")\n    ax.set_title(\"Voyage Durations (total abroad %s days)\" % df['Days Difference'].sum())\n\n    # Set x-axis ticks to show abbreviated month names and year\n    ax.xaxis.set_major_locator(mdates.MonthLocator())\n    ax.xaxis.set_major_formatter(DateFormatter(\"%b %Y\"))  # Month abbreviation and year\n    plt.xticks(rotation=45)\n\n    plt.grid(axis='x', linestyle='--', alpha=0.5)\n    plt.tight_layout()\n    plt.show()\n\n\n\n# ------------------------------------------------------\n# Main\n#\u00a0------------------------------------------------------\n# Include any missing entry. This could happen if the travel\n# was done by bus or train, as only flights have been recorded\n#\u00a0in the system.\nMISSING = {\n    'veronica': [\n        {\n            \"Departure Date/Time\": \"22/04/2019 18:21\",\n            \"Arrival Date/Time\": \"22/04/2019 20:21\",\n            \"Voyage Code\": \"BUS001\",\n            \"In/Out\": \"Inbound\",\n            \"Dep Port\": \"AMS\",\n            \"Arrival Port\": \"LDN\"\n        }\n    ]\n}\n\n# Include the colors desired for each airport. For example \n# they could be colored by country.\nCOLORMAP = {\n    'FRA': 'black',\n    'BLQ': 'green',\n    'LHR': 'blue',\n    'LGW': 'blue',\n    'RAK': 'skyblue',\n    'STN': 'blue',\n    'AOI': 'green', \n    'MXP': 'green', \n    'LTN': 'blue',\n    'JNB': 'skyblue',\n    'AMS': 'skyblue',\n    'BGY': 'green',\n    'ZRH': 'skyblue',\n    'ALC': 'yellow',\n    'TFS': 'yellow',\n    'BSL': 'skyblue',\n    'MAD': 'yellow',\n    'VRN': 'green', \n    'ATH': 'skyblue',\n    'LPA': 'yellow',\n    'FCO': 'green', \n    'FRFHN': 'black',\n    'LDN': 'blue'\n}\n\n\n\n# Define the PDF file path and page range to extract\npdf_path = Path('./data/775243 Final Bundle.pdf')\nstart_page = 6  # Page number where the tables start\nend_page = 8    # Page number where the tables end\n\n# Define the JSON file\n#pdf_path = Path('./data/bernard-2024.json')\n\n# Load DataFrame\nif pdf_path.suffix == '.pdf':\n    trips = extract_basic_travel_data(pdf_path, start_page, end_page)\nelif pdf_path.suffix == '.json':\n    trips = pd.read_json(pdf_path)\nelse:\n    print('File extension <%s> not supported.' % pdf_path.suffix)\n\n# Convert to DataFrame\ndf = pd.DataFrame(trips)\n# Append missing rows using concat\ndf = pd.concat([df, pd.DataFrame(MISSING['veronica'])], ignore_index=True)\n# Combine consecutive outbound-inbound trips into one row.\ndf_cmb = combine_outbound_inbound(df)\n\n# Show\nprint(df_cmb)\n\n# Display\ndisplay(df_cmb)"
      ]
    }
  ],
  "metadata": {
    "kernelspec": {
      "display_name": "Python 3",
      "language": "python",
      "name": "python3"
    },
    "language_info": {
      "codemirror_mode": {
        "name": "ipython",
        "version": 3
      },
      "file_extension": ".py",
      "mimetype": "text/x-python",
      "name": "python",
      "nbconvert_exporter": "python",
      "pygments_lexer": "ipython3",
      "version": "3.10.13"
    }
  },
  "nbformat": 4,
  "nbformat_minor": 0
}