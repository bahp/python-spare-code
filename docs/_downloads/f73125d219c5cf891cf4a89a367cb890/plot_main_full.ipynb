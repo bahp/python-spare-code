{
  "cells": [
    {
      "cell_type": "code",
      "execution_count": null,
      "metadata": {
        "collapsed": false
      },
      "outputs": [],
      "source": [
        "%matplotlib inline"
      ]
    },
    {
      "cell_type": "markdown",
      "metadata": {},
      "source": [
        "\n# All patients\n"
      ]
    },
    {
      "cell_type": "code",
      "execution_count": null,
      "metadata": {
        "collapsed": false
      },
      "outputs": [],
      "source": [
        "# Generic libraries\nimport pandas as pd"
      ]
    },
    {
      "cell_type": "markdown",
      "metadata": {},
      "source": [
        "First, lets load and do some basic formatting on the data.\n\n"
      ]
    },
    {
      "cell_type": "code",
      "execution_count": null,
      "metadata": {
        "collapsed": false
      },
      "outputs": [],
      "source": [
        "# -----------------------------\n# Constants\n# -----------------------------\n# Path\npath = './data/One_patient_condensed_10656173.csv'\npath = './data/One_patient_condensed_11803145.csv'\n#path = './data/ICU_diagnoses_antibiotics.csv'\n\n# -----------------------------\n# Load data\n# -----------------------------\n# Read data\ndata = pd.read_csv(path,\n    dayfirst=True,\n    parse_dates=['starttime',\n                 'stoptime'])\n\n# Keep only useful columns\ndata = data[['subject_id',\n             'hadm_id',\n             'stay_id',\n             'icd_code',\n             'antibiotic',\n             'route',\n             'starttime',\n             'stoptime']]\n\n# Reformat (time info and str)\ndata.starttime = data.starttime.dt.date\ndata.stoptime = data.stoptime.dt.date\ndata.antibiotic = data.antibiotic \\\n    .str.lower() \\\n    .str.strip()\n\n# Show data\nprint(data)"
      ]
    },
    {
      "cell_type": "markdown",
      "metadata": {},
      "source": [
        "Lets transform the data\n\n<div class=\"alert alert-info\"><h4>Note</h4><p>You might need to add ``NaNs`` for missing days per patient.\n          The other sample (One patient) achieves this by using the\n          following code (see below) but it needs to be applied per\n          patient to work for all.\n\n          aux = aux.asfreq('1D')</p></div>\n\n"
      ]
    },
    {
      "cell_type": "code",
      "execution_count": null,
      "metadata": {
        "collapsed": false
      },
      "outputs": [],
      "source": [
        "# -----------------------------\n# Transform data\n# -----------------------------\n# .. note: The closed parameter indicates whether to include\n#          the first and/or last samples. None will keep both,\n#          left will keep only start date and right will keep\n#          also the right date.\n# Create column with date range\ndata['startdate'] = data.apply(lambda x:\n    pd.date_range(start=x['starttime'],\n                  end=x['stoptime'],\n                  closed='left',         # ignoring right\n                  freq='D') ,axis=1)\n\n# Explode such column\ndata = data.explode('startdate')\n\n# Groupby\ngroupby = ['subject_id',\n           'hadm_id',\n           'stay_id',\n           'startdate']\n\n# Create daily therapies\naux = data.groupby(groupby) \\\n    .apply(lambda x: sorted(x.antibiotic \\\n        .unique().tolist()))"
      ]
    },
    {
      "cell_type": "markdown",
      "metadata": {},
      "source": [
        "Show the formatted therapies.\n\n"
      ]
    },
    {
      "cell_type": "code",
      "execution_count": null,
      "metadata": {
        "collapsed": false
      },
      "outputs": [],
      "source": [
        "print(\"\\nFormatted:\")\nprint(aux)"
      ]
    },
    {
      "cell_type": "markdown",
      "metadata": {},
      "source": [
        "Show the number of days per therapy\n\n"
      ]
    },
    {
      "cell_type": "code",
      "execution_count": null,
      "metadata": {
        "collapsed": false
      },
      "outputs": [],
      "source": [
        "print(\"\\nTherapies (number of days)\")\nprint(aux.value_counts())"
      ]
    }
  ],
  "metadata": {
    "kernelspec": {
      "display_name": "Python 3",
      "language": "python",
      "name": "python3"
    },
    "language_info": {
      "codemirror_mode": {
        "name": "ipython",
        "version": 3
      },
      "file_extension": ".py",
      "mimetype": "text/x-python",
      "name": "python",
      "nbconvert_exporter": "python",
      "pygments_lexer": "ipython3",
      "version": "3.8.3"
    }
  },
  "nbformat": 4,
  "nbformat_minor": 0
}