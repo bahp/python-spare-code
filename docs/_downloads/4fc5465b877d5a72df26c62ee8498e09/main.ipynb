{
  "cells": [
    {
      "cell_type": "code",
      "execution_count": null,
      "metadata": {
        "collapsed": false
      },
      "outputs": [],
      "source": [
        "%matplotlib inline"
      ]
    },
    {
      "cell_type": "markdown",
      "metadata": {},
      "source": [
        "\n# Main\n\nExample\n"
      ]
    },
    {
      "cell_type": "code",
      "execution_count": null,
      "metadata": {
        "collapsed": false
      },
      "outputs": [],
      "source": [
        "# Libraries\nimport pandas as pd\n\n# Libraries specific\nfrom sklearn.preprocessing import StandardScaler\nfrom sklearn.preprocessing import MinMaxScaler\nfrom sklearn.preprocessing import RobustScaler\nfrom sklearn.preprocessing import Normalizer\nfrom sklearn.impute import SimpleImputer\n\n\nclass DataframeXYWrapper():\n\n    def __init__(self, dataframe, X_columns, y_columns):\n        \"\"\"\n        \"\"\"\n        self.dataframe = dataframe\n        self.X_cols = X_columns\n        self.y_cols = y_columns\n\n    def get_X(self):\n        \"\"\"Return...\"\"\"\n        return self.dataframe[self.X_cols]\n\n    def get_y(self):\n        \"\"\"Return...\"\"\"\n        return self.dataframe[self.y_cols]\n\n    def get_X_y(self):\n        \"\"\"Return...\n        \"\"\"\n        return self.dataframe[self.X_cols + self.y_cols]\n\n    def apply(self, obj, func, requires_X=False,\n                               requires_y=False,\n                               argname_X='X',\n                               argname_y='y',\n                               inplace=True,\n                               return_obj=True,\n                               **kwargs):\n        \"\"\"\n        \"\"\"\n        if requires_X:\n            kwargs[argname_X] = self.get_X()\n        if requires_y:\n            kwargs[argname_y] = self.get_y()\n\n        # Output\n        out = getattr(obj, func)(**kwargs)\n\n        # Inplace\n        if inplace:\n            self.dataframe[self.X_cols] = out\n\n        # Return\n        if return_obj:\n            return obj, out\n        return out\n\n\n\n# --------------------------------------------------\n# Main\n# --------------------------------------------------\n# Read data\ndataframe = pd.read_csv('./dataset.csv')\ndataframe = dataframe.reset_index()\n\n# Define columns\nX_columns = ['BIL', 'CRP', 'CRE']\ny_columns = ['micro_confirmed']\n\n# Create wrapper\nwrapper = DataframeXYWrapper(dataframe=dataframe,\n                             X_columns=X_columns,\n                             y_columns=y_columns)\n# Show\nprint(wrapper.get_X())\n\n# ------------------------------\n# Imputers\n# ------------------------------\n# Loop\nfor name, imputer in [('mean', SimpleImputer(strategy='mean')),\n                      ('median', SimpleImputer(strategy='median'))]:\n    # Apply imputer\n    obj, out = wrapper.apply(imputer, 'fit_transform', requires_X=True,\n                           inplace=False)\n    # Display\n    print(\"\\n\\n{0}:\\n{1}\".format(imputer, out))\n\nimport sys\n\nsys.exit()\n# ------------------------------\n# Scalers\n# ------------------------------\n# Loop\nfor name, scaler in [('std', StandardScaler()),\n                     ('mmx', MinMaxScaler()),\n                     ('rbs', RobustScaler())]:\n    # Apply scaler\n    obj, out = wrapper.apply(scaler, 'fit_transform', requires_X=True,\n                           inplace=False)\n    # Display\n    print(\"\\n\\n{0}:\\n{1}\".format(scaler, output))"
      ]
    }
  ],
  "metadata": {
    "kernelspec": {
      "display_name": "Python 3",
      "language": "python",
      "name": "python3"
    },
    "language_info": {
      "codemirror_mode": {
        "name": "ipython",
        "version": 3
      },
      "file_extension": ".py",
      "mimetype": "text/x-python",
      "name": "python",
      "nbconvert_exporter": "python",
      "pygments_lexer": "ipython3",
      "version": "3.9.0"
    }
  },
  "nbformat": 4,
  "nbformat_minor": 0
}