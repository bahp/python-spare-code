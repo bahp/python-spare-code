{
  "cells": [
    {
      "cell_type": "code",
      "execution_count": null,
      "metadata": {
        "collapsed": false
      },
      "outputs": [],
      "source": [
        "%matplotlib inline"
      ]
    },
    {
      "cell_type": "markdown",
      "metadata": {},
      "source": [
        "\n# Mutual Information Criteria\n\nThe ``Mutual Information Score``, often denoted as ``MIS``, expresses the extent\nto which observed frequency of co-occurrence differs from what we would expect\n(statistically speaking). In statistically pure terms this is a measure of the\nstrength of association between words x and y.\n\nSee below for a few resources.\n\n  * `R1`_: Detailed video tutorial step by step.\n  * `R2`_: Detailed tutorial with python code.\n  * `R3`_: Possible libraries in python/R and other tools.\n  * `R5`_: Efficient pairwise MIS implementation...\n\n\n"
      ]
    },
    {
      "cell_type": "markdown",
      "metadata": {},
      "source": [
        "Lets import the main libraries\n\n"
      ]
    },
    {
      "cell_type": "code",
      "execution_count": null,
      "metadata": {
        "collapsed": false
      },
      "outputs": [],
      "source": [
        "# Generic\nimport warnings\nimport numpy as np\nimport pandas as pd\n\n# Specific\nfrom itertools import combinations\nfrom timeit import default_timer as timer\nfrom scipy.stats.contingency import crosstab\nfrom sklearn.metrics import mutual_info_score\nfrom sklearn.metrics import adjusted_mutual_info_score\nfrom sklearn.metrics import normalized_mutual_info_score\n\n# Own\nfrom mic import mutual_info_matrix_v3\nfrom mic import mutual_info_matrix_v2\nfrom mic import mutual_info_matrix_v1\n\nwarnings.filterwarnings(\"ignore\")\n\ndef print_example_heading(n, t=''):\n    print(\"\\n\" + \"=\" * 80 + \"\\nExample %s\\n\"%n + \"=\" * 80)\n\ntry:\n    __file__\n    TERMINAL = True\nexcept:\n    TERMINAL = False"
      ]
    },
    {
      "cell_type": "markdown",
      "metadata": {},
      "source": [
        "## a) Manual example (youtube)\nLets start with a hard coded example extracted from a very\ndetailed youtube tutorial (`R1`_). This video tutorial shows step by\nstep how to compute the mutual information score using the contingency\nmatrix defined below. Pay special attention to the following consideration\nwhen implementing the ``MIS``:\n\n  * only possible to compute where more than one class present\n  * log(0) raises a zero division.\n  * lim x->0 log(x) = 0\n  * this np.nan can be filled with 0.\n\n\n"
      ]
    },
    {
      "cell_type": "code",
      "execution_count": null,
      "metadata": {
        "collapsed": false
      },
      "outputs": [],
      "source": [
        "# See: https://www.youtube.com/watch?v=eJIp_mgVLwE\n\n# Contingency\nct = np.array([[3/5, 1/5], [0/5, 1/5]])\n\n# Compute MIS manually\nmi1 = (3/5)*np.log((3/5) / ((3/5)*(4/5)))\n#mi2 = (0/5)*np.log((0/5) / ((3/5)*(1/5))) # zero division\nmi3 = (1/5)*np.log((1/5) / ((2/5)*(4/5)))\nmi4 = (1/5)*np.log((1/5) / ((2/5)*(1/5)))\nm1 = np.array([[mi1, mi3], [0, mi4]])\nscore1 = mi1 + mi3 + mi4 # 0.22\n\n# Compute component information matrix\nm2 = mutual_info_matrix_v1(ct=ct)\nm3 = mutual_info_matrix_v2(ct=ct)\nm4 = mutual_info_matrix_v3(ct=ct)\n\n# .. note: Raises a math domain error.\n# Compute MIS scikits\n#score4 = mutual_info_score(labels_true=None,\n#                           labels_pred=None,\n#                           contingency=ct)\n\n# Cumu\ncumu = pd.DataFrame([\n    ['manual'] + m1.flatten().tolist(),\n    ['mutual_info_matrix_v1'] + m2.flatten().tolist(),\n    ['mutual_info_matrix_v2'] + m3.flatten().tolist(),\n    ['mutual_info_matrix_v3'] + m4.flatten().tolist()\n], columns=['method', 'c11', 'c12', 'c21', 'c22'])\n\n# Compute MIS score\ncumu['mis'] = cumu.sum(axis=1)"
      ]
    },
    {
      "cell_type": "markdown",
      "metadata": {},
      "source": [
        "Lets see the contingency matrix\n\n"
      ]
    },
    {
      "cell_type": "code",
      "execution_count": null,
      "metadata": {
        "collapsed": false
      },
      "outputs": [],
      "source": [
        "if TERMINAL:\n    print_example_heading(n=1)\n    print('\\nContingency:')\n    print(ct)\npd.DataFrame(ct)"
      ]
    },
    {
      "cell_type": "markdown",
      "metadata": {},
      "source": [
        "Lets see the results\n\n"
      ]
    },
    {
      "cell_type": "code",
      "execution_count": null,
      "metadata": {
        "collapsed": false
      },
      "outputs": [],
      "source": [
        "if TERMINAL:\n    print(\"\\nResults:\")\n    print(cumu)\ncumu"
      ]
    },
    {
      "cell_type": "markdown",
      "metadata": {},
      "source": [
        "<div class=\"alert alert-info\"><h4>Note</h4><p>The method ``mutual_info_matrix_v1`` does not work in this example!</p></div>\n\n"
      ]
    },
    {
      "cell_type": "markdown",
      "metadata": {},
      "source": [
        "## b) Another two class example\nIn the previous example we started with the definition of the contingency\nmatrix. However, that is not often the case. In this example we will go\none step back and show how to compute the contingency matrix from the raw\nvectors using either scipy o pandas. Note that the contingency matrix is\njust a way to display the frequency distribution of the variables.\n\n"
      ]
    },
    {
      "cell_type": "code",
      "execution_count": null,
      "metadata": {
        "collapsed": false
      },
      "outputs": [],
      "source": [
        "# Generate the dataset\nx = np.array([\n    ['S1', 'S2'],\n    ['S1', 'R2'],\n    ['R1', 'S2'],\n    ['R1', 'R2']])\nd = np.repeat(x, [63, 22, 15, 25], axis=0)\nd = pd.DataFrame(data=d)\n\n# Create variables\nx = d[0]\ny = d[1]\n\n# Compute contingency\n#ct = crosstab(d[0], d[1]).count\nct = pd.crosstab(x, y)\n\n# Compute MIS\nscore0 = mutual_info_score(labels_true=x, labels_pred=y)\n\n# Compute MIS\nm1 = mutual_info_matrix_v1(x=x, y=y)\nm2 = mutual_info_matrix_v2(x=x, y=y)\nm3 = mutual_info_matrix_v3(x=x, y=y)\n\n# Compute MIS\nm4 = mutual_info_matrix_v1(ct=ct)\nm5 = mutual_info_matrix_v2(ct=ct)\nm6 = mutual_info_matrix_v3(ct=ct)\n\n# Cumu\ncumu = pd.DataFrame([\n    #['mutual_info_score'] + m1.flatten().tolist(),\n    ['mutual_info_matrix_v1 (x,y)'] + m1.flatten().tolist(),\n    ['mutual_info_matrix_v2 (x,y)'] + m2.flatten().tolist(),\n    ['mutual_info_matrix_v3 (x,y)'] + m3.flatten().tolist(),\n    ['mutual_info_matrix_v1 (ct)'] + m4.flatten().tolist(),\n    ['mutual_info_matrix_v2 (ct)'] + m5.flatten().tolist(),\n    ['mutual_info_matrix_v3 (ct)'] + m6.flatten().tolist(),\n], columns=['method', 'c11', 'c12', 'c21', 'c22'])\n\n# Compute MIS score\ncumu['mis'] = cumu.sum(axis=1)"
      ]
    },
    {
      "cell_type": "markdown",
      "metadata": {},
      "source": [
        "Lets see the contingency matrix\n\n"
      ]
    },
    {
      "cell_type": "code",
      "execution_count": null,
      "metadata": {
        "collapsed": false
      },
      "outputs": [],
      "source": [
        "if TERMINAL:\n    print_example_heading(n=2)\n    print('\\nContingency:')\n    print(ct)\nct"
      ]
    },
    {
      "cell_type": "markdown",
      "metadata": {},
      "source": [
        "Lets see the results\n\n"
      ]
    },
    {
      "cell_type": "code",
      "execution_count": null,
      "metadata": {
        "collapsed": false
      },
      "outputs": [],
      "source": [
        "if TERMINAL:\n    print(\"\\nResults:\")\n    print(cumu)\ncumu"
      ]
    },
    {
      "cell_type": "markdown",
      "metadata": {},
      "source": [
        "## c) Collateral Resistance Index\nNow, lets compute the ``MIS`` score as defined in the manuscript (`R5`_).\nNote that the manuscript provided the cumulative data as appendix\nmaterial and therefore we can use it to compare that our implementation\nproduces the same result.\n\n<div class=\"alert alert-info\"><h4>Note</h4><p>The results provided by our own ``MIS`` implementation differs\n          from the results provided in the manuscript. This discrepancy\n          occurs for those rows in which the contingency matrix contains\n          one of more zeros.</p></div>\n\n"
      ]
    },
    {
      "cell_type": "code",
      "execution_count": null,
      "metadata": {
        "collapsed": false
      },
      "outputs": [],
      "source": [
        "def collateral_resistance_index(m):\n    \"\"\"Collateral Resistance Index\n\n    The collateral resistance index is based on the mutual\n    information matrix. This implementation assumes there\n    are two classes resistant (R) and sensitive (S).\n\n    Parameters\n    ----------\n    m: np.array\n        A numpy array with the mutual information matrix.\n\n    Returns\n    -------\n    \"\"\"\n    return (m[0, 0] + m[1, 1]) - (m[0, 1] + m[1, 0])\n\ndef CRI(x, func):\n    ct = np.array([[x.S1S2, x.S1R2], [x.R1S2, x.R1R2]])\n    m = func(ct=ct)\n    return collateral_resistance_index(m)\n\ndef compare(data, x, y):\n    return data[x].round(5).compare(data[y].round(5)).index.values\n\n# Load data\ndata = pd.read_excel('./data/mmc2.xlsx')\n\n# .. note: MIS_v1 is inspired by the implementation in sklearn. For some\n#          reason, when one of the values of the contigency matrix is 0\n#          it returns an array with three values and thus raises an error.\n\n# Compute MIC score ourselves\n#data['MIS_v1'] = data.apply(CRI, args=(mutual_info_matrix_v1,), axis=1)\ndata['MIS_v2'] = data.apply(CRI, args=(mutual_info_matrix_v2,), axis=1)\ndata['MIS_v3'] = data.apply(CRI, args=(mutual_info_matrix_v3,), axis=1)\n\n# Compute indexes of those that do not give same result.\nidxs1 = compare(data, 'MIS', 'MIS_v3')"
      ]
    },
    {
      "cell_type": "markdown",
      "metadata": {},
      "source": [
        "Lets see the data\n\n"
      ]
    },
    {
      "cell_type": "code",
      "execution_count": null,
      "metadata": {
        "collapsed": false
      },
      "outputs": [],
      "source": [
        "if TERMINAL:\n    print_example_heading(n=3)\n    print(\"\\nData:\")\n    print(data)\ndata.iloc[:, 3:]"
      ]
    },
    {
      "cell_type": "markdown",
      "metadata": {},
      "source": [
        "Lets see where the results are different\n\n"
      ]
    },
    {
      "cell_type": "code",
      "execution_count": null,
      "metadata": {
        "collapsed": false
      },
      "outputs": [],
      "source": [
        "if TERMINAL:\n    print(\"\\nAre they equal? Show differences below:\")\n    print(data.iloc[idxs1, :])\ndata.iloc[idxs1, 3:]"
      ]
    },
    {
      "cell_type": "markdown",
      "metadata": {},
      "source": [
        "## d) Exploring the efficiency\nThis code is used to compare whether the implementations are\nmore or less efficient between them. Note that the methods\nhave itself some limitations.\n\n"
      ]
    },
    {
      "cell_type": "code",
      "execution_count": null,
      "metadata": {
        "collapsed": false
      },
      "outputs": [],
      "source": [
        "# Generate data\nN = 10000000\nchoices = np.arange(2)\nvector1 = np.random.choice(choices, size=N)\nvector2 = np.random.choice(choices, size=N)\n\n# Compute times\nt1 = timer()\nm1 = mutual_info_matrix_v1(x=vector1, y=vector2)\nt2 = timer()\nm2 = mutual_info_matrix_v2(x=vector1, y=vector2)\nt3 = timer()\nm3 = mutual_info_matrix_v3(x=vector1, y=vector2)\nt4 = timer()\n\n# Display\nprint_example_heading(n=4)\nprint(\"Are the results equal (m1, m2)? %s\" % np.allclose(m1, m2))\nprint(\"Are the results equal (m1, m3)? %s\" % np.allclose(m1, m3))\nprint(\"time v1: %.5f\" % (t2-t1))\nprint(\"time v2: %.5f\" % (t3-t2))\nprint(\"time v3: %.5f\" % (t4-t3))"
      ]
    },
    {
      "cell_type": "markdown",
      "metadata": {},
      "source": [
        "## e) Edge scenarios\nThere are some edge scenarios which we might have or might have not\nconsidered yet. We are including some of them here for future reference\nand some interesting questions below.\n\n  - What is the CRI range? (-0.7, 0.7)\n  - Should we normalize this value? [-1, 1]? [0, 1]?\n  - How to compute CRI if we have three outcomes R, S and I?\n\n"
      ]
    },
    {
      "cell_type": "code",
      "execution_count": null,
      "metadata": {
        "collapsed": false
      },
      "outputs": [],
      "source": [
        "# Heading\nprint_example_heading(n=5)\n\n# Create cases\ndata = [\n    (['R', 'R', 'R', 'R'], ['R', 'R', 'R', 'R']),\n    (['R', 'R', 'R', 'R'], ['S', 'S', 'S', 'S']),\n    (['R', 'R', 'S', 'S'], ['R', 'R', 'S', 'S']),\n    (['R', 'R', 'S', 'S'], ['S', 'S', 'R', 'R']),\n    (['R', 'I', 'S', 'S'], ['R', 'I', 'S', 'S'])\n]\n\n# Results\ncumu = []\n\n# Loop\nfor i, (x, y) in enumerate(data):\n\n    # Compute mutual information scores\n    mis = mutual_info_score(x, y)\n    misa = adjusted_mutual_info_score(x, y)\n    misn = normalized_mutual_info_score(x, y)\n\n    # Compute mutual information matrix\n    m = mutual_info_matrix_v1(x=x, y=y)\n\n    # Compute collateral resistance index\n    try:\n        cri = collateral_resistance_index(m)\n    except Exception as e:\n        print(e)\n        cri = None\n\n    # Append\n    cumu.append([x, y, mis, misa, misn, cri])\n\n    # Show\n    print(\"\\n%s. Contingency matrix:\" % i)\n    print(m)\n\n\n# Create the dataframe\ndf = pd.DataFrame(cumu,\n    columns=['x', 'y', 'mis', 'mis_adjusted', 'mis_normalized', 'cri'])"
      ]
    },
    {
      "cell_type": "markdown",
      "metadata": {},
      "source": [
        "Lets see the summary of edge cases\n\n"
      ]
    },
    {
      "cell_type": "code",
      "execution_count": null,
      "metadata": {
        "collapsed": false
      },
      "outputs": [],
      "source": [
        "if TERMINAL:\n    print(\"\\nSummary of edge scenarios:\")\n    print(df)\ndf"
      ]
    },
    {
      "cell_type": "markdown",
      "metadata": {},
      "source": [
        "## f) For continuous variables\nThere are several approaches, one of them is just binning. For more\ninformation just check online, there are many good resources and or\nimplementations that might be found out there.\n\n"
      ]
    },
    {
      "cell_type": "code",
      "execution_count": null,
      "metadata": {
        "collapsed": false
      },
      "outputs": [],
      "source": [
        "# Heading\nprint_example_heading(n=6)\n\nbins = 5 #?\n\ndef f(X, Y, bins):\n    c_XY = np.histogram2d(X, Y, bins)[0]\n    c_X = np.histogram(X, bins)[0]\n    c_Y = np.histogram(Y, bins)[0]\n    return 1"
      ]
    },
    {
      "cell_type": "markdown",
      "metadata": {},
      "source": [
        "## g) Computing pairwise score\nLet's see how we can compute the mutual information square in a\npairwise fashion.\n\n"
      ]
    },
    {
      "cell_type": "code",
      "execution_count": null,
      "metadata": {
        "collapsed": false
      },
      "outputs": [],
      "source": [
        "def f1(x, y):\n    # Compute mutual information matrix\n    m = mutual_info_matrix_v3(x=x, y=y)\n    # Compute collateral resistance index\n    cri = collateral_resistance_index(m)\n    # Return\n    return cri\n\n# Generate data\ndata = np.random.choice(['S', 'R'], size=(100, 4))\n\n# Convert into DataFrame\ndf = pd.DataFrame(data,\n    columns=['C%d' % i for i in range(data.shape[1])])\n\n# Option I\n# --------\n# Create empty matrix\ncols = data.shape[1]\nmatrix = np.empty((cols, cols))\nmatrix[:] = np.nan\n\n# Compute pairwise (square matrix)\nfor ix in np.arange(cols):\n    for jx in np.arange(ix+1, cols):\n        matrix[ix,jx] = f1(data[:,ix], data[:,jx])\n\n# Convert to DataFrame for visualisation\nmatrix = pd.DataFrame(matrix,\n    index=df.columns, columns=df.columns)"
      ]
    },
    {
      "cell_type": "markdown",
      "metadata": {},
      "source": [
        "Lets see the summary of pairwise distances\n\n"
      ]
    },
    {
      "cell_type": "code",
      "execution_count": null,
      "metadata": {
        "collapsed": false
      },
      "outputs": [],
      "source": [
        "if TERMINAL:\n    # Heading\n    print_example_heading(n=7)\n    print(\"\\nSummary of pairwise computations:\")\n    print(matrix)\nmatrix\n\n# Option II\n# ----------\n#for i, j in list(combinations(df.columns, 2)):"
      ]
    },
    {
      "cell_type": "markdown",
      "metadata": {},
      "source": [
        "## h) Example with more than 2 classes\nLet's see how it works for more than two classes.\n\n<div class=\"alert alert-info\"><h4>Note</h4><p>The computation using mutual_info_matrix_v2 should not work\n          because it is designed for 2 classes. However, while it does\n          not work for low number of samples (e.g. 5), it works for\n          larger values (e.g. 100).</p></div>\n\n"
      ]
    },
    {
      "cell_type": "code",
      "execution_count": null,
      "metadata": {
        "collapsed": false
      },
      "outputs": [],
      "source": [
        "# .. note:: The computation using mutual_info_matrix_v3 which is inspired\n#           by sklearn returns an array of length 5 when the number of\n#           samples is low. However, it works when large number of samples\n#           is used.\n\n# Generate data\ndata = np.random.choice(['S', 'R', 'I'], size=(100, 2))\n\n# Convert into DataFrame\ndf = pd.DataFrame(data,\n    columns=['C%d' % i for i in range(data.shape[1])])\n\n# Compute\nm1 = mutual_info_matrix_v1(x=df.C0, y=df.C1)\nm2 = mutual_info_matrix_v2(x=df.C0, y=df.C1)\nm3 = mutual_info_matrix_v3(x=df.C0, y=df.C1)\n\n# Show\nprint_example_heading(n=8)\nprint(\"Result m1:\")\nprint(m1)\nprint(\"\\nResult m2:\")\nprint(m2)\nprint(\"\\nResult m3:\")\nprint(m3)\n\nprint(\"\\n\")\n#print(\"Are the results equal (m1, m2)? %s\" % np.allclose(m1, m2))\nprint(\"Are the results equal (m1, m3)? %s\" % np.allclose(m1, m3))"
      ]
    }
  ],
  "metadata": {
    "kernelspec": {
      "display_name": "Python 3",
      "language": "python",
      "name": "python3"
    },
    "language_info": {
      "codemirror_mode": {
        "name": "ipython",
        "version": 3
      },
      "file_extension": ".py",
      "mimetype": "text/x-python",
      "name": "python",
      "nbconvert_exporter": "python",
      "pygments_lexer": "ipython3",
      "version": "3.7.9"
    }
  },
  "nbformat": 4,
  "nbformat_minor": 0
}