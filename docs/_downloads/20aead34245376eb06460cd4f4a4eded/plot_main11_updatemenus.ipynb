{
  "cells": [
    {
      "cell_type": "code",
      "execution_count": null,
      "metadata": {
        "collapsed": false
      },
      "outputs": [],
      "source": [
        "%matplotlib inline"
      ]
    },
    {
      "cell_type": "markdown",
      "metadata": {},
      "source": [
        "\n# Plot updatemenus\n"
      ]
    },
    {
      "cell_type": "code",
      "execution_count": null,
      "metadata": {
        "collapsed": false
      },
      "outputs": [],
      "source": [
        "import plotly\nimport plotly.graph_objs as go\n\n\ndef get_color_set(color_set_id):\n    \"\"\"Get color set.\"\"\"\n    if color_set_id == 1:\n        marker_color = ['red', 'green', 'blue']\n    elif color_set_id == 2:\n        marker_color = ['black', 'blue', 'red']\n    return [{'marker.color': [marker_color]}];\n\n\n# Define trace\ntrace = go.Scatter(\n    x=[0,1,1],\n    y=[1,0,1],\n    marker=dict(color=['green','black','red']),\n    mode='markers'\n)\n\n# Define updatemenus\nupdatemenus=list([\n    dict(\n        buttons=list([\n            dict(label = 'Color Set 1',\n                 method = 'update',\n                 args=get_color_set(1)\n            ),\n            dict(label = 'Color Set 2',\n                 method = 'update',\n                 args=get_color_set(2)\n            ),\n        ]),\n        direction = 'left',\n        pad = {'r': 10, 't': 10},\n        showactive = True,\n        type = 'buttons',\n        x = 0.1,\n        xanchor = 'left',\n        y = 1.1,\n        yanchor = 'top'\n    )\n])\n\n# Define layout\nlayout = go.Layout(\n    title='Scatter Color Switcher',\n    updatemenus = updatemenus\n)\n\n# Create Figure\nfig = go.Figure(data=[trace], layout=layout)\n\n# ----------------------------\n# Save\n# ----------------------------\n# Libraries\nimport time\nfrom pathlib import Path\n\n# Define pipeline path\npath = Path('./objects') / 'plot_main11_updatemenus'\nfilename = '%s.html' % time.strftime(\"%Y%m%d-%H%M%S\")\n\n# Create folder (if it does not exist)\npath.mkdir(parents=True, exist_ok=True)\n\n# Save\nfig.write_html(\"%s/%s\" % (path, filename))\n\n# Show (sphinx)\n#fig.show()\nfig"
      ]
    }
  ],
  "metadata": {
    "kernelspec": {
      "display_name": "Python 3",
      "language": "python",
      "name": "python3"
    },
    "language_info": {
      "codemirror_mode": {
        "name": "ipython",
        "version": 3
      },
      "file_extension": ".py",
      "mimetype": "text/x-python",
      "name": "python",
      "nbconvert_exporter": "python",
      "pygments_lexer": "ipython3",
      "version": "3.9.0"
    }
  },
  "nbformat": 4,
  "nbformat_minor": 0
}