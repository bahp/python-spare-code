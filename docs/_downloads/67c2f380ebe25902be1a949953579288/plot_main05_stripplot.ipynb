{
  "cells": [
    {
      "cell_type": "code",
      "execution_count": null,
      "metadata": {
        "collapsed": false
      },
      "outputs": [],
      "source": [
        "%matplotlib inline"
      ]
    },
    {
      "cell_type": "markdown",
      "metadata": {},
      "source": [
        "\n# Shap - Main 05 - Stripplot\n\n<div class=\"alert alert-danger\"><h4>Warning</h4><p>This method is quite slow.</p></div>\n"
      ]
    },
    {
      "cell_type": "code",
      "execution_count": null,
      "metadata": {
        "collapsed": false
      },
      "outputs": [],
      "source": [
        "# Libraries\nimport shap\nimport numpy as np\nimport pandas as pd\nimport seaborn as sns\n\nimport matplotlib.pyplot as plt\nimport matplotlib as mpl\nimport matplotlib.colorbar\nimport matplotlib.colors\nimport matplotlib.cm\n\nfrom mpl_toolkits.axes_grid1 import make_axes_locatable\n\ntry:\n    __file__\n    TERMINAL = True\nexcept:\n    TERMINAL = False\n\n\n# ------------------------\n# Methods\n# ------------------------\ndef scalar_colormap(values, cmap, vmin, vmax):\n    \"\"\"This method creates a colormap based on values.\n\n    Parameters\n    ----------\n    values : array-like\n    The values to create the corresponding colors\n\n    cmap : str\n    The colormap\n\n    vmin, vmax : float\n    The minimum and maximum possible values\n\n    Returns\n    -------\n    scalar colormap\n    \"\"\"\n    # Create scalar mappable\n    norm = mpl.colors.Normalize(vmin=vmin, vmax=vmax, clip=True)\n    mapper = mpl.cm.ScalarMappable(norm=norm, cmap=cmap)\n    # Get color map\n    colormap = sns.color_palette([mapper.to_rgba(i) for i in values])\n    # Return\n    return colormap, norm\n\n\ndef scalar_palette(values, cmap, vmin, vmax):\n    \"\"\"This method creates a colorpalette based on values.\n\n    Parameters\n    ----------\n    values : array-like\n    The values to create the corresponding colors\n\n    cmap : str\n    The colormap\n\n    vmin, vmax : float\n    The minimum and maximum possible values\n\n    Returns\n    -------\n    scalar colormap\n\n    \"\"\"\n    # Create a matplotlib colormap from name\n    # cmap = sns.light_palette(cmap, reverse=False, as_cmap=True)\n    cmap = sns.color_palette(cmap, as_cmap=True)\n    # Normalize to the range of possible values from df[\"c\"]\n    norm = mpl.colors.Normalize(vmin=vmin, vmax=vmax)\n    # Create a color dictionary (value in c : color from colormap)\n    colors = {}\n    for cval in values:\n        colors.update({cval: cmap(norm(cval))})\n    # Return\n    return colors, norm\n\n\ndef load_shap_file():\n    \"\"\"Load shap file.\n\n    .. note: The timestep does not indicate time step but matrix\n             index index. Since the matrix index for time steps\n             started in negative t=-T and ended in t=0 the\n             transformation should be taken into account.\n\n    \"\"\"\n    data = pd.read_csv('./data/shap.csv')\n    data = data.iloc[:, 1:]\n    data = data.rename(columns={'timestep': 'indice'})\n    data['timestep'] = data.indice - (data.indice.nunique() - 1)\n    return data\n\n\n\n# -------------------------------------------------------------------\n#                              Main\n# -------------------------------------------------------------------\n# Configuration\ncmap_name = 'coolwarm' # colormap name\nnorm_shap = True\n\n# Load data\ndata = load_shap_file()\n#data = data[data['sample'] < 100]\n\n# Show\nif TERMINAL:\n    print(\"\\nShow:\")\n    print(data)"
      ]
    },
    {
      "cell_type": "markdown",
      "metadata": {},
      "source": [
        "Let's see how data looks like\n\n"
      ]
    },
    {
      "cell_type": "code",
      "execution_count": null,
      "metadata": {
        "collapsed": false
      },
      "outputs": [],
      "source": [
        "data.head(10)"
      ]
    },
    {
      "cell_type": "markdown",
      "metadata": {},
      "source": [
        "Let's show using ``sns.stripplot``\n\n<div class=\"alert alert-danger\"><h4>Warning</h4><p>This method seems to be quite slow.</p></div>\n\n<div class=\"alert alert-info\"><h4>Note</h4><p>y-axis has been 'normalized'</p></div>\n\n\n"
      ]
    },
    {
      "cell_type": "code",
      "execution_count": null,
      "metadata": {
        "collapsed": false
      },
      "outputs": [],
      "source": [
        "def add_colorbar(fig, cmap, norm):\n    \"\"\"\"\"\"\n    divider = make_axes_locatable(plt.gca())\n    ax_cb = divider.new_horizontal(size=\"5%\", pad=0.05)\n    fig.add_axes(ax_cb)\n    cb1 = matplotlib.colorbar.ColorbarBase(ax_cb,\n         cmap=cmap, norm=norm, orientation='vertical')\n\n\n# Loop\nfor i, (name, df) in enumerate(data.groupby('features')):\n\n    # Get colormap\n    values = df.feature_values\n    cmap, norm = scalar_palette(values=values,\n        cmap=cmap_name, vmin=values.min(),\n        vmax=values.max())\n\n    # Display\n    fig, ax = plt.subplots()\n    ax = sns.stripplot(x='timestep',\n                       y='shap_values',\n                       hue='feature_values',\n                       palette=cmap,\n                       data=df,\n                       ax=ax)\n\n    # Format figure\n    plt.title(name)\n    plt.legend([], [], frameon=False)\n\n    if norm_shap:\n        plt.ylim(data.shap_values.min(),\n                 data.shap_values.max())\n\n    # Invert x axis (if no negative timesteps)\n    #ax.invert_xaxis()\n\n    # Create colormap (fix for old versions of mpl)\n    cmap = matplotlib.cm.get_cmap(cmap_name)\n\n    # Add colorbar\n    add_colorbar(plt.gcf(), cmap, norm)\n\n    # Show only first N\n    if int(i) > 5:\n        break\n\n# Show\nplt.show()"
      ]
    }
  ],
  "metadata": {
    "kernelspec": {
      "display_name": "Python 3",
      "language": "python",
      "name": "python3"
    },
    "language_info": {
      "codemirror_mode": {
        "name": "ipython",
        "version": 3
      },
      "file_extension": ".py",
      "mimetype": "text/x-python",
      "name": "python",
      "nbconvert_exporter": "python",
      "pygments_lexer": "ipython3",
      "version": "3.8.3"
    }
  },
  "nbformat": 4,
  "nbformat_minor": 0
}