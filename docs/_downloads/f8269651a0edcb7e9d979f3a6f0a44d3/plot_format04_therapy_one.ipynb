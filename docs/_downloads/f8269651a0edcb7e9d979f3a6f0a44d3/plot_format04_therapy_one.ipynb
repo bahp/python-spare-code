{
  "cells": [
    {
      "cell_type": "code",
      "execution_count": null,
      "metadata": {
        "collapsed": false
      },
      "outputs": [],
      "source": [
        "%matplotlib inline"
      ]
    },
    {
      "cell_type": "markdown",
      "metadata": {},
      "source": [
        "\n# 04. Format MIMIC therapy (one)\n\nDescription...\n"
      ]
    },
    {
      "cell_type": "code",
      "execution_count": null,
      "metadata": {
        "collapsed": false
      },
      "outputs": [],
      "source": [
        "# Generic libraries\nimport pandas as pd\n\n# Show in terminal\nTERMINAL = False"
      ]
    },
    {
      "cell_type": "markdown",
      "metadata": {},
      "source": [
        "First, lets load and do some basic formatting on the data.\n\n"
      ]
    },
    {
      "cell_type": "code",
      "execution_count": null,
      "metadata": {
        "collapsed": false
      },
      "outputs": [],
      "source": [
        "# -----------------------------\n# Constants\n# -----------------------------\n# Path\npath = './data/mimic-therapy/One_patient_condensed_10656173.csv'\npath = './data/mimic-therapy/One_patient_condensed_11803145.csv'\n\n# -----------------------------\n# Load data\n# -----------------------------\n# Read data\ndata = pd.read_csv(path,\n    dayfirst=True,\n    parse_dates=['starttime',\n                 'stoptime'])\n\n# Keep only useful columns\ndata = data[['subject_id',\n             'antibiotic',\n             'route',\n             'starttime',\n             'stoptime']]\n\n# Reformat (ignore time information)\ndata.starttime = data.starttime.dt.date\ndata.stoptime = data.stoptime.dt.date\n\n# Show\nif TERMINAL:\n    print(\"\\nData:\")\n    print(data)\ndata"
      ]
    },
    {
      "cell_type": "markdown",
      "metadata": {},
      "source": [
        "Lets transform the data\n\n"
      ]
    },
    {
      "cell_type": "code",
      "execution_count": null,
      "metadata": {
        "collapsed": false
      },
      "outputs": [],
      "source": [
        "# -----------------------------\n# Transform data\n# -----------------------------\n# .. note: The closed parameter indicates whether to include\n#          the first and/or last samples. None will keep both,\n#          left will keep only start date and right will keep\n#          also the right date.\n# Create column with date range\ndata['startdate'] = data.apply(lambda x:\n    pd.date_range(start=x['starttime'],\n                  end=x['stoptime'],\n                  closed='left',         # ignoring right\n                  freq='D') ,axis=1)\n\n# Explode such column\ndata = data.explode('startdate')\n\n# Create daily therapies\naux = data.groupby('startdate') \\\n    .apply(lambda x: sorted(x.antibiotic \\\n        .str.lower().str.strip().unique().tolist()))\n\n# Include missing days\naux = aux.asfreq('1D')"
      ]
    },
    {
      "cell_type": "markdown",
      "metadata": {},
      "source": [
        "Lets see the formatted data\n\n"
      ]
    },
    {
      "cell_type": "code",
      "execution_count": null,
      "metadata": {
        "collapsed": false
      },
      "outputs": [],
      "source": [
        "# Show\nif TERMINAL:\n    print(\"\\nFormatted:\")\n    print(aux)\naux"
      ]
    },
    {
      "cell_type": "markdown",
      "metadata": {},
      "source": [
        "Lets count the number of days\n\n"
      ]
    },
    {
      "cell_type": "code",
      "execution_count": null,
      "metadata": {
        "collapsed": false
      },
      "outputs": [],
      "source": [
        "# Show\nif TERMINAL:\n    print(\"\\nTherapies (number of days)\")\n    print(aux.value_counts())\naux.value_counts()"
      ]
    }
  ],
  "metadata": {
    "kernelspec": {
      "display_name": "Python 3",
      "language": "python",
      "name": "python3"
    },
    "language_info": {
      "codemirror_mode": {
        "name": "ipython",
        "version": 3
      },
      "file_extension": ".py",
      "mimetype": "text/x-python",
      "name": "python",
      "nbconvert_exporter": "python",
      "pygments_lexer": "ipython3",
      "version": "3.10.13"
    }
  },
  "nbformat": 4,
  "nbformat_minor": 0
}