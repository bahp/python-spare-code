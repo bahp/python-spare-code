{
  "cells": [
    {
      "cell_type": "code",
      "execution_count": null,
      "metadata": {
        "collapsed": false
      },
      "outputs": [],
      "source": [
        "%matplotlib inline"
      ]
    },
    {
      "cell_type": "markdown",
      "metadata": {},
      "source": [
        "\n# 01. A basic TableOne demonstration\n\nThis script provides a practical demonstration of the tableone\nPython library, a tool designed to easily create the table\nof descriptive statistics commonly found in medical and scientific\nresearch papers. Using the well-known primary biliary cirrhosis\n(pbc) dataset, it walks through the essential steps of data preparation,\nincluding specifying continuous, categorical, and non-normally\ndistributed variables. The script then generates a summary table,\ngrouped by a treatment variable, and showcases the library's versatility\nby exporting the table to various formats, including HTML, GitHub-flavored\nMarkdown, LaTeX, and Microsoft Excel.\n"
      ]
    },
    {
      "cell_type": "code",
      "execution_count": null,
      "metadata": {
        "collapsed": false
      },
      "outputs": [],
      "source": [
        "# Libraries\nimport pandas as pd\n\nfrom tableone import TableOne\n\n# Load data\nurl=\"https://raw.githubusercontent.com/tompollard/data/master/primary-biliary-cirrhosis/pbc.csv\"\ndata=pd.read_csv(url)\n\n# List of columns\ncolumns = [\n    'age', 'bili', 'albumin', 'ast',\n    'platelet', 'protime', 'ascites',\n    'hepato', 'spiders', 'edema', 'sex',\n    'trt'\n]\n\n# Specify categorical columns\ncategorical = ['ascites','hepato','edema','sex','spiders','trt']\n\n# Define groupby and not normal\ngroupby = 'trt'\nnonnormal = ['bili']\n\n# Create descriptive table\nmytable = TableOne(data, columns=columns, categorical=categorical,\n    groupby=groupby, nonnormal=nonnormal, pval=True)"
      ]
    },
    {
      "cell_type": "code",
      "execution_count": null,
      "metadata": {
        "collapsed": false
      },
      "outputs": [],
      "source": [
        "mytable.tableone"
      ]
    },
    {
      "cell_type": "markdown",
      "metadata": {},
      "source": [
        "Convert to html\n\n"
      ]
    },
    {
      "cell_type": "code",
      "execution_count": null,
      "metadata": {
        "collapsed": false
      },
      "outputs": [],
      "source": [
        "html = mytable.to_html()\nhtml"
      ]
    },
    {
      "cell_type": "markdown",
      "metadata": {},
      "source": [
        "Lets tabulate for github.\n\n"
      ]
    },
    {
      "cell_type": "code",
      "execution_count": null,
      "metadata": {
        "collapsed": false
      },
      "outputs": [],
      "source": [
        "print(mytable.tabulate(tablefmt=\"github\"))"
      ]
    },
    {
      "cell_type": "markdown",
      "metadata": {},
      "source": [
        "Lets tabulate for latex.\n\n"
      ]
    },
    {
      "cell_type": "code",
      "execution_count": null,
      "metadata": {
        "collapsed": false
      },
      "outputs": [],
      "source": [
        "print(mytable.tabulate(tablefmt=\"latex\"))"
      ]
    },
    {
      "cell_type": "markdown",
      "metadata": {},
      "source": [
        "Lets tabulate for grid.\n\n"
      ]
    },
    {
      "cell_type": "code",
      "execution_count": null,
      "metadata": {
        "collapsed": false
      },
      "outputs": [],
      "source": [
        "print(mytable.tabulate(tablefmt=\"grid\"))"
      ]
    },
    {
      "cell_type": "markdown",
      "metadata": {},
      "source": [
        "Lets tabulate for fancy grid.\n\n"
      ]
    },
    {
      "cell_type": "code",
      "execution_count": null,
      "metadata": {
        "collapsed": false
      },
      "outputs": [],
      "source": [
        "print(mytable.tabulate(tablefmt=\"fancy_grid\"))"
      ]
    },
    {
      "cell_type": "markdown",
      "metadata": {},
      "source": [
        "Lets tabulate for markdown\n\n"
      ]
    },
    {
      "cell_type": "code",
      "execution_count": null,
      "metadata": {
        "collapsed": false
      },
      "outputs": [],
      "source": [
        "print(mytable.tabulate(tablefmt=\"rst\"))"
      ]
    },
    {
      "cell_type": "markdown",
      "metadata": {},
      "source": [
        "Lets create the outputs folder\n\n"
      ]
    },
    {
      "cell_type": "code",
      "execution_count": null,
      "metadata": {
        "collapsed": false
      },
      "outputs": [],
      "source": [
        "from pathlib import Path\nfolder_path = Path(\"./outputs\")\nfolder_path.mkdir(parents=True, exist_ok=True)\nprint(f\"Folder '{folder_path}' is ready.\")\n\n# Save as latex file\nmytable.to_latex(folder_path / 'main01-mytable.tex')"
      ]
    },
    {
      "cell_type": "markdown",
      "metadata": {},
      "source": [
        "Save as xls file\n\n"
      ]
    },
    {
      "cell_type": "code",
      "execution_count": null,
      "metadata": {
        "collapsed": false
      },
      "outputs": [],
      "source": [
        "mytable.to_excel(folder_path / 'main01-mytable.xlsx')"
      ]
    }
  ],
  "metadata": {
    "kernelspec": {
      "display_name": "Python 3",
      "language": "python",
      "name": "python3"
    },
    "language_info": {
      "codemirror_mode": {
        "name": "ipython",
        "version": 3
      },
      "file_extension": ".py",
      "mimetype": "text/x-python",
      "name": "python",
      "nbconvert_exporter": "python",
      "pygments_lexer": "ipython3",
      "version": "3.11.0"
    }
  },
  "nbformat": 4,
  "nbformat_minor": 0
}