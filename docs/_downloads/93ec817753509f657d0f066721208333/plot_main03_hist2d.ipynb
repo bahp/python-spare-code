{
  "cells": [
    {
      "cell_type": "code",
      "execution_count": null,
      "metadata": {
        "collapsed": false
      },
      "outputs": [],
      "source": [
        "%matplotlib inline"
      ]
    },
    {
      "cell_type": "markdown",
      "metadata": {},
      "source": [
        "\n# Main 03 - ``mpl.hist2d``\n\nSee: https://jakevdp.github.io/PythonDataScienceHandbook/04.05-histograms-and-binnings.html\n"
      ]
    },
    {
      "cell_type": "code",
      "execution_count": null,
      "metadata": {
        "collapsed": false
      },
      "outputs": [],
      "source": [
        "# Libraries\nimport numpy as np\nimport matplotlib.pyplot as plt\n\n# Specific library\nfrom sklearn.datasets import make_blobs\nfrom sklearn.datasets import make_classification\nfrom scipy.stats import gaussian_kde\n\n# ----------------------------\n# Load data\n# ----------------------------\n# Create data\nmean = [0, 0]\ncov = [[1, 1], [1, 2]]\nx, y = np.random.multivariate_normal(mean, cov, 10000).T\n\n# Create data\ndata, t = make_classification(n_samples=8000, n_features=2,\n    n_informative=2, n_redundant=0, n_repeated=0, n_classes=2,\n    n_clusters_per_class=1, weights=None, flip_y=0.00,\n    class_sep=1.0, hypercube=True, shift=0.0, scale=1.0,\n    shuffle=True, random_state=32)\nx, y = data[:,0], data[:,1]\n\n\n# ----------------------------\n# Visualize\n# ----------------------------\n# Plot hist\nf1 = plt.hist2d(x, y, bins=30, cmap='Reds')\ncb = plt.colorbar()\ncb.set_label('counts in bin')\nplt.title('Counts (square bin)')\n\n# Plot hex\nplt.figure()\nf2 = plt.hexbin(x, y, gridsize=30, cmap='Reds')\ncb = plt.colorbar()\ncb.set_label('counts in bin')\nplt.title('Counts (hexagonal bin)')\n\n# Plot density\ndata = np.vstack([x, y])\nkde = gaussian_kde(data)\n\n# Parameters\nxmin, xmax = min(x), max(x)\nymin, ymax = min(y), max(y)\n\n# evaluate on a regular grid\nxgrid = np.linspace(xmin, xmax, 100)\nygrid = np.linspace(ymin, ymax, 100)\nXgrid, Ygrid = np.meshgrid(xgrid, ygrid)\nZ = kde.evaluate(np.vstack([\n    Xgrid.ravel(),\n    Ygrid.ravel()\n]))\n\n# Plot the result as an image\nplt.figure()\nplt.imshow(Z.reshape(Xgrid.shape),\n           origin='lower', aspect='auto',\n           extent=[xmin, xmax, ymin, ymax],\n           cmap='Reds')\ncb = plt.colorbar()\ncb.set_label(\"density\")\nplt.title(\"KDE estimation\")\n\n# Show\nplt.show()"
      ]
    }
  ],
  "metadata": {
    "kernelspec": {
      "display_name": "Python 3",
      "language": "python",
      "name": "python3"
    },
    "language_info": {
      "codemirror_mode": {
        "name": "ipython",
        "version": 3
      },
      "file_extension": ".py",
      "mimetype": "text/x-python",
      "name": "python",
      "nbconvert_exporter": "python",
      "pygments_lexer": "ipython3",
      "version": "3.7.9"
    }
  },
  "nbformat": 4,
  "nbformat_minor": 0
}