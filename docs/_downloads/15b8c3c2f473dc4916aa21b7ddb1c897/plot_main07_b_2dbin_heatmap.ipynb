{
  "cells": [
    {
      "cell_type": "code",
      "execution_count": null,
      "metadata": {
        "collapsed": false
      },
      "outputs": [],
      "source": [
        "%matplotlib inline"
      ]
    },
    {
      "cell_type": "markdown",
      "metadata": {},
      "source": [
        "\n# 07.b ``stats.2dbin`` and ``sns.heatmap``\n\nThis script offers a streamlined approach for visualizing 2D data\ndensity by combining ``scipy`` for aggregation and ``seaborn`` for\nplotting. \ud83d\udcca It demonstrates a powerful and common data science\npattern for handling large, scattered datasets.\n\nThe workflow involves:\n\n    - Binning Data: It uses ``scipy.stats.binned_statistic_2d``\n      to group scattered 2D points into a grid and count the\n      number of occurrences in each cell.\n    - Seaborn Visualization: The resulting 2D count matrix is\n      then directly plotted using ``seaborn.heatmap``, providing a\n      quick and effective way to see data concentration.\n"
      ]
    },
    {
      "cell_type": "code",
      "execution_count": null,
      "metadata": {
        "collapsed": false
      },
      "outputs": [],
      "source": [
        "import numpy as np\nimport pandas as pd\nimport seaborn as sns\nimport matplotlib.pyplot as plt\n\nfrom pathlib import Path\nfrom scipy import stats\n\n# Load data\npath = Path('../../datasets/shap/')\ndata = pd.read_csv(path / 'shap.csv')\n\n# Get x, y and z\nx = data.timestep\ny = data.shap_values\nz = data.feature_values\n\n# Show\ndata[['timestep', 'shap_values', 'feature_values']]\n\n# Binned stats\nstatistic, x_edge, y_edge, binnumber = \\\n    stats.binned_statistic_2d(x=x, y=y, values=z,\n        statistic='count', bins=[20, x.nunique()],\n        expand_binnumbers=False)\n\n# Display\nsns.heatmap(statistic, annot=True, linewidth=.5,\n    cmap='coolwarm', annot_kws={\"fontsize\":6},\n    square=False)\n\n# Show\nplt.show()"
      ]
    }
  ],
  "metadata": {
    "kernelspec": {
      "display_name": "Python 3",
      "language": "python",
      "name": "python3"
    },
    "language_info": {
      "codemirror_mode": {
        "name": "ipython",
        "version": 3
      },
      "file_extension": ".py",
      "mimetype": "text/x-python",
      "name": "python",
      "nbconvert_exporter": "python",
      "pygments_lexer": "ipython3",
      "version": "3.11.0"
    }
  },
  "nbformat": 4,
  "nbformat_minor": 0
}