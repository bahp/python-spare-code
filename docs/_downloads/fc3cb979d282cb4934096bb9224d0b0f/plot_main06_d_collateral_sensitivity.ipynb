{
  "cells": [
    {
      "cell_type": "code",
      "execution_count": null,
      "metadata": {
        "collapsed": false
      },
      "outputs": [],
      "source": [
        "%matplotlib inline"
      ]
    },
    {
      "cell_type": "markdown",
      "metadata": {},
      "source": [
        "\n# 06.d Collateral Sensitivity Index (CRI)\n\nSince the computation of the Collateral Sensitivity Index is quite\ncomputationally expensive, the results are saved into a .csv file\nso that can be easily loaded and displayed. This script shows a\nvery basic graph of such information.\n\nThe generates a heatmap visualization for a dataset related to collateral\nsensitivity. It uses the Seaborn library to plot the rectangular data as\na color-encoded matrix. The code loads the data from a CSV file, creates\nmappings for categories and colors, and then plots the heatmap using the\nloaded data and color maps. It also includes annotations, colorbar axes,\ncategory patches, legend elements, and formatting options to enhance the\nvisualization.\n"
      ]
    },
    {
      "cell_type": "code",
      "execution_count": null,
      "metadata": {
        "collapsed": false
      },
      "outputs": [],
      "source": [
        "# Libraries\nimport numpy as np\nimport pandas as pd\nimport seaborn as sns\nimport matplotlib as mpl\nimport matplotlib.pyplot as plt\n\n# Specific libraries\nfrom pathlib import Path\nfrom matplotlib.patches import Patch\nfrom matplotlib.patches import Rectangle\nfrom matplotlib.colors import LogNorm, Normalize\n\n# See https://matplotlib.org/devdocs/users/explain/customizing.html\nmpl.rcParams['axes.titlesize'] = 8\nmpl.rcParams['axes.labelsize'] = 8\nmpl.rcParams['xtick.labelsize'] = 8\nmpl.rcParams['ytick.labelsize'] = 8\n\ntry:\n    __file__\n    TERMINAL = True\nexcept:\n    TERMINAL = False\n\n\n# --------------------------------\n# Methods\n# --------------------------------\ndef _check_ax_ay_equal(ax, ay):\n    return ax==ay\n\ndef _check_ax_ay_greater(ax, ay):\n    return  ax>ay\n\n# --------------------------------\n# Constants\n# --------------------------------\n# Figure size\nfigsize = (8, 5)"
      ]
    },
    {
      "cell_type": "markdown",
      "metadata": {},
      "source": [
        "Let's load the data\n\n"
      ]
    },
    {
      "cell_type": "code",
      "execution_count": null,
      "metadata": {
        "collapsed": false
      },
      "outputs": [],
      "source": [
        "# Load data\npath = Path('../../datasets/collateral-sensitivity/20230525-135511')\ndata = pd.read_csv(path / 'contingency.csv')\nabxs = pd.read_csv(path / 'categories.csv')\n\n# Format data\ndata = data.set_index(['specimen', 'o', 'ax', 'ay'])\ndata.RR = data.RR.fillna(0).astype(int)\ndata.RS = data.RS.fillna(0).astype(int)\ndata.SR = data.SR.fillna(0).astype(int)\ndata.SS = data.SS.fillna(0).astype(int)\ndata['samples'] = data.RR + data.RS + data.SR + data.SS\n\n#data['samples'] = data.iloc[:, :4].sum(axis=1)\n\ndef filter_top_pairs(df, n=5):\n    \"\"\"Filter top n (Specimen, Organism) pairs.\"\"\"\n    # Find top\n    top = df.groupby(level=[0, 1]) \\\n        .samples.sum() \\\n        .sort_values(ascending=False) \\\n        .head(n)\n\n    # Filter\n    idx = pd.IndexSlice\n    a = top.index.get_level_values(0).unique()\n    b = top.index.get_level_values(1).unique()\n\n    # Return\n    return df.loc[idx[a, b, :, :]]\n\n# Filter\ndata = filter_top_pairs(data, n=2)\ndata = data[data.samples > 500]"
      ]
    },
    {
      "cell_type": "markdown",
      "metadata": {},
      "source": [
        "Lets see the data\n\n"
      ]
    },
    {
      "cell_type": "code",
      "execution_count": null,
      "metadata": {
        "collapsed": false
      },
      "outputs": [],
      "source": [
        "if TERMINAL:\n    print(\"\\n\")\n    print(\"Number of samples: %s\" % data.samples.sum())\n    print(\"Number of pairs: %s\" % data.shape[0])\n    print(\"Data:\")\n    print(data)\ndata.iloc[:7,:].dropna(axis=1, how='all')"
      ]
    },
    {
      "cell_type": "markdown",
      "metadata": {},
      "source": [
        "Lets load the antimicrobial data and create color mapping variables\n\n"
      ]
    },
    {
      "cell_type": "code",
      "execution_count": null,
      "metadata": {
        "collapsed": false
      },
      "outputs": [],
      "source": [
        "# Create dictionary to map category to color\nlabels = abxs.category\npalette = sns.color_palette('colorblind', labels.nunique())\npalette = sns.cubehelix_palette(labels.nunique(),\n    light=.9, dark=.1, reverse=True, start=1, rot=-2)\nlookup = dict(zip(labels.unique(), palette))\n\n# Create dictionary to map code to category\ncode2cat = dict(zip(abxs.antimicrobial_code, abxs.category))"
      ]
    },
    {
      "cell_type": "markdown",
      "metadata": {},
      "source": [
        "Let's display the information\n\n"
      ]
    },
    {
      "cell_type": "code",
      "execution_count": null,
      "metadata": {
        "collapsed": false
      },
      "outputs": [],
      "source": [
        "# Loop\nfor i, df in data.groupby(level=[0, 1]):\n\n    # Drop level\n    df = df.droplevel(level=[0, 1])\n\n    # Check possible issues.\n    ax = df.index.get_level_values(0)\n    ay = df.index.get_level_values(1)\n    idx1 = _check_ax_ay_equal(ax, ay)\n    idx2 = _check_ax_ay_greater(ax, ay)\n\n    # Show\n    print(\"%25s. ax==ay => %5s | ax>ay => %5s\" % \\\n          (i, idx1.sum(), idx2.sum()))\n\n    # Re-index to have square matrix\n    abxs = set(ax) | set(ay)\n    index = pd.MultiIndex.from_product([abxs, abxs])\n\n    # Reformat MIS\n    mis = df['MIS'] \\\n        .reindex(index, fill_value=np.nan) \\\n        .unstack()\n\n    # Reformat samples\n    freq = df['samples'] \\\n        .reindex(index, fill_value=0) \\\n        .unstack()\n\n    # Combine in square matrix\n    m1 = mis.copy(deep=True).to_numpy()\n    m2 = freq.to_numpy()\n    il1 = np.tril_indices(mis.shape[1])\n    m1[il1] = m2.T[il1]\n    m = pd.DataFrame(m1,\n        index=mis.index, columns=mis.columns)\n\n    # ------------------------------------------\n    # Display heatmaps\n    # ------------------------------------------\n    # Create color maps\n    cmapu = sns.color_palette(\"YlGn\", as_cmap=True)\n    cmapl = sns.diverging_palette(220, 20, as_cmap=True)\n\n    # Masks\n    masku = np.triu(np.ones_like(m))\n    maskl = np.tril(np.ones_like(m))\n\n    # Draw figure\n    fig, axs = plt.subplots(nrows=1, ncols=1,\n        sharey=False, sharex=False, figsize=figsize)\n\n    # Create own colorbar axes\n    # Params are [left, bottom, width, height]\n    cbar_ax1 = fig.add_axes([0.76, 0.5, 0.03, 0.38])\n    cbar_ax2 = fig.add_axes([0.90, 0.5, 0.03, 0.38])\n\n    # Display\n    r1 = sns.heatmap(data=m, cmap=cmapu, mask=masku, ax=axs,\n                     annot=False, linewidth=0.5, norm=LogNorm(),\n                     annot_kws={\"size\": 8}, square=True, vmin=0,\n                     cbar_ax=cbar_ax2,\n                     cbar_kws={'label': 'Number of isolates'})\n\n    r2 = sns.heatmap(data=m, cmap=cmapl, mask=maskl, ax=axs,\n                     annot=False, linewidth=0.5, vmin=-0.7, vmax=0.7,\n                     center=0, annot_kws={\"size\": 8}, square=True,\n                     xticklabels=True, yticklabels=True,\n                     cbar_ax=cbar_ax1,\n                     cbar_kws={'label': 'Collateral Resistance Index'})\n\n\n    # ------------------------------------------\n    # Add category rectangular patches\n    # ------------------------------------------\n    # Create colors\n    colors = m.columns.to_series().map(code2cat).map(lookup)\n\n    # Create patches for categories\n    category_patches = []\n    for lbl in axs.get_xticklabels():\n        try:\n            x, y = lbl.get_position()\n            c = colors.to_dict().get(lbl.get_text(), 'k')\n            # i.set_color(c) # for testing\n\n            # Add patch.\n            category_patches.append(\n                Rectangle((x - 0.35, y - 0.5), 0.8, 0.3, edgecolor='k',\n                    facecolor=c, fill=True, lw=0.25, alpha=0.5,\n                    zorder=1000, transform=axs.transData)\n            )\n        except Exception as e:\n            print(lbl.get_text(), e)\n\n    # Add category rectangles\n    fig.patches.extend(category_patches)\n\n\n    # ------------------------------------------\n    # Add category legend\n    # ------------------------------------------\n    # Unique categories\n    unique_categories = m.columns \\\n        .to_series().map(code2cat).unique()\n\n    # Create legend elements\n    legend_elements = [\n        Patch(facecolor=lookup.get(k, 'k'), edgecolor='k',\n              fill=True, lw=0.25, alpha=0.5, label=k)\n        for k in unique_categories\n    ]\n\n    # Add legend\n    axs.legend(handles=legend_elements, loc='lower left',\n               ncol=1, bbox_to_anchor=(1.1, 0.00), fontsize=8,\n               fancybox=False, shadow=False)\n\n    # Configure plot\n    plt.suptitle('%s - %s' % (i[0], i[1]))\n    plt.tight_layout()\n    plt.subplots_adjust(wspace=0.1)\n\n\n# Show\nplt.show()"
      ]
    }
  ],
  "metadata": {
    "kernelspec": {
      "display_name": "Python 3",
      "language": "python",
      "name": "python3"
    },
    "language_info": {
      "codemirror_mode": {
        "name": "ipython",
        "version": 3
      },
      "file_extension": ".py",
      "mimetype": "text/x-python",
      "name": "python",
      "nbconvert_exporter": "python",
      "pygments_lexer": "ipython3",
      "version": "3.7.9"
    }
  },
  "nbformat": 4,
  "nbformat_minor": 0
}