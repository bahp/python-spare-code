{
  "cells": [
    {
      "cell_type": "code",
      "execution_count": null,
      "metadata": {
        "collapsed": false
      },
      "outputs": [],
      "source": [
        "%matplotlib inline"
      ]
    },
    {
      "cell_type": "markdown",
      "metadata": {},
      "source": [
        "\n# Pandas - Main 01\n"
      ]
    },
    {
      "cell_type": "code",
      "execution_count": null,
      "metadata": {
        "collapsed": false
      },
      "outputs": [],
      "source": [
        "# Library\nimport numpy as np\nimport pandas as pd\n\n# Show in terminal\nTERMINAL = True\n\n# Create data\ndata = [\n    ['p1', '1/5/2021', 1, 2, 3],\n    ['p1', '2/5/2021', 3, 3, 3],\n    ['p1', '3/5/2021', 4, 4, 4],\n    ['p1', '5/5/2021', 5, 5, 5],\n\n    ['p2', '11/5/2021', 5, 3, 3],\n    ['p2', '12/5/2021', 4, 3, None],\n    ['p2', '16/5/2021', None, 1, None], # unordered\n    ['p2', '15/5/2021', 5, 2, 4],\n]\n\n# Load DataFrame\ndata = pd.DataFrame(data,\n    columns=['patient', 'date', 'plt', 'hct', 'bil'])\n\n# Format datetime\n# Date will be a datetime65[ns] instead of string\ndata.date = pd.to_datetime(data.date, dayfirst=True)\ndata.date = data.date.dt.normalize()\n\n# Show\nif TERMINAL:\n    print(\"\\nData:\")\n    print(data)\ndata"
      ]
    },
    {
      "cell_type": "markdown",
      "metadata": {},
      "source": [
        "Sort values\n\n"
      ]
    },
    {
      "cell_type": "code",
      "execution_count": null,
      "metadata": {
        "collapsed": false
      },
      "outputs": [],
      "source": [
        "# Note that if you set columns as indexes (e.g. the\n# datetime) they will be sorted by default.\naux = data.sort_values(by=['plt', 'hct'])\n\n# Show\nif TERMINAL:\n    print(\"\\nOut:\")\n    print(aux)\naux"
      ]
    },
    {
      "cell_type": "markdown",
      "metadata": {},
      "source": [
        "Select columns\n\n"
      ]
    },
    {
      "cell_type": "code",
      "execution_count": null,
      "metadata": {
        "collapsed": false
      },
      "outputs": [],
      "source": [
        "# Select columns from DataFrame\naux = data[['patient', 'date', 'plt']]\n\n# Show\nif TERMINAL:\n    print(\"\\nOut:\")\n    print(aux)\naux"
      ]
    },
    {
      "cell_type": "markdown",
      "metadata": {},
      "source": [
        "Indexing (not nan)\n\n\n"
      ]
    },
    {
      "cell_type": "code",
      "execution_count": null,
      "metadata": {
        "collapsed": false
      },
      "outputs": [],
      "source": [
        "# Keep rows where plt is not nan\naux = data[data.plt.notna()]\n\n# Show\nif TERMINAL:\n    print(\"\\nOut:\")\n    print(aux)\naux"
      ]
    },
    {
      "cell_type": "markdown",
      "metadata": {},
      "source": [
        "Drop nan (in subset)\n\n\n"
      ]
    },
    {
      "cell_type": "code",
      "execution_count": null,
      "metadata": {
        "collapsed": false
      },
      "outputs": [],
      "source": [
        "# Keep rows without any nan in subset\naux = data.dropna(how='any', subset=['plt', 'bil'])\n\n# Show\nif TERMINAL:\n    print(\"\\nOut:\")\n    print(aux)\naux"
      ]
    },
    {
      "cell_type": "markdown",
      "metadata": {},
      "source": [
        "Drop nan (all)\n\n\n"
      ]
    },
    {
      "cell_type": "code",
      "execution_count": null,
      "metadata": {
        "collapsed": false
      },
      "outputs": [],
      "source": [
        "# Keep rows without any nan at all\naux = data.dropna(how='any')\n\n# Show\nif TERMINAL:\n    print(\"\\nOut:\")\n    print(aux)\naux"
      ]
    },
    {
      "cell_type": "markdown",
      "metadata": {},
      "source": [
        "Resample daily\n\n\n"
      ]
    },
    {
      "cell_type": "code",
      "execution_count": null,
      "metadata": {
        "collapsed": false
      },
      "outputs": [],
      "source": [
        "# Resample\naux = data.set_index('date').resample('D').asfreq()\n\n# Show\nif TERMINAL:\n    print(\"\\nOut:\")\n    print(aux)\naux"
      ]
    },
    {
      "cell_type": "markdown",
      "metadata": {},
      "source": [
        "Filling missing (pad)\n\n\n"
      ]
    },
    {
      "cell_type": "code",
      "execution_count": null,
      "metadata": {
        "collapsed": false
      },
      "outputs": [],
      "source": [
        "# Pad is synonym of DataFrame.fillna() with method='ffill'.\naux = data.set_index('date').resample('D').asfreq().pad()\n\n# Show\nif TERMINAL:\n    print(\"\\nOut:\")\n    print(aux)\naux"
      ]
    },
    {
      "cell_type": "markdown",
      "metadata": {},
      "source": [
        "Group by patient and sum\n\n"
      ]
    },
    {
      "cell_type": "code",
      "execution_count": null,
      "metadata": {
        "collapsed": false
      },
      "outputs": [],
      "source": [
        "# Group by patient and sum\nagg = aux.groupby('patient').sum()\n\n# Show\nif TERMINAL:\n    print(\"\\nOut:\")\n    print(agg)\nagg"
      ]
    },
    {
      "cell_type": "markdown",
      "metadata": {},
      "source": [
        "Group by patient (2days) and ..\n\n"
      ]
    },
    {
      "cell_type": "code",
      "execution_count": null,
      "metadata": {
        "collapsed": false
      },
      "outputs": [],
      "source": [
        "agg = aux.groupby(by=['patient', pd.Grouper(freq='2D')]) \\\n    .agg('mean', 'max')\n    #.agg({'idx': ['first', 'last'],\n    #      0: [skew, kurtosis, own],\n    #      1: [skew, kurtosis, own],\n    #      '0_hr': [own],\n    #      '0_rr': [own]})\n\n# Show\nif TERMINAL:\n    print(\"\\nOut:\")\n    print(agg)\nagg\n\n\ndef f(x):\n    print(x)\n\n#agg = aux.groupby(by='patient').rolling(2).apply(f)\n#print(agg)\n\n\n\n\n\"\"\"#https://stackoverflow.com/questions/39674713/neural-network-lstm-input-shape-from-dataframe\n# Put your inputs into a single list\naux = data.copy(deep=True)\naux['single_input_vector'] = aux[['hct', 'plt']].apply(tuple, axis=1).apply(list)\n# Double-encapsulate list so that you can sum it in the next step and keep time steps as separate elements\naux['single_input_vector'] = aux.single_input_vector.apply(lambda x: [list(x)])\n# Use .cumsum() to include previous row vectors in the current row list of vectors\naux['cumulative_input_vectors'] = aux.single_input_vector.cumsum()\n# If your output is multi-dimensional, you need to capture those dimensions in one object\n# If your output is a single dimension, this step may be unnecessary\naux['output_vector'] = aux[['bil']].apply(tuple, axis=1).apply(list)\nprint(aux)\"\"\""
      ]
    }
  ],
  "metadata": {
    "kernelspec": {
      "display_name": "Python 3",
      "language": "python",
      "name": "python3"
    },
    "language_info": {
      "codemirror_mode": {
        "name": "ipython",
        "version": 3
      },
      "file_extension": ".py",
      "mimetype": "text/x-python",
      "name": "python",
      "nbconvert_exporter": "python",
      "pygments_lexer": "ipython3",
      "version": "3.8.3"
    }
  },
  "nbformat": 4,
  "nbformat_minor": 0
}