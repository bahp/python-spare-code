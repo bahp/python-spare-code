{
  "cells": [
    {
      "cell_type": "code",
      "execution_count": null,
      "metadata": {
        "collapsed": false
      },
      "outputs": [],
      "source": [
        "%matplotlib inline"
      ]
    },
    {
      "cell_type": "markdown",
      "metadata": {},
      "source": [
        "\n# TableOne Basic Example\n"
      ]
    },
    {
      "cell_type": "code",
      "execution_count": null,
      "metadata": {
        "collapsed": false
      },
      "outputs": [],
      "source": [
        "# Libraries\nimport pandas as pd\n\nfrom tableone import TableOne\n\n# Load data\nurl=\"https://raw.githubusercontent.com/tompollard/data/master/primary-biliary-cirrhosis/pbc.csv\"\ndata=pd.read_csv(url)\n\n# List of columns\ncolumns = [\n    'age', 'bili', 'albumin', 'ast',\n    'platelet', 'protime', 'ascites',\n    'hepato', 'spiders', 'edema', 'sex',\n    'trt'\n]\n\n# Specify categorical columns\ncategorical = ['ascites','hepato','edema','sex','spiders','trt']\n\n# Define groupy and not normal\ngroupby = 'trt'\nnonnormal = ['bili']\n\n# Create descriptive table\nmytable = TableOne(data, columns, categorical,\n                   groupby, nonnormal, pval=True)\n\n# Show"
      ]
    },
    {
      "cell_type": "markdown",
      "metadata": {},
      "source": [
        "Convert to html\n\n"
      ]
    },
    {
      "cell_type": "code",
      "execution_count": null,
      "metadata": {
        "collapsed": false
      },
      "outputs": [],
      "source": [
        "html = mytable.to_html()\nhtml"
      ]
    },
    {
      "cell_type": "markdown",
      "metadata": {},
      "source": [
        "Lets tabulate for github.\n\n"
      ]
    },
    {
      "cell_type": "code",
      "execution_count": null,
      "metadata": {
        "collapsed": false
      },
      "outputs": [],
      "source": [
        "print(mytable.tabulate(tablefmt=\"github\"))"
      ]
    },
    {
      "cell_type": "markdown",
      "metadata": {},
      "source": [
        "Save as latex file\n\n"
      ]
    },
    {
      "cell_type": "code",
      "execution_count": null,
      "metadata": {
        "collapsed": false
      },
      "outputs": [],
      "source": [
        "mytable.to_latex('mytable.tex')"
      ]
    }
  ],
  "metadata": {
    "kernelspec": {
      "display_name": "Python 3",
      "language": "python",
      "name": "python3"
    },
    "language_info": {
      "codemirror_mode": {
        "name": "ipython",
        "version": 3
      },
      "file_extension": ".py",
      "mimetype": "text/x-python",
      "name": "python",
      "nbconvert_exporter": "python",
      "pygments_lexer": "ipython3",
      "version": "3.8.3"
    }
  },
  "nbformat": 4,
  "nbformat_minor": 0
}