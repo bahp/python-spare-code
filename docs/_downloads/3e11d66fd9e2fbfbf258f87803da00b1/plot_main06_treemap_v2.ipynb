{
  "cells": [
    {
      "cell_type": "code",
      "execution_count": null,
      "metadata": {
        "collapsed": false
      },
      "outputs": [],
      "source": [
        "%matplotlib inline"
      ]
    },
    {
      "cell_type": "markdown",
      "metadata": {},
      "source": [
        "\n# Main 06 - Plot Treemap with MIMIC\n\nThis example displays a Treemap using the MIMIC dataset.\n\n<div class=\"alert alert-danger\"><h4>Warning</h4><p>It is not completed!</p></div>\n"
      ]
    },
    {
      "cell_type": "code",
      "execution_count": null,
      "metadata": {
        "collapsed": false
      },
      "outputs": [],
      "source": [
        "# Libraries\nimport pandas as pd\n\n\nfrom plotly.io import show\n\ntry:\n    __file__\n    TERMINAL = True\nexcept:\n    TERMINAL = False\n\n\n# ---------------------\n# Helper method\n# ---------------------\n\n# Methods\ndef build_hierarchical_dataframe(df, levels, value_column, color_columns=None):\n    \"\"\"\n    Build a hierarchy of levels for Sunburst or Treemap charts.\n\n    Levels are given starting from the bottom to the top of the hierarchy,\n    ie the last level corresponds to the root.\n    \"\"\"\n    df_all_trees = pd.DataFrame(columns=['id', 'parent', 'value', 'color'])\n    for i, level in enumerate(levels):\n        df_tree = pd.DataFrame(columns=['id', 'parent', 'value', 'color'])\n        dfg = df.groupby(levels[i:]).sum()\n        dfg = dfg.reset_index()\n        df_tree['id'] = dfg[level].copy()\n        if i < len(levels) - 1:\n            df_tree['parent'] = dfg[levels[i+1]].copy()\n        else:\n            df_tree['parent'] = 'total'\n        df_tree['value'] = dfg[value_column]\n        #df_tree['color'] = dfg[color_columns[0]] / dfg[color_columns[1]]\n        df_all_trees = df_all_trees.append(df_tree, ignore_index=True)\n    #total = pd.Series(dict(id='total', parent='',\n    #                          value=df[value_column].sum(),\n    #                          color=df[color_columns[0]].sum() / df[color_columns[1]].sum()))\n    total = pd.Series(dict(id='total', parent='', value=df[value_column].sum()))\n    df_all_trees = df_all_trees.append(total, ignore_index=True)\n    return df_all_trees\n\ndef load_sunburst():\n    \"\"\"Load sunburst data.\"\"\"\n    # Define URL\n    URL = 'https://raw.githubusercontent.com/plotly/'\n    URL+= 'datasets/96c0bd/sunburst-coffee-flavors-complete.csv'\n    # Load dataframe\n    df = pd.read_csv(URL)\n    # Return\n    return df\n\ndef load_microbiology_nhs(n=10000):\n    \"\"\"Loads and formats microbiology data.\"\"\"\n    # Libraries\n    from pyamr.core.sari import sari\n    from pyamr.datasets.load import load_data_nhs\n\n    # Load data\n    data, antimicrobials, microorganisms = \\\n        load_data_nhs(nrows=n)\n\n    data = data[data.specimen_code.isin(['BLOOD CULTURE'])]\n\n    # Create DataFrame\n    dataframe = data.groupby(['specimen_code',\n                              'microorganism_code',\n                              'antimicrobial_code',\n                              'sensitivity']) \\\n        .size().unstack().fillna(0)\n\n\n    # Compute frequency\n    dataframe['freq'] = dataframe.sum(axis=1)\n    dataframe['sari'] = sari(dataframe, strategy='hard')\n    dataframe['sari_medium'] = sari(dataframe, strategy='medium')\n    dataframe['sari_soft'] = sari(dataframe, strategy='soft')\n    dataframe = dataframe.reset_index()\n\n    # Add info for popup (micro and abxs)\n    dataframe = dataframe.merge(antimicrobials,\n        how='left', left_on='antimicrobial_code',\n        right_on='antimicrobial_code')\n    dataframe = dataframe.merge(microorganisms,\n        how='left', left_on='microorganism_code',\n        right_on='microorganism_code')\n\n    # Format dataframe\n    dataframe = dataframe.round(decimals=3)\n\n    # Configuration\n    LEVELS = ['specimen_code', 'microorganism_code', 'antimicrobial_code']\n    COLORS = ['sari']\n    VALUE = 'freq'\n\n    dataframe = dataframe[LEVELS + COLORS + [VALUE]]\n\n    aux2 = dataframe.groupby(LEVELS).agg('sum').reset_index()\n\n\n    # Return\n    aux = build_hierarchical_dataframe(aux2, LEVELS, COLORS, VALUE)\n\n    return aux\n\n\n# -----------------------------------\n# Display basic\n# -----------------------------------\n# Libraries\nimport plotly.graph_objects as go\n\n# Load data\ndf = load_sunburst()\n\n# Show data\nprint(\"\\nData:\")\nprint(df)\n\n# Define template\nhtmp = '<b>%{label}</b><br>'\nhtmp+= 'Sales:%{value}<br>'\nhtmp+= 'Success rate: %{color:.2f}'\n\n# Create figure\nfig = go.Figure(go.Treemap(\n    ids=df.ids,\n    labels=df.labels,\n    parents=df.parents,\n    pathbar_textfont_size=15,\n    root_color=\"lightgrey\",\n    #maxdepth=3,\n    branchvalues='total',\n    #marker=dict(\n    #    colors=df_all_trees['color'],\n    #    colorscale='RdBu',\n    #    cmid=average_score),\n    #hovertemplate=htmp,\n    #marker_colorscale='Blues'\n))\n\n# Update layout\nfig.update_layout(\n    uniformtext=dict(minsize=10, mode='hide'),\n    margin = dict(t=50, l=25, r=25, b=25)\n)\n\n\n# -----------------------------------\n# Display NHS\n# -----------------------------------\n# Load data\n#df = load_microbiology_nhs()\n#df = df.drop_duplicates(subset=['id', 'parent'])\n\n# Show\nprint(\"DF:\")\nprint(df)\n\n# Create data\ndf = pd.DataFrame()\ndf['id'] = ['BLD', 'SAUR', 'PENI', 'CIPRO']\ndf['parent'] = [None, 'BLD', 'SAUR', 'SAUR']\ndf['value'] = [0, 1, 2, 3]\ndf['info'] = ['info1', 'info2', 'info3', 'info4']\n\n# Define template\nhtmp = '<b> %{id} </b><br>'\nhtmp+= 'Info: %{info} <br>'\nhtmp+= 'Value %{value}'\n\n# Create figure\nfig = go.Figure(go.Treemap(\n    #ids=df.id,\n    labels=df.id,\n    values=df.value,\n    parents=df.parent,\n    pathbar_textfont_size=15,\n    root_color=\"lightgrey\",\n    #maxdepth=3,\n    branchvalues='total',\n    #marker=dict(\n    #    colors=df_all_trees['color'],\n    #    colorscale='RdBu',\n    #    cmid=average_score),\n    #hovertemplate=htmp,\n    #marker_colorscale='Blues'\n    #hovertemplate=htmp, # overrides hoverinfo\n    #texttemplate=htmp, # overrides textinfo\n    #hoverinfo=['all'],\n    #textinfo=['all']\n    textinfo=\"label+value\",\n))\n\n# Update layout\nfig.update_layout(\n    uniformtext=dict(minsize=10, mode='hide'),\n    margin = dict(t=50, l=25, r=25, b=25)\n)\n\n\"\"\"\n# Add traces.\nfig.add_trace(go.Treemap(\n    #labels=df_trees.id,\n    #parents=df_trees.parent,\n    #values=df_trees.value,\n    #branchvalues='total',\n    labels=df_trees.ids,\n    parents=df_trees.parents,\n    values=df_trees.values,\n    #marker=dict(\n    #    colors=df_all_trees['color'],\n    #    colorscale='RdBu',\n    #    cmid=average_score),\n    #hovertemplate='<b>%{label} </b> <br> Sales: %{value}<br> Success rate: %{color:.2f}',\n    #name=''\n    ), 1, 1)\n\n# Update layout\n#fig.update_layout(margin = dict(t=50, l=25, r=25, b=25))\n\"\"\"\n\n# Show\nshow(fig)"
      ]
    }
  ],
  "metadata": {
    "kernelspec": {
      "display_name": "Python 3",
      "language": "python",
      "name": "python3"
    },
    "language_info": {
      "codemirror_mode": {
        "name": "ipython",
        "version": 3
      },
      "file_extension": ".py",
      "mimetype": "text/x-python",
      "name": "python",
      "nbconvert_exporter": "python",
      "pygments_lexer": "ipython3",
      "version": "3.7.9"
    }
  },
  "nbformat": 4,
  "nbformat_minor": 0
}