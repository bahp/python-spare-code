{
  "cells": [
    {
      "cell_type": "code",
      "execution_count": null,
      "metadata": {
        "collapsed": false
      },
      "outputs": [],
      "source": [
        "%matplotlib inline"
      ]
    },
    {
      "cell_type": "markdown",
      "metadata": {},
      "source": [
        "\n# 03. Dummy Data Wrapper\n\nDummy data wrapper\n\n<div class=\"alert alert-danger\"><h4>Warning</h4><p>Non sense!</p></div>\n"
      ]
    },
    {
      "cell_type": "code",
      "execution_count": null,
      "metadata": {
        "collapsed": false
      },
      "outputs": [],
      "source": [
        "# Libraries\nimport pandas as pd\n\n# Libraries specific\nfrom sklearn.preprocessing import StandardScaler\nfrom sklearn.preprocessing import MinMaxScaler\nfrom sklearn.preprocessing import RobustScaler\nfrom sklearn.preprocessing import Normalizer\nfrom sklearn.impute import SimpleImputer\n\n\nclass DataframeXYWrapper():\n\n    def __init__(self, dataframe, X_columns, y_columns):\n        \"\"\"\n        \"\"\"\n        self.dataframe = dataframe\n        self.X_cols = X_columns\n        self.y_cols = y_columns\n\n    def get_X(self):\n        \"\"\"Return...\"\"\"\n        return self.dataframe[self.X_cols]\n\n    def get_y(self):\n        \"\"\"Return...\"\"\"\n        return self.dataframe[self.y_cols]\n\n    def get_X_y(self):\n        \"\"\"Return...\n        \"\"\"\n        return self.dataframe[self.X_cols + self.y_cols]\n\n    def apply(self, obj, func, requires_X=False,\n                               requires_y=False,\n                               argname_X='X',\n                               argname_y='y',\n                               inplace=True,\n                               return_obj=True,\n                               **kwargs):\n        \"\"\"\n        \"\"\"\n        if requires_X:\n            kwargs[argname_X] = self.get_X()\n        if requires_y:\n            kwargs[argname_y] = self.get_y()\n\n        # Output\n        out = getattr(obj, func)(**kwargs)\n\n        # Inplace\n        if inplace:\n            self.dataframe[self.X_cols] = out\n\n        # Return\n        if return_obj:\n            return obj, out\n        return out\n\n\n\n# --------------------------------------------------\n# Main\n# --------------------------------------------------\n# Libraries\nimport numpy as np\n\nN = 2000 # number of observations\nF = 7    # number of features\nP = 70   # percent of cells with nan\n\n# Create dataset\nX = np.random.randn(N, F)\ny = (np.random.rand(N) > 0.1).astype(int)\n\n# Include NaN\nidxs = np.random.choice(X.size, int(N*F*P/100), replace=False)\nX.ravel()[idxs] = np.nan\n\n# Create dataframe\ndataframe = pd.DataFrame(X)\ndataframe['y'] = y\n\n# Create wrapper\nwrapper = DataframeXYWrapper(dataframe=dataframe,\n                             X_columns=list(range(F)),\n                             y_columns=['y'])\n# Show\nprint(\"Features:\")\nprint(wrapper.get_X())\n\n# ------------------------------\n# Imputers\n# ------------------------------\n# Loop\nfor name, imputer in [\n            ('mean', SimpleImputer(strategy='mean')),\n            ('median', SimpleImputer(strategy='median'))]:\n    # Apply imputer\n    obj, out = wrapper.apply(imputer, 'fit_transform',\n            requires_X=True, inplace=False)\n    # Display\n    print(\"\\n%s\" % imputer)\n    print(pd.DataFrame(out))\n\n\n# ------------------------------\n# Scalers\n# ------------------------------\n# Loop\nfor name, scaler in [('std', StandardScaler()),\n                     ('mmx', MinMaxScaler()),\n                     ('rbs', RobustScaler())]:\n    # Apply scaler\n    obj, out = wrapper.apply(scaler, 'fit_transform',\n            requires_X=True, inplace=False)\n    # Display\n    print(\"\\n%s\" % scaler)\n    print(pd.DataFrame(out))"
      ]
    }
  ],
  "metadata": {
    "kernelspec": {
      "display_name": "Python 3",
      "language": "python",
      "name": "python3"
    },
    "language_info": {
      "codemirror_mode": {
        "name": "ipython",
        "version": 3
      },
      "file_extension": ".py",
      "mimetype": "text/x-python",
      "name": "python",
      "nbconvert_exporter": "python",
      "pygments_lexer": "ipython3",
      "version": "3.11.0"
    }
  },
  "nbformat": 4,
  "nbformat_minor": 0
}