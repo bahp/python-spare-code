{
  "cells": [
    {
      "cell_type": "code",
      "execution_count": null,
      "metadata": {
        "collapsed": false
      },
      "outputs": [],
      "source": [
        "%matplotlib inline"
      ]
    },
    {
      "cell_type": "markdown",
      "metadata": {},
      "source": [
        "\n# ParamGrid\n\nThis example shows different configurations of ParamGrid.\n"
      ]
    },
    {
      "cell_type": "code",
      "execution_count": null,
      "metadata": {
        "collapsed": false
      },
      "outputs": [],
      "source": [
        "# Generic\nimport pandas as pd\n\n# Library\nfrom sklearn.model_selection import ParameterGrid\n\ntry:\n    __file__\n    TERMINAL = True\nexcept:\n    TERMINAL = False\n\n# -----------------------------\n# Sample I\n# -----------------------------\n# Define params\nparams = {'a': [1, 2], 'b': [True, False]}\n# Create params grid\ngrid = list(ParameterGrid(params))\n# Show\nif TERMINAL:\n    print(\"\\nExample I:\")\n    print(pd.DataFrame(grid))\npd.DataFrame(grid)"
      ]
    },
    {
      "cell_type": "code",
      "execution_count": null,
      "metadata": {
        "collapsed": false
      },
      "outputs": [],
      "source": [
        "# -----------------------------\n# Sample II\n# -----------------------------\n# Define params\nparams = [{'kernel': ['linear']},\n          {'kernel': ['rbf'], 'gamma': [1, 10]}]\n# Create params grid\ngrid = list(ParameterGrid(params))\n# Show\nif TERMINAL:\n    print(\"\\nExample II:\")\n    print(pd.DataFrame(grid))\npd.DataFrame(grid)"
      ]
    },
    {
      "cell_type": "code",
      "execution_count": null,
      "metadata": {
        "collapsed": false
      },
      "outputs": [],
      "source": [
        "# -----------------------------\n# Sample III\n# -----------------------------\n# Define params\nparams = {'imp': ['simp', 'iimp'],\n          'scl': ['minmax', 'norm', 'std'],\n          'est': ['PCA', 'AE']}\n# Create params grid\ngrid = list(ParameterGrid(params))\n# Show\nif TERMINAL:\n    print(\"\\nExample III:\")\n    print(pd.DataFrame(grid))\npd.DataFrame(grid)"
      ]
    },
    {
      "cell_type": "code",
      "execution_count": null,
      "metadata": {
        "collapsed": false
      },
      "outputs": [],
      "source": [
        "# -----------------------------\n# Sample IV\n# -----------------------------\n# Define params\nparams = [{'imp': ['simp', 'iimp'], 'scl': ['minmax'], 'est': ['PCA']},\n          {'imp': ['simp', 'iimp'], 'scl': ['std', 'norm'], 'est': ['AE']}]\n# Create params grid\ngrid = list(ParameterGrid(params))\n# Show\nif TERMINAL:\n    print(\"\\nExample IV:\")\n    print(pd.DataFrame(grid))\npd.DataFrame(grid)"
      ]
    }
  ],
  "metadata": {
    "kernelspec": {
      "display_name": "Python 3",
      "language": "python",
      "name": "python3"
    },
    "language_info": {
      "codemirror_mode": {
        "name": "ipython",
        "version": 3
      },
      "file_extension": ".py",
      "mimetype": "text/x-python",
      "name": "python",
      "nbconvert_exporter": "python",
      "pygments_lexer": "ipython3",
      "version": "3.8.3"
    }
  },
  "nbformat": 4,
  "nbformat_minor": 0
}