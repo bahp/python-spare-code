{
  "cells": [
    {
      "cell_type": "code",
      "execution_count": null,
      "metadata": {
        "collapsed": false
      },
      "outputs": [],
      "source": [
        "%matplotlib inline"
      ]
    },
    {
      "cell_type": "markdown",
      "metadata": {},
      "source": [
        "\n# 07. Plot Parallel with dengue\n\nThis example plots a parallel graph.\n"
      ]
    },
    {
      "cell_type": "code",
      "execution_count": null,
      "metadata": {
        "collapsed": false
      },
      "outputs": [],
      "source": [
        "import plotly.graph_objects as go\n\nimport numpy as np\nimport pandas as pd\nfrom pandas.api.types import is_string_dtype\nfrom pandas.api.types import is_numeric_dtype\n\nfrom plotly.io import show\n\ntry:\n    __file__\n    TERMINAL = True\nexcept:\n    TERMINAL = False\n\n\ndef load_gridsearch_sklearn_iris():\n    \"\"\"This method...\"\"\"\n    # Define datapath\n    FILEPATH = './data/sklearn-gridsearch/ls2d-iris.csv'\n    # Load data\n    df = pd.read_csv(FILEPATH)\n    # Columns\n    columns = [\n        ('mean_train_spearman', 'Spearman'),\n        ('mean_train_pearson', 'Pearson'),\n        ('param_sae__max_epochs', 'Max Epochs'),\n        ('param_sae__lr', 'Learning Rate'),\n        ('mean_train_procrustes', 'Procrustes'),\n        ('mean_train_calinski_target', 'Calinski'),\n        ('mean_train_davies_b_target', 'Davies'),\n        #('param_sae__module__layers', 'Layers')\n    ]\n    # Line\n    line = dict(color=df.mean_train_calinski_target,\n       colorscale='Electric',\n       showscale=True,\n       cmin=df.mean_train_calinski_target.min(),\n       cmax=df.mean_train_calinski_target.max())\n    # Return\n    return df, line, columns\n\n\n\ndef load_raw_dengue():\n    \"\"\"This method...\"\"\"\n    # Define datapath\n    FILEPATH = '../../datasets/dengue-htd-dataset/combined.csv'\n    # Load data\n    df = pd.read_csv(FILEPATH)\n    # Columns\n    columns = [\n        ('age', 'Age'),\n        ('body_temperature', 'Body Temperature'),\n        ('weight', 'Weight'),\n        ('plt', 'Platelets'),\n        ('haematocrit_percent', 'Haematocrit')\n    ]\n    # Line\n    line = dict(color=df.haematocrit_percent,\n        colorscale='Electric',\n        showscale=True,\n        cmin=df.haematocrit_percent.min(),\n        cmax=df.haematocrit_percent.max())\n    # Return\n    return df, line, columns\n\ndef create_dimension(s):\n    \"\"\"This method creates the dimesions.\n\n    Dimension: numeric\n    dict(range = [32000,227900],\n         constraintrange = [100000,150000],\n         label = \"Block Height\",\n         values = df['blockHeight'])\n\n    Dimension: enumerated\n    dict(tickvals = [0,0.5,1,2,3],\n         ticktext = ['A','AB','B','Y','Z'],\n         label = 'Cyclinder Material',\n         values = df['cycMaterial'],\n         visible = True)\n    \"\"\"\n    if is_numeric_dtype(s):\n        return dict(\n            range=[s.min(), s.max()],\n            constraintrange=[s.min(), s.max()],\n            label=s.name, values=s)\n    if is_string_dtype(s):\n        s = s.apply(str)\n        return dict(tickvals=np.arange(s.nunique()),\n            ticktext=sorted(s.unique()),\n            label=s.name, values=s)\n\n\n# Load data\ndf, line, columns = load_raw_dengue()\n#df, columns = load_gridsearch_sklearn_iris()\n\n# Show\nfig = go.Figure(data=\n    go.Parcoords(line=line,\n        dimensions=[create_dimension(df[name])\n            for name, label in columns]\n    ))\n\n\n# Show\nshow(fig)"
      ]
    }
  ],
  "metadata": {
    "kernelspec": {
      "display_name": "Python 3",
      "language": "python",
      "name": "python3"
    },
    "language_info": {
      "codemirror_mode": {
        "name": "ipython",
        "version": 3
      },
      "file_extension": ".py",
      "mimetype": "text/x-python",
      "name": "python",
      "nbconvert_exporter": "python",
      "pygments_lexer": "ipython3",
      "version": "3.7.9"
    }
  },
  "nbformat": 4,
  "nbformat_minor": 0
}