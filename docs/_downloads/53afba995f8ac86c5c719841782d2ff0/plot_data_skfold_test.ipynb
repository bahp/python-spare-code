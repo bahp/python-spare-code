{
  "cells": [
    {
      "cell_type": "code",
      "execution_count": null,
      "metadata": {
        "collapsed": false
      },
      "outputs": [],
      "source": [
        "%matplotlib inline"
      ]
    },
    {
      "cell_type": "markdown",
      "metadata": {},
      "source": [
        "\n# Test Skfold\n\nThis example just proves that StratifiedKFold is\ndeterministic and always returns the same splits.\nThe way to change the splits is by changing the\nrandom state.\n"
      ]
    },
    {
      "cell_type": "code",
      "execution_count": null,
      "metadata": {
        "collapsed": false
      },
      "outputs": [],
      "source": [
        "# General\nimport numpy as np\nimport pandas as pd\n\n# Specific\nfrom sklearn.model_selection import StratifiedKFold\n\n\n# ---------------------------------------------------\n#\n# ---------------------------------------------------\ndef repeated_splits(X, y, n_loops=2, n_splits=5):\n    \"\"\"This method creates several times the\n       splits using the same function. Then\n       it is used to check that the splitting\n       is always consistent.\n    \"\"\"\n    # Record for comparison\n    records = []\n\n    # Split\n    for i in range(n_loops):\n        # Create dataframe\n        dataframe = pd.DataFrame()\n        # Create splitter\n        skf = StratifiedKFold(n_splits=n_splits)\n        # Loop\n        for j, (train, test) in enumerate(skf.split(X, y)):\n            dataframe['fold_{0}'.format(j)] = \\\n                np.concatenate((train, test))\n        # Append\n        records.append(dataframe)\n\n    # Return\n    return records\n\n\n# ---------------------------------------------------\n# Artificial example\n# ---------------------------------------------------\n# Size\nn = 2000\nn_splits = 5\nn_loops = 5\n\n# Create dataset\nX = np.random.randint(10, size=(n, 7))\ny = (np.random.rand(n) > 0.1).astype(int)\n\n# Create splits\nrecords = repeated_splits(X, y, n_loops=n_loops,\n                                n_splits=n_splits)\n\n# Compare if all records are equal\nprint(\"\\nExample I:\")\nfor i in range(len(records)-1):\n    print('{0} == {1} : {2}'.format(i, i+1, \\\n        records[i].equals(records[i+1])))\n\n\n\n# ---------------------------------------------------\n# Real example\n# ---------------------------------------------------\n# Libraries\nfrom sklearn.datasets import load_iris\n\n# Load data\nbunch = load_iris(as_frame=True)\n\n# Label conversion\nlblmap = dict(enumerate(bunch.target_names))\n\n# Dataframe\ndf = bunch.data\ndf['target'] = bunch.target\ndf['label'] = df.target.map(lblmap)\n\n# Get X, and y\nX = df.to_numpy()\ny = df.label.to_numpy()\n\n# Create splits\nrecords = repeated_splits(X, y, n_loops=n_loops,\n                                n_splits=n_splits)\n\n# Compare if all records are equal\nprint(\"\\nExample II:\")\nfor i in range(len(records)-1):\n    print('{0} == {1} : {2}'.format(i, i+1, \\\n        records[i].equals(records[i+1])))"
      ]
    }
  ],
  "metadata": {
    "kernelspec": {
      "display_name": "Python 3",
      "language": "python",
      "name": "python3"
    },
    "language_info": {
      "codemirror_mode": {
        "name": "ipython",
        "version": 3
      },
      "file_extension": ".py",
      "mimetype": "text/x-python",
      "name": "python",
      "nbconvert_exporter": "python",
      "pygments_lexer": "ipython3",
      "version": "3.9.1"
    }
  },
  "nbformat": 4,
  "nbformat_minor": 0
}