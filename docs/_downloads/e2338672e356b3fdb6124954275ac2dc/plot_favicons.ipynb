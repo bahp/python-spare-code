{
  "cells": [
    {
      "cell_type": "code",
      "execution_count": null,
      "metadata": {
        "collapsed": false
      },
      "outputs": [],
      "source": [
        "%matplotlib inline"
      ]
    },
    {
      "cell_type": "markdown",
      "metadata": {},
      "source": [
        "\n# Plot favicons\n\nThis example lists all the libraries installed\nin the environment using pip, gets their site\nurl, downloads the icon and displays it in the\nexample.\n"
      ]
    },
    {
      "cell_type": "code",
      "execution_count": null,
      "metadata": {
        "collapsed": false
      },
      "outputs": [],
      "source": [
        "# Libraries\nimport favicon\nimport subprocess as sp\n\n\nclass IconHTML:\n    \"\"\"Class to display html in sphinx-gallery.\"\"\"\n    TMP0 = '<img src={url} style=\"{s}\", width={w} height={h}>'\n    TMP1 = '<div>'+TMP0+' <span>{name}</span></div>'\n\n    \"\"\"Class to display icons on sphinx-gallery.\"\"\"\n    def __init__(self, d, width=25, height=25, verbose=0):\n        self.d = d\n        self.width = width\n        self.height = height\n        self.style = \"display: inline; vertical-align:middle;\"\n        self.verbose = verbose\n\n    def _repr_html_short_(self):\n        return ' '.join([self.TMP0.format(url=v,\n            w=self.width, h=self.height, s=self.style)\n                for k,v in self.d.items()])\n\n    def _repr_html_long_(self):\n        return ' '.join([self.TMP1.format(url=v,\n            w=self.width, h=self.height, s=self.style, name=k.lower())\n                for k, v in self.d.items()])\n\n    def _repr_html_(self):\n        if self.verbose == 0:\n            return self._repr_html_short_()\n        return self._repr_html_long_()\n\n\n# List of libraries for which the icon (if found)\n# should be included in the output.\nINCLUDE = [\n    'pandas',\n    'Flask',\n    'imblearn',\n    'numba',\n    'numpy',\n    'plotly',\n    'PyYAML',\n    'scipy',\n    'seaborn',\n    'statsmodels',\n    'alabaster',\n    'attrs',\n    'Babel',\n    'bokeh',\n    'joblib',\n    'nltk',\n    'notebook',\n    'torch',\n    'matplotlib',\n    'pillow',\n    'pygments',\n    'pytest',\n    'tqdm',\n    'urllib3',\n    'future'\n]\n\n# Define command to list packages and urls\nCOMMAND = \"pip list --format=freeze | cut -d= -f1 | xargs pip show | \"\nCOMMAND+= \"awk '/^Name/{printf $2} /^Home-page/{print \\\": \\\"$2}'\"\n\n# List of package name and url.\noutput = sp.getoutput(COMMAND)\n\n# Show\nprint(output)\n\n# Create dictionary\nd = {}\nfor line in output.split(\"\\n\")[2:]:\n    # Find name and url\n    name, url = line.split(': ')\n    if name not in INCLUDE:\n        continue\n    # Store name and url\n    icons = favicon.get(url)\n    if len(icons):\n        d[name] = icons[0].url"
      ]
    },
    {
      "cell_type": "code",
      "execution_count": null,
      "metadata": {
        "collapsed": false
      },
      "outputs": [],
      "source": [
        "aux = IconHTML(d)\naux"
      ]
    },
    {
      "cell_type": "code",
      "execution_count": null,
      "metadata": {
        "collapsed": false
      },
      "outputs": [],
      "source": [
        "aux = IconHTML(d, verbose=1)\naux"
      ]
    },
    {
      "cell_type": "code",
      "execution_count": null,
      "metadata": {
        "collapsed": false
      },
      "outputs": [],
      "source": [
        "# Create dictionary\nd = {}\nfor line in output.split(\"\\n\")[2:]:\n    # Find name and url\n    name, url = line.split(': ')\n    if not url.startswith('https:'):\n        continue\n    # Store name and url\n    icons = favicon.get(url)\n    for i, ico in enumerate(icons):\n        d['%s-%s' % (name, i)] = ico.url"
      ]
    },
    {
      "cell_type": "code",
      "execution_count": null,
      "metadata": {
        "collapsed": false
      },
      "outputs": [],
      "source": [
        "aux = IconHTML(d, verbose=1)\naux"
      ]
    }
  ],
  "metadata": {
    "kernelspec": {
      "display_name": "Python 3",
      "language": "python",
      "name": "python3"
    },
    "language_info": {
      "codemirror_mode": {
        "name": "ipython",
        "version": 3
      },
      "file_extension": ".py",
      "mimetype": "text/x-python",
      "name": "python",
      "nbconvert_exporter": "python",
      "pygments_lexer": "ipython3",
      "version": "3.9.1"
    }
  },
  "nbformat": 4,
  "nbformat_minor": 0
}