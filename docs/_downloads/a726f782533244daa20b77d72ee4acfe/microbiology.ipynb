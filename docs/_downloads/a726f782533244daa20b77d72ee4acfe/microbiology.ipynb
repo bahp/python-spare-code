{
  "cells": [
    {
      "cell_type": "code",
      "execution_count": null,
      "metadata": {
        "collapsed": false
      },
      "outputs": [],
      "source": [
        "%matplotlib inline"
      ]
    },
    {
      "cell_type": "markdown",
      "metadata": {},
      "source": [
        "\n# 01. Generate microbiology data\n"
      ]
    },
    {
      "cell_type": "code",
      "execution_count": null,
      "metadata": {
        "collapsed": false
      },
      "outputs": [],
      "source": [
        "import factory\nimport inspect\n\n# Specific\nfrom datetime import timedelta\nfrom random import randrange\n\n\nMICROORGANISMS = ['O%s'%i for i in range(10)]\nANTIMICROBIALS = ['A%s'%i for i in range(10)]\nSPECIMENS = ['BLDCUL', 'URICUL']\nMETHODS = ['DD']\nSENSITIVITIES = ['S', 'I', 'R']\n\n# -----------------------\n# Classes\n# -----------------------\nclass Base:\n    \"\"\"\"\"\"\n    def __init__(self, **attributes):\n        for key, value in attributes.items():\n            self.__dict__[key] = value\n\n    def __str__(self):\n        attrs = [i\n                 for i in inspect.getmembers(self)\n                 if not i[0].startswith('_') and\n                 not inspect.ismethod(i[1])\n        ]\n        return ' | '.join(['%s:%s' % (k,v) for k,v in attrs])\n\nclass Sample(Base):\n    pass\n\nclass Test(Base):\n    pass\n\n\n# -----------------------\n# Factories\n# -----------------------\nclass SampleFactory(factory.Factory):\n    \"\"\"Factory to create samples.\"\"\"\n    class Meta:\n        model = Sample\n\n    date_collected = factory.Faker('date_time')\n    laboratory_number = factory.Sequence(lambda n: 'LAB%08d' % n)\n    specimen = factory.Iterator(SPECIMENS)\n\n\nclass TestFactory(factory.Factory):\n    \"\"\"Factory to create susceptibility tests.\"\"\"\n    sample = factory.SubFactory(SampleFactory)\n    microorganism = factory.Iterator(MICROORGANISMS)\n    antimicrobial = factory.Iterator(ANTIMICROBIALS)\n    method = factory.Iterator(METHODS)\n    sensitivity = factory.Iterator(SENSITIVITIES)\n\n    @factory.lazy_attribute\n    def date_received(self):\n        return self.sample.date_collected + timedelta(hours=self.offset1)\n\n    @factory.lazy_attribute\n    def date_outcome(self):\n        return self.date_received + timedelta(hours=self.offset2)\n\n    class Meta:\n        model = Test\n\n    class Params:\n        offset1 = randrange(3, 24)\n        offset2 = randrange(30, 60)\n\n\n\n        \nif __name__ == '__main__':\n\n    # Libraries\n    import random\n    from random import randrange\n\n    def create_sample_random(norgs, nabxs):\n        \"\"\"Creates samples (randomly)\"\"\"\n        s = SampleFactory()\n        for o in random.sample(MICROORGANISMS, norgs):\n            for a in random.sample(ANTIMICROBIALS, nabxs):\n                t = TestFactory(sample=s, antimicrobial=a, microorganism=o)\n                print(t)\n\n    def create_sample_seq(norgs, nabxs):\n        \"\"\"Creates samples (Iterator)\n\n        .. note: Ensure that N_MAX_ORGS and N_MAX_ABXS are\n                 lower than the lengths of the corresponding\n                 items.\n        \"\"\"\n        s = SampleFactory()\n        for o in range(norgs):\n            t = TestFactory.create_batch(nabxs, sample=s)\n            for e in t:\n                print(e)\n\n\n    # Constants\n    N_SAMPLES = 2\n    N_MAX_ORGS = 4\n    N_MAX_ABXS = 6\n\n    print(\"\\nSEQUENTIAL:\")\n    for ni in range(N_SAMPLES):\n       create_sample_seq(\n           norgs=randrange(N_MAX_ORGS),\n           nabxs=randrange(N_MAX_ABXS)\n       )\n\n    print(\"\\nRANDOM:\")\n    for ni in range(N_SAMPLES):\n       create_sample_random(\n           norgs=randrange(N_MAX_ORGS),\n           nabxs=randrange(N_MAX_ABXS)\n       )"
      ]
    }
  ],
  "metadata": {
    "kernelspec": {
      "display_name": "Python 3",
      "language": "python",
      "name": "python3"
    },
    "language_info": {
      "codemirror_mode": {
        "name": "ipython",
        "version": 3
      },
      "file_extension": ".py",
      "mimetype": "text/x-python",
      "name": "python",
      "nbconvert_exporter": "python",
      "pygments_lexer": "ipython3",
      "version": "3.11.0"
    }
  },
  "nbformat": 4,
  "nbformat_minor": 0
}