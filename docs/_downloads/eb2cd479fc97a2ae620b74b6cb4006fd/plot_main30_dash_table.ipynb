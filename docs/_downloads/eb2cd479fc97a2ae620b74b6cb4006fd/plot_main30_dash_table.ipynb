{
  "cells": [
    {
      "cell_type": "code",
      "execution_count": null,
      "metadata": {
        "collapsed": false
      },
      "outputs": [],
      "source": [
        "%matplotlib inline"
      ]
    },
    {
      "cell_type": "markdown",
      "metadata": {},
      "source": [
        "\n# 30. Dash Table\n\n<div class=\"alert alert-info\"><h4>Note</h4><p>https://plotly.com/python/2d-histogram-contour/</p></div>\n"
      ]
    },
    {
      "cell_type": "code",
      "execution_count": null,
      "metadata": {
        "collapsed": false
      },
      "outputs": [],
      "source": [
        "import dash\nfrom dash.dependencies import Input, Output, State\nimport dash_table\nimport dash_core_components as dcc\nimport dash_html_components as html\n\n\"\"\"\napp = dash.Dash(__name__)\n\napp.layout = html.Div([\n    html.Div([\n        dcc.Input(\n            id='adding-rows-name',\n            placeholder='Enter a column name...',\n            value='',\n            style={'padding': 10}\n        ),\n        html.Button('Add Column', id='adding-rows-button', n_clicks=0)\n    ], style={'height': 50}),\n\n    dash_table.DataTable(\n        id='adding-rows-table',\n        columns=[{\n            'name': 'Column {}'.format(i),\n            'id': 'column-{}'.format(i),\n            'deletable': True,\n            'renamable': True\n        } for i in range(1, 5)],\n        data=[\n            {'column-{}'.format(i): (j + (i-1)*5) for i in range(1, 5)}\n            for j in range(5)\n        ],\n        editable=True,\n        row_deletable=True\n    ),\n\n    html.Button('Add Row', id='editing-rows-button', n_clicks=0),\n\n    dcc.Graph(id='adding-rows-graph')\n])\n\n\n@app.callback(\n    Output('adding-rows-table', 'data'),\n    Input('editing-rows-button', 'n_clicks'),\n    State('adding-rows-table', 'data'),\n    State('adding-rows-table', 'columns'))\ndef add_row(n_clicks, rows, columns):\n    if n_clicks > 0:\n        rows.append({c['id']: '' for c in columns})\n    return rows\n\n\n@app.callback(\n    Output('adding-rows-table', 'columns'),\n    Input('adding-rows-button', 'n_clicks'),\n    State('adding-rows-name', 'value'),\n    State('adding-rows-table', 'columns'))\ndef update_columns(n_clicks, value, existing_columns):\n    if n_clicks > 0:\n        existing_columns.append({\n            'id': value, 'name': value,\n            'renamable': True, 'deletable': True\n        })\n    return existing_columns\n\n\n@app.callback(\n    Output('adding-rows-graph', 'figure'),\n    Input('adding-rows-table', 'data'),\n    Input('adding-rows-table', 'columns'))\ndef display_output(rows, columns):\n    return {\n        'data': [{\n            'type': 'heatmap',\n            'z': [[row.get(c['id'], None) for c in columns] for row in rows],\n            'x': [c['name'] for c in columns]\n        }]\n    }\n\n\nif __name__ == '__main__':\n    app.run_server(debug=True)\n\"\"\""
      ]
    }
  ],
  "metadata": {
    "kernelspec": {
      "display_name": "Python 3",
      "language": "python",
      "name": "python3"
    },
    "language_info": {
      "codemirror_mode": {
        "name": "ipython",
        "version": 3
      },
      "file_extension": ".py",
      "mimetype": "text/x-python",
      "name": "python",
      "nbconvert_exporter": "python",
      "pygments_lexer": "ipython3",
      "version": "3.7.9"
    }
  },
  "nbformat": 4,
  "nbformat_minor": 0
}