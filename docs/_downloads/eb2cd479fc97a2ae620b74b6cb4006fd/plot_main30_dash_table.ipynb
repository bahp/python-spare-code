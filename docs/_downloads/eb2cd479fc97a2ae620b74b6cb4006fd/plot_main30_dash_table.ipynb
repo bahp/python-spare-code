{
  "cells": [
    {
      "cell_type": "code",
      "execution_count": null,
      "metadata": {
        "collapsed": false
      },
      "outputs": [],
      "source": [
        "%matplotlib inline"
      ]
    },
    {
      "cell_type": "markdown",
      "metadata": {},
      "source": [
        "\n# 30. Dash Table app\n\nThis script creates a Dash web application that demonstrates the interactive\ncapabilities of the dash_table.DataTable component. The application features\na table that is fully editable, allowing users to modify cell values directly.\nUsers can also dynamically add new rows with a button click and add new, named\ncolumns using an input field.\n\nThe core feature of this example is the real-time link between the data table a\nnd a dcc.Graph component. Any modification to the table's data or structure\u2014such\nas adding a row, deleting a column, or editing a cell's value\u2014automatically\ntriggers an update to a heatmap below. This provides an immediate visual\nrepresentation of the table's data, showcasing how to build a fully interactive\ndashboard where data manipulation and visualization are seamlessly connected.\n\n<div class=\"alert alert-info\"><h4>Note</h4><p>Open your browser and go to http://127.0.0.1:8050</p></div>\n"
      ]
    },
    {
      "cell_type": "code",
      "execution_count": null,
      "metadata": {
        "collapsed": false
      },
      "outputs": [],
      "source": [
        "# sphinx_gallery_thumbnail_path = '_static/images/thumbnails/thumbnail-plotly-main30-dash-table.png'\n\n# Libraries\nimport dash\nfrom dash.dependencies import Input, Output, State\nfrom dash import dash_table\nfrom dash import dcc\nfrom dash import html\n\ntry:\n    __file__\n    TERMINAL = True\nexcept:\n    TERMINAL = False\n\n# Create app\napp = dash.Dash('table-app')\n\n# Define layout\napp.layout = html.Div([\n    html.Div([\n        dcc.Input(\n            id='adding-rows-name',\n            placeholder='Enter a column name...',\n            value='',\n            style={'padding': 10}\n        ),\n        html.Button('Add Column', id='adding-rows-button', n_clicks=0)\n    ], style={'height': 50}),\n\n    dash_table.DataTable(\n        id='adding-rows-table',\n        columns=[{\n            'name': 'Column {}'.format(i),\n            'id': 'column-{}'.format(i),\n            'deletable': True,\n            'renamable': True\n        } for i in range(1, 5)],\n        data=[\n            {'column-{}'.format(i): (j + (i-1)*5) for i in range(1, 5)}\n            for j in range(5)\n        ],\n        editable=True,\n        row_deletable=True\n    ),\n\n    html.Button('Add Row', id='editing-rows-button', n_clicks=0),\n\n    dcc.Graph(id='adding-rows-graph')\n])\n\n\n@app.callback(\n    Output('adding-rows-table', 'data'),\n    Input('editing-rows-button', 'n_clicks'),\n    State('adding-rows-table', 'data'),\n    State('adding-rows-table', 'columns'))\ndef add_row(n_clicks, rows, columns):\n    if n_clicks > 0:\n        rows.append({c['id']: '' for c in columns})\n    return rows\n\n\n@app.callback(\n    Output('adding-rows-table', 'columns'),\n    Input('adding-rows-button', 'n_clicks'),\n    State('adding-rows-name', 'value'),\n    State('adding-rows-table', 'columns'))\ndef update_columns(n_clicks, value, existing_columns):\n    if n_clicks > 0:\n        existing_columns.append({\n            'id': value, 'name': value,\n            'renamable': True, 'deletable': True\n        })\n    return existing_columns\n\n\n@app.callback(\n    Output('adding-rows-graph', 'figure'),\n    Input('adding-rows-table', 'data'),\n    Input('adding-rows-table', 'columns'))\ndef display_output(rows, columns):\n    return {\n        'data': [{\n            'type': 'heatmap',\n            'z': [[row.get(c['id'], None) for c in columns] for row in rows],\n            'x': [c['name'] for c in columns]\n        }]\n    }\n\n\nif __name__ == '__main__':\n\n    if TERMINAL:\n        app.run_server(debug=True)"
      ]
    }
  ],
  "metadata": {
    "kernelspec": {
      "display_name": "Python 3",
      "language": "python",
      "name": "python3"
    },
    "language_info": {
      "codemirror_mode": {
        "name": "ipython",
        "version": 3
      },
      "file_extension": ".py",
      "mimetype": "text/x-python",
      "name": "python",
      "nbconvert_exporter": "python",
      "pygments_lexer": "ipython3",
      "version": "3.11.0"
    }
  },
  "nbformat": 4,
  "nbformat_minor": 0
}