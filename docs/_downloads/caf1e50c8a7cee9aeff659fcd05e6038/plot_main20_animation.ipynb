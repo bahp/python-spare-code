{
  "cells": [
    {
      "cell_type": "code",
      "execution_count": null,
      "metadata": {
        "collapsed": false
      },
      "outputs": [],
      "source": [
        "%matplotlib inline"
      ]
    },
    {
      "cell_type": "markdown",
      "metadata": {},
      "source": [
        "\n# 20. Basic animation\n\nThis script provides a minimal, fundamental example of how to\ncreate an animation in Matplotlib using the ``FuncAnimation``\nclass. It initializes an empty line plot and defines an\nupdate function that progressively adds data points to the line\nfor each frame. ``FuncAnimation`` then repeatedly calls this\nfunction to generate the final animation, creating the effect\nof a line being drawn across the plot.\n"
      ]
    },
    {
      "cell_type": "code",
      "execution_count": null,
      "metadata": {
        "collapsed": false
      },
      "outputs": [],
      "source": [
        "import numpy as np\nimport matplotlib.pyplot as plt\nimport matplotlib.animation as animation\n\n# Adapted from\n# https://matplotlib.org/gallery/animation/basic_example.html\n\n\ndef _update_line(num):\n    line.set_data(data[..., :num])\n    return line,\n\n\nfig, ax = plt.subplots()\ndata = np.random.RandomState(0).rand(2, 25)\nline, = ax.plot([], [], 'r-')\nax.set(xlim=(0, 1), ylim=(0, 1))\nani = animation.FuncAnimation(fig, _update_line, 25, interval=100, blit=True)\n\nplt.show()"
      ]
    }
  ],
  "metadata": {
    "kernelspec": {
      "display_name": "Python 3",
      "language": "python",
      "name": "python3"
    },
    "language_info": {
      "codemirror_mode": {
        "name": "ipython",
        "version": 3
      },
      "file_extension": ".py",
      "mimetype": "text/x-python",
      "name": "python",
      "nbconvert_exporter": "python",
      "pygments_lexer": "ipython3",
      "version": "3.11.0"
    }
  },
  "nbformat": 4,
  "nbformat_minor": 0
}