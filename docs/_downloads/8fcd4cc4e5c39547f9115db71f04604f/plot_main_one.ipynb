{
  "cells": [
    {
      "cell_type": "code",
      "execution_count": null,
      "metadata": {
        "collapsed": false
      },
      "outputs": [],
      "source": [
        "%matplotlib inline"
      ]
    },
    {
      "cell_type": "markdown",
      "metadata": {},
      "source": [
        "\n# One patient\n\nExample\n"
      ]
    },
    {
      "cell_type": "code",
      "execution_count": null,
      "metadata": {
        "collapsed": false
      },
      "outputs": [],
      "source": [
        "# Generic libraries\nimport pandas as pd\n\n# -----------------------------\n# Constants\n# -----------------------------\n# Path\npath = './data/One_patient_condensed_10656173.csv'\npath = './data/One_patient_condensed_11803145.csv'\n\n# -----------------------------\n# Load data\n# -----------------------------\n# Read data\ndata = pd.read_csv(path,\n    dayfirst=True,\n    parse_dates=['starttime',\n                 'stoptime'])\n\n# Keep only useful columns\ndata = data[['subject_id',\n             'antibiotic',\n             'route',\n             'starttime',\n             'stoptime']]\n\n# Reformat (ignore time information)\ndata.starttime = data.starttime.dt.date\ndata.stoptime = data.stoptime.dt.date\n\n# Show\nprint(\"\\nOriginal Data:\")\nprint(data)\n\n# -----------------------------\n# Transform data\n# -----------------------------\n# .. note: The closed parameter indicates whether to include\n#          the first and/or last samples. None will keep both,\n#          left will keep only start date and right will keep\n#          also the right date.\n# Create column with date range\ndata['startdate'] = data.apply(lambda x:\n    pd.date_range(start=x['starttime'],\n                  end=x['stoptime'],\n                  closed='left',         # ignoring right\n                  freq='D') ,axis=1)\n\n# Explode such column\ndata = data.explode('startdate')\n\n# Create daily therapies\naux = data.groupby('startdate') \\\n    .apply(lambda x: sorted(x.antibiotic \\\n        .str.lower().str.strip().unique().tolist()))\n\n# Include missing days\naux = aux.asfreq('1D')\n\nprint(\"\\nFormatted:\")\nprint(aux)\nprint(\"\\nTherapies (number of days)\")\nprint(aux.value_counts())"
      ]
    }
  ],
  "metadata": {
    "kernelspec": {
      "display_name": "Python 3",
      "language": "python",
      "name": "python3"
    },
    "language_info": {
      "codemirror_mode": {
        "name": "ipython",
        "version": 3
      },
      "file_extension": ".py",
      "mimetype": "text/x-python",
      "name": "python",
      "nbconvert_exporter": "python",
      "pygments_lexer": "ipython3",
      "version": "3.9.0"
    }
  },
  "nbformat": 4,
  "nbformat_minor": 0
}