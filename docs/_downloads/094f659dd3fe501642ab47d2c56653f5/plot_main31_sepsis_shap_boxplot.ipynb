{
  "cells": [
    {
      "cell_type": "code",
      "execution_count": null,
      "metadata": {
        "collapsed": false
      },
      "outputs": [],
      "source": [
        "%matplotlib inline"
      ]
    },
    {
      "cell_type": "markdown",
      "metadata": {},
      "source": [
        "\n# 30. Sample shap.csv boxplot\n\nThe aim is to visualise all the features for all the timesteps\nto quickly see which shap values are higher and therefore\ninfluence more in the result.\n"
      ]
    },
    {
      "cell_type": "code",
      "execution_count": null,
      "metadata": {
        "collapsed": false
      },
      "outputs": [],
      "source": [
        "# Libraries\nimport seaborn as sns\nimport pandas as pd\nimport numpy as np\nimport matplotlib as mpl\nimport matplotlib.pyplot as plt\nimport plotly.express as px\n\nfrom plotly.io import show\nfrom plotly.colors import n_colors\nfrom plotly.express.colors import sample_colorscale\n\n# See https://matplotlib.org/devdocs/users/explain/customizing.html\nmpl.rcParams['axes.titlesize'] = 8\nmpl.rcParams['axes.labelsize'] = 8\nmpl.rcParams['xtick.labelsize'] = 8\nmpl.rcParams['ytick.labelsize'] = 8\nmpl.rcParams['legend.fontsize'] = 7\nmpl.rcParams['legend.handlelength'] = 1\nmpl.rcParams['legend.handleheight'] = 1\nmpl.rcParams['legend.loc'] = 'upper left'\n\ntry:\n    __file__\n    TERMINAL = True\nexcept:\n    TERMINAL = False\n\n\n# Load data\ndata = pd.read_csv('../../datasets/shap/shap.csv')\n\n# Show\nif TERMINAL:\n    print(\"\\nData:\")\n    print(data)\ndata\n\n# Number of colors\nN = data.features.nunique()\n\n# see https://plotly.com/python/builtin-colorscales/#discrete-color-sequences\n# see https://plotly.github.io/plotly.py-docs/generated/plotly.express.box.html\n\n# generate an array of rainbow colors by fixing the saturation and lightness of the\n# HSL representation of colour and marching around the hue. Plotly accepts any CSS\n# color format, see e.g. http://www.w3schools.com/cssref/css_colors_legal.asp.\nc0 = ['hsl('+str(h)+',50%'+',50%)'\n    for h in np.linspace(0, 360, N)]\n\n# More colors\nx = np.linspace(0, 1, N)\nc1 = sample_colorscale('viridis', list(x))\nc2 = sample_colorscale('RdBu', list(x))\nc3 = sample_colorscale('Jet', list(x))\nc4 = sample_colorscale('Agsunset', list(x))\n\n# .. note:: Remove width and size if running locally.\n\n# Boxplot\nfig = px.box(data, x='timestep', y='shap_values',\n             color='features', color_discrete_sequence=c4,\n             points='outliers', width=750, height=900)\n\n# .. note:: If using widescreen, commenting the legend section\n#           will automatically generate a vertical legend with\n#           scrolling if needed. For display purposes in the\n#           docs we have included the legend on top.\n\n# Update layout\nfig.update_layout(\n    #margin={\n    #    'l': 0,\n    #    'r': 0,\n    #    'b': 0,\n    #    't': 0,\n    #    'pad': 4\n    #},\n    legend=dict(\n        orientation=\"h\",\n        entrywidth=140,\n        yanchor=\"bottom\",\n        y=1.02,\n        xanchor=\"right\",\n        x=1,\n        #font=dict(\n        #    family=\"Courier\",\n        #    size=7,\n        #    #color=\"black\"\n        #),\n    ),\n    paper_bgcolor='rgba(0,0,0,0)',  # transparent\n    plot_bgcolor='rgba(0,0,0,0)'  # transparent\n)\n\n# Update xaxis\nfig.update_xaxes(\n    mirror=False,\n    ticks='outside',\n    showline=False,\n    linecolor='black',\n    gridcolor='lightgrey'\n)\n\n# Update yaxis\nfig.update_yaxes(\n    mirror=False,\n    ticks='outside',\n    showline=False,\n    linecolor='black',\n    gridcolor='lightgrey'\n)\n\n# Show\nshow(fig)"
      ]
    }
  ],
  "metadata": {
    "kernelspec": {
      "display_name": "Python 3",
      "language": "python",
      "name": "python3"
    },
    "language_info": {
      "codemirror_mode": {
        "name": "ipython",
        "version": 3
      },
      "file_extension": ".py",
      "mimetype": "text/x-python",
      "name": "python",
      "nbconvert_exporter": "python",
      "pygments_lexer": "ipython3",
      "version": "3.7.9"
    }
  },
  "nbformat": 4,
  "nbformat_minor": 0
}