{
  "cells": [
    {
      "cell_type": "code",
      "execution_count": null,
      "metadata": {
        "collapsed": false
      },
      "outputs": [],
      "source": [
        "%matplotlib inline"
      ]
    },
    {
      "cell_type": "markdown",
      "metadata": {},
      "source": [
        "\n# 01. Segment anything\n\nThe Segment Anything Model (SAM) produces high quality object masks from input\nprompts such as points or boxes, and it can be used to generate masks for all\nobjects in an image. It has been trained on a dataset of 11 million images and\n1.1 billion masks, and has strong zero-shot performance on a variety of\nsegmentation tasks.\n\n.. raw:: html\n\n   <center>\n\n      <a href=\"https://pypi.org/project/segment-anything-py/\" target=\"_blank\">\n         <button class=\"btn-github\"> PyPi\n            <img class=\"btn-icon\" src=\"https://pypi.org/static/images/logo-small.2a411bc6.svg\" width=18/>\n         </button>\n      </a>\n\n      <a href=\"https://segment-anything.com/demo\" target=\"_blank\">\n         <button class=\"btn-github\"> Demo\n            <img class=\"btn-icon\" src=\"./../../_static/images/icon-meta.png\" width=18/>\n         </button>\n      </a>\n\n      <a href=\"https://github.com/facebookresearch/segment-anything\" target=\"_blank\">\n         <button class=\"btn-github\"> Github\n            <img class=\"btn-icon\" src=\"./../../_static/images/icon-github.svg\" width=18/>\n         </button>\n      </a>\n\n      <a href=\"https://github.com/facebookresearch/segment-anything/tree/main/notebooks\" target=\"_blank\">\n         <button class=\"btn-github\"> Notebooks\n            <img class=\"btn-icon\" src=\"https://upload.wikimedia.org/wikipedia/commons/3/38/Jupyter_logo.svg\" width=18/>\n         </button>\n      </a>\n\n   </center>\n\n    <br>\n    <br>\n\n<div class=\"alert alert-info\"><h4>Note</h4><p>It is required to download the checkpoints first!</p></div>\n"
      ]
    },
    {
      "cell_type": "code",
      "execution_count": null,
      "metadata": {
        "collapsed": false
      },
      "outputs": [],
      "source": [
        "# https://pypi.org/project/segment-anything-py/\n\n# Libraries\nimport numpy as np\nimport torch\nimport matplotlib.pyplot as plt\n\n# .. note: The notebook uses cv2 and does some alteration to the image.\n# import cv2\n\n# Library\nfrom segment_anything import SamAutomaticMaskGenerator\nfrom segment_anything import sam_model_registry\n\n\ndef show_anns(anns, ax=None):\n    if len(anns) == 0:\n        return\n    sorted_anns = sorted(anns, key=(lambda x: x['area']), reverse=True)\n    if ax is None:\n        ax = plt.gca()\n    ax.set_autoscale_on(False)\n    polygons = []\n    color = []\n    for ann in sorted_anns:\n        m = ann['segmentation']\n        img = np.ones((m.shape[0], m.shape[1], 3))\n        color_mask = np.random.random((1, 3)).tolist()[0]\n        for i in range(3):\n            img[:,:,i] = color_mask[i]\n        ax.imshow(np.dstack((img, m*0.35)))\n\n# Constant\nCHECKPOINTS = {\n    'vit_b': './objects/main01/sam_vit_b_01ec64.pth', # 0.37 GB\n    'vit_l': './objects/main01/sam_vit_l_0b3195.pth', # 1.2 GB\n    'vit_h': './objects/main01/sam_vit_h_4b8939.pth', # 2.4 GB\n}\n\n# Variables\nmodel = 'vit_b'\n\n# Load image\nimage = plt.imread('./objects/main01/photo-1.jpg')\n\n# Load model\nsam = sam_model_registry[model](checkpoint=CHECKPOINTS[model])\n\n# Create mask generator\nmask_generator = SamAutomaticMaskGenerator(sam)\n\n# Show\nprint(\"Computing masks....\")\n\n# Compute masks\nmasks = mask_generator.generate(image)\n\n# Display\n_, axs = plt.subplots(1, 2, figsize=(20,20), sharey=True)\naxs[0].imshow(image)\naxs[1].imshow(image)\naxs[0].axis('off')\naxs[1].axis('off')\nshow_anns(masks, ax=axs[1])\n\nplt.tight_layout()\nplt.show()"
      ]
    }
  ],
  "metadata": {
    "kernelspec": {
      "display_name": "Python 3",
      "language": "python",
      "name": "python3"
    },
    "language_info": {
      "codemirror_mode": {
        "name": "ipython",
        "version": 3
      },
      "file_extension": ".py",
      "mimetype": "text/x-python",
      "name": "python",
      "nbconvert_exporter": "python",
      "pygments_lexer": "ipython3",
      "version": "3.7.9"
    }
  },
  "nbformat": 4,
  "nbformat_minor": 0
}