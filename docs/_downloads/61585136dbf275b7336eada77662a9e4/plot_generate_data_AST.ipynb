{
  "cells": [
    {
      "cell_type": "code",
      "execution_count": null,
      "metadata": {
        "collapsed": false
      },
      "outputs": [],
      "source": [
        "%matplotlib inline"
      ]
    },
    {
      "cell_type": "markdown",
      "metadata": {},
      "source": [
        "\n# Generate data AST\n"
      ]
    },
    {
      "cell_type": "code",
      "execution_count": null,
      "metadata": {
        "collapsed": false
      },
      "outputs": [],
      "source": [
        "# Libraries\nimport numpy as np\nimport pandas as pd\nimport seaborn as sns\nimport matplotlib.pyplot as plt\n\n# -----------------------------------------------------------\n# CONFIGURATION\n# -----------------------------------------------------------\nCONFIGURATION = [\n    {\n        'date': ['2010-01-01', '2018-01-05'],\n        'info': {\n            'SPECIMEN': 'BLDCUL',\n            'MICROORGANISM': 'SAUR',\n            'ANTIMICROBIAL': 'ATAZ',\n        },\n        'kwargs': {\n            'line_offset': 80,\n            'line_slope': -0.3,\n            'sin_amplitude': 5\n        }\n    },\n    {\n        'date': ['2010-01-01', '2018-01-05'],\n        'info': {\n            'SPECIMEN': 'BLDCUL',\n            'MICROORGANISM': 'SAUR',\n            'ANTIMICROBIAL': 'ACIP',\n        },\n    },\n    {\n        'date': ['2010-05-01', '2019-01-05'],\n        'info': {\n            'SPECIMEN': 'BLDCUL',\n            'MICROORGANISM': 'ECOL',\n            'ANTIMICROBIAL': 'AMER',\n        },\n        'kwargs': {\n            'line_offset': 80,\n            'line_slope': -0.01,\n            'sin_amplitude': 1,\n            'noise_amplitude': 1\n        }\n    },\n    {\n        'date': ['2010-05-01', '2019-01-05'],\n        'info': {\n            'SPECIMEN': 'URICUL',\n            'MICROORGANISM': 'ECOL',\n            'ANTIMICROBIAL': 'AMER',\n        },\n        'kwargs': {\n            'line_offset': 10,\n            'line_slope': 0.2,\n            'sin_amplitude': 3\n        }\n    },\n    {\n        'date': ['2010-05-01', '2018-01-05'],\n        'info': {\n            'SPECIMEN': 'URICUL',\n            'MICROORGANISM': 'ECOL',\n            'ANTIMICROBIAL': 'ACIP',\n        },\n        'kwargs': {\n            'sin_amplitude': 3,\n            'sin_stretch': 3\n        }\n    },\n    {\n        'date': ['2010-05-01', '2020-01-05'],\n        'info': {\n            'SPECIMEN': 'URICUL',\n            'MICROORGANISM': 'ECOL',\n            'ANTIMICROBIAL': 'ATAZ',\n        },\n        'kwargs': {\n            'line_offset': 80,\n            'line_slope': 0.3,\n            'sin_amplitude': 0,\n            'jump_start': 30,\n            'jump_amplitude': 5\n        }\n    },\n    {\n        'date': ['2012-05-01', '2018-01-05'],\n        'info': {\n            'SPECIMEN': 'URICUL',\n            'MICROORGANISM': 'SAUR',\n            'ANTIMICROBIAL': 'AMER',\n        },\n        'kwargs': {\n            'line_offset': 20,\n            'line_slope': 0.1,\n            'sin_amplitude': 0,\n            'noise_amplitude': 0\n        }\n    },\n]\n\ndef make_series(n_samples,\n                line_slope=0.2,\n                line_offset=30,\n                sin_amplitude=1,\n                sin_stretch=1,\n                sin_c=1,\n                noise_amplitude=2,\n                random=False,\n                jump_start=None,\n                jump_amplitude=5):\n    \"\"\"Create series...\n\n    f(x) = a * sin( b (x+c)) + d\n\n    \"\"\"\n    # Configuration\n    if random:\n        line_slope = np.random.randint(10, 20) / 100\n        line_offset = np.random.randint(40, 60)\n        sin_amplitude = np.random.randint(1, 60) / 100\n        sin_stretch = np.random.randint(3, 10)\n        sin_c = np.random.randint(5, 10)\n        noise_amplitude = np.random.randint(10, 20)\n        jump_start = np.random.randint(0, 2)\n        jump_amplitude = np.random.randint(5, 10)\n\n    # Create components and final function\n    x = np.linspace(0, 50, n_samples)\n    line = (line_slope * x) + line_offset\n    noise = noise_amplitude * np.random.rand(len(x))\n    season = sin_amplitude * np.sin(sin_stretch * x)\n    y = line + season + noise + x/5\n\n    # Add a jump.\n    if jump_start is not None:\n        y[jump_start:] += jump_amplitude\n\n    # .. note: This is done to avoid having extreme\n    #          values which end up giving a negative\n    #          number of R or S. In this case it will\n    #          have the same shape but will be using all\n    #          the y-axis from 0.2 to 0.8\n\n    # Normalize within the range (20, 80)\n    rmin, rmax = 20, 80\n    if (max(y) > rmax) or (min(y) < rmin):\n        y = ((y - min(y)) / (max(y) - min(y)))\n        y = y * (rmax - rmin) + rmin\n\n    # Return\n    return y\n\n\ndef create_ast_from_values(cfg, nr=30): #y, dates, info, nr=None):\n    \"\"\"Create AST records.\n\n    .. note:: The values inputed must be between 0 and 100.\n\n    Parameters\n    ----------\n    y: np.array\n        The array with the resistance values, that is the proportion\n        between resistant and isolates (R/R+S). All the values must\n        be within the range [0, 100].\n\n    Returns\n    -------\n    \"\"\"\n    # Generate dates\n    sdate = cfg.get('date')[0]\n    edate = cfg.get('date')[1]\n    dates = pd.date_range(sdate, edate, freq='m')\n\n    # Generate y function\n    kwargs = cfg.get('kwargs', {})\n    random = not bool(kwargs)\n    y = make_series(dates.shape[0], random=random, **kwargs)\n\n    if nr is None:\n       nr = np.random.randint(10, 100, size=y.shape[0])\n\n    # Compute number of S based on number of R.\n    ns = (((100/y) - 1) * nr).astype(int)\n\n    # Create DataFrame\n    data = pd.DataFrame(data=dates, columns=['DATE'])\n\n    # Fill rest of information\n    for k, v in cfg.get('info').items():\n        data[k] = v\n    data['ns'] = ns\n    data['nr'] = nr\n\n    # Create records by repeating entries and\n    # concatenating the results\n    r = data \\\n        .loc[data.index.repeat(data.nr)] \\\n        .assign(SENSITIVITY='resistant') \\\n        .reset_index(drop=True)\n\n    s = data \\\n        .loc[data.index.repeat(data.ns)] \\\n        .assign(SENSITIVITY='sensitive') \\\n        .reset_index(drop=True)\n\n    records = pd.concat([r, s], axis=0)\n\n    # Return\n    return records\n\n\n# Constants\nSPECIMENS = ['BLDCUL', 'URICUL']\nMICROORGANISMS = ['ECOL', 'KPNE']\nANTIMICROBIALS = ['ATAZ', 'AMER', 'ACIP']\n\n\n# Compute records\nrecords = pd.concat([\n    create_ast_from_values(cfg)\n        for cfg in CONFIGURATION])\n\n\n# ----------------------------\n# Compute SARI\n# ----------------------------\n# Show\nfrom pyamr.core.sari import SARI\n\n# Configuration\nshift, period = '1D', '1D'\n\n# Compute the index\niti = SARI().compute(records, shift=shift,\n    period=period, cdate='DATE')\n\n# Display\niti = iti.reset_index()\n\n# Show results\nprint(\"Data:\")\nprint(iti)\n\n# Initialize a grid of plots with an Axes for each walk\ngrid = sns.FacetGrid(iti, row=\"ANTIMICROBIAL\",\n    hue=\"SPECIMEN\", col='MICROORGANISM',\n    palette=\"tab20c\", height=2, aspect=3)\n\n# Draw a horizontal line to show the starting point\ngrid.refline(y=0.5, linewidth=0.75)\n\n# Draw a line plot to show the trajectory of each random walk\ngrid.map(plt.plot, \"DATE\", \"sari\",\n    linewidth=0.75, marker=\"o\", markersize=1)\n\n# Show\nplt.tight_layout()\nplt.show()"
      ]
    }
  ],
  "metadata": {
    "kernelspec": {
      "display_name": "Python 3",
      "language": "python",
      "name": "python3"
    },
    "language_info": {
      "codemirror_mode": {
        "name": "ipython",
        "version": 3
      },
      "file_extension": ".py",
      "mimetype": "text/x-python",
      "name": "python",
      "nbconvert_exporter": "python",
      "pygments_lexer": "ipython3",
      "version": "3.9.1"
    }
  },
  "nbformat": 4,
  "nbformat_minor": 0
}