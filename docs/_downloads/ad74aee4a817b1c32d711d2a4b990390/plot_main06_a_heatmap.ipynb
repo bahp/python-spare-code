{
  "cells": [
    {
      "cell_type": "code",
      "execution_count": null,
      "metadata": {
        "collapsed": false
      },
      "outputs": [],
      "source": [
        "%matplotlib inline"
      ]
    },
    {
      "cell_type": "markdown",
      "metadata": {},
      "source": [
        "\n# 06.a ``sns.heatmap`` for CRI ``v1``\n\nPlot rectangular data as a color-encoded matrix.\n\nThe generates a heatmap visualization for a dataset related to collateral\nsensitivity. It uses the Seaborn library to plot the rectangular data as\na color-encoded matrix. The code loads the data from a CSV file, creates\nmappings for categories and colors, and then plots the heatmap using the\nloaded data and color maps. It also includes annotations, colorbar axes,\ncategory patches, legend elements, and formatting options to enhance the\nvisualization.\n"
      ]
    },
    {
      "cell_type": "code",
      "execution_count": null,
      "metadata": {
        "collapsed": false
      },
      "outputs": [],
      "source": [
        "# Libraries\nimport numpy as np\nimport pandas as pd\nimport seaborn as sns\nimport matplotlib as mpl\nimport matplotlib.pyplot as plt\n\nfrom pathlib import Path\nfrom matplotlib.patches import Patch\nfrom matplotlib.colors import LogNorm\nfrom matplotlib.patches import Rectangle\n\n# See https://matplotlib.org/devdocs/users/explain/customizing.html\nmpl.rcParams['axes.titlesize'] = 8\nmpl.rcParams['axes.labelsize'] = 8\nmpl.rcParams['xtick.labelsize'] = 8\nmpl.rcParams['ytick.labelsize'] = 8\n\ntry:\n    __file__\n    TERMINAL = True\nexcept:\n    TERMINAL = False"
      ]
    },
    {
      "cell_type": "markdown",
      "metadata": {},
      "source": [
        "Lets load the data and create color mapping variables\n\n"
      ]
    },
    {
      "cell_type": "code",
      "execution_count": null,
      "metadata": {
        "collapsed": false
      },
      "outputs": [],
      "source": [
        "# Load data\npath = Path('../../datasets/collateral-sensitivity/sample')\ndata = pd.read_csv(path / 'matrix.csv', index_col=0)\nabxs = pd.read_csv(path / 'categories.csv', index_col=0)\n\n# Create dictionary to map category to color\nlabels = abxs.category\npalette = sns.color_palette('colorblind', labels.nunique())\npalette = sns.cubehelix_palette(labels.nunique(),\n    light=.9, dark=.1, reverse=True, start=1, rot=-2)\nlookup = dict(zip(labels.unique(), palette))\n\n# Create dictionary to map code to category\ncode2cat = dict(zip(abxs.antimicrobial_code, abxs.category))\n\n# Create colors\ncolors = data.columns.to_series().map(code2cat).map(lookup)"
      ]
    },
    {
      "cell_type": "markdown",
      "metadata": {},
      "source": [
        "Lets see the data\n\n"
      ]
    },
    {
      "cell_type": "code",
      "execution_count": null,
      "metadata": {
        "collapsed": false
      },
      "outputs": [],
      "source": [
        "if TERMINAL:\n    print(\"\\nData:\")\n    print(data)\ndata.iloc[:7,:7]"
      ]
    },
    {
      "cell_type": "markdown",
      "metadata": {},
      "source": [
        "Lets see the antimicrobials\n\n"
      ]
    },
    {
      "cell_type": "code",
      "execution_count": null,
      "metadata": {
        "collapsed": false
      },
      "outputs": [],
      "source": [
        "if TERMINAL:\n    print(\"\\nAntimicrobials:\")\n    print(abxs)\nabxs"
      ]
    },
    {
      "cell_type": "markdown",
      "metadata": {},
      "source": [
        "Lets create some variables.\n\n"
      ]
    },
    {
      "cell_type": "code",
      "execution_count": null,
      "metadata": {
        "collapsed": false
      },
      "outputs": [],
      "source": [
        "# Create color maps\ncmapu = sns.color_palette(\"YlGn\", as_cmap=True)\ncmapl = sns.diverging_palette(220, 20, as_cmap=True)\n\n# Create triangular matrices\nmasku = np.triu(np.ones_like(data))\nmaskl = np.tril(np.ones_like(data))"
      ]
    },
    {
      "cell_type": "markdown",
      "metadata": {},
      "source": [
        "Let's display a heatmap\n\n\n"
      ]
    },
    {
      "cell_type": "code",
      "execution_count": null,
      "metadata": {
        "collapsed": false
      },
      "outputs": [],
      "source": [
        "# Draw (heatmap)\nfig, axs = plt.subplots(nrows=1, ncols=1,\n    sharey=False, sharex=False, figsize=(8, 5)\n)\n\n# .. note: This is used to create the colorbar axes. If we want\n#          the default display in which the use the whole fig\n#          height just pass cbar_ax=None.\n\n# Create own colorbar axes\n# Params are [left, bottom, width, height]\ncbar_ax1 = fig.add_axes([0.76, 0.5, 0.03, 0.38])\ncbar_ax2 = fig.add_axes([0.90, 0.5, 0.03, 0.38])\n\n# Display\nr1 = sns.heatmap(data=data, cmap=cmapu, mask=masku, ax=axs,\n            annot=False, linewidth=0.5, norm=LogNorm(),\n            annot_kws={\"size\": 8}, square=True, vmin=0,\n            cbar_ax=cbar_ax2,\n            cbar_kws={'label': 'Number of isolates'})\n\nr2 = sns.heatmap(data=data, cmap=cmapl, mask=maskl, ax=axs,\n            annot=False, linewidth=0.5, vmin=-0.7, vmax=0.7,\n            center=0, annot_kws={\"size\": 8}, square=True,\n            xticklabels=True, yticklabels=True,\n            cbar_ax=cbar_ax1,\n            cbar_kws={'label': 'Collateral Resistance Index'})\n\n# Create patches for categories\ncategory_patches = []\nfor i in axs.get_xticklabels():\n    try:\n        x, y = i.get_position()\n        c = colors.to_dict().get(i.get_text(), 'k')\n        #i.set_color(c) # for testing\n\n        # Add patch.\n        category_patches.append(\n            Rectangle((x-0.35, y-0.5), 0.8, 0.3, edgecolor='k',\n                facecolor=c, fill=True, lw=0.25, alpha=0.5, zorder=1000,\n                transform=axs.transData\n            )\n        )\n    except Exception as e:\n        print(i.get_text(), e)\n\n# Add category rectangles\nfig.patches.extend(category_patches)\n\n# Create legend elements\nlegend_elements = [\n    Patch(facecolor=v, edgecolor='k',\n        fill=True, lw=0.25, alpha=0.5, label=k)\n            for k, v in lookup.items()\n]\n\n# Add legend\naxs.legend(handles=legend_elements, loc='lower left',\n    ncol=1, bbox_to_anchor=(1.1, 0.1), fontsize=8,\n    fancybox=False, shadow=False)\n\n# Format\nplt.suptitle('URINE - Escherichia Coli')\n#plt.subplots_adjust(left=0.8)\nplt.tight_layout()\n\n# Show\nplt.show()"
      ]
    },
    {
      "cell_type": "markdown",
      "metadata": {},
      "source": [
        "Let's draw a clustermap\n\n"
      ]
    },
    {
      "cell_type": "code",
      "execution_count": null,
      "metadata": {
        "collapsed": false
      },
      "outputs": [],
      "source": [
        "\"\"\"\n# Display\nresult = sns.clustermap(data=data, figsize=(6,6),\n    cmap=cmapu, mask=masku, annot=False, linewidth=0.5,\n    norm=LogNorm(), annot_kws={\"size\": 8}, square=True, vmin=0,\n    row_cluster=False, col_cluster=False,\n    col_colors=colors,\n    xticklabels=True, yticklabels=True)\n\n#sns.heatmap(data=data, cmap=cmapl, mask=maskl, ax=result.ax_heatmap,\n#            annot=False, linewidth=0.5, vmin=-0.7, vmax=0.7,\n#            center=0, annot_kws={\"size\": 8}, square=True,\n#            xticklabels=False, yticklabels=False)\n\n# Move the colorbar to the empty space.\n#result.ax_col_dendrogram.legend(loc=\"center\", ncol=6)\n#result.cax.set_position([.15, .2, .03, .45])\n\"\"\""
      ]
    }
  ],
  "metadata": {
    "kernelspec": {
      "display_name": "Python 3",
      "language": "python",
      "name": "python3"
    },
    "language_info": {
      "codemirror_mode": {
        "name": "ipython",
        "version": 3
      },
      "file_extension": ".py",
      "mimetype": "text/x-python",
      "name": "python",
      "nbconvert_exporter": "python",
      "pygments_lexer": "ipython3",
      "version": "3.7.9"
    }
  },
  "nbformat": 4,
  "nbformat_minor": 0
}