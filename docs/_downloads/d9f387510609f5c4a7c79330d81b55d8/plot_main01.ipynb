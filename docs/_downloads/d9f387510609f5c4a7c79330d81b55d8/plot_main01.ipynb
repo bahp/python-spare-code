{
  "cells": [
    {
      "cell_type": "code",
      "execution_count": null,
      "metadata": {
        "collapsed": false
      },
      "outputs": [],
      "source": [
        "%matplotlib inline"
      ]
    },
    {
      "cell_type": "markdown",
      "metadata": {},
      "source": [
        "\n# TableOne\n"
      ]
    },
    {
      "cell_type": "code",
      "execution_count": null,
      "metadata": {
        "collapsed": false
      },
      "outputs": [],
      "source": [
        "# Libraries\nimport pandas as pd\n\n# Specific\nfrom tableone import TableOne\n\n# ------------------------\n# Load data\n# ------------------------\n# Load data\ndata = pd.read_csv('./data/20210602-134857-completed/dataset.csv')\n\n# ------------------------\n# Create tableone\n# ------------------------\n# Columns\ncolumns = ['age', 'gender', 'haematocrit_percent', 'plt']\n\n# Categorical\ncategorical = ['gender']\n\n# Groupby\ngroupby = ['cvs_hos_split']\n\n#\nmytable = TableOne(data, columns, categorical, groupby)"
      ]
    },
    {
      "cell_type": "markdown",
      "metadata": {},
      "source": [
        "Show\n\n\n"
      ]
    },
    {
      "cell_type": "code",
      "execution_count": null,
      "metadata": {
        "collapsed": false
      },
      "outputs": [],
      "source": [
        "mytable.tableone"
      ]
    },
    {
      "cell_type": "markdown",
      "metadata": {},
      "source": [
        "Show (HTML)\n\nHtml\n\n"
      ]
    },
    {
      "cell_type": "code",
      "execution_count": null,
      "metadata": {
        "collapsed": false
      },
      "outputs": [],
      "source": [
        "html = mytable.to_html()\n\n# show\nprint(html)"
      ]
    }
  ],
  "metadata": {
    "kernelspec": {
      "display_name": "Python 3",
      "language": "python",
      "name": "python3"
    },
    "language_info": {
      "codemirror_mode": {
        "name": "ipython",
        "version": 3
      },
      "file_extension": ".py",
      "mimetype": "text/x-python",
      "name": "python",
      "nbconvert_exporter": "python",
      "pygments_lexer": "ipython3",
      "version": "3.9.0"
    }
  },
  "nbformat": 4,
  "nbformat_minor": 0
}