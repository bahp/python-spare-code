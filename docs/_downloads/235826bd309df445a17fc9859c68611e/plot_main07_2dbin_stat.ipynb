{
  "cells": [
    {
      "cell_type": "code",
      "execution_count": null,
      "metadata": {
        "collapsed": false
      },
      "outputs": [],
      "source": [
        "%matplotlib inline"
      ]
    },
    {
      "cell_type": "markdown",
      "metadata": {},
      "source": [
        "\n# Main 07 - 2dbin demo\n"
      ]
    },
    {
      "cell_type": "code",
      "execution_count": null,
      "metadata": {
        "collapsed": false
      },
      "outputs": [],
      "source": [
        "import matplotlib\nimport numpy as np\nimport pandas as pd\nimport matplotlib as mpl\nimport matplotlib.pyplot as plt\n\nfrom scipy import stats\n\n# See https://matplotlib.org/devdocs/users/explain/customizing.html\nmpl.rcParams['font.size'] = 8\nmpl.rcParams['axes.titlesize'] = 8\nmpl.rcParams['axes.labelsize'] = 8\nmpl.rcParams['xtick.labelsize'] = 8\nmpl.rcParams['ytick.labelsize'] = 8\n\ndef heatmap(data, row_labels, col_labels, ax=None,\n            cbar_kw=None, cbarlabel=\"\", **kwargs):\n    \"\"\"\n    Create a heatmap from a numpy array and two lists of labels.\n\n    Parameters\n    ----------\n    data\n        A 2D numpy array of shape (M, N).\n    row_labels\n        A list or array of length M with the labels for the rows.\n    col_labels\n        A list or array of length N with the labels for the columns.\n    ax\n        A `matplotlib.axes.Axes` instance to which the heatmap is plotted.  If\n        not provided, use current axes or create a new one.  Optional.\n    cbar_kw\n        A dictionary with arguments to `matplotlib.Figure.colorbar`.  Optional.\n    cbarlabel\n        The label for the colorbar.  Optional.\n    **kwargs\n        All other arguments are forwarded to `imshow`.\n    \"\"\"\n\n    if ax is None:\n        ax = plt.gca()\n\n    if cbar_kw is None:\n        cbar_kw = {}\n\n    # Plot the heatmap\n    im = ax.imshow(data, **kwargs)\n\n    # Create colorbar\n    cbar = ax.figure.colorbar(im, ax=ax, **cbar_kw)\n    cbar.ax.set_ylabel(cbarlabel, rotation=-90, va=\"bottom\")\n\n    # Show all ticks and label them with the respective list entries.\n    ax.set_xticks(np.arange(data.shape[1]), labels=col_labels)\n    ax.set_yticks(np.arange(data.shape[0]), labels=row_labels)\n\n    # Let the horizontal axes labeling appear on top.\n    ax.tick_params(top=True, bottom=False,\n                   labeltop=True, labelbottom=False)\n\n    # Rotate the tick labels and set their alignment.\n    plt.setp(ax.get_xticklabels(), rotation=-30, ha=\"right\",\n             rotation_mode=\"anchor\")\n\n    # Turn spines off and create white grid.\n    ax.spines[:].set_visible(False)\n\n    ax.set_xticks(np.arange(data.shape[1]+1)-.5, minor=True)\n    ax.set_yticks(np.arange(data.shape[0]+1)-.5, minor=True)\n    ax.grid(which=\"minor\", color=\"w\", linestyle='-', linewidth=3)\n    ax.tick_params(which=\"minor\", bottom=False, left=False)\n\n    return im, cbar\n\n\ndef annotate_heatmap(im, data=None, valfmt=\"{x:.2f}\",\n                     textcolors=(\"black\", \"white\"),\n                     threshold=None, **textkw):\n    \"\"\"\n    A function to annotate a heatmap.\n\n    Parameters\n    ----------\n    im\n        The AxesImage to be labeled.\n    data\n        Data used to annotate.  If None, the image's data is used.  Optional.\n    valfmt\n        The format of the annotations inside the heatmap.  This should either\n        use the string format method, e.g. \"$ {x:.2f}\", or be a\n        `matplotlib.ticker.Formatter`.  Optional.\n    textcolors\n        A pair of colors.  The first is used for values below a threshold,\n        the second for those above.  Optional.\n    threshold\n        Value in data units according to which the colors from textcolors are\n        applied.  If None (the default) uses the middle of the colormap as\n        separation.  Optional.\n    **kwargs\n        All other arguments are forwarded to each call to `text` used to create\n        the text labels.\n    \"\"\"\n\n    if not isinstance(data, (list, np.ndarray)):\n        data = im.get_array()\n\n    # Normalize the threshold to the images color range.\n    if threshold is not None:\n        threshold = im.norm(threshold)\n    else:\n        threshold = im.norm(data.max())/2.\n\n    # Set default alignment to center, but allow it to be\n    # overwritten by textkw.\n    kw = dict(horizontalalignment=\"center\",\n              verticalalignment=\"center\")\n    kw.update(textkw)\n\n    # Get the formatter in case a string is supplied\n    if isinstance(valfmt, str):\n        valfmt = matplotlib.ticker.StrMethodFormatter(valfmt)\n\n    # Loop over the data and create a `Text` for each \"pixel\".\n    # Change the text's color depending on the data.\n    texts = []\n    for i in range(data.shape[0]):\n        for j in range(data.shape[1]):\n            kw.update(color=textcolors[int(im.norm(data[i, j]) > threshold)])\n            text = im.axes.text(j, i, valfmt(data[i, j], None), **kw)\n            texts.append(text)\n\n    return texts\n\n\ndef plot_binned_statistic(r, ax, title=None, astype=None, **kwargs):\n    \"\"\"Plots the binned statistic\n\n    Parameters\n    ----------\n    r: the binned statistic\n    ax: the axes to plot\n\n    Returns\n    -------\n    \"\"\"\n    # Variables\n    rows, cols = r.statistic.shape\n\n    # Compute centers\n    x_center = (r.x_edge[:-1] + r.x_edge[1:]) / 2\n    y_center = (r.y_edge[:-1] + r.y_edge[1:]) / 2\n\n    # Plot heatmap (matplotlib sample, use seaborn instead)\n    im, cbar = heatmap(r.statistic,\n        np.around(x_center, 2), np.around(y_center, 2), ax=ax,\n        cmap=\"coolwarm\", cbarlabel=\"value [unit]\")\n    texts = annotate_heatmap(im, **kwargs)\n\n    # Configure\n    ax.set_aspect('equal', 'box')\n    if title is not None:\n        ax.set_title(title)\n\n    \"\"\"\n    # Show\n    print(\"\\n\\n\")\n    print(matrix)\n    print(r.x_edge)\n    print(r.y_edge)\n    print(r.binnumber)\n    print(np.flip(r.statistic, axis=1))\n    \"\"\"\n\ndef data_manual():\n    \"\"\"\"\"\"\n    # Create random values\n    x = np.array([1, 1, 1, 1, 2, 2, 2, 3, 4])\n    y = np.array([1, 1, 2, 2, 3, 4, 5, 6, 7])\n    z = np.array([1, 9, 9, 1, 2, 2, 2, 3, 4])\n    return x, y, z\n\ndef data_shap():\n    \"\"\"\"\"\"\n    data = pd.read_csv('./data/shap.csv')\n    print(data)\n    return data.timestep, data.shap_values, data.feature_values\n\n\n\n\n# Load data\n#x, y, z = data_manual()\nx, y, z = data_shap()\n\n# Using np.arange\nbinx = np.arange(0, x.max()+1) + 0.5 # [0.5, 1.5, 2.5, ...., N + 0.5]\nbiny = np.arange(0, y.max()+1) + 0.5 # [0.5, 1.5, 2.5, ...., N + 0.5]\n\n# Using np.linspace\nbiny = np.linspace(y.min(), y.max(), 10)\n\n# Manual\n#binx = np.arange(5) + 0.5\n#biny = np.arange(8) + 0.5\n\n# Compute binned statistic (count)\nr1 = stats.binned_statistic_2d(x=x, y=y, values=None,\n    statistic='count', bins=[binx, biny],\n    expand_binnumbers=True)\n\n# Compute binned statistic (median)\nr2 = stats.binned_statistic_2d(x=x, y=y, values=z,\n    statistic='count', bins=[4, 7],\n    expand_binnumbers=False)\n\n# Compute binned statistic (median)\nr3 = stats.binned_statistic_2d(x=x, y=y, values=z,\n    statistic='median', bins=[binx, biny],\n    expand_binnumbers=False)\n\n# Compute binned statistic (median)\nr4 = stats.binned_statistic_2d(x=x, y=y, values=z,\n    statistic='mean', bins=[binx, biny],\n    expand_binnumbers=False)\n\n\n# Plot\nfig, axs = plt.subplots(nrows=2, ncols=2,\n    sharey=True, sharex=True, figsize=(14, 7))\nplot_binned_statistic(r1, axs[0,0], title='r1 (count)', valfmt=\"{x:g}\")\nplot_binned_statistic(r2, axs[0,1], title='r2 (count)', valfmt=\"{x:g}\")\nplot_binned_statistic(r3, axs[1,0], title='r3 (median)')\nplot_binned_statistic(r3, axs[1,1], title='r4 (mean)')\n\n# Display\nplt.tight_layout()\nplt.show()"
      ]
    }
  ],
  "metadata": {
    "kernelspec": {
      "display_name": "Python 3",
      "language": "python",
      "name": "python3"
    },
    "language_info": {
      "codemirror_mode": {
        "name": "ipython",
        "version": 3
      },
      "file_extension": ".py",
      "mimetype": "text/x-python",
      "name": "python",
      "nbconvert_exporter": "python",
      "pygments_lexer": "ipython3",
      "version": "3.7.9"
    }
  },
  "nbformat": 4,
  "nbformat_minor": 0
}