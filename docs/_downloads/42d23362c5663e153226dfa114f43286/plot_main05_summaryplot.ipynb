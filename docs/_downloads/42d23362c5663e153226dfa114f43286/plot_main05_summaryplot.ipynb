{
  "cells": [
    {
      "cell_type": "code",
      "execution_count": null,
      "metadata": {
        "collapsed": false
      },
      "outputs": [],
      "source": [
        "%matplotlib inline"
      ]
    },
    {
      "cell_type": "markdown",
      "metadata": {},
      "source": [
        "\n# 05. Summary plot\n"
      ]
    },
    {
      "cell_type": "code",
      "execution_count": null,
      "metadata": {
        "collapsed": false
      },
      "outputs": [],
      "source": [
        "# Libraries\nimport shap\nimport pandas as pd\n\nimport matplotlib.pyplot as plt\n\n\ntry:\n    __file__\n    TERMINAL = True\nexcept:\n    TERMINAL = False\n\n\n# ------------------------\n# Methods\n# ------------------------\ndef load_shap_file():\n    \"\"\"Load shap file.\n\n    .. note: The timestep does not indicate time step but matrix\n             index index. Since the matrix index for time steps\n             started in negative t=-T and ended in t=0 the\n             transformation should be taken into account.\n\n    \"\"\"\n    from pathlib import Path\n    # Load data\n    path = Path('../../datasets/shap/')\n    data = pd.read_csv(path / 'shap.csv')\n    data = data.iloc[:, 1:]\n    data = data.rename(columns={'timestep': 'indice'})\n    data['timestep'] = data.indice - (data.indice.nunique() - 1)\n    return data\n\n\n# -----------------------------------------------------\n#                       Main\n# -----------------------------------------------------\n# Load data\n# data = create_random_shap(10, 6, 4)\ndata = load_shap_file()\n#data = data[data['sample'] < 100]\n\nshap_values = pd.pivot_table(data,\n                             values='shap_values',\n                             index=['sample', 'timestep'],\n                             columns=['features'])\n\nfeature_values = pd.pivot_table(data,\n                                values='feature_values',\n                                index=['sample', 'timestep'],\n                                columns=['features'])\n\n# Show\nif TERMINAL:\n    print(\"\\nShow:\")\n    print(data)\n    print(shap_values)\n    print(feature_values)"
      ]
    },
    {
      "cell_type": "markdown",
      "metadata": {},
      "source": [
        "Let's see how data looks like\n\n"
      ]
    },
    {
      "cell_type": "code",
      "execution_count": null,
      "metadata": {
        "collapsed": false
      },
      "outputs": [],
      "source": [
        "data.head(10)"
      ]
    },
    {
      "cell_type": "markdown",
      "metadata": {},
      "source": [
        "Let's see how shap_values looks like\n\n"
      ]
    },
    {
      "cell_type": "code",
      "execution_count": null,
      "metadata": {
        "collapsed": false
      },
      "outputs": [],
      "source": [
        "shap_values.iloc[:10, :5]"
      ]
    },
    {
      "cell_type": "markdown",
      "metadata": {},
      "source": [
        "Let's see how feature_values looks like\n\n"
      ]
    },
    {
      "cell_type": "code",
      "execution_count": null,
      "metadata": {
        "collapsed": false
      },
      "outputs": [],
      "source": [
        "feature_values.iloc[:10, :5]"
      ]
    },
    {
      "cell_type": "markdown",
      "metadata": {},
      "source": [
        "## Display using ``shap.summary_plot``\n\nThe first option is to use the ``shap`` library to plot the results.\n\n"
      ]
    },
    {
      "cell_type": "code",
      "execution_count": null,
      "metadata": {
        "collapsed": false
      },
      "outputs": [],
      "source": [
        "# Let's define/extract some useful variables.\nN = 10  # max loops filter\nTIMESTEPS = len(shap_values.index.unique(level='timestep'))  # number of timesteps\nSAMPLES = len(shap_values.index.unique(level='sample'))  # number of samples\n\nshap_min = data.shap_values.min()\nshap_max = data.shap_values.max()"
      ]
    },
    {
      "cell_type": "markdown",
      "metadata": {},
      "source": [
        "Now, let's display the shap values for all features in each timestep.\n\n"
      ]
    },
    {
      "cell_type": "code",
      "execution_count": null,
      "metadata": {
        "collapsed": false
      },
      "outputs": [],
      "source": [
        "# For each timestep (visualise all features)\nsteps = shap_values.index.get_level_values('timestep').unique()\nfor i, step in enumerate(steps):\n    # Get interesting indexes\n    indice = shap_values.index.get_level_values('timestep') == step\n\n    # Create auxiliary matrices\n    shap_aux = shap_values.iloc[indice]\n    feat_aux = feature_values.iloc[indice]\n\n    # Display\n    plt.figure()\n    plt.title(\"Timestep: %s\" % step)\n    shap.summary_plot(shap_aux.to_numpy(), feat_aux, show=False)\n    plt.xlim(shap_min, shap_max)"
      ]
    },
    {
      "cell_type": "markdown",
      "metadata": {},
      "source": [
        "Now, let's display the shap values for all timesteps of each feature.\n\n"
      ]
    },
    {
      "cell_type": "code",
      "execution_count": null,
      "metadata": {
        "collapsed": false
      },
      "outputs": [],
      "source": [
        "# For each feature (visualise all time-steps)\nfor i, f in enumerate(shap_values.columns[:N]):\n    # Show\n    # print('%2d. %s' % (i, f))\n\n    # Create auxiliary matrices (select feature and reshape)\n    shap_aux = shap_values.iloc[:, i] \\\n        .to_numpy().reshape(-1, TIMESTEPS)\n    feat_aux = feature_values.iloc[:, i] \\\n        .to_numpy().reshape(-1, TIMESTEPS)\n    feat_aux = pd.DataFrame(feat_aux,\n        columns=['timestep %s' % j for j in range(-TIMESTEPS+1, 1)]\n        )\n\n    # Show\n    plt.figure()\n    plt.title(\"Feature: %s\" % f)\n    shap.summary_plot(shap_aux, feat_aux, sort=False, show=False, plot_type='violin')\n    plt.xlim(shap_min, shap_max)\n    plt.gca().invert_yaxis()\n\n# Show\nplt.show()"
      ]
    }
  ],
  "metadata": {
    "kernelspec": {
      "display_name": "Python 3",
      "language": "python",
      "name": "python3"
    },
    "language_info": {
      "codemirror_mode": {
        "name": "ipython",
        "version": 3
      },
      "file_extension": ".py",
      "mimetype": "text/x-python",
      "name": "python",
      "nbconvert_exporter": "python",
      "pygments_lexer": "ipython3",
      "version": "3.7.9"
    }
  },
  "nbformat": 4,
  "nbformat_minor": 0
}