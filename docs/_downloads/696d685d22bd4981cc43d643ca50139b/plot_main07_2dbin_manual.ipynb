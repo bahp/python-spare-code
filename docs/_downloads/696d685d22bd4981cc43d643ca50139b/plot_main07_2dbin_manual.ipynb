{
  "cells": [
    {
      "cell_type": "code",
      "execution_count": null,
      "metadata": {
        "collapsed": false
      },
      "outputs": [],
      "source": [
        "%matplotlib inline"
      ]
    },
    {
      "cell_type": "markdown",
      "metadata": {},
      "source": [
        "\n# Main 07 - 2dbin with manual data\n"
      ]
    },
    {
      "cell_type": "code",
      "execution_count": null,
      "metadata": {
        "collapsed": false
      },
      "outputs": [],
      "source": [
        "# Libraries\nimport seaborn as sns\nimport pandas as pd\nimport numpy as np\nimport matplotlib.pyplot as plt\n\nfrom scipy import stats\nfrom matplotlib.colors import LogNorm\n\ndef data_shap():\n    data = pd.read_csv('../../datasets/shap/shap.csv')\n    return data.timestep, \\\n           data.shap_values, \\\n           data.feature_values, \\\n           data\n\ndef data_manual():\n    \"\"\"\"\"\"\n    # Create random values\n    x = np.array([1, 1, 1, 1, 2, 2, 2, 3])\n    y = np.array([1, 1, 2, 2, 3, 3, 4, 1])\n    z = np.array([1, 1, 5, 6, 7, 8, 7, 7])\n    return x, y, z, None\n\n# Create data\nx, y, z, data = data_manual()\n\nprint(x)\nprint(y)\nprint(z)\n\n\"\"\"\n# With pandas\nv = z\nvals, bins = np.histogram(v)\na = pd.Series(v).groupby(pd.cut(v, bins)).median()\nprint(\"\\nPandas:\")\nprint(bins)\nprint(vals)\nprint(a)\n\"\"\"\n\n\n\n\n\n\n\nvmin = z.min()\nvmax = z.max()\n\n\n\n# Compute binned statistic (median)\nbinx = np.linspace(0, 3, 4) + 0.5\nbiny = np.linspace(0, 4, 5) + 0.5\nbinx = np.linspace(0, 6, 7) + 0.5\nbiny = np.linspace(y.min(), y.max(), 100)\nr1 = stats.binned_statistic_2d(x=y, y=x, values=z,\n    statistic='count', bins=[biny, binx],\n    expand_binnumbers=False)\n\nr2 = stats.binned_statistic_2d(x=y, y=x, values=z,\n    statistic='median', bins=[biny, binx],\n    expand_binnumbers=False)\n\n# Compute centres\nx_center = (r1.x_edge[:-1] + r1.x_edge[1:]) / 2\ny_center = (r1.y_edge[:-1] + r1.y_edge[1:]) / 2\n\n# Show\nprint(\"\\nScipy:\")\nprint(binx)\nprint(biny)\nprint(r1.statistic)\nprint(x_center)\nprint(y_center)\n\n# Convert the computed matrix to an stacked dataframe?\n\nflip1 = np.flip(r1.statistic, 0)\nflip2 = np.flip(r2.statistic, 0)\n#flip1 = r1.statistic\n#flip2 = r2.statistic\n\n\n\n# Display\nfig, axs = plt.subplots(nrows=1, ncols=2,\n    sharey=False, sharex=False, figsize=(8, 7))\n\nsns.heatmap(flip1, annot=False, linewidth=0.5,\n    xticklabels=y_center.astype(int),\n    yticklabels=x_center.round(2)[::-1], # Because of flip\n    cmap='Blues', ax=axs[0],\n    norm=LogNorm())\n\nsns.heatmap(flip2, annot=False, linewidth=0.5,\n    xticklabels=y_center.astype(int),\n    yticklabels=x_center.round(2)[::-1], # Because of flip\n    cmap='coolwarm', ax=axs[1], zorder=1,\n    vmin=None, vmax=None, center=None, robust=True)\n\n# If robust=True and vmin or vmax are absent, the colormap range\n# is computed with robust quantiles instead of the extreme values.\n\"\"\"\nsns.violinplot(x=x, y=y,\n    saturation=0.5, fliersize=0.1, linewidth=0.5,\n    color='green', ax=axs[2], zorder=3,\n    width=0.5)\n\"\"\"\n\n\n# Configure ax0\naxs[0].set_title('count')\naxs[0].set_xlabel('timestep')\naxs[0].set_ylabel('shap')\naxs[0].locator_params(axis='y', nbins=10)\n#axs[0].set_aspect('equal', 'box'\n\n# Configure ax1\naxs[1].set_title('median')\naxs[1].set_xlabel('timestep')\naxs[1].set_ylabel('shap')\naxs[1].locator_params(axis='y', nbins=10)\n#axs[1].set_aspect('equal', 'box')\n#axs[1].invert_yaxis()\n\n# Generic\nplt.suptitle('C-Reactive Protein')\n\n\"\"\"\n# Set axes manually\n#plt.set_xticks()\n#plt.setp(axs[1].get_yticklabels()[::1], visible=False)\n#plt.setp(axs[1].get_yticklabels()[::5], visible=True)\nfrom matplotlib import ticker\naxs[1].xaxis.set_major_locator(ticker.MultipleLocator(1.00))\naxs[1].xaxis.set_minor_locator(ticker.MultipleLocator(0.25))\n\"\"\"\n\nplt.tight_layout()\nplt.show()\n\n\n\"\"\"\nimport sys\nsys.exit()\n# Compute bin statistic (count and median)\n\n# Plot\nplt.figure()\nsns.violinplot(data=data, x=\"timestep\", y=\"shap_values\", inner=\"box\")\nplt.figure()\nplt.tight_layout()\nsns.violinplot(data=data, x=\"timestep\", y=\"feature_values\", inner=\"box\")\nplt.figure()\nsns.histplot(data=data, x=\"timestep\", shrink=.8)\n\n\n# Plot hist\nf1 = plt.hist2d(data.timestep, data.feature_values, bins=30, cmap='Reds')\ncb = plt.colorbar()\ncb.set_label('counts in bin')\nplt.title('Counts (square bin)')\nplt.show()\n\"\"\""
      ]
    }
  ],
  "metadata": {
    "kernelspec": {
      "display_name": "Python 3",
      "language": "python",
      "name": "python3"
    },
    "language_info": {
      "codemirror_mode": {
        "name": "ipython",
        "version": 3
      },
      "file_extension": ".py",
      "mimetype": "text/x-python",
      "name": "python",
      "nbconvert_exporter": "python",
      "pygments_lexer": "ipython3",
      "version": "3.7.9"
    }
  },
  "nbformat": 4,
  "nbformat_minor": 0
}