{
  "cells": [
    {
      "cell_type": "code",
      "execution_count": null,
      "metadata": {
        "collapsed": false
      },
      "outputs": [],
      "source": [
        "%matplotlib inline"
      ]
    },
    {
      "cell_type": "markdown",
      "metadata": {},
      "source": [
        "\n# 05.b ``sns.clustermap`` with ``network.csv``\n\nThis script demonstrates an advanced use of ``seaborn.clustermap``\nto visualize a correlation matrix from the \"brain_networks\"\ndataset. \ud83e\udde0 Its main purpose is to show how to add categorical\ncolor annotations to rows and columns. It features a clever\nworkaround to create a proper legend for these annotations by\nplotting invisible bars, resulting in a polished and informative\nheatmap.\n\n<div class=\"alert alert-info\"><h4>Note</h4><p>The hierarchical clustering has been deactivated.</p></div>\n"
      ]
    },
    {
      "cell_type": "code",
      "execution_count": null,
      "metadata": {
        "collapsed": false
      },
      "outputs": [],
      "source": [
        "import pandas as pd\nimport seaborn as sns\nimport matplotlib.pyplot as plt\n\n# Load dataset\nnetworks = sns.load_dataset(\"brain_networks\",\n    index_col=0, header=[0, 1, 2])\n\n# Create variables\nnetwork_labels = networks.columns.get_level_values(\"network\")\nnetwork_pal = sns.cubehelix_palette(\n    network_labels.unique().size,\n    light=.9, dark=.1, reverse=True,\n    start=1, rot=-2)\nnetwork_lut = dict(zip(map(str, network_labels.unique()), network_pal))\nnetwork_colors = pd.Series(network_labels).map(network_lut)\n\n# The side colors are drawn with a heatmap, which matplotlib thinks\n# of as quantitative data and thus there's not a straightforward way\n# to get a legend directly from it. Instead of that, we'll add an\n# invisible barplot with the right colors and labels, then add a\n# legend for that.\ng = sns.clustermap(networks.corr(),\n    row_cluster=False, col_cluster=False,                 # turn-off clustering\n    row_colors=network_colors, col_colors=network_colors, # add class labels\n    linewidths=0, xticklabels=False, yticklabels=False)   # improve visual wih many rows\n\nfor label in network_labels.unique():\n    g.ax_col_dendrogram.bar(0, 0,\n        color=network_lut[label],\n        label=label, linewidth=0)\n\n# Move the colorbar to the empty space.\ng.ax_col_dendrogram.legend(loc=\"center\", ncol=6)\ng.cax.set_position([.15, .2, .03, .45])\n\n# Show\nplt.show()"
      ]
    }
  ],
  "metadata": {
    "kernelspec": {
      "display_name": "Python 3",
      "language": "python",
      "name": "python3"
    },
    "language_info": {
      "codemirror_mode": {
        "name": "ipython",
        "version": 3
      },
      "file_extension": ".py",
      "mimetype": "text/x-python",
      "name": "python",
      "nbconvert_exporter": "python",
      "pygments_lexer": "ipython3",
      "version": "3.11.0"
    }
  },
  "nbformat": 4,
  "nbformat_minor": 0
}