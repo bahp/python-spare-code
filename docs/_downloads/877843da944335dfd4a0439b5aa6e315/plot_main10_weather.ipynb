{
  "cells": [
    {
      "cell_type": "code",
      "execution_count": null,
      "metadata": {
        "collapsed": false
      },
      "outputs": [],
      "source": [
        "%matplotlib inline"
      ]
    },
    {
      "cell_type": "markdown",
      "metadata": {},
      "source": [
        "\n# Plotly - Weather\n"
      ]
    },
    {
      "cell_type": "code",
      "execution_count": null,
      "metadata": {
        "collapsed": false
      },
      "outputs": [],
      "source": [
        "# -------------------\n# Main\n# -------------------\n# https://chart-studio.plotly.com/~empet/13748/sparklines/#/code\n# https://omnipotent.net/jquery.sparkline/#s-about\n# https://chart-studio.plotly.com/create/?fid=Dreamshot:8025#/\n\n# Libraries\nimport glob\nimport numpy as np\nimport pandas as pd\nimport plotly.express as px\nimport plotly.graph_objects as go\n\nfrom pandas.tseries.offsets import DateOffset\nfrom plotly.subplots import make_subplots\n\n# Constants\ncolors = px.colors.sequential.Viridis_r\ncolors += px.colors.sequential.Viridis_r\n\n# -------------------\n# Load data\n# -------------------\n# Define folder\nfolder = './data/weather-hmc-dataset/'\n\n# Load data\ndata = pd.concat([pd.read_csv(f) \\\n    for f in glob.glob('%s/*.csv' % folder)])\n\n# Drop duplicates\ndata = data.drop_duplicates()\ndata['dates'] = pd.to_datetime(data['Date time'])\ndata = data.set_index('dates')\ndata = data.drop(columns=['Name',\n                          'Date time',\n                          'Conditions'])\n\n# Show data\nprint(\"\\nData:\")\nprint(data)\n\n\n# ----------------\n# Visualize\n# ----------------\n# Create layout\nlayout = {\n  \"font\": {\"family\": \"Georgia, serif\"},\n  \"title\": \"Weather Ho Chi Minh\",\n  #\"width\": 500,\n  \"height\": 1000,\n  #\"margin\": {\"t\": 80},\n  \"paper_bgcolor\": 'rgba(0,0,0,0)',  # transparent\n  \"plot_bgcolor\": 'rgba(0,0,0,0)',  # transparent\n  #\"autosize\": False,\n  \"hovermode\": \"closest\",\n  \"showlegend\": False,\n}\n\n# Create figure\nfig = make_subplots(rows=data.shape[1], cols=1,\n                    shared_xaxes=True,\n                    subplot_titles=[t for t in data.columns])\n\n# Add traces\nfor i, column in enumerate(data.columns):\n    # Colors\n    c = colors[i]\n    x = data.index\n    y = data[column]\n\n    # Add trace\n    fig.add_trace(go.Scatter(x=x, y=y,\n        name=column,\n        mode='lines', fill='tozeroy',\n        line=dict(color=c, width=0.5)),\n        row=i+1, col=1)\n\n    # Update axes\n    fig.update_yaxes(title_text='', row=i+1, col=1)\n\n# Update layout\nfig.update_layout(layout)\n\n# Show\n#fig.show()\nfig"
      ]
    }
  ],
  "metadata": {
    "kernelspec": {
      "display_name": "Python 3",
      "language": "python",
      "name": "python3"
    },
    "language_info": {
      "codemirror_mode": {
        "name": "ipython",
        "version": 3
      },
      "file_extension": ".py",
      "mimetype": "text/x-python",
      "name": "python",
      "nbconvert_exporter": "python",
      "pygments_lexer": "ipython3",
      "version": "3.9.0"
    }
  },
  "nbformat": 4,
  "nbformat_minor": 0
}