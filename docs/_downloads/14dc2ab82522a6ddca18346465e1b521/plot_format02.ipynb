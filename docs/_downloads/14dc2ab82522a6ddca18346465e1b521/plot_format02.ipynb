{
  "cells": [
    {
      "cell_type": "code",
      "execution_count": null,
      "metadata": {
        "collapsed": false
      },
      "outputs": [],
      "source": [
        "%matplotlib inline"
      ]
    },
    {
      "cell_type": "markdown",
      "metadata": {},
      "source": [
        "\n# 02. Aggregation\n\nAggregate patient's data in a single row.\n"
      ]
    },
    {
      "cell_type": "code",
      "execution_count": null,
      "metadata": {
        "collapsed": false
      },
      "outputs": [],
      "source": [
        "# Generic\nimport warnings\nimport numpy as np\nimport pandas as pd \n\n# Ignore warnings\nwarnings.simplefilter(\"ignore\")\n\ndef load_data():\n\treturn pd.read_csv('./laboratory.csv', parse_dates=['date'])\n\ndef create_data():\n\t\"\"\"\"\"\"\n\t# Configuration\n\tROWS, COLS = 150000, 10\n\tPATIENTS = 300\n\n\t# Create random values\n\tfeatures = np.random.random_sample((ROWS, COLS))\n\tpatients = np.random.randint(PATIENTS, size=(ROWS, 1))\n\n\t# Create DataFrame\n\tdf = pd.DataFrame(data=features)\n\tdf = df.add_prefix('f_')\n\tdf['id'] = patients\n\n\t# Return\n\treturn df\n\n\n# -----------------------\n# Read data\n# -----------------------\n# Read data\n#data = pd.read_csv('./laboratory.csv', parse_dates=['date'])\n\ndata = create_data()\n\n\n# -----------------------\n# Format\n# -----------------------\n# Configuration\nshow_progress_every = 10 # Number of patients\nbreak_loop_after = 100  #\u00a0Number of patients or None\n\n#\u00a0Create empty outcome\nresults = pd.DataFrame()\n\n# Groups\ngroups = data.groupby(by='id')\n\n# Step by step\u00a0(16270 groups!)\nfor i, (k, g) in enumerate(groups):\n\t# Show information\n\tif (i % show_progress_every) == 0:\n\t\tprint(\"%5s/%5s. Patient '%s'\" % (i+1, len(groups), k))\n\n\t# Show dataframe\n\t#print(g)\n\n\t# Sort by dates (if needed)\n\n\t# Fill empty values\n\t#g.fillna(method='backfill', inplace=True)\n\n\t# Compute statistics\n\t# ------------------\n\t# .. note: Forward/backward filling does not affect\n\t#          the max/min but it affects the mean or\n\t#          median.\n\t#\n\t# .. note: You could also create a map with all the \n\t#          functions you want to apply instead of \n\t#          using describe. This is useful if you need \n\t#          specific stats\n\n\t#\u00a0Get the common stats\n\t#d = g.describe()\n\n\t#\u00a0Get specific stats for all columns\t\n\td = g.agg({c: ['max', 'min'] for c in g.columns})\n\n\t#\u00a0Stack the describe outcome \n\td = d.stack()\n\td.index = ['_'.join(e) for e in d.index.tolist()]\n\td['id'] = k                  # patient identifier\n\t#d['date'] = min(g['date'])   # admission date\n\n\t#\u00a0Append result\n\tresults = pd.concat([results, d], ignore_index=True, axis=1)\n\n\t# Break clause for testing\n\t#if break_loop_after is not None:\n\tif i==break_loop_after:\n\t\tbreak\n\n\n# Show columns\n#print(results.columns.values)\n\nprint(results)\n\n# Show results (partially)\n#print(results[['id', 'date', 'max_wcc']])\n\n# .. note: Once it works as you want, you can try to do it\n#          in one single line and compare the results to \n#          verify that it is correct."
      ]
    }
  ],
  "metadata": {
    "kernelspec": {
      "display_name": "Python 3",
      "language": "python",
      "name": "python3"
    },
    "language_info": {
      "codemirror_mode": {
        "name": "ipython",
        "version": 3
      },
      "file_extension": ".py",
      "mimetype": "text/x-python",
      "name": "python",
      "nbconvert_exporter": "python",
      "pygments_lexer": "ipython3",
      "version": "3.7.9"
    }
  },
  "nbformat": 4,
  "nbformat_minor": 0
}