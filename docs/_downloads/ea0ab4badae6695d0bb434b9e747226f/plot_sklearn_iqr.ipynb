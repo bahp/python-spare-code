{
  "cells": [
    {
      "cell_type": "code",
      "execution_count": null,
      "metadata": {
        "collapsed": false
      },
      "outputs": [],
      "source": [
        "%matplotlib inline"
      ]
    },
    {
      "cell_type": "markdown",
      "metadata": {},
      "source": [
        "\n# IQRFilter\n\nExample of implementing an IQR filter.\n"
      ]
    },
    {
      "cell_type": "code",
      "execution_count": null,
      "metadata": {
        "collapsed": false
      },
      "outputs": [],
      "source": [
        "# Import from future.\nfrom __future__ import division\n\n# Libraries\nimport numpy as np\n\n# --------------------------------------------------------------------------\n#                       Inter-Quantile Range filter\n# --------------------------------------------------------------------------\nclass IQRFilter():\n    \"\"\"This filter set those cells which lie outside of the\n    interquantile range rule as np.nan. Ir performs iqr\n    filtering for a single data matrix or a matrix with the\n    corresponding classes. The latter performs the filtering\n    for each class independently.\n\n    .. todo: Return indicator with values set as nan.\n    .. note: The code could be simplified.\n    .. note: The coud could check input classes and raise error.\n\n    \"\"\"\n\n    def __init__(self, iqrrange=[25, 75], coefficient=1.5):\n        \"\"\"The constructor\"\"\"\n        self.iqrrange = iqrrange\n        self.coefficient = coefficient\n        self.lower_coefs = None\n        self.upper_coefs = None\n\n    def __repr__(self):\n        \"\"\"\n        \"\"\"\n        return \"IQRFilter(iqrrange=%s, coefficient=%s)\" % \\\n               (self.iqrrange, self.coefficient)\n\n    # --------------------------\n    #   generic methods\n    # --------------------------\n    def _fit(self, X):\n        \"\"\"This method computes the lower and upper percentiles\n        \"\"\"\n        # Compute lower and uper quartiles\n        lower_quartiles, upper_quartiles = \\\n            np.nanpercentile(X, self.iqrrange, axis=0)\n\n        # Compute the interquantile range\n        iqrs = (upper_quartiles - lower_quartiles) * self.coefficient\n\n        # Set parameters\n        return lower_quartiles - iqrs, upper_quartiles + iqrs\n\n    # --------------------------\n    #   single class methods\n    # --------------------------\n    def _fit_s(self, X):\n        \"\"\"This method fits single category.\n\n         Parameters\n         ----------\n         X :\n\n         Returns\n         -------\n         IQRFIlter instance\n        \"\"\"\n        # Create the array coefficients\n        self.lower_coefs, self.upper_coefs = self._fit(X)\n\n        # Format to array\n        self.lower_coefs = self.lower_coefs.reshape(1, -1)\n        self.upper_coefs = self.upper_coefs.reshape(1, -1)\n\n        # Return\n        return self\n\n    def _filter_s(self, X):\n        \"\"\"This method filters single category.\n\n        Parameters\n        ----------\n        X :\n\n        Returns\n        -------\n        np.ndarray\n        \"\"\"\n        # Copy X\n        F = np.copy(X)\n\n        # Indexes\n        is_lower = F < self.lower_coefs[0, :]\n        is_upper = F > self.upper_coefs[0, :]\n\n        # Filter\n        F[is_lower | is_upper] = np.nan\n\n        # Return\n        return F\n\n    # ----------------------------\n    #   multiple class methods\n    # ----------------------------\n    def _fit_m(self, X, y):\n        \"\"\"This method fits multiple category\n\n        Note: the attribute _classes is a dictionary in which the key is\n              the ategory identifier and the value is the index within\n              the lower_coefs and upper_coefs.\n\n        Parameters\n        ----------\n        X :\n        y :\n\n        Returns\n        -------\n        IQRFIlter instance\n        \"\"\"\n        # Create matrices with coefficients for each class\n        self.lower_coefs = [self._fit(X[y == c])[0] for c in np.unique(y)]\n        self.upper_coefs = [self._fit(X[y == c])[1] for c in np.unique(y)]\n\n        # Format to array\n        self.lower_coefs = np.array(self.lower_coefs)\n        self.upper_coefs = np.array(self.upper_coefs)\n\n        # Set classes\n        self._classes = {c: idx for idx, c in enumerate(np.unique(y))}\n\n        # Return\n        return self\n\n    def _filter_m(self, X, y):\n        \"\"\"This method filters multiple category.\n\n\n        Parameters\n        ----------\n        X :\n        y :\n\n        Returns\n        -------\n        np.ndarray\n        \"\"\"\n        # Copy matrix\n        F = np.copy(X).astype(float)\n\n        # For each category\n        for category, index in self._classes.items():\n            # Indexes\n            is_y = np.repeat((y == category).reshape(-1, 1), X.shape[1], 1)\n            is_lower = F < self.lower_coefs[index, :]\n            is_upper = F > self.upper_coefs[index, :]\n\n            # Filter\n            F[is_y & (is_lower | is_upper)] = np.nan\n\n        # Return\n        return F\n\n    # -------------------------\n    #   caller methods\n    # -------------------------\n    def fit(self, X, y=None):\n        \"\"\"This method fits the filter to the data.\n\n        Parameters\n        ----------\n        X :\n        y :\n\n        Returns\n        -------\n        self\n        \"\"\"\n        # Fit filter\n        if y is None:\n            self._fit_s(X)\n        else:\n            self._fit_m(X, y)\n        # Return\n        return self\n\n    def filter(self, X, y=None):\n        \"\"\"This method filters the input\n\n        Parameters\n        ----------\n        X :\n\n        Returns\n        -------\n        np.ndarray\n        \"\"\"\n        # The object has not been previously fitted\n        if self.lower_coefs is None or self.upper_coefs is None:\n            raise TypeError(\"The instance IQRFilter has not been fitted.\")\n\n        # The instance has been fitted with classes\n        if hasattr(self, '_classes') and y is None:\n            raise TypeError(\"The instance IQRFilter has been fitted with \"\n                            \"several categories (%s). As such, the y \"\n                            \"parameter is required to identify the \"\n                            \"categories.\" % self._classes.keys())\n\n        # Verify that all classes are included\n        if hasattr(self, '_classes'):\n            y_classes = set(np.unique(y))\n            f_classes = set(self._classes.keys())\n            if bool(y_classes - f_classes):\n                raise TypeError(\"There are categories in the inputed y (%s) which \"\n                                \"were not seen during the fiting process (%s). As \"\n                                \"such the data cannot be filtered.\" %\n                                (y_classes, f_classes))\n\n        # Filter\n        if y is None:\n            return self._filter_s(X)\n        # Multiple category\n        return self._filter_m(X, y)\n\n    def fit_filter(self, X, y=None):\n        \"\"\"This method fits and filters.\n        \"\"\"\n        # Fit\n        self.fit(X, y)\n        # Filter\n        if y is None:\n            return self.filter(X)\n        # Return\n        return self.filter(X, y), y\n\n\n\n\nif __name__ == '__main__':\n\n    # Import\n    import numpy as np\n    import warnings\n    import matplotlib as mpl\n\n    # Import specific\n    from sklearn.datasets import make_classification\n\n    # ------------------------------------\n    # basic configuration\n    # ------------------------------------\n    # Ignore all the warnings\n    warnings.simplefilter('ignore')\n\n    # Set matplotlib\n    mpl.rcParams['xtick.labelsize'] = 9\n    mpl.rcParams['ytick.labelsize'] = 9\n    mpl.rcParams['axes.titlesize'] = 11\n    mpl.rcParams['legend.fontsize'] = 9\n\n    # Set print options\n    np.set_printoptions(precision=2)\n\n    # ------------------------------------\n    # create data\n    # ------------------------------------\n    # Create feature data\n    data = np.array([[1, 2, 3, 4],\n                     [5, 6, 7, 8],\n                     [9, 1, 2, 3],\n                     [1, 2, 3, 4],\n                     [1, 2, 3, 3],\n                     [3, 7, 3, 4],\n                     [1, 2, 3, 3],\n                     [3, 7, 3, 4],\n                     [1, 2, 3, 4],\n                     [3, 6, 3, 4],\n                     [2, 2, -55, 55]])\n\n    # Create categories\n    y = np.array([1, 1, 1, 1, 1, 1, 0, 0, 0, 0, 0])\n\n    # --------------\n    # IQR filtering\n    # --------------\n    # Create filter object\n    iqr = IQRFilter(iqrrange=[25, 75], coefficient=1.5)\n\n    # Fit and filter\n    print(iqr.fit_filter(data, y))\n\n    # Do some sample plots..."
      ]
    }
  ],
  "metadata": {
    "kernelspec": {
      "display_name": "Python 3",
      "language": "python",
      "name": "python3"
    },
    "language_info": {
      "codemirror_mode": {
        "name": "ipython",
        "version": 3
      },
      "file_extension": ".py",
      "mimetype": "text/x-python",
      "name": "python",
      "nbconvert_exporter": "python",
      "pygments_lexer": "ipython3",
      "version": "3.8.3"
    }
  },
  "nbformat": 4,
  "nbformat_minor": 0
}