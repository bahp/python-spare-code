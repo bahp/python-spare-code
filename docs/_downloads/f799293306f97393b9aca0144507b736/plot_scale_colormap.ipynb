{
  "cells": [
    {
      "cell_type": "code",
      "execution_count": null,
      "metadata": {
        "collapsed": false
      },
      "outputs": [],
      "source": [
        "%matplotlib inline"
      ]
    },
    {
      "cell_type": "markdown",
      "metadata": {},
      "source": [
        "\n# Show colormap for various scalings\n\nThe dummy piece of code included below demonstrates visually\nthat the transformation using the MinMaxScaler or StandardScaler\ndoes not affect the colormap. These transformations compute\na 'mapping' but do not alter the values and/or their\ndistribution. See the formulas below:\n\n\n\\begin{align}MinMaxScaler (x_{scaled}) = x_{std} * (x_{max} - x_{min}) + x_{min}\\end{align}\n\n\\begin{align}where x_{std} = (x - x_{min}) / (x_{max} - x_{min})\\end{align}\n\n\\begin{align}StandardScaler (x_{scaled}) = (x - x_{mean}) / x_{std}\\end{align}\n"
      ]
    },
    {
      "cell_type": "code",
      "execution_count": null,
      "metadata": {
        "collapsed": false
      },
      "outputs": [],
      "source": [
        "# Library\nimport numpy as np\nimport seaborn as sns\nimport matplotlib as mpl\nimport matplotlib.pyplot as plt\n\nfrom sklearn.preprocessing import MinMaxScaler\nfrom sklearn.preprocessing import StandardScaler\n\n# See https://matplotlib.org/devdocs/users/explain/customizing.html\nmpl.rcParams['axes.titlesize'] = 8\nmpl.rcParams['axes.labelsize'] = 8\nmpl.rcParams['xtick.labelsize'] = 8\nmpl.rcParams['ytick.labelsize'] = 8\n\n# Create data\nlinear = np.linspace(0, 10, 100)\nrayleigh = np.random.rayleigh(3, 100)\noriginal = np.concatenate((linear, rayleigh)).reshape(-1, 1)\n#original = rayleigh.reshape(-1, 1)\n\n# Create scalers\nmmx = MinMaxScaler().fit(original)\nstd = StandardScaler().fit(original)\n\n# Display\nfig, axs = plt.subplots(nrows=1, ncols=4,\n    sharey=True, sharex=False, figsize=(8, 7))\n\nfor i, (name, data) in enumerate(\n        [('original', original),\n         ('MinMax', mmx.transform(original)),\n         ('StdScaler', std.transform(original)),\n         ('log', np.log(original))]):\n\n    sns.heatmap(data.reshape(10, -1), annot=False,\n        linewidth=0.5, cmap='coolwarm', ax=axs[i], zorder=1,\n        cbar_kws={\n            # 'label': 'value [unit]',\n            'use_gridspec': True,\n            'location': 'right'\n        }\n    )\n    axs[i].set_title(name)\n\n\nfig, axs = plt.subplots(nrows=3, ncols=1,\n    sharey=True, sharex=False, figsize=(8, 7))\n\nfor i, (name, data) in enumerate(\n        [('original', original),\n         ('MinMax', mmx.transform(original)),\n         ('StdScaler', std.transform(original))]):\n    #sns.displot(data=data.reshape(1, -1).tolist(), ax=axs[i],\n    #bins=100)\n    #kind=\"kde\")\n    #sns.kdeplot(data=data.reshape(1, -1).tolist(), ax=axs)\n    sns.histplot(data=data.reshape(1, -1).tolist(), ax=axs[i], kde=True)\n    axs[i].set_title(name)\n\n\n# Show\nplt.show()"
      ]
    }
  ],
  "metadata": {
    "kernelspec": {
      "display_name": "Python 3",
      "language": "python",
      "name": "python3"
    },
    "language_info": {
      "codemirror_mode": {
        "name": "ipython",
        "version": 3
      },
      "file_extension": ".py",
      "mimetype": "text/x-python",
      "name": "python",
      "nbconvert_exporter": "python",
      "pygments_lexer": "ipython3",
      "version": "3.10.13"
    }
  },
  "nbformat": 4,
  "nbformat_minor": 0
}