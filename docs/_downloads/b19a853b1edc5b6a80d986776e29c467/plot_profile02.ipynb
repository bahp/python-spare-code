{
  "cells": [
    {
      "cell_type": "code",
      "execution_count": null,
      "metadata": {
        "collapsed": false
      },
      "outputs": [],
      "source": [
        "%matplotlib inline"
      ]
    },
    {
      "cell_type": "markdown",
      "metadata": {},
      "source": [
        "\n# 02. Generate an EDA Report with Dataprep\n\nThis script demonstrates how to quickly generate a comprehensive Exploratory\nData Analysis (EDA) report using the `dataprep` library. It loads the classic\nIris dataset, creates an interactive report, and saves it as an HTML file.\n\n<div class=\"alert alert-info\"><h4>Note</h4><p>Dataprep Installation on Windows\n\n   The installation of the `dataprep` library may fail on a standard Windows\n   environment. This is because some of its dependencies (like `levenshtein`\n   and `regex`) need to be compiled from C++ source code during installation.\n\n   To resolve this, you must have the **Microsoft C++ Build Tools** installed on\n   your system.\n\n   1.  **Download the installer:**\n       https://visualstudio.microsoft.com/visual-cpp-build-tools/\n\n   2.  **Run the installer** and select the **\"Desktop development with C++\"**\n       workload.\n\n   3.  Once installed, restart your terminal and try the installation again:\n       `pip install dataprep`</p></div>\n"
      ]
    },
    {
      "cell_type": "code",
      "execution_count": null,
      "metadata": {
        "collapsed": false
      },
      "outputs": [],
      "source": [
        "\"\"\"\n.. note:: Lots of issues with conflicting libraries. But\n          should work in its own virtual environment.\n\n# Libraries\nimport pandas as pd\n\n# Specific\nfrom dataprep.eda import create_report\nfrom sklearn.datasets import load_iris\nfrom pathlib import Path\n\n# Load data object\nobj = load_iris(as_frame=True)\n\n# Create report\nprofile = create_report(obj.data,\n    title=\"Pandas Profiling Report\")\n\n# Save to file\nPath('./outputs').mkdir(parents=True, exist_ok=True)\nprofile.save(\"./outputs/profile02-report.html\")\n\n# Show report in the browser\n#profile.show_browser()\n\"\"\""
      ]
    }
  ],
  "metadata": {
    "kernelspec": {
      "display_name": "Python 3",
      "language": "python",
      "name": "python3"
    },
    "language_info": {
      "codemirror_mode": {
        "name": "ipython",
        "version": 3
      },
      "file_extension": ".py",
      "mimetype": "text/x-python",
      "name": "python",
      "nbconvert_exporter": "python",
      "pygments_lexer": "ipython3",
      "version": "3.11.0"
    }
  },
  "nbformat": 4,
  "nbformat_minor": 0
}