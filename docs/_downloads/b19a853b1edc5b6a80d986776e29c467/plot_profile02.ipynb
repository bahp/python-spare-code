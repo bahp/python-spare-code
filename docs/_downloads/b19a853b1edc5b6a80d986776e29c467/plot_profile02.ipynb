{
  "cells": [
    {
      "cell_type": "code",
      "execution_count": null,
      "metadata": {
        "collapsed": false
      },
      "outputs": [],
      "source": [
        "%matplotlib inline"
      ]
    },
    {
      "cell_type": "markdown",
      "metadata": {},
      "source": [
        "\n# 02. ``dataprep``\n"
      ]
    },
    {
      "cell_type": "code",
      "execution_count": null,
      "metadata": {
        "collapsed": false
      },
      "outputs": [],
      "source": [
        "# Libraries\nimport pandas as pd\n\n# Specific\nfrom dataprep.eda import create_report\nfrom sklearn.datasets import load_iris\nfrom pathlib import Path\n\n# Load data object\nobj = load_iris(as_frame=True)\n\n# Create report\nprofile = create_report(obj.data,\n    title=\"Pandas Profiling Report\")\n\n# Save to file\nPath('./outputs').mkdir(parents=True, exist_ok=True)\nprofile.save(\"./outputs/profile02-report.html\")\n\n# Show report in the browser\n#profile.show_browser()"
      ]
    }
  ],
  "metadata": {
    "kernelspec": {
      "display_name": "Python 3",
      "language": "python",
      "name": "python3"
    },
    "language_info": {
      "codemirror_mode": {
        "name": "ipython",
        "version": 3
      },
      "file_extension": ".py",
      "mimetype": "text/x-python",
      "name": "python",
      "nbconvert_exporter": "python",
      "pygments_lexer": "ipython3",
      "version": "3.7.9"
    }
  },
  "nbformat": 4,
  "nbformat_minor": 0
}