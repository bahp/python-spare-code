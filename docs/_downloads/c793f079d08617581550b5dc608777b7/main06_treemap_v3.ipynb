{
  "cells": [
    {
      "cell_type": "code",
      "execution_count": null,
      "metadata": {
        "collapsed": false
      },
      "outputs": [],
      "source": [
        "%matplotlib inline"
      ]
    },
    {
      "cell_type": "markdown",
      "metadata": {},
      "source": [
        "\n# 06. Plot Treemap with NHS\n\nThis example displays a Treemap using a portion of the NHS dataset. This\nexample needs ``pyAMR`` to load the corresponding data.\n\n<div class=\"alert alert-danger\"><h4>Warning</h4><p>It is not completed!</p></div>\n<div class=\"alert alert-danger\"><h4>Warning</h4><p>It might take some time to load.</p></div>\n<div class=\"alert alert-info\"><h4>Note</h4><p>It uses ``plotly.express`` rather than ``go.Treemap``.</p></div>\n<div class=\"alert alert-info\"><h4>Note</h4><p>https://plotly.com/python/treemaps/</p></div>\n"
      ]
    },
    {
      "cell_type": "code",
      "execution_count": null,
      "metadata": {
        "collapsed": false
      },
      "outputs": [],
      "source": [
        "# Plotly\n\nimport numpy as np\nimport pandas as pd\nimport plotly.express as px\n\nfrom plotly.io import show\n\n# Import own libraries\nfrom pyamr.core.sari import sari\nfrom pyamr.datasets.load import load_data_nhs\n\ntry:\n    __file__\n    TERMINAL = True\nexcept:\n    TERMINAL = False\n\n\n# Methods\ndef build_hierarchical_dataframe(df, levels, value_column, color_columns=None):\n    \"\"\"\n    Build a hierarchy of levels for Sunburst or Treemap charts.\n\n    Levels are given starting from the bottom to the top of the hierarchy,\n    ie the last level corresponds to the root.\n    \"\"\"\n    df_all_trees = pd.DataFrame(columns=['id', 'parent', 'value', 'color'])\n    for i, level in enumerate(levels):\n        df_tree = pd.DataFrame(columns=['id', 'parent', 'value', 'color'])\n        dfg = df.groupby(levels[i:]).sum()\n        dfg = dfg.reset_index()\n        df_tree['id'] = dfg[level].copy()\n        if i < len(levels) - 1:\n            df_tree['parent'] = dfg[levels[i+1]].copy()\n        else:\n            df_tree['parent'] = 'total'\n        df_tree['value'] = dfg[value_column]\n        df_tree['color'] = dfg[color_columns[0]]\n        df_all_trees = df_all_trees.append(df_tree, ignore_index=True)\n    total = pd.Series(dict(id='total', parent='',\n        value=df[value_column].sum(),\n        color=df[color_columns[0]].sum()))\n    df_all_trees = df_all_trees.append(total, ignore_index=True)\n    return df_all_trees\n\n\nTERMINAL = True\n\n\"\"\"\n# --------------------------------------------------------------------\n#                               Main\n# --------------------------------------------------------------------\n# Load data\ndata, antimicrobials, microorganisms = load_data_nhs(nrows=10000)\n\n# Create DataFrame\ndataframe = data.groupby(['specimen_code',\n                          'microorganism_code',\n                          'antimicrobial_code',\n                          'sensitivity']) \\\n                .size().unstack().fillna(0)\n\n# Compute frequency\ndataframe['freq'] = dataframe.sum(axis=1)\n\n# Compute sari\ndataframe['sari'] = sari(dataframe, strategy='hard')\ndataframe['sari_medium'] = sari(dataframe, strategy='medium')\ndataframe['sari_soft'] = sari(dataframe, strategy='soft')\n\n# Reset index\ndataframe = dataframe.reset_index()\n\n# --------------------------------------------\n# Add info for popup\n# --------------------------------------------\ndataframe = dataframe.merge(antimicrobials,\n    how='left', left_on='antimicrobial_code',\n    right_on='antimicrobial_code')\n\n# Add antimicrobials information\ndataframe = dataframe.merge(microorganisms,\n    how='left', left_on='microorganism_code',\n    right_on='microorganism_code')\n\n# Format dataframe\ndataframe = dataframe.round(decimals=3)\n\n# Replace\ndataframe.microorganism_name = \\\n    dataframe.microorganism_name.str.title()\ndataframe.columns = \\\n    dataframe.columns.str.title().str.replace('_', ' ')\n\n\n# Show\nif TERMINAL:\n    print(\"\\nColumns:\")\n    print(dataframe.dtypes)\n    print(\"\\nDF:\")\n    print(dataframe)\n\n\n# -------------------------------------------\n# Plot\n# -------------------------------------------\ndef guide_template(names):\n    return '<br>'.join([\n        \"%2d <b>%-45s</b> %%{customdata[%s]}\" % (i, n, i )\n            for i, n in enumerate(names)])\n\n# Guide template\nhtmp_guide = guide_template(dataframe.columns.tolist())\n\n# Define own template\nhtmp = \"Specimen:      (%{customdata[0]})<br>\"\nhtmp+= \"Microorganism: %{customdata[26]} (%{customdata[1]})<br>\"\nhtmp+= \"Antimicrobial: %{customdata[12]} (%{customdata[2]})<br>\"\nhtmp+= \"Freq: %{customdata[8]}<br>\"\nhtmp+= \"SARI: %{customdata[9]}<br>\"\n\nhtmp = \"(%{customdata[0]})<br>\"\nhtmp+= \"%{customdata[26]} (%{customdata[1]})<br>\"\nhtmp+= \"%{customdata[12]} (%{customdata[2]})<br>\"\nhtmp+= \"Freq: %{customdata[8]}<br>\"\nhtmp+= \"SARI: %{customdata[9]}<br>\"\n\n# Display\nfig = px.treemap(dataframe,\n    path=['Specimen Code',\n          'Microorganism Code',\n          'Antimicrobial Code'],\n    #hover_name=,\n    hover_data=dataframe.columns.tolist(),\n    values='Freq',\n    color='Sari',\n    color_continuous_scale='Reds',\n    title='Treemap of <Microorganisms, Antimicrobials> pairs')\n\n\n# Show current template\nprint(fig.data[0].hovertemplate)\n\"\"\"\n\n\"\"\"\nThe default hover template looks as follows:\n\n    labels=%{label}<br>\n    Freq=%{value}<br>\n    parent=%{parent}<br>\n    id=%{id}<br>\n    Microorganism Name=%{customdata[0]}<br>\n    Name=%{customdata[1]}<br>\n    Sari Medium=%{customdata[2]}<br>\n    Sari Soft=%{customdata[3]}<br>\n    Sari=%{color}\n    <extra></extra>\n\"\"\"\n\n\"\"\"\n# Set custom data (not needed and inconsistent)\n#fig.data[0].customdata = dataframe.to_numpy()\n#fig.data[0].hovertemplate = htmp\n\n# Uncomment to check the customdata[i] information\n#fig.data[0].hovertemplate = \\\n#    guide_template(dataframe.columns.tolist())\n\n# Update: I\n#fig.update_traces(hovertemplate='labels=%{label}')\n#fig.update_traces(texttemplate='Freq=%{value:.2f}<br>')\nfig.update_traces(hovertemplate=htmp_guide)\n#fig.update_traces(hovertemplate=htmp)\n\n# Update: II\n# But it seems to me you want something like\n#fig.data[0].hovertemplate = '%{label}<br>%{value}'\n#fig.data[0].hovertemplate = '%{Freq}<br>%{Antimicrobial Name}'\n\nfig.update_layout(\n    margin={\n        'l': 0,\n        'r': 0,\n        'b': 0,\n        't': 0,\n        'pad': 4\n     })\n# ----------------------------\n# Save\n# ----------------------------\n# Libraries\nimport time\nfrom pathlib import Path\n\n# Define pipeline path\npath = Path('./objects') / 'plot_main08_treemap'\nfilename = '%s.html' % time.strftime(\"%Y%m%d-%H%M%S\")\n\n# Create folder (if it does not exist)\npath.mkdir(parents=True, exist_ok=True)\n\n# Save\nfig.write_html(\"%s/%s\" % (path, filename))\n\n# Show\nshow(fig)\n\"\"\""
      ]
    }
  ],
  "metadata": {
    "kernelspec": {
      "display_name": "Python 3",
      "language": "python",
      "name": "python3"
    },
    "language_info": {
      "codemirror_mode": {
        "name": "ipython",
        "version": 3
      },
      "file_extension": ".py",
      "mimetype": "text/x-python",
      "name": "python",
      "nbconvert_exporter": "python",
      "pygments_lexer": "ipython3",
      "version": "3.10.13"
    }
  },
  "nbformat": 4,
  "nbformat_minor": 0
}